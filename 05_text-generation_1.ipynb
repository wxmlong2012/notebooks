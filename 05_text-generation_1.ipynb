{
  "cells": [
    {
      "cell_type": "code",
      "execution_count": 2,
      "metadata": {
        "colab": {
          "base_uri": "https://localhost:8080/"
        },
        "id": "TptaBPex3vSH",
        "outputId": "141a5e41-ea39-4ac4-f0d6-f66f78b33a23"
      },
      "outputs": [
        {
          "output_type": "stream",
          "name": "stdout",
          "text": [
            "Cloning into 'notebooks'...\n",
            "remote: Enumerating objects: 526, done.\u001b[K\n",
            "remote: Counting objects: 100% (173/173), done.\u001b[K\n",
            "remote: Compressing objects: 100% (47/47), done.\u001b[K\n",
            "remote: Total 526 (delta 143), reused 135 (delta 126), pack-reused 353\u001b[K\n",
            "Receiving objects: 100% (526/526), 28.62 MiB | 11.56 MiB/s, done.\n",
            "Resolving deltas: 100% (250/250), done.\n",
            "Updating files: 100% (127/127), done.\n",
            "/content/notebooks\n",
            "⏳ Installing base requirements ...\n",
            "✅ Base requirements installed!\n",
            "⏳ Installing Git LFS ...\n",
            "✅ Git LFS installed!\n"
          ]
        }
      ],
      "source": [
        "# Uncomment and run this cell if you're on Colab or Kaggle\n",
        "!git clone https://github.com/nlp-with-transformers/notebooks.git\n",
        "%cd notebooks\n",
        "from install import *\n",
        "install_requirements()"
      ]
    },
    {
      "cell_type": "code",
      "execution_count": 3,
      "metadata": {
        "colab": {
          "base_uri": "https://localhost:8080/"
        },
        "id": "g42WA5po3vSI",
        "outputId": "ad175f2f-244e-4ecc-8dee-5a09745825b3"
      },
      "outputs": [
        {
          "output_type": "stream",
          "name": "stdout",
          "text": [
            "Using transformers v4.16.2\n",
            "Using datasets v1.16.1\n"
          ]
        }
      ],
      "source": [
        "# hide\n",
        "from utils import *\n",
        "setup_chapter()"
      ]
    },
    {
      "cell_type": "markdown",
      "metadata": {
        "id": "twfjvPLX3vSI"
      },
      "source": [
        "# Text Generation"
      ]
    },
    {
      "cell_type": "markdown",
      "metadata": {
        "id": "oApnPDiB3vSJ"
      },
      "source": [
        "<img alt=\"LM Meta Learning\" width=\"800\" caption=\"During pretraining, language models are exposed to sequences of tasks that can be adapted during inference (courtesy of Tom B. Brown)\" src=\"https://github.com/wxmlong2012/notebooks/blob/dev/images/chapter05_lm-meta-learning.png?raw=1\" id=\"lm-meta-learning\"/>"
      ]
    },
    {
      "cell_type": "markdown",
      "metadata": {
        "id": "WSmAuff93vSJ"
      },
      "source": [
        "<img alt=\"Meena\" width=\"300\" caption=\"Meena on the left telling a corny joke to a human on the right (courtesy of Daniel Adiwardana and Thang Luong)\" src=\"https://github.com/wxmlong2012/notebooks/blob/dev/images/chapter05_meena.png?raw=1\" id=\"meena\"/>"
      ]
    },
    {
      "cell_type": "markdown",
      "metadata": {
        "id": "QF5x9zLm3vSJ"
      },
      "source": [
        "## The Challenge with Generating Coherent Text"
      ]
    },
    {
      "cell_type": "markdown",
      "metadata": {
        "id": "M9UDpG8h3vSJ"
      },
      "source": [
        "<img alt=\"Text generation\" width=\"700\" caption=\"Generating text from an input sequence by adding a new word to the input at each step\" src=\"https://github.com/wxmlong2012/notebooks/blob/dev/images/chapter05_text-generation.png?raw=1\" id=\"text-generation\"/>"
      ]
    },
    {
      "cell_type": "markdown",
      "metadata": {
        "id": "fVwodkLQ3vSK"
      },
      "source": [
        "## Greedy Search Decoding"
      ]
    },
    {
      "cell_type": "code",
      "execution_count": 24,
      "metadata": {
        "colab": {
          "base_uri": "https://localhost:8080/",
          "height": 177,
          "referenced_widgets": [
            "4110dfc01ab642a9899a4c782e844bdb",
            "c42f8f21abad46ddbc3bd293ca6a5ed0",
            "8747b9f57fca4aeab08586b85e39874b",
            "71419e8dcb1741b894783092cbfe6d23",
            "b523954a85644d3ab727514b5b2a4c07",
            "75b0f2db23ed4f62805745cbd6f02288",
            "b0b62b7731774fb7b92248d1e6cd8669",
            "070899f843184e8a9a76a87696f67683",
            "593ca75e512442968bde6a3cfa06e54f",
            "edc35bc833ad42f3bb9a0abe512f08da",
            "a726b7289679465086cd1a8172f86199",
            "cbcbbaf694f349c4aaa8de7279b63ece",
            "217fa118678e4e339eb423bd3548dd8d",
            "88f0a2beb2914cf3835a8d1c7a63449f",
            "2794d0eb0c244b3592004b62dd9a6b48",
            "aad568577e114c4c89f7ab68716d10fd",
            "048621a95dc444f3b1b88d0742666a20",
            "e890494cfa55437695b4f4d370fcee87",
            "5e02865a7d2c44058f1f55acf62d70fa",
            "0c3ab6748fff47cab8b041b8395db453",
            "b68192ee570c48b0a891e448b0ee3dea",
            "1bbe15919f33413ca4f7d5b9cbb8fbb5",
            "e9d0568029cd4e1ca2043e84f5cce0d7",
            "07324d13746f40c29320a61abfceebc0",
            "678146be2e72480bb9cec70823113d2b",
            "dc2c4421389e47469b0c590758e5c686",
            "b91313a3dc9c4dafb31839d3fc5a5b6f",
            "f5d8cc94a29f403c815a48e61ae1b8fe",
            "6f9ca94bb6684d939663bbc4695f200d",
            "b498ea36a10a47b888f4e91f9c69f7cc",
            "38395cdd50e8430c9f7a9cd24f7f3528",
            "ffec62102871455e947251d8ad287c00",
            "bd1ae88bfed74e66a738182a9a0769c6",
            "5c99544674be411cbf997c54aae78c28",
            "4f7ab217fb5143759dc04162cfdf3af0",
            "14d3e7077cdd48fe9153fcbb579b5d31",
            "5943852483d4436b9635070b34c50b08",
            "f348c37bb0be46c6b91131df3b8d8eb8",
            "0d91084cb40648abb2a0dc09267422fc",
            "0ca9499298534f4f9919ecef7ba5c88f",
            "7efa007b2ae14f9ab965f287c60dcdc1",
            "39cfe68318534be3a5187f0577d6d800",
            "3537697ee5d14d58a0ecf702450c15a7",
            "76e8a406bc3e4f8e9b4e88d2f2fdb5eb",
            "b522dc23e85d4f7d8d2f643c04c75388",
            "39cb0d5104224219afba2b548d9f6887",
            "f33c793aac54441db7cb6d0d1619dbf2",
            "a8dfdd6cc65443a6aec2472e5e439f4d",
            "3515c4573360410183eb482441e1edec",
            "a3c1f37e1a8140959ffa5adf3efe4303",
            "a909cabe240640de9329bb85c5d486a4",
            "18787b170c274371a274028293867929",
            "887d4c7a8c50409bac614df6b40be0e0",
            "55c79f67479546378b7c2645e15ea419",
            "2090d415abcf44248eb440fb73c890bd"
          ]
        },
        "id": "2059lE8Q3vSK",
        "outputId": "ce5cb905-58ce-4865-caff-be8d32378d0c"
      },
      "outputs": [
        {
          "output_type": "display_data",
          "data": {
            "text/plain": [
              "Downloading:   0%|          | 0.00/718 [00:00<?, ?B/s]"
            ],
            "application/vnd.jupyter.widget-view+json": {
              "version_major": 2,
              "version_minor": 0,
              "model_id": "4110dfc01ab642a9899a4c782e844bdb"
            }
          },
          "metadata": {}
        },
        {
          "output_type": "display_data",
          "data": {
            "text/plain": [
              "Downloading:   0%|          | 0.00/0.99M [00:00<?, ?B/s]"
            ],
            "application/vnd.jupyter.widget-view+json": {
              "version_major": 2,
              "version_minor": 0,
              "model_id": "cbcbbaf694f349c4aaa8de7279b63ece"
            }
          },
          "metadata": {}
        },
        {
          "output_type": "display_data",
          "data": {
            "text/plain": [
              "Downloading:   0%|          | 0.00/446k [00:00<?, ?B/s]"
            ],
            "application/vnd.jupyter.widget-view+json": {
              "version_major": 2,
              "version_minor": 0,
              "model_id": "e9d0568029cd4e1ca2043e84f5cce0d7"
            }
          },
          "metadata": {}
        },
        {
          "output_type": "display_data",
          "data": {
            "text/plain": [
              "Downloading:   0%|          | 0.00/1.29M [00:00<?, ?B/s]"
            ],
            "application/vnd.jupyter.widget-view+json": {
              "version_major": 2,
              "version_minor": 0,
              "model_id": "5c99544674be411cbf997c54aae78c28"
            }
          },
          "metadata": {}
        },
        {
          "output_type": "display_data",
          "data": {
            "text/plain": [
              "Downloading:   0%|          | 0.00/1.42G [00:00<?, ?B/s]"
            ],
            "application/vnd.jupyter.widget-view+json": {
              "version_major": 2,
              "version_minor": 0,
              "model_id": "b522dc23e85d4f7d8d2f643c04c75388"
            }
          },
          "metadata": {}
        }
      ],
      "source": [
        "# hide_output\n",
        "import torch\n",
        "from transformers import AutoTokenizer, AutoModelForCausalLM\n",
        "\n",
        "device = \"cuda\" if torch.cuda.is_available() else \"cpu\"\n",
        "# gpt2-xl is the best and largest gpt2 model, the free version of colab could not\n",
        "# handle the increased memory. Instead, gpt2-medium is used for demo.\n",
        "model_name = \"gpt2-medium\"\n",
        "# model_name = \"gpt2-xl\"\n",
        "tokenizer = AutoTokenizer.from_pretrained(model_name)\n",
        "model = AutoModelForCausalLM.from_pretrained(model_name).to(device)"
      ]
    },
    {
      "cell_type": "code",
      "source": [
        "import pandas as pd\n",
        "input_txt = \"Transformers are the\"\n",
        "input_ids = tokenizer(input_txt, return_tensors=\"pt\")"
      ],
      "metadata": {
        "id": "bDlMKnye71qO"
      },
      "execution_count": 25,
      "outputs": []
    },
    {
      "cell_type": "code",
      "source": [
        "input_ids\n"
      ],
      "metadata": {
        "colab": {
          "base_uri": "https://localhost:8080/"
        },
        "id": "J_hqkLyP70Yp",
        "outputId": "b0ffd9a5-1511-4f01-e8ff-f526108fc805"
      },
      "execution_count": 26,
      "outputs": [
        {
          "output_type": "execute_result",
          "data": {
            "text/plain": [
              "{'input_ids': tensor([[41762,   364,   389,   262]]), 'attention_mask': tensor([[1, 1, 1, 1]])}"
            ]
          },
          "metadata": {},
          "execution_count": 26
        }
      ]
    },
    {
      "cell_type": "code",
      "execution_count": 27,
      "metadata": {
        "colab": {
          "base_uri": "https://localhost:8080/",
          "height": 300
        },
        "id": "HkVNlu-f3vSK",
        "outputId": "0bda1c10-b4f2-4438-95a3-0794f511d3ee"
      },
      "outputs": [
        {
          "output_type": "execute_result",
          "data": {
            "text/plain": [
              "                                               Input            Choice 1  \\\n",
              "0                               Transformers are the        most (8.37%)   \n",
              "1                          Transformers are the most   powerful (20.77%)   \n",
              "2                 Transformers are the most powerful      beings (9.43%)   \n",
              "3          Transformers are the most powerful beings         in (56.15%)   \n",
              "4       Transformers are the most powerful beings in        the (72.89%)   \n",
              "5   Transformers are the most powerful beings in the   universe (67.94%)   \n",
              "6  Transformers are the most powerful beings in t...          . (35.28%)   \n",
              "7  Transformers are the most powerful beings in t...       They (32.09%)   \n",
              "\n",
              "              Choice 2          Choice 3               Choice 4  \\\n",
              "0         only (3.35%)      best (2.75%)          first (2.54%)   \n",
              "1       common (7.09%)   popular (5.09%)      important (3.29%)   \n",
              "2          and (8.35%)        of (4.61%)   Transformers (4.34%)   \n",
              "3          on (18.99%)     known (3.12%)             of (3.09%)   \n",
              "4   existence (11.20%)       all (3.40%)       creation (1.81%)   \n",
              "5     Universe (5.41%)    Marvel (4.40%)   Transformers (3.49%)   \n",
              "6           , (34.16%)      and (12.94%)              ; (1.55%)   \n",
              "7           \\n (4.97%)     Their (4.93%)            The (3.85%)   \n",
              "\n",
              "                Choice 5  \n",
              "0       ultimate (2.20%)  \n",
              "1       advanced (2.72%)  \n",
              "2              , (3.83%)  \n",
              "3             to (2.18%)  \n",
              "4   Transformers (1.18%)  \n",
              "5           mult (3.47%)  \n",
              "6              ! (1.34%)  \n",
              "7            But (2.88%)  "
            ],
            "text/html": [
              "\n",
              "  <div id=\"df-a50f3e22-0a6b-4428-b774-14f6101e4dbc\" class=\"colab-df-container\">\n",
              "    <div>\n",
              "<style scoped>\n",
              "    .dataframe tbody tr th:only-of-type {\n",
              "        vertical-align: middle;\n",
              "    }\n",
              "\n",
              "    .dataframe tbody tr th {\n",
              "        vertical-align: top;\n",
              "    }\n",
              "\n",
              "    .dataframe thead th {\n",
              "        text-align: right;\n",
              "    }\n",
              "</style>\n",
              "<table border=\"1\" class=\"dataframe\">\n",
              "  <thead>\n",
              "    <tr style=\"text-align: right;\">\n",
              "      <th></th>\n",
              "      <th>Input</th>\n",
              "      <th>Choice 1</th>\n",
              "      <th>Choice 2</th>\n",
              "      <th>Choice 3</th>\n",
              "      <th>Choice 4</th>\n",
              "      <th>Choice 5</th>\n",
              "    </tr>\n",
              "  </thead>\n",
              "  <tbody>\n",
              "    <tr>\n",
              "      <th>0</th>\n",
              "      <td>Transformers are the</td>\n",
              "      <td>most (8.37%)</td>\n",
              "      <td>only (3.35%)</td>\n",
              "      <td>best (2.75%)</td>\n",
              "      <td>first (2.54%)</td>\n",
              "      <td>ultimate (2.20%)</td>\n",
              "    </tr>\n",
              "    <tr>\n",
              "      <th>1</th>\n",
              "      <td>Transformers are the most</td>\n",
              "      <td>powerful (20.77%)</td>\n",
              "      <td>common (7.09%)</td>\n",
              "      <td>popular (5.09%)</td>\n",
              "      <td>important (3.29%)</td>\n",
              "      <td>advanced (2.72%)</td>\n",
              "    </tr>\n",
              "    <tr>\n",
              "      <th>2</th>\n",
              "      <td>Transformers are the most powerful</td>\n",
              "      <td>beings (9.43%)</td>\n",
              "      <td>and (8.35%)</td>\n",
              "      <td>of (4.61%)</td>\n",
              "      <td>Transformers (4.34%)</td>\n",
              "      <td>, (3.83%)</td>\n",
              "    </tr>\n",
              "    <tr>\n",
              "      <th>3</th>\n",
              "      <td>Transformers are the most powerful beings</td>\n",
              "      <td>in (56.15%)</td>\n",
              "      <td>on (18.99%)</td>\n",
              "      <td>known (3.12%)</td>\n",
              "      <td>of (3.09%)</td>\n",
              "      <td>to (2.18%)</td>\n",
              "    </tr>\n",
              "    <tr>\n",
              "      <th>4</th>\n",
              "      <td>Transformers are the most powerful beings in</td>\n",
              "      <td>the (72.89%)</td>\n",
              "      <td>existence (11.20%)</td>\n",
              "      <td>all (3.40%)</td>\n",
              "      <td>creation (1.81%)</td>\n",
              "      <td>Transformers (1.18%)</td>\n",
              "    </tr>\n",
              "    <tr>\n",
              "      <th>5</th>\n",
              "      <td>Transformers are the most powerful beings in the</td>\n",
              "      <td>universe (67.94%)</td>\n",
              "      <td>Universe (5.41%)</td>\n",
              "      <td>Marvel (4.40%)</td>\n",
              "      <td>Transformers (3.49%)</td>\n",
              "      <td>mult (3.47%)</td>\n",
              "    </tr>\n",
              "    <tr>\n",
              "      <th>6</th>\n",
              "      <td>Transformers are the most powerful beings in t...</td>\n",
              "      <td>. (35.28%)</td>\n",
              "      <td>, (34.16%)</td>\n",
              "      <td>and (12.94%)</td>\n",
              "      <td>; (1.55%)</td>\n",
              "      <td>! (1.34%)</td>\n",
              "    </tr>\n",
              "    <tr>\n",
              "      <th>7</th>\n",
              "      <td>Transformers are the most powerful beings in t...</td>\n",
              "      <td>They (32.09%)</td>\n",
              "      <td>\\n (4.97%)</td>\n",
              "      <td>Their (4.93%)</td>\n",
              "      <td>The (3.85%)</td>\n",
              "      <td>But (2.88%)</td>\n",
              "    </tr>\n",
              "  </tbody>\n",
              "</table>\n",
              "</div>\n",
              "    <div class=\"colab-df-buttons\">\n",
              "\n",
              "  <div class=\"colab-df-container\">\n",
              "    <button class=\"colab-df-convert\" onclick=\"convertToInteractive('df-a50f3e22-0a6b-4428-b774-14f6101e4dbc')\"\n",
              "            title=\"Convert this dataframe to an interactive table.\"\n",
              "            style=\"display:none;\">\n",
              "\n",
              "  <svg xmlns=\"http://www.w3.org/2000/svg\" height=\"24px\" viewBox=\"0 -960 960 960\">\n",
              "    <path d=\"M120-120v-720h720v720H120Zm60-500h600v-160H180v160Zm220 220h160v-160H400v160Zm0 220h160v-160H400v160ZM180-400h160v-160H180v160Zm440 0h160v-160H620v160ZM180-180h160v-160H180v160Zm440 0h160v-160H620v160Z\"/>\n",
              "  </svg>\n",
              "    </button>\n",
              "\n",
              "  <style>\n",
              "    .colab-df-container {\n",
              "      display:flex;\n",
              "      gap: 12px;\n",
              "    }\n",
              "\n",
              "    .colab-df-convert {\n",
              "      background-color: #E8F0FE;\n",
              "      border: none;\n",
              "      border-radius: 50%;\n",
              "      cursor: pointer;\n",
              "      display: none;\n",
              "      fill: #1967D2;\n",
              "      height: 32px;\n",
              "      padding: 0 0 0 0;\n",
              "      width: 32px;\n",
              "    }\n",
              "\n",
              "    .colab-df-convert:hover {\n",
              "      background-color: #E2EBFA;\n",
              "      box-shadow: 0px 1px 2px rgba(60, 64, 67, 0.3), 0px 1px 3px 1px rgba(60, 64, 67, 0.15);\n",
              "      fill: #174EA6;\n",
              "    }\n",
              "\n",
              "    .colab-df-buttons div {\n",
              "      margin-bottom: 4px;\n",
              "    }\n",
              "\n",
              "    [theme=dark] .colab-df-convert {\n",
              "      background-color: #3B4455;\n",
              "      fill: #D2E3FC;\n",
              "    }\n",
              "\n",
              "    [theme=dark] .colab-df-convert:hover {\n",
              "      background-color: #434B5C;\n",
              "      box-shadow: 0px 1px 3px 1px rgba(0, 0, 0, 0.15);\n",
              "      filter: drop-shadow(0px 1px 2px rgba(0, 0, 0, 0.3));\n",
              "      fill: #FFFFFF;\n",
              "    }\n",
              "  </style>\n",
              "\n",
              "    <script>\n",
              "      const buttonEl =\n",
              "        document.querySelector('#df-a50f3e22-0a6b-4428-b774-14f6101e4dbc button.colab-df-convert');\n",
              "      buttonEl.style.display =\n",
              "        google.colab.kernel.accessAllowed ? 'block' : 'none';\n",
              "\n",
              "      async function convertToInteractive(key) {\n",
              "        const element = document.querySelector('#df-a50f3e22-0a6b-4428-b774-14f6101e4dbc');\n",
              "        const dataTable =\n",
              "          await google.colab.kernel.invokeFunction('convertToInteractive',\n",
              "                                                    [key], {});\n",
              "        if (!dataTable) return;\n",
              "\n",
              "        const docLinkHtml = 'Like what you see? Visit the ' +\n",
              "          '<a target=\"_blank\" href=https://colab.research.google.com/notebooks/data_table.ipynb>data table notebook</a>'\n",
              "          + ' to learn more about interactive tables.';\n",
              "        element.innerHTML = '';\n",
              "        dataTable['output_type'] = 'display_data';\n",
              "        await google.colab.output.renderOutput(dataTable, element);\n",
              "        const docLink = document.createElement('div');\n",
              "        docLink.innerHTML = docLinkHtml;\n",
              "        element.appendChild(docLink);\n",
              "      }\n",
              "    </script>\n",
              "  </div>\n",
              "\n",
              "\n",
              "<div id=\"df-0b42ba16-5212-40d0-91f2-f51730ee41d5\">\n",
              "  <button class=\"colab-df-quickchart\" onclick=\"quickchart('df-0b42ba16-5212-40d0-91f2-f51730ee41d5')\"\n",
              "            title=\"Suggest charts\"\n",
              "            style=\"display:none;\">\n",
              "\n",
              "<svg xmlns=\"http://www.w3.org/2000/svg\" height=\"24px\"viewBox=\"0 0 24 24\"\n",
              "     width=\"24px\">\n",
              "    <g>\n",
              "        <path d=\"M19 3H5c-1.1 0-2 .9-2 2v14c0 1.1.9 2 2 2h14c1.1 0 2-.9 2-2V5c0-1.1-.9-2-2-2zM9 17H7v-7h2v7zm4 0h-2V7h2v10zm4 0h-2v-4h2v4z\"/>\n",
              "    </g>\n",
              "</svg>\n",
              "  </button>\n",
              "\n",
              "<style>\n",
              "  .colab-df-quickchart {\n",
              "      --bg-color: #E8F0FE;\n",
              "      --fill-color: #1967D2;\n",
              "      --hover-bg-color: #E2EBFA;\n",
              "      --hover-fill-color: #174EA6;\n",
              "      --disabled-fill-color: #AAA;\n",
              "      --disabled-bg-color: #DDD;\n",
              "  }\n",
              "\n",
              "  [theme=dark] .colab-df-quickchart {\n",
              "      --bg-color: #3B4455;\n",
              "      --fill-color: #D2E3FC;\n",
              "      --hover-bg-color: #434B5C;\n",
              "      --hover-fill-color: #FFFFFF;\n",
              "      --disabled-bg-color: #3B4455;\n",
              "      --disabled-fill-color: #666;\n",
              "  }\n",
              "\n",
              "  .colab-df-quickchart {\n",
              "    background-color: var(--bg-color);\n",
              "    border: none;\n",
              "    border-radius: 50%;\n",
              "    cursor: pointer;\n",
              "    display: none;\n",
              "    fill: var(--fill-color);\n",
              "    height: 32px;\n",
              "    padding: 0;\n",
              "    width: 32px;\n",
              "  }\n",
              "\n",
              "  .colab-df-quickchart:hover {\n",
              "    background-color: var(--hover-bg-color);\n",
              "    box-shadow: 0 1px 2px rgba(60, 64, 67, 0.3), 0 1px 3px 1px rgba(60, 64, 67, 0.15);\n",
              "    fill: var(--button-hover-fill-color);\n",
              "  }\n",
              "\n",
              "  .colab-df-quickchart-complete:disabled,\n",
              "  .colab-df-quickchart-complete:disabled:hover {\n",
              "    background-color: var(--disabled-bg-color);\n",
              "    fill: var(--disabled-fill-color);\n",
              "    box-shadow: none;\n",
              "  }\n",
              "\n",
              "  .colab-df-spinner {\n",
              "    border: 2px solid var(--fill-color);\n",
              "    border-color: transparent;\n",
              "    border-bottom-color: var(--fill-color);\n",
              "    animation:\n",
              "      spin 1s steps(1) infinite;\n",
              "  }\n",
              "\n",
              "  @keyframes spin {\n",
              "    0% {\n",
              "      border-color: transparent;\n",
              "      border-bottom-color: var(--fill-color);\n",
              "      border-left-color: var(--fill-color);\n",
              "    }\n",
              "    20% {\n",
              "      border-color: transparent;\n",
              "      border-left-color: var(--fill-color);\n",
              "      border-top-color: var(--fill-color);\n",
              "    }\n",
              "    30% {\n",
              "      border-color: transparent;\n",
              "      border-left-color: var(--fill-color);\n",
              "      border-top-color: var(--fill-color);\n",
              "      border-right-color: var(--fill-color);\n",
              "    }\n",
              "    40% {\n",
              "      border-color: transparent;\n",
              "      border-right-color: var(--fill-color);\n",
              "      border-top-color: var(--fill-color);\n",
              "    }\n",
              "    60% {\n",
              "      border-color: transparent;\n",
              "      border-right-color: var(--fill-color);\n",
              "    }\n",
              "    80% {\n",
              "      border-color: transparent;\n",
              "      border-right-color: var(--fill-color);\n",
              "      border-bottom-color: var(--fill-color);\n",
              "    }\n",
              "    90% {\n",
              "      border-color: transparent;\n",
              "      border-bottom-color: var(--fill-color);\n",
              "    }\n",
              "  }\n",
              "</style>\n",
              "\n",
              "  <script>\n",
              "    async function quickchart(key) {\n",
              "      const quickchartButtonEl =\n",
              "        document.querySelector('#' + key + ' button');\n",
              "      quickchartButtonEl.disabled = true;  // To prevent multiple clicks.\n",
              "      quickchartButtonEl.classList.add('colab-df-spinner');\n",
              "      try {\n",
              "        const charts = await google.colab.kernel.invokeFunction(\n",
              "            'suggestCharts', [key], {});\n",
              "      } catch (error) {\n",
              "        console.error('Error during call to suggestCharts:', error);\n",
              "      }\n",
              "      quickchartButtonEl.classList.remove('colab-df-spinner');\n",
              "      quickchartButtonEl.classList.add('colab-df-quickchart-complete');\n",
              "    }\n",
              "    (() => {\n",
              "      let quickchartButtonEl =\n",
              "        document.querySelector('#df-0b42ba16-5212-40d0-91f2-f51730ee41d5 button');\n",
              "      quickchartButtonEl.style.display =\n",
              "        google.colab.kernel.accessAllowed ? 'block' : 'none';\n",
              "    })();\n",
              "  </script>\n",
              "</div>\n",
              "\n",
              "    </div>\n",
              "  </div>\n"
            ]
          },
          "metadata": {},
          "execution_count": 27
        }
      ],
      "source": [
        "# hide_output\n",
        "import pandas as pd\n",
        "\n",
        "input_txt = \"Transformers are the\"\n",
        "input_ids = tokenizer(input_txt, return_tensors=\"pt\")[\"input_ids\"].to(device)\n",
        "iterations = []\n",
        "n_steps = 8\n",
        "choices_per_step = 5\n",
        "\n",
        "with torch.no_grad():\n",
        "    for _ in range(n_steps):\n",
        "        iteration = dict()\n",
        "        iteration[\"Input\"] = tokenizer.decode(input_ids[0])\n",
        "        output = model(input_ids=input_ids)\n",
        "        # Select logits of the first batch and the last token and apply softmax\n",
        "        next_token_logits = output.logits[0, -1, :]\n",
        "        next_token_probs = torch.softmax(next_token_logits, dim=-1)\n",
        "        sorted_ids = torch.argsort(next_token_probs, dim=-1, descending=True)\n",
        "        # Store tokens with highest probabilities\n",
        "        for choice_idx in range(choices_per_step):\n",
        "            token_id = sorted_ids[choice_idx]\n",
        "            token_prob = next_token_probs[token_id].cpu().numpy()\n",
        "            token_choice = (\n",
        "                f\"{tokenizer.decode(token_id)} ({100 * token_prob:.2f}%)\"\n",
        "            )\n",
        "            iteration[f\"Choice {choice_idx+1}\"] = token_choice\n",
        "        # Append predicted next token to input\n",
        "        input_ids = torch.cat([input_ids, sorted_ids[None, 0, None]], dim=-1)\n",
        "        iterations.append(iteration)\n",
        "\n",
        "pd.DataFrame(iterations)"
      ]
    },
    {
      "cell_type": "code",
      "execution_count": 30,
      "metadata": {
        "colab": {
          "base_uri": "https://localhost:8080/"
        },
        "id": "pMjgYt6D3vSK",
        "outputId": "da824f0f-bdd7-4969-e850-89b9e046b863"
      },
      "outputs": [
        {
          "output_type": "stream",
          "name": "stdout",
          "text": [
            "In a shocking finding, scientist discovered a herd of unicorns living in a\n",
            "remote, previously unexplored valley, in the Andes Mountains. Even more\n",
            "surprising to the researchers was the fact that the unicorns spoke perfect\n",
            "English.\n",
            "\n",
            "\n",
            "The researchers, led by Dr. David\n"
          ]
        }
      ],
      "source": [
        "input_ids = tokenizer(input_txt, return_tensors=\"pt\")[\"input_ids\"].to(device)\n",
        "output = model.generate(input_ids, max_new_tokens=n_steps, do_sample=False)\n",
        "print(tokenizer.decode(output[0]))"
      ]
    },
    {
      "cell_type": "code",
      "execution_count": 31,
      "metadata": {
        "colab": {
          "base_uri": "https://localhost:8080/"
        },
        "id": "YH-p-P_73vSK",
        "outputId": "e82e4023-3251-4601-baa9-24749d79690f"
      },
      "outputs": [
        {
          "output_type": "stream",
          "name": "stdout",
          "text": [
            "In a shocking finding, scientist discovered a herd of unicorns living in a\n",
            "remote, previously unexplored valley, in the Andes Mountains. Even more\n",
            "surprising to the researchers was the fact that the unicorns spoke perfect\n",
            "English.\n",
            "\n",
            "\n",
            "The researchers, led by Dr. David M. Koehler, a professor of anthropology at the\n",
            "University of Colorado, Boulder, discovered the unicorns in the remote valley of\n",
            "La Paz, in the Andes Mountains.\n",
            "\n",
            "\n",
            "\"We were surprised to find that the unicorns spoke perfect English,\" said\n",
            "Koehler. \"They were very friendly and friendly with us. They were very friendly\n",
            "with\n"
          ]
        }
      ],
      "source": [
        "max_length = 128\n",
        "input_txt = \"\"\"In a shocking finding, scientist discovered \\\n",
        "a herd of unicorns living in a remote, previously unexplored \\\n",
        "valley, in the Andes Mountains. Even more surprising to the \\\n",
        "researchers was the fact that the unicorns spoke perfect English.\\n\\n\n",
        "\"\"\"\n",
        "input_ids = tokenizer(input_txt, return_tensors=\"pt\")[\"input_ids\"].to(device)\n",
        "output_greedy = model.generate(input_ids, max_length=max_length,\n",
        "                               do_sample=False)\n",
        "print(tokenizer.decode(output_greedy[0]))"
      ]
    },
    {
      "cell_type": "markdown",
      "metadata": {
        "id": "VxPN9atH3vSK"
      },
      "source": [
        "## Beam Search Decoding"
      ]
    },
    {
      "cell_type": "markdown",
      "metadata": {
        "id": "YTsEH8OC3vSK"
      },
      "source": [
        "<img alt=\"Beam search\" width=\"700\" caption=\"Beam search with two beams—the most probable sequences at each timestep are highlighted in blue\" src=\"https://github.com/wxmlong2012/notebooks/blob/dev/images/chapter05_beam-search.png?raw=1\" id=\"beam-search\"/>"
      ]
    },
    {
      "cell_type": "code",
      "execution_count": 15,
      "metadata": {
        "colab": {
          "base_uri": "https://localhost:8080/"
        },
        "id": "nGF3UYzy3vSK",
        "outputId": "773c394c-c722-40bd-e9d6-21bf989d8a92"
      },
      "outputs": [
        {
          "output_type": "execute_result",
          "data": {
            "text/plain": [
              "5.562684646268003e-309"
            ]
          },
          "metadata": {},
          "execution_count": 15
        }
      ],
      "source": [
        "0.5 ** 1024"
      ]
    },
    {
      "cell_type": "code",
      "execution_count": 16,
      "metadata": {
        "colab": {
          "base_uri": "https://localhost:8080/"
        },
        "id": "sX-UOOfP3vSL",
        "outputId": "4777de78-28c3-432a-a579-ec936213a325"
      },
      "outputs": [
        {
          "output_type": "execute_result",
          "data": {
            "text/plain": [
              "-709.7827128933695"
            ]
          },
          "metadata": {},
          "execution_count": 16
        }
      ],
      "source": [
        "import numpy as np\n",
        "\n",
        "sum([np.log(0.5)] * 1024)"
      ]
    },
    {
      "cell_type": "code",
      "execution_count": 17,
      "metadata": {
        "id": "MnzATyIm3vSL"
      },
      "outputs": [],
      "source": [
        "import torch.nn.functional as F\n",
        "\n",
        "def log_probs_from_logits(logits, labels):\n",
        "    logp = F.log_softmax(logits, dim=-1)\n",
        "    logp_label = torch.gather(logp, 2, labels.unsqueeze(2)).squeeze(-1)\n",
        "    return logp_label"
      ]
    },
    {
      "cell_type": "code",
      "execution_count": 18,
      "metadata": {
        "id": "jUJwvzjz3vSL"
      },
      "outputs": [],
      "source": [
        "def sequence_logprob(model, labels, input_len=0):\n",
        "    with torch.no_grad():\n",
        "        output = model(labels)\n",
        "        log_probs = log_probs_from_logits(\n",
        "            output.logits[:, :-1, :], labels[:, 1:])\n",
        "        seq_log_prob = torch.sum(log_probs[:, input_len:])\n",
        "    return seq_log_prob.cpu().numpy()"
      ]
    },
    {
      "cell_type": "code",
      "execution_count": 32,
      "metadata": {
        "colab": {
          "base_uri": "https://localhost:8080/"
        },
        "id": "Yp4KTIsX3vSL",
        "outputId": "795ac950-7fe6-4eac-d366-17dd4e2e16ed"
      },
      "outputs": [
        {
          "output_type": "stream",
          "name": "stdout",
          "text": [
            "In a shocking finding, scientist discovered a herd of unicorns living in a\n",
            "remote, previously unexplored valley, in the Andes Mountains. Even more\n",
            "surprising to the researchers was the fact that the unicorns spoke perfect\n",
            "English.\n",
            "\n",
            "\n",
            "The researchers, led by Dr. David M. Koehler, a professor of anthropology at the\n",
            "University of Colorado, Boulder, discovered the unicorns in the remote valley of\n",
            "La Paz, in the Andes Mountains.\n",
            "\n",
            "\n",
            "\"We were surprised to find that the unicorns spoke perfect English,\" said\n",
            "Koehler. \"They were very friendly and friendly with us. They were very friendly\n",
            "with\n",
            "\n",
            "log-prob: -105.66\n"
          ]
        }
      ],
      "source": [
        "logp = sequence_logprob(model, output_greedy, input_len=len(input_ids[0]))\n",
        "print(tokenizer.decode(output_greedy[0]))\n",
        "print(f\"\\nlog-prob: {logp:.2f}\")"
      ]
    },
    {
      "cell_type": "code",
      "execution_count": 33,
      "metadata": {
        "colab": {
          "base_uri": "https://localhost:8080/"
        },
        "id": "g2WNz3Au3vSL",
        "outputId": "a6ce21c1-97e9-4adb-86d0-0a2df25303bf"
      },
      "outputs": [
        {
          "output_type": "stream",
          "name": "stdout",
          "text": [
            "In a shocking finding, scientist discovered a herd of unicorns living in a\n",
            "remote, previously unexplored valley, in the Andes Mountains. Even more\n",
            "surprising to the researchers was the fact that the unicorns spoke perfect\n",
            "English.\n",
            "\n",
            "\n",
            "The discovery was made by a team of researchers from the University of\n",
            "California, Santa Cruz (UCSF) and the University of Colorado, Boulder (UCL).\n",
            "\n",
            "\n",
            "The unicorns were found in a remote, previously unexplored valley, in the Andes\n",
            "Mountains. Even more surprising to the researchers was the fact that the\n",
            "unicorns spoke perfect English.\n",
            "\n",
            "\n",
            "The team of researchers, led by\n",
            "\n",
            "log-prob: -61.69\n"
          ]
        }
      ],
      "source": [
        "output_beam = model.generate(input_ids, max_length=max_length, num_beams=5,\n",
        "                             do_sample=False)\n",
        "logp = sequence_logprob(model, output_beam, input_len=len(input_ids[0]))\n",
        "print(tokenizer.decode(output_beam[0]))\n",
        "print(f\"\\nlog-prob: {logp:.2f}\")"
      ]
    },
    {
      "cell_type": "code",
      "execution_count": 34,
      "metadata": {
        "colab": {
          "base_uri": "https://localhost:8080/"
        },
        "id": "VAS2Nw_a3vSL",
        "outputId": "26536101-c08e-4d0a-e52e-158b91400225"
      },
      "outputs": [
        {
          "output_type": "stream",
          "name": "stdout",
          "text": [
            "In a shocking finding, scientist discovered a herd of unicorns living in a\n",
            "remote, previously unexplored valley, in the Andes Mountains. Even more\n",
            "surprising to the researchers was the fact that the unicorns spoke perfect\n",
            "English.\n",
            "\n",
            "\n",
            "The discovery was made by a team of researchers from the University of\n",
            "California, Santa Cruz (UCSF) and the U.S. Geological Survey (USGS). The\n",
            "research was published in Nature Communications.\n",
            "\n",
            "\"This is the first time that we've seen a group of these animals in North\n",
            "America,\" said lead author of the study, UCSF professor of geology and\n",
            "geophysics,\n",
            "\n",
            "log-prob: -87.12\n"
          ]
        }
      ],
      "source": [
        "output_beam = model.generate(input_ids, max_length=max_length, num_beams=5,\n",
        "                             do_sample=False, no_repeat_ngram_size=2)\n",
        "logp = sequence_logprob(model, output_beam, input_len=len(input_ids[0]))\n",
        "print(tokenizer.decode(output_beam[0]))\n",
        "print(f\"\\nlog-prob: {logp:.2f}\")"
      ]
    },
    {
      "cell_type": "markdown",
      "metadata": {
        "id": "a_lCTEzN3vSL"
      },
      "source": [
        "## Sampling Methods"
      ]
    },
    {
      "cell_type": "code",
      "execution_count": 35,
      "metadata": {
        "colab": {
          "base_uri": "https://localhost:8080/",
          "height": 382
        },
        "id": "5qxzlf9w3vSL",
        "outputId": "99d8bb60-3dae-4dac-f117-00d6d897a433"
      },
      "outputs": [
        {
          "output_type": "display_data",
          "data": {
            "text/plain": [
              "<Figure size 600x400 with 1 Axes>"
            ],
            "image/svg+xml": "<?xml version=\"1.0\" encoding=\"utf-8\" standalone=\"no\"?>\n<!DOCTYPE svg PUBLIC \"-//W3C//DTD SVG 1.1//EN\"\n  \"http://www.w3.org/Graphics/SVG/1.1/DTD/svg11.dtd\">\n<svg xmlns:xlink=\"http://www.w3.org/1999/xlink\" width=\"406.523986pt\" height=\"270.3875pt\" viewBox=\"0 0 406.523986 270.3875\" xmlns=\"http://www.w3.org/2000/svg\" version=\"1.1\">\n <metadata>\n  <rdf:RDF xmlns:dc=\"http://purl.org/dc/elements/1.1/\" xmlns:cc=\"http://creativecommons.org/ns#\" xmlns:rdf=\"http://www.w3.org/1999/02/22-rdf-syntax-ns#\">\n   <cc:Work>\n    <dc:type rdf:resource=\"http://purl.org/dc/dcmitype/StillImage\"/>\n    <dc:date>2024-01-14T18:23:44.556389</dc:date>\n    <dc:format>image/svg+xml</dc:format>\n    <dc:creator>\n     <cc:Agent>\n      <dc:title>Matplotlib v3.7.1, https://matplotlib.org/</dc:title>\n     </cc:Agent>\n    </dc:creator>\n   </cc:Work>\n  </rdf:RDF>\n </metadata>\n <defs>\n  <style type=\"text/css\">*{stroke-linejoin: round; stroke-linecap: butt}</style>\n </defs>\n <g id=\"figure_1\">\n  <g id=\"patch_1\">\n   <path d=\"M 0 270.3875 \nL 406.523986 270.3875 \nL 406.523986 0 \nL 0 0 \nz\n\" style=\"fill: #ffffff\"/>\n  </g>\n  <g id=\"axes_1\">\n   <g id=\"patch_2\">\n    <path d=\"M 64.1675 228.96 \nL 398.9675 228.96 \nL 398.9675 7.2 \nL 64.1675 7.2 \nz\n\" style=\"fill: #ffffff\"/>\n   </g>\n   <g id=\"matplotlib.axis_1\">\n    <g id=\"xtick_1\">\n     <g id=\"line2d_1\">\n      <defs>\n       <path id=\"meba4e0e9b5\" d=\"M 0 0 \nL 0 3.5 \n\" style=\"stroke: #000000; stroke-width: 0.8\"/>\n      </defs>\n      <g>\n       <use xlink:href=\"#meba4e0e9b5\" x=\"79.385682\" y=\"228.96\" style=\"stroke: #000000; stroke-width: 0.8\"/>\n      </g>\n     </g>\n     <g id=\"text_1\">\n      <!-- 0 -->\n      <g transform=\"translate(75.568182 245.078125) scale(0.12 -0.12)\">\n       <defs>\n        <path id=\"DejaVuSans-30\" d=\"M 2034 4250 \nQ 1547 4250 1301 3770 \nQ 1056 3291 1056 2328 \nQ 1056 1369 1301 889 \nQ 1547 409 2034 409 \nQ 2525 409 2770 889 \nQ 3016 1369 3016 2328 \nQ 3016 3291 2770 3770 \nQ 2525 4250 2034 4250 \nz\nM 2034 4750 \nQ 2819 4750 3233 4129 \nQ 3647 3509 3647 2328 \nQ 3647 1150 3233 529 \nQ 2819 -91 2034 -91 \nQ 1250 -91 836 529 \nQ 422 1150 422 2328 \nQ 422 3509 836 4129 \nQ 1250 4750 2034 4750 \nz\n\" transform=\"scale(0.015625)\"/>\n       </defs>\n       <use xlink:href=\"#DejaVuSans-30\"/>\n      </g>\n     </g>\n    </g>\n    <g id=\"xtick_2\">\n     <g id=\"line2d_2\">\n      <g>\n       <use xlink:href=\"#meba4e0e9b5\" x=\"140.319343\" y=\"228.96\" style=\"stroke: #000000; stroke-width: 0.8\"/>\n      </g>\n     </g>\n     <g id=\"text_2\">\n      <!-- 200 -->\n      <g transform=\"translate(128.866843 245.078125) scale(0.12 -0.12)\">\n       <defs>\n        <path id=\"DejaVuSans-32\" d=\"M 1228 531 \nL 3431 531 \nL 3431 0 \nL 469 0 \nL 469 531 \nQ 828 903 1448 1529 \nQ 2069 2156 2228 2338 \nQ 2531 2678 2651 2914 \nQ 2772 3150 2772 3378 \nQ 2772 3750 2511 3984 \nQ 2250 4219 1831 4219 \nQ 1534 4219 1204 4116 \nQ 875 4013 500 3803 \nL 500 4441 \nQ 881 4594 1212 4672 \nQ 1544 4750 1819 4750 \nQ 2544 4750 2975 4387 \nQ 3406 4025 3406 3419 \nQ 3406 3131 3298 2873 \nQ 3191 2616 2906 2266 \nQ 2828 2175 2409 1742 \nQ 1991 1309 1228 531 \nz\n\" transform=\"scale(0.015625)\"/>\n       </defs>\n       <use xlink:href=\"#DejaVuSans-32\"/>\n       <use xlink:href=\"#DejaVuSans-30\" x=\"63.623047\"/>\n       <use xlink:href=\"#DejaVuSans-30\" x=\"127.246094\"/>\n      </g>\n     </g>\n    </g>\n    <g id=\"xtick_3\">\n     <g id=\"line2d_3\">\n      <g>\n       <use xlink:href=\"#meba4e0e9b5\" x=\"201.253004\" y=\"228.96\" style=\"stroke: #000000; stroke-width: 0.8\"/>\n      </g>\n     </g>\n     <g id=\"text_3\">\n      <!-- 400 -->\n      <g transform=\"translate(189.800504 245.078125) scale(0.12 -0.12)\">\n       <defs>\n        <path id=\"DejaVuSans-34\" d=\"M 2419 4116 \nL 825 1625 \nL 2419 1625 \nL 2419 4116 \nz\nM 2253 4666 \nL 3047 4666 \nL 3047 1625 \nL 3713 1625 \nL 3713 1100 \nL 3047 1100 \nL 3047 0 \nL 2419 0 \nL 2419 1100 \nL 313 1100 \nL 313 1709 \nL 2253 4666 \nz\n\" transform=\"scale(0.015625)\"/>\n       </defs>\n       <use xlink:href=\"#DejaVuSans-34\"/>\n       <use xlink:href=\"#DejaVuSans-30\" x=\"63.623047\"/>\n       <use xlink:href=\"#DejaVuSans-30\" x=\"127.246094\"/>\n      </g>\n     </g>\n    </g>\n    <g id=\"xtick_4\">\n     <g id=\"line2d_4\">\n      <g>\n       <use xlink:href=\"#meba4e0e9b5\" x=\"262.186665\" y=\"228.96\" style=\"stroke: #000000; stroke-width: 0.8\"/>\n      </g>\n     </g>\n     <g id=\"text_4\">\n      <!-- 600 -->\n      <g transform=\"translate(250.734165 245.078125) scale(0.12 -0.12)\">\n       <defs>\n        <path id=\"DejaVuSans-36\" d=\"M 2113 2584 \nQ 1688 2584 1439 2293 \nQ 1191 2003 1191 1497 \nQ 1191 994 1439 701 \nQ 1688 409 2113 409 \nQ 2538 409 2786 701 \nQ 3034 994 3034 1497 \nQ 3034 2003 2786 2293 \nQ 2538 2584 2113 2584 \nz\nM 3366 4563 \nL 3366 3988 \nQ 3128 4100 2886 4159 \nQ 2644 4219 2406 4219 \nQ 1781 4219 1451 3797 \nQ 1122 3375 1075 2522 \nQ 1259 2794 1537 2939 \nQ 1816 3084 2150 3084 \nQ 2853 3084 3261 2657 \nQ 3669 2231 3669 1497 \nQ 3669 778 3244 343 \nQ 2819 -91 2113 -91 \nQ 1303 -91 875 529 \nQ 447 1150 447 2328 \nQ 447 3434 972 4092 \nQ 1497 4750 2381 4750 \nQ 2619 4750 2861 4703 \nQ 3103 4656 3366 4563 \nz\n\" transform=\"scale(0.015625)\"/>\n       </defs>\n       <use xlink:href=\"#DejaVuSans-36\"/>\n       <use xlink:href=\"#DejaVuSans-30\" x=\"63.623047\"/>\n       <use xlink:href=\"#DejaVuSans-30\" x=\"127.246094\"/>\n      </g>\n     </g>\n    </g>\n    <g id=\"xtick_5\">\n     <g id=\"line2d_5\">\n      <g>\n       <use xlink:href=\"#meba4e0e9b5\" x=\"323.120326\" y=\"228.96\" style=\"stroke: #000000; stroke-width: 0.8\"/>\n      </g>\n     </g>\n     <g id=\"text_5\">\n      <!-- 800 -->\n      <g transform=\"translate(311.667826 245.078125) scale(0.12 -0.12)\">\n       <defs>\n        <path id=\"DejaVuSans-38\" d=\"M 2034 2216 \nQ 1584 2216 1326 1975 \nQ 1069 1734 1069 1313 \nQ 1069 891 1326 650 \nQ 1584 409 2034 409 \nQ 2484 409 2743 651 \nQ 3003 894 3003 1313 \nQ 3003 1734 2745 1975 \nQ 2488 2216 2034 2216 \nz\nM 1403 2484 \nQ 997 2584 770 2862 \nQ 544 3141 544 3541 \nQ 544 4100 942 4425 \nQ 1341 4750 2034 4750 \nQ 2731 4750 3128 4425 \nQ 3525 4100 3525 3541 \nQ 3525 3141 3298 2862 \nQ 3072 2584 2669 2484 \nQ 3125 2378 3379 2068 \nQ 3634 1759 3634 1313 \nQ 3634 634 3220 271 \nQ 2806 -91 2034 -91 \nQ 1263 -91 848 271 \nQ 434 634 434 1313 \nQ 434 1759 690 2068 \nQ 947 2378 1403 2484 \nz\nM 1172 3481 \nQ 1172 3119 1398 2916 \nQ 1625 2713 2034 2713 \nQ 2441 2713 2670 2916 \nQ 2900 3119 2900 3481 \nQ 2900 3844 2670 4047 \nQ 2441 4250 2034 4250 \nQ 1625 4250 1398 4047 \nQ 1172 3844 1172 3481 \nz\n\" transform=\"scale(0.015625)\"/>\n       </defs>\n       <use xlink:href=\"#DejaVuSans-38\"/>\n       <use xlink:href=\"#DejaVuSans-30\" x=\"63.623047\"/>\n       <use xlink:href=\"#DejaVuSans-30\" x=\"127.246094\"/>\n      </g>\n     </g>\n    </g>\n    <g id=\"xtick_6\">\n     <g id=\"line2d_6\">\n      <g>\n       <use xlink:href=\"#meba4e0e9b5\" x=\"384.053986\" y=\"228.96\" style=\"stroke: #000000; stroke-width: 0.8\"/>\n      </g>\n     </g>\n     <g id=\"text_6\">\n      <!-- 1000 -->\n      <g transform=\"translate(368.783986 245.078125) scale(0.12 -0.12)\">\n       <defs>\n        <path id=\"DejaVuSans-31\" d=\"M 794 531 \nL 1825 531 \nL 1825 4091 \nL 703 3866 \nL 703 4441 \nL 1819 4666 \nL 2450 4666 \nL 2450 531 \nL 3481 531 \nL 3481 0 \nL 794 0 \nL 794 531 \nz\n\" transform=\"scale(0.015625)\"/>\n       </defs>\n       <use xlink:href=\"#DejaVuSans-31\"/>\n       <use xlink:href=\"#DejaVuSans-30\" x=\"63.623047\"/>\n       <use xlink:href=\"#DejaVuSans-30\" x=\"127.246094\"/>\n       <use xlink:href=\"#DejaVuSans-30\" x=\"190.869141\"/>\n      </g>\n     </g>\n    </g>\n    <g id=\"text_7\">\n     <!-- Sorted token probabilities -->\n     <g transform=\"translate(154.235 260.691875) scale(0.12 -0.12)\">\n      <defs>\n       <path id=\"DejaVuSans-53\" d=\"M 3425 4513 \nL 3425 3897 \nQ 3066 4069 2747 4153 \nQ 2428 4238 2131 4238 \nQ 1616 4238 1336 4038 \nQ 1056 3838 1056 3469 \nQ 1056 3159 1242 3001 \nQ 1428 2844 1947 2747 \nL 2328 2669 \nQ 3034 2534 3370 2195 \nQ 3706 1856 3706 1288 \nQ 3706 609 3251 259 \nQ 2797 -91 1919 -91 \nQ 1588 -91 1214 -16 \nQ 841 59 441 206 \nL 441 856 \nQ 825 641 1194 531 \nQ 1563 422 1919 422 \nQ 2459 422 2753 634 \nQ 3047 847 3047 1241 \nQ 3047 1584 2836 1778 \nQ 2625 1972 2144 2069 \nL 1759 2144 \nQ 1053 2284 737 2584 \nQ 422 2884 422 3419 \nQ 422 4038 858 4394 \nQ 1294 4750 2059 4750 \nQ 2388 4750 2728 4690 \nQ 3069 4631 3425 4513 \nz\n\" transform=\"scale(0.015625)\"/>\n       <path id=\"DejaVuSans-6f\" d=\"M 1959 3097 \nQ 1497 3097 1228 2736 \nQ 959 2375 959 1747 \nQ 959 1119 1226 758 \nQ 1494 397 1959 397 \nQ 2419 397 2687 759 \nQ 2956 1122 2956 1747 \nQ 2956 2369 2687 2733 \nQ 2419 3097 1959 3097 \nz\nM 1959 3584 \nQ 2709 3584 3137 3096 \nQ 3566 2609 3566 1747 \nQ 3566 888 3137 398 \nQ 2709 -91 1959 -91 \nQ 1206 -91 779 398 \nQ 353 888 353 1747 \nQ 353 2609 779 3096 \nQ 1206 3584 1959 3584 \nz\n\" transform=\"scale(0.015625)\"/>\n       <path id=\"DejaVuSans-72\" d=\"M 2631 2963 \nQ 2534 3019 2420 3045 \nQ 2306 3072 2169 3072 \nQ 1681 3072 1420 2755 \nQ 1159 2438 1159 1844 \nL 1159 0 \nL 581 0 \nL 581 3500 \nL 1159 3500 \nL 1159 2956 \nQ 1341 3275 1631 3429 \nQ 1922 3584 2338 3584 \nQ 2397 3584 2469 3576 \nQ 2541 3569 2628 3553 \nL 2631 2963 \nz\n\" transform=\"scale(0.015625)\"/>\n       <path id=\"DejaVuSans-74\" d=\"M 1172 4494 \nL 1172 3500 \nL 2356 3500 \nL 2356 3053 \nL 1172 3053 \nL 1172 1153 \nQ 1172 725 1289 603 \nQ 1406 481 1766 481 \nL 2356 481 \nL 2356 0 \nL 1766 0 \nQ 1100 0 847 248 \nQ 594 497 594 1153 \nL 594 3053 \nL 172 3053 \nL 172 3500 \nL 594 3500 \nL 594 4494 \nL 1172 4494 \nz\n\" transform=\"scale(0.015625)\"/>\n       <path id=\"DejaVuSans-65\" d=\"M 3597 1894 \nL 3597 1613 \nL 953 1613 \nQ 991 1019 1311 708 \nQ 1631 397 2203 397 \nQ 2534 397 2845 478 \nQ 3156 559 3463 722 \nL 3463 178 \nQ 3153 47 2828 -22 \nQ 2503 -91 2169 -91 \nQ 1331 -91 842 396 \nQ 353 884 353 1716 \nQ 353 2575 817 3079 \nQ 1281 3584 2069 3584 \nQ 2775 3584 3186 3129 \nQ 3597 2675 3597 1894 \nz\nM 3022 2063 \nQ 3016 2534 2758 2815 \nQ 2500 3097 2075 3097 \nQ 1594 3097 1305 2825 \nQ 1016 2553 972 2059 \nL 3022 2063 \nz\n\" transform=\"scale(0.015625)\"/>\n       <path id=\"DejaVuSans-64\" d=\"M 2906 2969 \nL 2906 4863 \nL 3481 4863 \nL 3481 0 \nL 2906 0 \nL 2906 525 \nQ 2725 213 2448 61 \nQ 2172 -91 1784 -91 \nQ 1150 -91 751 415 \nQ 353 922 353 1747 \nQ 353 2572 751 3078 \nQ 1150 3584 1784 3584 \nQ 2172 3584 2448 3432 \nQ 2725 3281 2906 2969 \nz\nM 947 1747 \nQ 947 1113 1208 752 \nQ 1469 391 1925 391 \nQ 2381 391 2643 752 \nQ 2906 1113 2906 1747 \nQ 2906 2381 2643 2742 \nQ 2381 3103 1925 3103 \nQ 1469 3103 1208 2742 \nQ 947 2381 947 1747 \nz\n\" transform=\"scale(0.015625)\"/>\n       <path id=\"DejaVuSans-20\" transform=\"scale(0.015625)\"/>\n       <path id=\"DejaVuSans-6b\" d=\"M 581 4863 \nL 1159 4863 \nL 1159 1991 \nL 2875 3500 \nL 3609 3500 \nL 1753 1863 \nL 3688 0 \nL 2938 0 \nL 1159 1709 \nL 1159 0 \nL 581 0 \nL 581 4863 \nz\n\" transform=\"scale(0.015625)\"/>\n       <path id=\"DejaVuSans-6e\" d=\"M 3513 2113 \nL 3513 0 \nL 2938 0 \nL 2938 2094 \nQ 2938 2591 2744 2837 \nQ 2550 3084 2163 3084 \nQ 1697 3084 1428 2787 \nQ 1159 2491 1159 1978 \nL 1159 0 \nL 581 0 \nL 581 3500 \nL 1159 3500 \nL 1159 2956 \nQ 1366 3272 1645 3428 \nQ 1925 3584 2291 3584 \nQ 2894 3584 3203 3211 \nQ 3513 2838 3513 2113 \nz\n\" transform=\"scale(0.015625)\"/>\n       <path id=\"DejaVuSans-70\" d=\"M 1159 525 \nL 1159 -1331 \nL 581 -1331 \nL 581 3500 \nL 1159 3500 \nL 1159 2969 \nQ 1341 3281 1617 3432 \nQ 1894 3584 2278 3584 \nQ 2916 3584 3314 3078 \nQ 3713 2572 3713 1747 \nQ 3713 922 3314 415 \nQ 2916 -91 2278 -91 \nQ 1894 -91 1617 61 \nQ 1341 213 1159 525 \nz\nM 3116 1747 \nQ 3116 2381 2855 2742 \nQ 2594 3103 2138 3103 \nQ 1681 3103 1420 2742 \nQ 1159 2381 1159 1747 \nQ 1159 1113 1420 752 \nQ 1681 391 2138 391 \nQ 2594 391 2855 752 \nQ 3116 1113 3116 1747 \nz\n\" transform=\"scale(0.015625)\"/>\n       <path id=\"DejaVuSans-62\" d=\"M 3116 1747 \nQ 3116 2381 2855 2742 \nQ 2594 3103 2138 3103 \nQ 1681 3103 1420 2742 \nQ 1159 2381 1159 1747 \nQ 1159 1113 1420 752 \nQ 1681 391 2138 391 \nQ 2594 391 2855 752 \nQ 3116 1113 3116 1747 \nz\nM 1159 2969 \nQ 1341 3281 1617 3432 \nQ 1894 3584 2278 3584 \nQ 2916 3584 3314 3078 \nQ 3713 2572 3713 1747 \nQ 3713 922 3314 415 \nQ 2916 -91 2278 -91 \nQ 1894 -91 1617 61 \nQ 1341 213 1159 525 \nL 1159 0 \nL 581 0 \nL 581 4863 \nL 1159 4863 \nL 1159 2969 \nz\n\" transform=\"scale(0.015625)\"/>\n       <path id=\"DejaVuSans-61\" d=\"M 2194 1759 \nQ 1497 1759 1228 1600 \nQ 959 1441 959 1056 \nQ 959 750 1161 570 \nQ 1363 391 1709 391 \nQ 2188 391 2477 730 \nQ 2766 1069 2766 1631 \nL 2766 1759 \nL 2194 1759 \nz\nM 3341 1997 \nL 3341 0 \nL 2766 0 \nL 2766 531 \nQ 2569 213 2275 61 \nQ 1981 -91 1556 -91 \nQ 1019 -91 701 211 \nQ 384 513 384 1019 \nQ 384 1609 779 1909 \nQ 1175 2209 1959 2209 \nL 2766 2209 \nL 2766 2266 \nQ 2766 2663 2505 2880 \nQ 2244 3097 1772 3097 \nQ 1472 3097 1187 3025 \nQ 903 2953 641 2809 \nL 641 3341 \nQ 956 3463 1253 3523 \nQ 1550 3584 1831 3584 \nQ 2591 3584 2966 3190 \nQ 3341 2797 3341 1997 \nz\n\" transform=\"scale(0.015625)\"/>\n       <path id=\"DejaVuSans-69\" d=\"M 603 3500 \nL 1178 3500 \nL 1178 0 \nL 603 0 \nL 603 3500 \nz\nM 603 4863 \nL 1178 4863 \nL 1178 4134 \nL 603 4134 \nL 603 4863 \nz\n\" transform=\"scale(0.015625)\"/>\n       <path id=\"DejaVuSans-6c\" d=\"M 603 4863 \nL 1178 4863 \nL 1178 0 \nL 603 0 \nL 603 4863 \nz\n\" transform=\"scale(0.015625)\"/>\n       <path id=\"DejaVuSans-73\" d=\"M 2834 3397 \nL 2834 2853 \nQ 2591 2978 2328 3040 \nQ 2066 3103 1784 3103 \nQ 1356 3103 1142 2972 \nQ 928 2841 928 2578 \nQ 928 2378 1081 2264 \nQ 1234 2150 1697 2047 \nL 1894 2003 \nQ 2506 1872 2764 1633 \nQ 3022 1394 3022 966 \nQ 3022 478 2636 193 \nQ 2250 -91 1575 -91 \nQ 1294 -91 989 -36 \nQ 684 19 347 128 \nL 347 722 \nQ 666 556 975 473 \nQ 1284 391 1588 391 \nQ 1994 391 2212 530 \nQ 2431 669 2431 922 \nQ 2431 1156 2273 1281 \nQ 2116 1406 1581 1522 \nL 1381 1569 \nQ 847 1681 609 1914 \nQ 372 2147 372 2553 \nQ 372 3047 722 3315 \nQ 1072 3584 1716 3584 \nQ 2034 3584 2315 3537 \nQ 2597 3491 2834 3397 \nz\n\" transform=\"scale(0.015625)\"/>\n      </defs>\n      <use xlink:href=\"#DejaVuSans-53\"/>\n      <use xlink:href=\"#DejaVuSans-6f\" x=\"63.476562\"/>\n      <use xlink:href=\"#DejaVuSans-72\" x=\"124.658203\"/>\n      <use xlink:href=\"#DejaVuSans-74\" x=\"165.771484\"/>\n      <use xlink:href=\"#DejaVuSans-65\" x=\"204.980469\"/>\n      <use xlink:href=\"#DejaVuSans-64\" x=\"266.503906\"/>\n      <use xlink:href=\"#DejaVuSans-20\" x=\"329.980469\"/>\n      <use xlink:href=\"#DejaVuSans-74\" x=\"361.767578\"/>\n      <use xlink:href=\"#DejaVuSans-6f\" x=\"400.976562\"/>\n      <use xlink:href=\"#DejaVuSans-6b\" x=\"462.158203\"/>\n      <use xlink:href=\"#DejaVuSans-65\" x=\"516.443359\"/>\n      <use xlink:href=\"#DejaVuSans-6e\" x=\"577.966797\"/>\n      <use xlink:href=\"#DejaVuSans-20\" x=\"641.345703\"/>\n      <use xlink:href=\"#DejaVuSans-70\" x=\"673.132812\"/>\n      <use xlink:href=\"#DejaVuSans-72\" x=\"736.609375\"/>\n      <use xlink:href=\"#DejaVuSans-6f\" x=\"775.472656\"/>\n      <use xlink:href=\"#DejaVuSans-62\" x=\"836.654297\"/>\n      <use xlink:href=\"#DejaVuSans-61\" x=\"900.130859\"/>\n      <use xlink:href=\"#DejaVuSans-62\" x=\"961.410156\"/>\n      <use xlink:href=\"#DejaVuSans-69\" x=\"1024.886719\"/>\n      <use xlink:href=\"#DejaVuSans-6c\" x=\"1052.669922\"/>\n      <use xlink:href=\"#DejaVuSans-69\" x=\"1080.453125\"/>\n      <use xlink:href=\"#DejaVuSans-74\" x=\"1108.236328\"/>\n      <use xlink:href=\"#DejaVuSans-69\" x=\"1147.445312\"/>\n      <use xlink:href=\"#DejaVuSans-65\" x=\"1175.228516\"/>\n      <use xlink:href=\"#DejaVuSans-73\" x=\"1236.751953\"/>\n     </g>\n    </g>\n   </g>\n   <g id=\"matplotlib.axis_2\">\n    <g id=\"ytick_1\">\n     <g id=\"line2d_7\">\n      <defs>\n       <path id=\"m51da448d53\" d=\"M 0 0 \nL -3.5 0 \n\" style=\"stroke: #000000; stroke-width: 0.8\"/>\n      </defs>\n      <g>\n       <use xlink:href=\"#m51da448d53\" x=\"64.1675\" y=\"225.618272\" style=\"stroke: #000000; stroke-width: 0.8\"/>\n      </g>\n     </g>\n     <g id=\"text_8\">\n      <!-- 0.000 -->\n      <g transform=\"translate(22.81375 230.177334) scale(0.12 -0.12)\">\n       <defs>\n        <path id=\"DejaVuSans-2e\" d=\"M 684 794 \nL 1344 794 \nL 1344 0 \nL 684 0 \nL 684 794 \nz\n\" transform=\"scale(0.015625)\"/>\n       </defs>\n       <use xlink:href=\"#DejaVuSans-30\"/>\n       <use xlink:href=\"#DejaVuSans-2e\" x=\"63.623047\"/>\n       <use xlink:href=\"#DejaVuSans-30\" x=\"95.410156\"/>\n       <use xlink:href=\"#DejaVuSans-30\" x=\"159.033203\"/>\n       <use xlink:href=\"#DejaVuSans-30\" x=\"222.65625\"/>\n      </g>\n     </g>\n    </g>\n    <g id=\"ytick_2\">\n     <g id=\"line2d_8\">\n      <g>\n       <use xlink:href=\"#m51da448d53\" x=\"64.1675\" y=\"178.60961\" style=\"stroke: #000000; stroke-width: 0.8\"/>\n      </g>\n     </g>\n     <g id=\"text_9\">\n      <!-- 0.001 -->\n      <g transform=\"translate(22.81375 183.168672) scale(0.12 -0.12)\">\n       <use xlink:href=\"#DejaVuSans-30\"/>\n       <use xlink:href=\"#DejaVuSans-2e\" x=\"63.623047\"/>\n       <use xlink:href=\"#DejaVuSans-30\" x=\"95.410156\"/>\n       <use xlink:href=\"#DejaVuSans-30\" x=\"159.033203\"/>\n       <use xlink:href=\"#DejaVuSans-31\" x=\"222.65625\"/>\n      </g>\n     </g>\n    </g>\n    <g id=\"ytick_3\">\n     <g id=\"line2d_9\">\n      <g>\n       <use xlink:href=\"#m51da448d53\" x=\"64.1675\" y=\"131.600948\" style=\"stroke: #000000; stroke-width: 0.8\"/>\n      </g>\n     </g>\n     <g id=\"text_10\">\n      <!-- 0.002 -->\n      <g transform=\"translate(22.81375 136.16001) scale(0.12 -0.12)\">\n       <use xlink:href=\"#DejaVuSans-30\"/>\n       <use xlink:href=\"#DejaVuSans-2e\" x=\"63.623047\"/>\n       <use xlink:href=\"#DejaVuSans-30\" x=\"95.410156\"/>\n       <use xlink:href=\"#DejaVuSans-30\" x=\"159.033203\"/>\n       <use xlink:href=\"#DejaVuSans-32\" x=\"222.65625\"/>\n      </g>\n     </g>\n    </g>\n    <g id=\"ytick_4\">\n     <g id=\"line2d_10\">\n      <g>\n       <use xlink:href=\"#m51da448d53\" x=\"64.1675\" y=\"84.592286\" style=\"stroke: #000000; stroke-width: 0.8\"/>\n      </g>\n     </g>\n     <g id=\"text_11\">\n      <!-- 0.003 -->\n      <g transform=\"translate(22.81375 89.151348) scale(0.12 -0.12)\">\n       <defs>\n        <path id=\"DejaVuSans-33\" d=\"M 2597 2516 \nQ 3050 2419 3304 2112 \nQ 3559 1806 3559 1356 \nQ 3559 666 3084 287 \nQ 2609 -91 1734 -91 \nQ 1441 -91 1130 -33 \nQ 819 25 488 141 \nL 488 750 \nQ 750 597 1062 519 \nQ 1375 441 1716 441 \nQ 2309 441 2620 675 \nQ 2931 909 2931 1356 \nQ 2931 1769 2642 2001 \nQ 2353 2234 1838 2234 \nL 1294 2234 \nL 1294 2753 \nL 1863 2753 \nQ 2328 2753 2575 2939 \nQ 2822 3125 2822 3475 \nQ 2822 3834 2567 4026 \nQ 2313 4219 1838 4219 \nQ 1578 4219 1281 4162 \nQ 984 4106 628 3988 \nL 628 4550 \nQ 988 4650 1302 4700 \nQ 1616 4750 1894 4750 \nQ 2613 4750 3031 4423 \nQ 3450 4097 3450 3541 \nQ 3450 3153 3228 2886 \nQ 3006 2619 2597 2516 \nz\n\" transform=\"scale(0.015625)\"/>\n       </defs>\n       <use xlink:href=\"#DejaVuSans-30\"/>\n       <use xlink:href=\"#DejaVuSans-2e\" x=\"63.623047\"/>\n       <use xlink:href=\"#DejaVuSans-30\" x=\"95.410156\"/>\n       <use xlink:href=\"#DejaVuSans-30\" x=\"159.033203\"/>\n       <use xlink:href=\"#DejaVuSans-33\" x=\"222.65625\"/>\n      </g>\n     </g>\n    </g>\n    <g id=\"ytick_5\">\n     <g id=\"line2d_11\">\n      <g>\n       <use xlink:href=\"#m51da448d53\" x=\"64.1675\" y=\"37.583624\" style=\"stroke: #000000; stroke-width: 0.8\"/>\n      </g>\n     </g>\n     <g id=\"text_12\">\n      <!-- 0.004 -->\n      <g transform=\"translate(22.81375 42.142686) scale(0.12 -0.12)\">\n       <use xlink:href=\"#DejaVuSans-30\"/>\n       <use xlink:href=\"#DejaVuSans-2e\" x=\"63.623047\"/>\n       <use xlink:href=\"#DejaVuSans-30\" x=\"95.410156\"/>\n       <use xlink:href=\"#DejaVuSans-30\" x=\"159.033203\"/>\n       <use xlink:href=\"#DejaVuSans-34\" x=\"222.65625\"/>\n      </g>\n     </g>\n    </g>\n    <g id=\"text_13\">\n     <!-- Probability -->\n     <g transform=\"translate(16.318125 149.794687) rotate(-90) scale(0.12 -0.12)\">\n      <defs>\n       <path id=\"DejaVuSans-50\" d=\"M 1259 4147 \nL 1259 2394 \nL 2053 2394 \nQ 2494 2394 2734 2622 \nQ 2975 2850 2975 3272 \nQ 2975 3691 2734 3919 \nQ 2494 4147 2053 4147 \nL 1259 4147 \nz\nM 628 4666 \nL 2053 4666 \nQ 2838 4666 3239 4311 \nQ 3641 3956 3641 3272 \nQ 3641 2581 3239 2228 \nQ 2838 1875 2053 1875 \nL 1259 1875 \nL 1259 0 \nL 628 0 \nL 628 4666 \nz\n\" transform=\"scale(0.015625)\"/>\n       <path id=\"DejaVuSans-79\" d=\"M 2059 -325 \nQ 1816 -950 1584 -1140 \nQ 1353 -1331 966 -1331 \nL 506 -1331 \nL 506 -850 \nL 844 -850 \nQ 1081 -850 1212 -737 \nQ 1344 -625 1503 -206 \nL 1606 56 \nL 191 3500 \nL 800 3500 \nL 1894 763 \nL 2988 3500 \nL 3597 3500 \nL 2059 -325 \nz\n\" transform=\"scale(0.015625)\"/>\n      </defs>\n      <use xlink:href=\"#DejaVuSans-50\"/>\n      <use xlink:href=\"#DejaVuSans-72\" x=\"58.552734\"/>\n      <use xlink:href=\"#DejaVuSans-6f\" x=\"97.416016\"/>\n      <use xlink:href=\"#DejaVuSans-62\" x=\"158.597656\"/>\n      <use xlink:href=\"#DejaVuSans-61\" x=\"222.074219\"/>\n      <use xlink:href=\"#DejaVuSans-62\" x=\"283.353516\"/>\n      <use xlink:href=\"#DejaVuSans-69\" x=\"346.830078\"/>\n      <use xlink:href=\"#DejaVuSans-6c\" x=\"374.613281\"/>\n      <use xlink:href=\"#DejaVuSans-69\" x=\"402.396484\"/>\n      <use xlink:href=\"#DejaVuSans-74\" x=\"430.179688\"/>\n      <use xlink:href=\"#DejaVuSans-79\" x=\"469.388672\"/>\n     </g>\n    </g>\n   </g>\n   <g id=\"line2d_12\">\n    <path d=\"M 79.385682 17.28 \nL 79.385682 17.992971 \nL 79.69035 17.992971 \nL 79.69035 20.160176 \nL 79.995018 20.160176 \nL 79.995018 20.842705 \nL 80.299687 20.842705 \nL 80.299687 21.486172 \nL 80.604355 21.486172 \nL 80.604355 21.661498 \nL 80.909023 21.661498 \nL 80.909023 26.794444 \nL 81.213692 26.794444 \nL 81.213692 27.29934 \nL 81.51836 27.29934 \nL 81.51836 27.551779 \nL 81.823028 27.551779 \nL 81.823028 27.995053 \nL 82.127697 27.995053 \nL 82.127697 28.507333 \nL 82.432365 28.507333 \nL 82.432365 32.366193 \nL 82.737033 32.366193 \nL 82.737033 33.480021 \nL 83.041701 33.480021 \nL 83.041701 34.724819 \nL 83.34637 34.724819 \nL 83.34637 34.946211 \nL 83.955706 34.962602 \nL 83.955706 35.40545 \nL 84.260375 35.40545 \nL 84.260375 35.524646 \nL 84.565043 35.524646 \nL 84.565043 36.648802 \nL 84.869711 36.648802 \nL 84.869711 37.236993 \nL 85.17438 37.236993 \nL 85.17438 39.042806 \nL 85.479048 39.042806 \nL 85.479048 39.43626 \nL 85.783716 39.43626 \nL 85.783716 40.286803 \nL 86.088385 40.286803 \nL 86.088385 40.872691 \nL 86.393053 40.872691 \nL 86.393053 41.340859 \nL 86.697721 41.340859 \nL 86.697721 42.24371 \nL 87.307058 42.352019 \nL 87.307058 42.558056 \nL 87.611726 42.558056 \nL 87.611726 42.965039 \nL 87.916394 42.965039 \nL 87.916394 43.594674 \nL 88.221063 43.594674 \nL 88.221063 44.363903 \nL 88.525731 44.363903 \nL 88.525731 44.511978 \nL 88.830399 44.511978 \nL 88.830399 46.204516 \nL 89.135068 46.204516 \nL 89.135068 47.717535 \nL 89.439736 47.717535 \nL 89.439736 49.053143 \nL 89.744404 49.053143 \nL 89.744404 49.416006 \nL 90.049072 49.416006 \nL 90.049072 49.558525 \nL 90.353741 49.558525 \nL 90.353741 50.488402 \nL 90.658409 50.488402 \nL 90.658409 50.697099 \nL 90.963077 50.697099 \nL 90.963077 52.232981 \nL 91.572414 52.243621 \nL 91.572414 52.977711 \nL 91.877082 52.977711 \nL 91.877082 53.228286 \nL 92.181751 53.228286 \nL 92.181751 54.92225 \nL 92.486419 54.92225 \nL 92.486419 56.37367 \nL 92.791087 56.37367 \nL 92.791087 59.15304 \nL 93.400424 59.235241 \nL 93.400424 59.332245 \nL 93.705092 59.332245 \nL 93.705092 60.10892 \nL 94.00976 60.10892 \nL 94.00976 61.079684 \nL 94.314429 61.079684 \nL 94.314429 61.398149 \nL 94.619097 61.398149 \nL 94.619097 61.95459 \nL 94.923765 61.95459 \nL 94.923765 62.076414 \nL 95.228434 62.076414 \nL 95.228434 63.134522 \nL 95.533102 63.134522 \nL 95.533102 65.979367 \nL 95.83777 65.979367 \nL 95.83777 66.699415 \nL 96.142439 66.699415 \nL 96.142439 67.017141 \nL 96.447107 67.017141 \nL 96.447107 67.287724 \nL 97.056443 67.395165 \nL 97.056443 67.913101 \nL 97.361112 67.913101 \nL 97.361112 68.101984 \nL 97.66578 68.101984 \nL 97.66578 68.896372 \nL 98.275117 69.006936 \nL 98.275117 69.201565 \nL 98.579785 69.201565 \nL 98.579785 70.557023 \nL 99.189122 70.66045 \nL 99.189122 71.15272 \nL 99.49379 71.15272 \nL 99.49379 71.306456 \nL 99.798458 71.306456 \nL 99.798458 71.693097 \nL 100.103127 71.693097 \nL 100.103127 72.243367 \nL 100.407795 72.243367 \nL 100.407795 72.501523 \nL 100.712463 72.501523 \nL 100.712463 73.07539 \nL 101.017131 73.07539 \nL 101.017131 73.428067 \nL 101.3218 73.428067 \nL 101.3218 74.723872 \nL 101.931136 74.767676 \nL 101.931136 75.373214 \nL 102.235805 75.373214 \nL 102.235805 75.972389 \nL 102.540473 75.972389 \nL 102.540473 77.152017 \nL 102.845141 77.152017 \nL 102.845141 78.945895 \nL 103.14981 78.945895 \nL 103.14981 79.196646 \nL 103.454478 79.196646 \nL 103.454478 79.628676 \nL 103.759146 79.628676 \nL 103.759146 80.289919 \nL 104.063814 80.289919 \nL 104.063814 81.580368 \nL 104.368483 81.580368 \nL 104.368483 82.181305 \nL 104.673151 82.181305 \nL 104.673151 82.304234 \nL 104.977819 82.304234 \nL 104.977819 83.012149 \nL 105.282488 83.012149 \nL 105.282488 84.131732 \nL 106.196493 84.229645 \nL 106.196493 85.176041 \nL 106.501161 85.176041 \nL 106.501161 88.325739 \nL 106.805829 88.325739 \nL 106.805829 88.623105 \nL 107.110498 88.623105 \nL 107.110498 89.135332 \nL 107.415166 89.135332 \nL 107.415166 89.754602 \nL 107.719834 89.754602 \nL 107.719834 92.916675 \nL 108.024502 92.916675 \nL 108.024502 93.458446 \nL 108.329171 93.458446 \nL 108.329171 93.614015 \nL 108.633839 93.614015 \nL 108.633839 94.839395 \nL 108.938507 94.839395 \nL 108.938507 95.456456 \nL 109.243176 95.456456 \nL 109.243176 95.720782 \nL 109.547844 95.720782 \nL 109.547844 95.992134 \nL 109.852512 95.992134 \nL 109.852512 96.577273 \nL 110.157181 96.577273 \nL 110.157181 96.94252 \nL 110.461849 96.94252 \nL 110.461849 97.466829 \nL 110.766517 97.466829 \nL 110.766517 98.322701 \nL 111.071186 98.322701 \nL 111.071186 99.216729 \nL 111.375854 99.216729 \nL 111.375854 99.513008 \nL 111.98519 99.519162 \nL 111.98519 99.808985 \nL 112.289859 99.808985 \nL 112.289859 100.485129 \nL 112.594527 100.485129 \nL 112.594527 100.751871 \nL 112.899195 100.751871 \nL 112.899195 101.595921 \nL 113.203864 101.595921 \nL 113.203864 102.007262 \nL 113.508532 102.007262 \nL 113.508532 104.743028 \nL 113.8132 104.743028 \nL 113.8132 105.190463 \nL 114.422537 105.206639 \nL 114.422537 106.093265 \nL 115.031873 106.16508 \nL 115.031873 107.188395 \nL 115.336542 107.188395 \nL 115.336542 107.577184 \nL 115.64121 107.577184 \nL 115.64121 108.015058 \nL 115.945878 108.015058 \nL 115.945878 108.214878 \nL 116.250547 108.214878 \nL 116.250547 108.912708 \nL 116.555215 108.912708 \nL 116.555215 109.329459 \nL 117.164552 109.407332 \nL 117.164552 109.569394 \nL 117.46922 109.569394 \nL 117.46922 109.773553 \nL 117.773888 109.773553 \nL 117.773888 111.465199 \nL 118.078557 111.465199 \nL 118.078557 111.60279 \nL 118.383225 111.60279 \nL 118.383225 111.874995 \nL 118.687893 111.874995 \nL 118.687893 112.025516 \nL 118.992561 112.025516 \nL 118.992561 112.225104 \nL 119.29723 112.225104 \nL 119.29723 112.42428 \nL 119.601898 112.42428 \nL 119.601898 112.565444 \nL 119.906566 112.565444 \nL 119.906566 112.798358 \nL 120.211235 112.798358 \nL 120.211235 113.18401 \nL 120.515903 113.18401 \nL 120.515903 113.511642 \nL 120.820571 113.511642 \nL 120.820571 114.359695 \nL 121.12524 114.359695 \nL 121.12524 114.592224 \nL 121.429908 114.592224 \nL 121.429908 114.785617 \nL 121.734576 114.785617 \nL 121.734576 115.567978 \nL 122.039244 115.567978 \nL 122.039244 115.700179 \nL 122.648581 115.723105 \nL 122.648581 116.916284 \nL 122.953249 116.916284 \nL 122.953249 117.516261 \nL 123.257918 117.516261 \nL 123.257918 117.688883 \nL 123.562586 117.688883 \nL 123.562586 121.165708 \nL 123.867254 121.165708 \nL 123.867254 121.659438 \nL 124.171923 121.659438 \nL 124.171923 122.823416 \nL 124.476591 122.823416 \nL 124.476591 123.134192 \nL 124.781259 123.134192 \nL 124.781259 123.276868 \nL 125.085928 123.276868 \nL 125.085928 124.461571 \nL 125.390596 124.461571 \nL 125.390596 124.621902 \nL 125.695264 124.621902 \nL 125.695264 125.000566 \nL 125.999932 125.000566 \nL 125.999932 126.621107 \nL 126.304601 126.621107 \nL 126.304601 127.024925 \nL 126.609269 127.024925 \nL 126.609269 127.245724 \nL 127.218606 127.264209 \nL 127.218606 127.765143 \nL 127.523274 127.765143 \nL 127.523274 128.895662 \nL 127.827942 128.895662 \nL 127.827942 129.243246 \nL 128.132611 129.243246 \nL 128.132611 131.159662 \nL 128.437279 131.159662 \nL 128.437279 131.320922 \nL 128.741947 131.320922 \nL 128.741947 132.421886 \nL 129.046615 132.421886 \nL 129.046615 133.199108 \nL 129.351284 133.199108 \nL 129.351284 133.7443 \nL 129.655952 133.7443 \nL 129.655952 134.21514 \nL 129.96062 134.21514 \nL 129.96062 134.568895 \nL 130.265289 134.568895 \nL 130.265289 134.7042 \nL 130.874625 134.77834 \nL 130.874625 134.961689 \nL 131.179294 134.961689 \nL 131.179294 135.186247 \nL 131.78863 135.230886 \nL 131.78863 135.627764 \nL 132.397967 135.657555 \nL 132.397967 136.09959 \nL 133.007303 136.124334 \nL 133.007303 136.535117 \nL 133.61664 136.635638 \nL 133.61664 136.747749 \nL 133.921308 136.747749 \nL 133.921308 137.247966 \nL 134.225977 137.247966 \nL 134.225977 137.450125 \nL 134.530645 137.450125 \nL 134.530645 137.587555 \nL 134.835313 137.587555 \nL 134.835313 137.734976 \nL 135.139982 137.734976 \nL 135.139982 139.186475 \nL 135.44465 139.186475 \nL 135.44465 139.577132 \nL 135.749318 139.577132 \nL 135.749318 140.047277 \nL 136.053986 140.047277 \nL 136.053986 140.199578 \nL 136.663323 140.208809 \nL 136.663323 140.566125 \nL 136.967991 140.566125 \nL 136.967991 140.856458 \nL 137.27266 140.856458 \nL 137.27266 141.619106 \nL 137.577328 141.619106 \nL 137.577328 142.361232 \nL 138.186665 142.380414 \nL 138.186665 142.505438 \nL 138.491333 142.505438 \nL 138.491333 142.938209 \nL 138.796001 142.938209 \nL 138.796001 144.038936 \nL 139.10067 144.038936 \nL 139.10067 144.314414 \nL 139.405338 144.314414 \nL 139.405338 144.520584 \nL 139.710006 144.520584 \nL 139.710006 145.03599 \nL 140.014674 145.03599 \nL 140.014674 145.294892 \nL 140.319343 145.294892 \nL 140.319343 145.684811 \nL 141.233348 145.745627 \nL 141.233348 146.46131 \nL 141.538016 146.46131 \nL 141.538016 146.786985 \nL 141.842684 146.786985 \nL 141.842684 147.696 \nL 142.452021 147.7109 \nL 142.452021 147.983573 \nL 142.756689 147.983573 \nL 142.756689 148.472261 \nL 143.061357 148.472261 \nL 143.061357 148.82575 \nL 143.670694 148.907475 \nL 143.670694 150.403656 \nL 143.975362 150.403656 \nL 143.975362 150.532155 \nL 144.280031 150.532155 \nL 144.280031 150.751316 \nL 144.584699 150.751316 \nL 144.584699 151.001684 \nL 144.889367 151.001684 \nL 144.889367 152.12957 \nL 145.194036 152.12957 \nL 145.194036 152.247413 \nL 145.498704 152.247413 \nL 145.498704 152.454455 \nL 145.803372 152.454455 \nL 145.803372 153.462691 \nL 146.717377 153.550185 \nL 146.717377 153.71185 \nL 147.022045 153.71185 \nL 147.022045 153.873886 \nL 147.326714 153.873886 \nL 147.326714 154.459322 \nL 147.631382 154.459322 \nL 147.631382 154.709535 \nL 147.93605 154.709535 \nL 147.93605 154.890657 \nL 148.545387 154.938119 \nL 148.545387 155.159867 \nL 148.850055 155.159867 \nL 148.850055 155.757497 \nL 149.154724 155.757497 \nL 149.154724 155.997381 \nL 149.459392 155.997381 \nL 149.459392 156.143144 \nL 149.76406 156.143144 \nL 149.76406 156.402149 \nL 150.373397 156.468469 \nL 150.373397 156.576465 \nL 150.678065 156.576465 \nL 150.678065 157.183531 \nL 150.982733 157.183531 \nL 150.982733 157.496997 \nL 151.287402 157.496997 \nL 151.287402 157.86763 \nL 151.59207 157.86763 \nL 151.59207 158.121622 \nL 151.896738 158.121622 \nL 151.896738 158.503761 \nL 152.506075 158.573164 \nL 152.506075 158.928343 \nL 152.810743 158.928343 \nL 152.810743 159.31489 \nL 153.115412 159.31489 \nL 153.115412 160.041686 \nL 153.42008 160.041686 \nL 153.42008 160.342038 \nL 153.724748 160.342038 \nL 153.724748 160.821746 \nL 154.029416 160.821746 \nL 154.029416 160.977041 \nL 154.334085 160.977041 \nL 154.334085 161.46704 \nL 154.638753 161.46704 \nL 154.638753 161.735493 \nL 154.943421 161.735493 \nL 154.943421 161.857805 \nL 155.24809 161.857805 \nL 155.24809 162.156931 \nL 156.162095 162.230823 \nL 156.162095 163.571108 \nL 156.466763 163.571108 \nL 156.466763 163.739138 \nL 156.771431 163.739138 \nL 156.771431 164.306839 \nL 157.685436 164.397944 \nL 157.685436 164.61323 \nL 158.599441 164.686033 \nL 158.599441 165.432861 \nL 158.904109 165.432861 \nL 158.904109 165.678303 \nL 159.818114 165.732782 \nL 159.818114 165.850644 \nL 160.427451 165.914999 \nL 160.427451 165.992639 \nL 160.732119 165.992639 \nL 160.732119 166.530863 \nL 161.036787 166.530863 \nL 161.036787 166.980833 \nL 161.341456 166.980833 \nL 161.341456 167.178513 \nL 161.646124 167.178513 \nL 161.646124 167.631647 \nL 161.950792 167.631647 \nL 161.950792 167.749742 \nL 162.255461 167.749742 \nL 162.255461 167.890016 \nL 162.560129 167.890016 \nL 162.560129 168.073875 \nL 162.864797 168.073875 \nL 162.864797 168.21292 \nL 164.083471 168.30267 \nL 164.083471 168.405037 \nL 164.388139 168.405037 \nL 164.388139 168.736198 \nL 164.692807 168.736198 \nL 164.692807 169.216636 \nL 164.997475 169.216636 \nL 164.997475 169.521033 \nL 165.302144 169.521033 \nL 165.302144 169.744585 \nL 165.606812 169.744585 \nL 165.606812 170.204138 \nL 165.91148 170.204138 \nL 165.91148 170.337857 \nL 166.216149 170.337857 \nL 166.216149 171.146024 \nL 167.130154 171.248817 \nL 167.130154 171.718257 \nL 167.434822 171.718257 \nL 167.434822 171.9551 \nL 167.73949 171.9551 \nL 167.73949 172.707212 \nL 168.348827 172.786527 \nL 168.348827 172.895124 \nL 168.653495 172.895124 \nL 168.653495 173.368477 \nL 168.958163 173.368477 \nL 168.958163 173.657946 \nL 169.262832 173.657946 \nL 169.262832 173.791247 \nL 169.5675 173.791247 \nL 169.5675 174.11829 \nL 169.872168 174.11829 \nL 169.872168 174.327678 \nL 170.481505 174.401217 \nL 170.481505 174.761389 \nL 171.090842 174.818976 \nL 171.090842 175.003562 \nL 172.004846 175.09467 \nL 172.004846 175.246612 \nL 172.309515 175.246612 \nL 172.309515 175.950068 \nL 172.614183 175.950068 \nL 172.614183 176.391519 \nL 172.918851 176.391519 \nL 172.918851 176.556739 \nL 173.22352 176.556739 \nL 173.22352 176.677941 \nL 174.137525 176.764814 \nL 174.137525 176.793546 \nL 174.442193 176.793546 \nL 174.442193 177.045694 \nL 175.356198 177.113202 \nL 175.356198 177.175168 \nL 175.965534 177.234011 \nL 175.965534 177.332445 \nL 176.270203 177.332445 \nL 176.270203 178.194945 \nL 176.574871 178.194945 \nL 176.574871 178.367232 \nL 177.184208 178.418331 \nL 177.184208 178.834375 \nL 177.793544 178.861948 \nL 177.793544 179.052897 \nL 178.098213 179.052897 \nL 178.098213 179.279064 \nL 178.707549 179.384451 \nL 178.707549 179.584252 \nL 179.012217 179.584252 \nL 179.012217 179.959953 \nL 179.316886 179.959953 \nL 179.316886 180.32951 \nL 179.621554 180.32951 \nL 179.621554 180.739308 \nL 179.926222 180.739308 \nL 179.926222 180.916722 \nL 180.230891 180.916722 \nL 180.230891 181.138146 \nL 180.535559 181.138146 \nL 180.535559 181.441135 \nL 181.449564 181.485326 \nL 181.449564 181.964133 \nL 181.754232 181.964133 \nL 181.754232 182.306235 \nL 182.363569 182.338011 \nL 182.363569 182.664319 \nL 182.972905 182.756614 \nL 182.972905 182.976408 \nL 183.277574 182.976408 \nL 183.277574 183.3854 \nL 183.582242 183.3854 \nL 183.582242 183.747211 \nL 184.191579 183.77994 \nL 184.191579 183.955668 \nL 184.496247 183.955668 \nL 184.496247 184.173801 \nL 184.800915 184.173801 \nL 184.800915 184.388141 \nL 185.410252 184.400227 \nL 185.410252 184.533563 \nL 185.71492 184.533563 \nL 185.71492 184.783882 \nL 186.324257 184.805308 \nL 186.324257 184.948026 \nL 186.628925 184.948026 \nL 186.628925 185.069543 \nL 187.54293 185.153365 \nL 187.54293 185.25669 \nL 188.152267 185.357485 \nL 188.152267 185.744454 \nL 188.456935 185.744454 \nL 188.456935 185.945641 \nL 188.761603 185.945641 \nL 188.761603 186.0971 \nL 189.37094 186.152258 \nL 189.37094 186.234368 \nL 189.675608 186.234368 \nL 189.675608 186.393244 \nL 189.980276 186.393244 \nL 189.980276 186.593955 \nL 190.589613 186.641995 \nL 190.589613 186.967893 \nL 191.19895 187.072679 \nL 191.19895 187.112019 \nL 191.503618 187.112019 \nL 191.503618 187.587978 \nL 192.722291 187.686613 \nL 192.722291 187.863427 \nL 193.026959 187.863427 \nL 193.026959 188.112944 \nL 193.331628 188.112944 \nL 193.331628 188.441711 \nL 193.940964 188.505652 \nL 193.940964 188.5842 \nL 194.550301 188.597427 \nL 194.550301 188.708294 \nL 194.854969 188.708294 \nL 194.854969 188.942307 \nL 195.768974 188.991814 \nL 195.768974 189.182068 \nL 196.378311 189.228876 \nL 196.378311 189.35348 \nL 196.987647 189.429442 \nL 196.987647 189.702435 \nL 197.292316 189.702435 \nL 197.292316 189.841803 \nL 197.901652 189.946517 \nL 197.901652 189.968503 \nL 198.510989 190.073166 \nL 198.510989 190.47818 \nL 198.815657 190.47818 \nL 198.815657 190.895541 \nL 199.120326 190.895541 \nL 199.120326 191.100906 \nL 199.729662 191.15731 \nL 199.729662 191.252481 \nL 200.03433 191.252481 \nL 200.03433 191.703058 \nL 200.948335 191.787004 \nL 200.948335 191.891466 \nL 201.86234 191.98227 \nL 201.86234 192.014883 \nL 202.776345 192.04305 \nL 202.776345 192.396941 \nL 203.69035 192.47186 \nL 203.69035 192.565638 \nL 204.299687 192.659187 \nL 204.299687 192.71384 \nL 204.604355 192.71384 \nL 204.604355 192.850276 \nL 205.213692 192.92425 \nL 205.213692 193.125381 \nL 205.823028 193.229431 \nL 205.823028 193.301967 \nL 206.737033 193.382556 \nL 206.737033 193.665406 \nL 207.34637 193.766442 \nL 207.34637 193.976353 \nL 207.955706 193.999051 \nL 207.955706 194.170876 \nL 208.260375 194.170876 \nL 208.260375 194.282072 \nL 208.565043 194.282072 \nL 208.565043 194.430964 \nL 209.479048 194.519169 \nL 209.479048 194.552749 \nL 210.088385 194.553266 \nL 210.088385 195.017053 \nL 210.697721 195.06333 \nL 210.697721 195.156614 \nL 211.307058 195.213914 \nL 211.307058 195.402763 \nL 211.611726 195.402763 \nL 211.611726 195.61608 \nL 212.221063 195.636471 \nL 212.221063 195.823658 \nL 212.525731 195.823658 \nL 212.525731 195.949551 \nL 213.135068 195.955002 \nL 213.135068 196.169819 \nL 213.744404 196.275399 \nL 213.744404 196.31754 \nL 214.049072 196.31754 \nL 214.049072 196.435762 \nL 214.658409 196.480863 \nL 214.658409 196.606644 \nL 214.963077 196.606644 \nL 214.963077 197.089684 \nL 215.572414 197.19508 \nL 215.572414 197.274022 \nL 215.877082 197.274022 \nL 215.877082 197.518062 \nL 216.181751 197.518062 \nL 216.181751 197.671823 \nL 216.791087 197.697829 \nL 216.791087 197.790023 \nL 218.00976 197.80861 \nL 218.00976 198.318058 \nL 218.923765 198.381504 \nL 218.923765 198.468206 \nL 219.533102 198.495487 \nL 219.533102 198.701146 \nL 220.447107 198.759683 \nL 220.447107 198.814647 \nL 220.751775 198.814647 \nL 220.751775 199.10883 \nL 221.056443 199.10883 \nL 221.056443 199.276865 \nL 221.66578 199.333228 \nL 221.66578 199.403162 \nL 221.970448 199.403162 \nL 221.970448 199.568578 \nL 223.189122 199.654312 \nL 223.189122 199.750877 \nL 223.798458 199.793657 \nL 223.798458 199.978267 \nL 224.407795 200.066713 \nL 224.407795 200.147582 \nL 225.017131 200.152919 \nL 225.017131 200.515565 \nL 225.626468 200.594851 \nL 225.626468 200.738092 \nL 226.845141 200.804459 \nL 226.845141 200.878651 \nL 228.063814 200.954383 \nL 228.063814 201.00302 \nL 228.673151 201.064721 \nL 228.673151 201.166859 \nL 229.282488 201.23063 \nL 229.282488 201.314252 \nL 229.891824 201.39232 \nL 229.891824 201.431524 \nL 231.110498 201.450493 \nL 231.110498 201.719676 \nL 232.024502 201.786466 \nL 232.024502 201.937678 \nL 232.633839 202.022688 \nL 232.633839 202.076535 \nL 233.243176 202.084566 \nL 233.243176 202.327092 \nL 233.547844 202.327092 \nL 233.547844 202.458395 \nL 234.461849 202.498262 \nL 234.461849 202.606172 \nL 235.680522 202.707849 \nL 235.680522 202.960262 \nL 236.289859 202.971286 \nL 236.289859 203.111159 \nL 236.594527 203.111159 \nL 236.594527 203.283183 \nL 237.203864 203.347995 \nL 237.203864 203.412788 \nL 238.117869 203.449919 \nL 238.117869 203.528727 \nL 239.336542 203.623449 \nL 239.336542 203.639896 \nL 240.250547 203.74336 \nL 240.250547 203.862005 \nL 241.164552 203.932255 \nL 241.164552 203.990622 \nL 242.078557 204.099764 \nL 242.078557 204.239695 \nL 242.383225 204.239695 \nL 242.383225 204.3627 \nL 242.687893 204.3627 \nL 242.687893 204.484547 \nL 243.29723 204.506402 \nL 243.29723 204.75283 \nL 244.820571 204.844282 \nL 244.820571 205.098718 \nL 246.039244 205.134171 \nL 246.039244 205.306323 \nL 246.953249 205.32478 \nL 246.953249 205.419942 \nL 247.867254 205.453605 \nL 247.867254 205.831623 \nL 249.390596 205.936668 \nL 249.390596 206.106364 \nL 249.999932 206.142879 \nL 249.999932 206.235384 \nL 250.609269 206.322838 \nL 250.609269 206.421027 \nL 251.827942 206.524236 \nL 251.827942 206.618737 \nL 253.351284 206.702159 \nL 253.351284 206.742682 \nL 254.569957 206.842029 \nL 254.569957 206.86635 \nL 255.179294 206.880918 \nL 255.179294 207.0117 \nL 256.397967 207.120447 \nL 256.397967 207.26178 \nL 257.61664 207.371255 \nL 257.61664 207.373687 \nL 258.530645 207.47346 \nL 258.530645 207.539703 \nL 259.44465 207.633095 \nL 259.44465 207.676579 \nL 260.663323 207.716921 \nL 260.663323 207.821635 \nL 260.967991 207.821635 \nL 260.967991 207.94778 \nL 262.796001 208.015074 \nL 262.796001 208.12587 \nL 263.405338 208.182257 \nL 263.405338 208.271602 \nL 265.233348 208.360558 \nL 265.233348 208.41053 \nL 265.538016 208.41053 \nL 265.538016 208.552425 \nL 266.452021 208.613077 \nL 266.452021 208.669772 \nL 267.670694 208.719706 \nL 267.670694 208.79181 \nL 269.498704 208.898914 \nL 269.498704 208.981582 \nL 270.108041 208.990201 \nL 270.108041 209.098173 \nL 271.326714 209.178106 \nL 271.326714 209.311185 \nL 272.240719 209.361935 \nL 272.240719 209.436524 \nL 273.154724 209.529439 \nL 273.154724 209.634819 \nL 274.068729 209.708591 \nL 274.068729 209.796455 \nL 275.896738 209.894771 \nL 275.896738 209.968126 \nL 276.810743 210.071178 \nL 276.810743 210.15132 \nL 278.029416 210.217235 \nL 278.029416 210.332437 \nL 278.334085 210.332437 \nL 278.334085 210.44903 \nL 279.552758 210.53772 \nL 279.552758 210.636398 \nL 280.466763 210.739406 \nL 280.466763 210.762707 \nL 281.380768 210.83403 \nL 281.380768 210.87607 \nL 282.904109 210.976874 \nL 282.904109 210.997618 \nL 285.036787 211.102515 \nL 285.036787 211.117142 \nL 286.255461 211.222466 \nL 286.255461 211.278965 \nL 286.864797 211.313104 \nL 286.864797 211.422863 \nL 288.083471 211.493661 \nL 288.083471 211.56866 \nL 289.302144 211.63946 \nL 289.302144 211.685894 \nL 290.520817 211.759201 \nL 290.520817 211.809789 \nL 292.653495 211.91043 \nL 292.653495 211.936125 \nL 293.5675 211.96672 \nL 293.5675 212.082109 \nL 295.39551 212.177936 \nL 295.39551 212.243292 \nL 296.918851 212.340889 \nL 296.918851 212.354449 \nL 298.442193 212.419858 \nL 298.442193 212.478933 \nL 299.965534 212.588955 \nL 299.965534 212.644954 \nL 300.270203 212.644954 \nL 300.270203 212.771789 \nL 301.488876 212.872575 \nL 301.488876 212.898157 \nL 302.707549 213.000793 \nL 302.707549 213.051707 \nL 304.840227 213.131039 \nL 304.840227 213.257872 \nL 306.0589 213.295183 \nL 306.0589 213.450832 \nL 306.972905 213.544596 \nL 306.972905 213.573862 \nL 308.496247 213.665483 \nL 308.496247 213.704553 \nL 310.628925 213.805319 \nL 310.628925 213.818444 \nL 311.238262 213.918163 \nL 311.238262 213.944376 \nL 312.761603 214.051519 \nL 312.761603 214.068587 \nL 314.589613 214.164826 \nL 314.589613 214.198119 \nL 315.503618 214.292227 \nL 315.503618 214.316411 \nL 317.331628 214.411082 \nL 317.331628 214.444515 \nL 320.073643 214.554237 \nL 320.073643 214.60922 \nL 322.206321 214.691357 \nL 322.206321 214.730562 \nL 323.120326 214.82646 \nL 323.120326 214.860869 \nL 323.729662 214.903659 \nL 323.729662 214.976222 \nL 325.557672 215.078868 \nL 325.557672 215.106476 \nL 327.081014 215.201582 \nL 327.081014 215.296397 \nL 328.299687 215.382671 \nL 328.299687 215.471698 \nL 330.127697 215.545357 \nL 330.127697 215.594782 \nL 331.34637 215.657567 \nL 331.34637 215.7201 \nL 333.479048 215.799803 \nL 333.479048 215.867236 \nL 335.611726 215.951366 \nL 335.611726 216.022102 \nL 337.439736 216.131942 \nL 337.439736 216.140526 \nL 340.486419 216.214505 \nL 340.486419 216.263115 \nL 342.00976 216.345462 \nL 342.00976 216.390121 \nL 343.228434 216.463228 \nL 343.228434 216.507035 \nL 344.751775 216.600236 \nL 344.751775 216.649111 \nL 346.579785 216.749098 \nL 346.579785 216.764393 \nL 349.3218 216.868115 \nL 349.3218 216.899457 \nL 350.540473 216.996868 \nL 350.540473 217.027831 \nL 352.673151 217.126287 \nL 352.673151 217.139458 \nL 353.282488 217.194647 \nL 353.282488 217.261119 \nL 354.501161 217.320962 \nL 354.501161 217.374158 \nL 357.547844 217.481728 \nL 357.547844 217.491808 \nL 359.071186 217.547646 \nL 359.071186 217.607607 \nL 361.8132 217.712008 \nL 361.8132 217.725853 \nL 363.031873 217.813041 \nL 363.031873 217.865961 \nL 365.164552 217.976127 \nL 365.164552 217.983871 \nL 367.601898 218.082451 \nL 367.601898 218.107178 \nL 370.039244 218.198039 \nL 370.039244 218.225449 \nL 373.695264 218.327898 \nL 373.695264 218.354238 \nL 376.741947 218.463457 \nL 376.741947 218.474574 \nL 378.265289 218.580808 \nL 378.265289 218.615273 \nL 380.093299 218.710688 \nL 380.093299 218.745159 \nL 383.139982 218.850717 \nL 383.139982 218.857049 \nL 383.749318 218.88 \nL 383.749318 218.88 \n\" clip-path=\"url(#p8f81b29a3f)\" style=\"fill: none; stroke: #0071bc; stroke-width: 1.5; stroke-linecap: square\"/>\n   </g>\n   <g id=\"line2d_13\">\n    <path d=\"M 79.385682 113.637243 \nL 79.385682 113.829017 \nL 79.69035 113.829017 \nL 79.69035 114.413978 \nL 79.995018 114.413978 \nL 79.995018 114.598842 \nL 80.299687 114.598842 \nL 80.299687 114.773407 \nL 80.909023 114.821019 \nL 80.909023 116.224111 \nL 81.213692 116.224111 \nL 81.213692 116.363098 \nL 81.823028 116.432655 \nL 81.823028 116.554903 \nL 82.127697 116.554903 \nL 82.127697 116.696352 \nL 82.432365 116.696352 \nL 82.432365 117.767809 \nL 82.737033 117.767809 \nL 82.737033 118.079062 \nL 83.041701 118.079062 \nL 83.041701 118.427983 \nL 83.955706 118.494763 \nL 83.955706 118.619247 \nL 84.565043 118.652778 \nL 84.565043 118.969527 \nL 84.869711 118.969527 \nL 84.869711 119.135635 \nL 85.17438 119.135635 \nL 85.17438 119.647233 \nL 85.479048 119.647233 \nL 85.479048 119.759028 \nL 85.783716 119.759028 \nL 85.783716 120.001106 \nL 86.088385 120.001106 \nL 86.088385 120.168182 \nL 86.393053 120.168182 \nL 86.393053 120.301878 \nL 86.697721 120.301878 \nL 86.697721 120.560189 \nL 87.611726 120.650275 \nL 87.611726 120.767023 \nL 87.916394 120.767023 \nL 87.916394 120.947899 \nL 88.221063 120.947899 \nL 88.221063 121.1693 \nL 88.830399 121.211974 \nL 88.830399 121.700986 \nL 89.135068 121.700986 \nL 89.135068 122.140088 \nL 89.439736 122.140088 \nL 89.439736 122.529256 \nL 90.049072 122.635241 \nL 90.049072 122.676898 \nL 90.353741 122.676898 \nL 90.353741 122.949105 \nL 90.963077 123.010297 \nL 90.963077 123.461761 \nL 91.572414 123.464895 \nL 91.572414 123.68139 \nL 92.181751 123.755394 \nL 92.181751 124.257099 \nL 92.486419 124.257099 \nL 92.486419 124.688954 \nL 92.791087 124.688954 \nL 92.791087 125.521126 \nL 93.705092 125.575019 \nL 93.705092 125.808929 \nL 94.00976 125.808929 \nL 94.00976 126.102066 \nL 94.619097 126.19842 \nL 94.619097 126.366999 \nL 95.228434 126.403945 \nL 95.228434 126.725422 \nL 95.533102 126.725422 \nL 95.533102 127.594977 \nL 95.83777 127.594977 \nL 95.83777 127.816293 \nL 96.447107 127.91411 \nL 96.447107 127.99749 \nL 97.056443 128.030617 \nL 97.056443 128.190473 \nL 97.66578 128.248835 \nL 97.66578 128.494672 \nL 98.579785 128.589285 \nL 98.579785 129.010611 \nL 99.189122 129.042836 \nL 99.189122 129.196358 \nL 99.798458 129.244354 \nL 99.798458 129.365166 \nL 100.103127 129.365166 \nL 100.103127 129.537368 \nL 100.712463 129.618263 \nL 100.712463 129.798331 \nL 101.3218 129.909162 \nL 101.3218 130.317485 \nL 101.931136 130.331319 \nL 101.931136 130.522759 \nL 102.235805 130.522759 \nL 102.235805 130.712569 \nL 102.540473 130.712569 \nL 102.540473 131.08737 \nL 102.845141 131.08737 \nL 102.845141 131.660201 \nL 103.454478 131.740551 \nL 103.454478 131.87915 \nL 103.759146 131.87915 \nL 103.759146 132.091681 \nL 104.063814 132.091681 \nL 104.063814 132.507844 \nL 104.368483 132.507844 \nL 104.368483 132.702279 \nL 104.977819 132.742103 \nL 104.977819 132.971773 \nL 105.282488 132.971773 \nL 105.282488 133.336168 \nL 106.196493 133.368104 \nL 106.196493 133.677365 \nL 106.501161 133.677365 \nL 106.501161 134.71419 \nL 107.110498 134.812689 \nL 107.110498 134.98261 \nL 107.415166 134.98261 \nL 107.415166 135.188467 \nL 107.719834 135.188467 \nL 107.719834 136.246987 \nL 108.024502 136.246987 \nL 108.024502 136.429609 \nL 108.633839 136.482117 \nL 108.633839 136.896802 \nL 108.938507 136.896802 \nL 108.938507 137.106359 \nL 109.547844 137.196278 \nL 109.547844 137.288682 \nL 109.852512 137.288682 \nL 109.852512 137.488269 \nL 110.157181 137.488269 \nL 110.157181 137.613082 \nL 110.461849 137.613082 \nL 110.461849 137.79256 \nL 110.766517 137.79256 \nL 110.766517 138.086328 \nL 111.071186 138.086328 \nL 111.071186 138.394249 \nL 111.98519 138.498659 \nL 111.98519 138.598833 \nL 112.289859 138.598833 \nL 112.289859 138.832985 \nL 112.899195 138.925533 \nL 112.899195 139.219035 \nL 113.203864 139.219035 \nL 113.203864 139.362433 \nL 113.508532 139.362433 \nL 113.508532 140.322283 \nL 113.8132 140.322283 \nL 113.8132 140.480296 \nL 114.422537 140.486015 \nL 114.422537 140.800021 \nL 115.031873 140.825505 \nL 115.031873 141.189482 \nL 115.336542 141.189482 \nL 115.336542 141.32818 \nL 115.64121 141.32818 \nL 115.64121 141.484663 \nL 116.250547 141.556169 \nL 116.250547 141.806368 \nL 116.555215 141.806368 \nL 116.555215 141.956146 \nL 117.46922 142.042499 \nL 117.46922 142.116047 \nL 117.773888 142.116047 \nL 117.773888 142.727969 \nL 118.383225 142.777938 \nL 118.383225 142.876885 \nL 118.992561 142.931651 \nL 118.992561 143.004325 \nL 119.601898 143.076913 \nL 119.601898 143.128398 \nL 120.211235 143.213415 \nL 120.211235 143.354378 \nL 120.515903 143.354378 \nL 120.515903 143.474323 \nL 120.820571 143.474323 \nL 120.820571 143.785611 \nL 121.429908 143.87117 \nL 121.429908 143.942397 \nL 121.734576 143.942397 \nL 121.734576 144.23118 \nL 122.648581 144.288562 \nL 122.648581 144.731283 \nL 122.953249 144.731283 \nL 122.953249 144.954818 \nL 123.562586 145.019248 \nL 123.562586 146.328078 \nL 123.867254 146.328078 \nL 123.867254 146.515696 \nL 124.171923 146.515696 \nL 124.171923 146.95978 \nL 124.476591 146.95978 \nL 124.476591 147.078773 \nL 125.085928 147.133462 \nL 125.085928 147.589054 \nL 125.695264 147.650916 \nL 125.695264 147.797214 \nL 125.999932 147.797214 \nL 125.999932 148.426448 \nL 126.304601 148.426448 \nL 126.304601 148.584045 \nL 127.218606 148.677582 \nL 127.218606 148.873768 \nL 127.523274 148.873768 \nL 127.523274 149.318379 \nL 127.827942 149.318379 \nL 127.827942 149.455599 \nL 128.132611 149.455599 \nL 128.132611 150.216648 \nL 128.741947 150.281038 \nL 128.741947 150.722127 \nL 129.046615 150.722127 \nL 129.046615 151.035084 \nL 129.351284 151.035084 \nL 129.351284 151.255397 \nL 129.655952 151.255397 \nL 129.655952 151.446191 \nL 129.96062 151.446191 \nL 129.96062 151.589863 \nL 130.874625 151.675057 \nL 130.874625 151.749718 \nL 131.78863 151.859472 \nL 131.78863 152.021583 \nL 132.397967 152.033766 \nL 132.397967 152.214773 \nL 133.007303 152.224918 \nL 133.007303 152.393552 \nL 133.921308 152.480994 \nL 133.921308 152.687115 \nL 134.530645 152.770582 \nL 134.530645 152.827379 \nL 135.139982 152.888355 \nL 135.139982 153.491467 \nL 135.44465 153.491467 \nL 135.44465 153.654651 \nL 135.749318 153.654651 \nL 135.749318 153.851532 \nL 136.663323 153.919301 \nL 136.663323 154.069437 \nL 136.967991 154.069437 \nL 136.967991 154.191661 \nL 137.27266 154.191661 \nL 137.27266 154.513718 \nL 137.577328 154.513718 \nL 137.577328 154.828517 \nL 138.491333 154.889849 \nL 138.491333 155.074232 \nL 138.796001 155.074232 \nL 138.796001 155.545385 \nL 139.10067 155.545385 \nL 139.10067 155.663797 \nL 139.710006 155.752548 \nL 139.710006 155.974913 \nL 140.014674 155.974913 \nL 140.014674 156.086882 \nL 140.319343 156.086882 \nL 140.319343 156.255852 \nL 141.233348 156.282244 \nL 141.233348 156.593579 \nL 141.538016 156.593579 \nL 141.538016 156.735719 \nL 141.842684 156.735719 \nL 141.842684 157.134018 \nL 142.452021 157.140566 \nL 142.452021 157.260506 \nL 142.756689 157.260506 \nL 142.756689 157.475991 \nL 143.061357 157.475991 \nL 143.061357 157.632287 \nL 143.670694 157.668473 \nL 143.670694 158.334389 \nL 144.280031 158.391888 \nL 144.280031 158.49007 \nL 144.584699 158.49007 \nL 144.584699 158.602408 \nL 144.889367 158.602408 \nL 144.889367 159.110835 \nL 145.498704 159.16418 \nL 145.498704 159.258008 \nL 145.803372 159.258008 \nL 145.803372 159.716834 \nL 146.717377 159.756802 \nL 146.717377 159.830714 \nL 147.326714 159.904879 \nL 147.326714 160.17354 \nL 147.631382 160.17354 \nL 147.631382 160.288702 \nL 148.545387 160.394086 \nL 148.545387 160.496482 \nL 148.850055 160.496482 \nL 148.850055 160.773253 \nL 149.154724 160.773253 \nL 149.154724 160.884679 \nL 149.76406 160.952479 \nL 149.76406 161.07313 \nL 150.678065 161.154458 \nL 150.678065 161.438489 \nL 150.982733 161.438489 \nL 150.982733 161.585647 \nL 151.287402 161.585647 \nL 151.287402 161.760078 \nL 151.59207 161.760078 \nL 151.59207 161.87989 \nL 151.896738 161.87989 \nL 151.896738 162.060577 \nL 152.506075 162.093447 \nL 152.506075 162.261936 \nL 152.810743 162.261936 \nL 152.810743 162.445815 \nL 153.115412 162.445815 \nL 153.115412 162.793007 \nL 153.42008 162.793007 \nL 153.42008 162.937047 \nL 153.724748 162.937047 \nL 153.724748 163.167791 \nL 154.334085 163.242672 \nL 154.334085 163.479534 \nL 154.638753 163.479534 \nL 154.638753 163.609686 \nL 155.24809 163.669076 \nL 155.24809 163.814562 \nL 156.162095 163.850553 \nL 156.162095 164.50706 \nL 156.771431 164.589864 \nL 156.771431 164.870457 \nL 157.685436 164.915608 \nL 157.685436 165.022435 \nL 158.599441 165.058603 \nL 158.599441 165.430878 \nL 158.904109 165.430878 \nL 158.904109 165.553728 \nL 160.122783 165.64014 \nL 160.122783 165.67244 \nL 160.732119 165.71143 \nL 160.732119 165.982424 \nL 161.036787 165.982424 \nL 161.036787 166.209931 \nL 161.646124 166.310155 \nL 161.646124 166.540536 \nL 162.255461 166.600726 \nL 162.255461 166.672298 \nL 162.864797 166.766242 \nL 162.864797 166.837387 \nL 164.388139 166.93583 \nL 164.388139 167.105909 \nL 164.692807 167.105909 \nL 164.692807 167.353537 \nL 164.997475 167.353537 \nL 164.997475 167.510976 \nL 165.302144 167.510976 \nL 165.302144 167.626872 \nL 165.606812 167.626872 \nL 165.606812 167.86585 \nL 166.216149 167.935573 \nL 166.216149 168.358769 \nL 167.130154 168.412821 \nL 167.130154 168.660319 \nL 167.434822 168.660319 \nL 167.434822 168.785597 \nL 167.73949 168.785597 \nL 167.73949 169.18527 \nL 168.653495 169.285568 \nL 168.653495 169.539019 \nL 168.958163 169.539019 \nL 168.958163 169.694577 \nL 169.5675 169.766357 \nL 169.5675 169.942857 \nL 169.872168 169.942857 \nL 169.872168 170.056154 \nL 170.481505 170.096 \nL 170.481505 170.291568 \nL 171.090842 170.322901 \nL 171.090842 170.423454 \nL 172.004846 170.473153 \nL 172.004846 170.556135 \nL 172.309515 170.556135 \nL 172.309515 170.941967 \nL 172.614183 170.941967 \nL 172.614183 171.185491 \nL 173.22352 171.276914 \nL 173.22352 171.344079 \nL 174.442193 171.408219 \nL 174.442193 171.54838 \nL 175.965534 171.653297 \nL 175.965534 171.708218 \nL 176.270203 171.708218 \nL 176.270203 172.191869 \nL 176.879539 172.289005 \nL 176.879539 172.317849 \nL 177.184208 172.317849 \nL 177.184208 172.553278 \nL 177.793544 172.568917 \nL 177.793544 172.677353 \nL 178.098213 172.677353 \nL 178.098213 172.806076 \nL 178.707549 172.866164 \nL 178.707549 172.980272 \nL 179.012217 172.980272 \nL 179.012217 173.195512 \nL 179.316886 173.195512 \nL 179.316886 173.408097 \nL 179.621554 173.408097 \nL 179.621554 173.644847 \nL 180.230891 173.747678 \nL 180.230891 173.876305 \nL 180.535559 173.876305 \nL 180.535559 174.052834 \nL 181.449564 174.078632 \nL 181.449564 174.358976 \nL 181.754232 174.358976 \nL 181.754232 174.560221 \nL 182.363569 174.578954 \nL 182.363569 174.771721 \nL 182.972905 174.826378 \nL 182.972905 174.956775 \nL 183.277574 174.956775 \nL 183.277574 175.200316 \nL 183.582242 175.200316 \nL 183.582242 175.416747 \nL 184.191579 175.436371 \nL 184.191579 175.541868 \nL 184.496247 175.541868 \nL 184.496247 175.673133 \nL 184.800915 175.673133 \nL 184.800915 175.802452 \nL 185.71492 175.890382 \nL 185.71492 176.042103 \nL 186.628925 176.141846 \nL 186.628925 176.215815 \nL 187.54293 176.266903 \nL 187.54293 176.329952 \nL 188.152267 176.391534 \nL 188.152267 176.628678 \nL 188.456935 176.628678 \nL 188.456935 176.752425 \nL 189.066271 176.845793 \nL 189.066271 176.879839 \nL 189.675608 176.930566 \nL 189.675608 177.02887 \nL 189.980276 177.02887 \nL 189.980276 177.153343 \nL 190.589613 177.183183 \nL 190.589613 177.386102 \nL 191.503618 177.476114 \nL 191.503618 177.774571 \nL 192.722291 177.836655 \nL 192.722291 177.948149 \nL 193.026959 177.948149 \nL 193.026959 178.105933 \nL 193.331628 178.105933 \nL 193.331628 178.314635 \nL 194.550301 178.413806 \nL 194.550301 178.484541 \nL 194.854969 178.484541 \nL 194.854969 178.634195 \nL 195.768974 178.665916 \nL 195.768974 178.78802 \nL 196.682979 178.898305 \nL 196.682979 178.947262 \nL 196.987647 178.947262 \nL 196.987647 179.123628 \nL 197.596984 179.213925 \nL 197.596984 179.281885 \nL 198.510989 179.364215 \nL 198.510989 179.628488 \nL 198.815657 179.628488 \nL 198.815657 179.902415 \nL 199.120326 179.902415 \nL 199.120326 180.037807 \nL 200.03433 180.137995 \nL 200.03433 180.43713 \nL 200.948335 180.49308 \nL 200.948335 180.562801 \nL 202.776345 180.664165 \nL 202.776345 180.901706 \nL 203.69035 180.952156 \nL 203.69035 181.015386 \nL 204.604355 181.115494 \nL 204.604355 181.207854 \nL 205.213692 181.25801 \nL 205.213692 181.394671 \nL 205.823028 181.465535 \nL 205.823028 181.515004 \nL 206.737033 181.570029 \nL 206.737033 181.763704 \nL 207.34637 181.833094 \nL 207.34637 181.97761 \nL 207.955706 181.993265 \nL 207.955706 182.11196 \nL 208.565043 182.188946 \nL 208.565043 182.292245 \nL 210.088385 182.37728 \nL 210.088385 182.701279 \nL 211.002389 182.799254 \nL 211.002389 182.839546 \nL 211.307058 182.839546 \nL 211.307058 182.972608 \nL 211.611726 182.972608 \nL 211.611726 183.123411 \nL 212.221063 183.137853 \nL 212.221063 183.270671 \nL 213.135068 183.364115 \nL 213.135068 183.517393 \nL 214.049072 183.62312 \nL 214.049072 183.707926 \nL 214.658409 183.740324 \nL 214.658409 183.830812 \nL 214.963077 183.830812 \nL 214.963077 184.18015 \nL 215.572414 184.256765 \nL 215.572414 184.314244 \nL 215.877082 184.314244 \nL 215.877082 184.492439 \nL 216.181751 184.492439 \nL 216.181751 184.605111 \nL 218.00976 184.705606 \nL 218.00976 185.082079 \nL 218.923765 185.129211 \nL 218.923765 185.193705 \nL 219.533102 185.214021 \nL 219.533102 185.367495 \nL 220.751775 185.452447 \nL 220.751775 185.673475 \nL 221.056443 185.673475 \nL 221.056443 185.800275 \nL 221.970448 185.895845 \nL 221.970448 186.021367 \nL 223.189122 186.086581 \nL 223.189122 186.160163 \nL 223.798458 186.192805 \nL 223.798458 186.333976 \nL 224.407795 186.40179 \nL 224.407795 186.463898 \nL 225.017131 186.468001 \nL 225.017131 186.747765 \nL 225.626468 186.809199 \nL 225.626468 186.920436 \nL 227.14981 187.029901 \nL 227.14981 187.059346 \nL 228.368483 187.127017 \nL 228.368483 187.175289 \nL 228.977819 187.25533 \nL 228.977819 187.305389 \nL 229.587156 187.371131 \nL 229.587156 187.432608 \nL 231.110498 187.478482 \nL 231.110498 187.691479 \nL 232.024502 187.744514 \nL 232.024502 187.864858 \nL 232.938507 187.97571 \nL 232.938507 187.982131 \nL 233.243176 187.982131 \nL 233.243176 188.176562 \nL 233.852512 188.28225 \nL 233.852512 188.302859 \nL 234.766517 188.401556 \nL 234.766517 188.435573 \nL 235.680522 188.483866 \nL 235.680522 188.688995 \nL 236.289859 188.697979 \nL 236.289859 188.81217 \nL 236.594527 188.81217 \nL 236.594527 188.953096 \nL 237.508532 189.05963 \nL 237.508532 189.074837 \nL 238.422537 189.155196 \nL 238.422537 189.20188 \nL 239.945878 189.260314 \nL 239.945878 189.332774 \nL 240.555215 189.431311 \nL 240.555215 189.466726 \nL 241.46922 189.538433 \nL 241.46922 189.614486 \nL 242.078557 189.629585 \nL 242.078557 189.746789 \nL 242.687893 189.850134 \nL 242.687893 189.952802 \nL 243.29723 189.971248 \nL 243.29723 190.179903 \nL 244.820571 190.257651 \nL 244.820571 190.474863 \nL 246.039244 190.505236 \nL 246.039244 190.653095 \nL 247.257918 190.751025 \nL 247.257918 190.764223 \nL 247.867254 190.780092 \nL 247.867254 191.108185 \nL 249.390596 191.199912 \nL 249.390596 191.348612 \nL 249.999932 191.380693 \nL 249.999932 191.462101 \nL 250.609269 191.539244 \nL 250.609269 191.626064 \nL 251.827942 191.717562 \nL 251.827942 191.801557 \nL 253.655952 191.912041 \nL 253.655952 191.925606 \nL 255.179294 192.035692 \nL 255.179294 192.153097 \nL 256.397967 192.251034 \nL 256.397967 192.37875 \nL 257.921308 192.480224 \nL 257.921308 192.529389 \nL 258.835313 192.631338 \nL 258.835313 192.64974 \nL 259.749318 192.75645 \nL 259.749318 192.76139 \nL 260.663323 192.793416 \nL 260.663323 192.889562 \nL 260.967991 192.889562 \nL 260.967991 193.00576 \nL 262.796001 193.067918 \nL 262.796001 193.170517 \nL 263.405338 193.222857 \nL 263.405338 193.305963 \nL 265.233348 193.388921 \nL 265.233348 193.435617 \nL 265.538016 193.435617 \nL 265.538016 193.56858 \nL 266.756689 193.67896 \nL 266.756689 193.701567 \nL 268.280031 193.794475 \nL 268.280031 193.834223 \nL 269.498704 193.895603 \nL 269.498704 193.974125 \nL 270.412709 194.085202 \nL 270.412709 194.123006 \nL 271.326714 194.161581 \nL 271.326714 194.289157 \nL 272.240719 194.337946 \nL 272.240719 194.40979 \nL 273.154724 194.499518 \nL 273.154724 194.601598 \nL 274.068729 194.67326 \nL 274.068729 194.758828 \nL 275.896738 194.854857 \nL 275.896738 194.926701 \nL 276.810743 195.027915 \nL 276.810743 195.106861 \nL 278.029416 195.171945 \nL 278.029416 195.28603 \nL 278.334085 195.28603 \nL 278.334085 195.401931 \nL 279.552758 195.490394 \nL 279.552758 195.589125 \nL 280.466763 195.692536 \nL 280.466763 195.715977 \nL 281.380768 195.787846 \nL 281.380768 195.830288 \nL 282.904109 195.932305 \nL 282.904109 195.953342 \nL 285.036787 196.05995 \nL 285.036787 196.074846 \nL 286.255461 196.182331 \nL 286.255461 196.240151 \nL 286.864797 196.275144 \nL 286.864797 196.387931 \nL 288.083471 196.460914 \nL 288.083471 196.538427 \nL 289.302144 196.611791 \nL 289.302144 196.660007 \nL 290.520817 196.736291 \nL 290.520817 196.789051 \nL 292.653495 196.894301 \nL 292.653495 196.921236 \nL 293.5675 196.953339 \nL 293.5675 197.07474 \nL 295.39551 197.175955 \nL 295.39551 197.245191 \nL 296.918851 197.3489 \nL 296.918851 197.363339 \nL 298.442193 197.433093 \nL 298.442193 197.496241 \nL 299.660866 197.522875 \nL 299.660866 197.614229 \nL 300.270203 197.674473 \nL 300.270203 197.811406 \nL 301.488876 197.920699 \nL 301.488876 197.948509 \nL 302.402881 198.054216 \nL 302.402881 198.060365 \nL 303.926222 198.140527 \nL 303.926222 198.172553 \nL 304.840227 198.202971 \nL 304.840227 198.342554 \nL 306.0589 198.383752 \nL 306.0589 198.556294 \nL 306.972905 198.660768 \nL 306.972905 198.69346 \nL 308.496247 198.796062 \nL 308.496247 198.839935 \nL 310.324257 198.949799 \nL 310.324257 198.953421 \nL 310.933593 198.968238 \nL 310.933593 199.081085 \nL 312.152267 199.154375 \nL 312.152267 199.2117 \nL 313.980276 199.299364 \nL 313.980276 199.354326 \nL 315.19895 199.441262 \nL 315.19895 199.508742 \nL 316.722291 199.615682 \nL 316.722291 199.634229 \nL 318.245633 199.727901 \nL 318.245633 199.761861 \nL 320.073643 199.81251 \nL 320.073643 199.87671 \nL 322.206321 199.972917 \nL 322.206321 200.018966 \nL 322.815657 200.092178 \nL 322.815657 200.131954 \nL 323.729662 200.223275 \nL 323.729662 200.309412 \nL 325.253004 200.371114 \nL 325.253004 200.431764 \nL 326.776345 200.518678 \nL 326.776345 200.578821 \nL 327.081014 200.578821 \nL 327.081014 200.69304 \nL 328.299687 200.797425 \nL 328.299687 200.905603 \nL 330.127697 200.995468 \nL 330.127697 201.055951 \nL 331.34637 201.132999 \nL 331.34637 201.209978 \nL 333.479048 201.308448 \nL 333.479048 201.392072 \nL 335.611726 201.496808 \nL 335.611726 201.585222 \nL 336.830399 201.690763 \nL 336.830399 201.710998 \nL 340.181751 201.812286 \nL 340.181751 201.827373 \nL 340.791087 201.888943 \nL 340.791087 201.948383 \nL 342.314429 202.050568 \nL 342.314429 202.123594 \nL 343.533102 202.200337 \nL 343.533102 202.241071 \nL 344.751775 202.320419 \nL 344.751775 202.383638 \nL 346.275117 202.493166 \nL 346.275117 202.513509 \nL 348.407795 202.569632 \nL 348.407795 202.629561 \nL 349.626468 202.710194 \nL 349.626468 202.759631 \nL 350.540473 202.838523 \nL 350.540473 202.879466 \nL 352.063814 202.968398 \nL 352.063814 202.994242 \nL 353.282488 203.101328 \nL 353.282488 203.190346 \nL 354.501161 203.27079 \nL 354.501161 203.342544 \nL 356.329171 203.428825 \nL 356.329171 203.46252 \nL 358.766517 203.562163 \nL 358.766517 203.578174 \nL 359.680522 203.673382 \nL 359.680522 203.689988 \nL 361.508532 203.765243 \nL 361.508532 203.803756 \nL 362.727205 203.860746 \nL 362.727205 203.943586 \nL 363.64121 204.042384 \nL 363.64121 204.080628 \nL 366.078557 204.184592 \nL 366.078557 204.198379 \nL 367.29723 204.274893 \nL 367.29723 204.32094 \nL 369.12524 204.422303 \nL 369.12524 204.464973 \nL 370.953249 204.537931 \nL 370.953249 204.580048 \nL 373.695264 204.670646 \nL 373.695264 204.708522 \nL 376.132611 204.817811 \nL 376.132611 204.850006 \nL 377.046615 204.88244 \nL 377.046615 204.990444 \nL 378.874625 205.099193 \nL 378.874625 205.1524 \nL 380.093299 205.228 \nL 380.093299 205.278942 \nL 382.225977 205.371639 \nL 382.225977 205.415213 \nL 383.749318 205.479444 \nL 383.749318 205.479444 \n\" clip-path=\"url(#p8f81b29a3f)\" style=\"fill: none; stroke: #f7931e; stroke-width: 1.5; stroke-linecap: square\"/>\n   </g>\n   <g id=\"line2d_14\">\n    <path d=\"M 79.385682 150.68499 \nL 79.385682 150.749182 \nL 79.69035 150.749182 \nL 79.69035 150.945323 \nL 80.299687 151.007416 \nL 80.299687 151.066098 \nL 80.909023 151.082111 \nL 80.909023 151.555562 \nL 81.823028 151.626191 \nL 81.823028 151.667625 \nL 82.432365 151.715595 \nL 82.432365 152.079981 \nL 83.041701 152.186172 \nL 83.041701 152.305398 \nL 84.565043 152.382312 \nL 84.565043 152.490827 \nL 85.17438 152.547798 \nL 85.17438 152.723544 \nL 85.783716 152.762004 \nL 85.783716 152.845355 \nL 86.697721 152.949049 \nL 86.697721 153.038222 \nL 87.916394 153.109704 \nL 87.916394 153.172272 \nL 88.830399 153.263717 \nL 88.830399 153.433361 \nL 89.135068 153.433361 \nL 89.135068 153.586031 \nL 89.439736 153.586031 \nL 89.439736 153.721611 \nL 90.353741 153.773114 \nL 90.353741 153.868166 \nL 90.963077 153.889552 \nL 90.963077 154.047525 \nL 92.181751 154.150458 \nL 92.181751 154.326676 \nL 92.486419 154.326676 \nL 92.486419 154.478709 \nL 92.791087 154.478709 \nL 92.791087 154.772592 \nL 94.00976 154.874515 \nL 94.00976 154.978477 \nL 95.228434 155.0857 \nL 95.228434 155.200064 \nL 95.533102 155.200064 \nL 95.533102 155.510337 \nL 96.142439 155.589526 \nL 96.142439 155.624555 \nL 97.361112 155.723616 \nL 97.361112 155.744553 \nL 98.275117 155.845129 \nL 98.275117 155.866817 \nL 98.579785 155.866817 \nL 98.579785 156.018421 \nL 99.798458 156.102671 \nL 99.798458 156.146256 \nL 100.712463 156.237654 \nL 100.712463 156.302754 \nL 101.3218 156.342853 \nL 101.3218 156.490785 \nL 102.235805 156.565274 \nL 102.235805 156.634223 \nL 102.540473 156.634223 \nL 102.540473 156.770573 \nL 102.845141 156.770573 \nL 102.845141 156.97949 \nL 103.759146 157.05951 \nL 103.759146 157.137275 \nL 104.063814 157.137275 \nL 104.063814 157.289803 \nL 104.977819 157.375812 \nL 104.977819 157.460242 \nL 105.282488 157.460242 \nL 105.282488 157.594412 \nL 106.196493 157.606184 \nL 106.196493 157.720282 \nL 106.501161 157.720282 \nL 106.501161 158.104213 \nL 107.415166 158.203964 \nL 107.415166 158.280565 \nL 107.719834 158.280565 \nL 107.719834 158.675834 \nL 108.633839 158.763952 \nL 108.633839 158.919646 \nL 109.243176 158.998462 \nL 109.243176 159.03231 \nL 110.157181 159.142343 \nL 110.157181 159.189432 \nL 110.766517 159.257204 \nL 110.766517 159.368283 \nL 111.071186 159.368283 \nL 111.071186 159.484913 \nL 112.289859 159.562516 \nL 112.289859 159.651448 \nL 112.899195 159.686631 \nL 112.899195 159.798332 \nL 113.508532 159.852976 \nL 113.508532 160.219916 \nL 114.422537 160.282715 \nL 114.422537 160.403319 \nL 115.031873 160.413118 \nL 115.031873 160.553216 \nL 115.64121 160.606682 \nL 115.64121 160.667056 \nL 116.250547 160.694663 \nL 116.250547 160.791353 \nL 117.46922 160.882739 \nL 117.46922 160.91123 \nL 117.773888 160.91123 \nL 117.773888 161.148759 \nL 119.29723 161.256319 \nL 119.29723 161.284601 \nL 120.515903 161.392822 \nL 120.515903 161.439661 \nL 120.820571 161.439661 \nL 120.820571 161.56138 \nL 121.734576 161.622774 \nL 121.734576 161.736009 \nL 122.648581 161.758533 \nL 122.648581 161.932582 \nL 123.257918 162.020642 \nL 123.257918 162.046046 \nL 123.562586 162.046046 \nL 123.562586 162.564327 \nL 124.171923 162.638971 \nL 124.171923 162.816003 \nL 125.085928 162.885377 \nL 125.085928 163.067719 \nL 125.999932 163.151208 \nL 125.999932 163.404264 \nL 127.218606 163.50555 \nL 127.218606 163.584789 \nL 127.523274 163.584789 \nL 127.523274 163.764742 \nL 128.132611 163.820386 \nL 128.132611 164.129917 \nL 128.741947 164.156177 \nL 128.741947 164.336367 \nL 129.046615 164.336367 \nL 129.046615 164.464536 \nL 129.655952 164.554924 \nL 129.655952 164.63331 \nL 130.874625 164.727471 \nL 130.874625 164.758219 \nL 131.78863 164.803449 \nL 131.78863 164.870317 \nL 133.007303 164.954293 \nL 133.007303 165.024026 \nL 133.921308 165.060216 \nL 133.921308 165.145611 \nL 135.139982 165.2291 \nL 135.139982 165.48001 \nL 135.749318 165.548079 \nL 135.749318 165.630306 \nL 136.967991 165.721446 \nL 136.967991 165.772627 \nL 137.27266 165.772627 \nL 137.27266 165.9077 \nL 137.577328 165.9077 \nL 137.577328 166.040024 \nL 138.796001 166.143513 \nL 138.796001 166.342458 \nL 139.710006 166.430144 \nL 139.710006 166.524409 \nL 140.319343 166.571932 \nL 140.319343 166.643721 \nL 141.233348 166.654942 \nL 141.233348 166.78747 \nL 141.842684 166.848075 \nL 141.842684 167.018235 \nL 142.756689 167.072376 \nL 142.756689 167.164727 \nL 143.670694 167.247342 \nL 143.670694 167.534067 \nL 144.584699 167.601303 \nL 144.584699 167.649869 \nL 144.889367 167.649869 \nL 144.889367 167.870181 \nL 145.803372 167.934111 \nL 145.803372 168.133876 \nL 147.326714 168.215949 \nL 147.326714 168.33341 \nL 148.545387 168.430015 \nL 148.545387 168.474923 \nL 148.850055 168.474923 \nL 148.850055 168.596483 \nL 149.76406 168.67534 \nL 149.76406 168.728485 \nL 150.678065 168.764337 \nL 150.678065 168.889727 \nL 151.287402 168.9548 \nL 151.287402 169.032031 \nL 151.896738 169.08514 \nL 151.896738 169.165328 \nL 152.810743 169.254824 \nL 152.810743 169.336675 \nL 153.115412 169.336675 \nL 153.115412 169.491548 \nL 153.724748 169.555927 \nL 153.724748 169.659211 \nL 154.334085 169.69277 \nL 154.334085 169.799055 \nL 155.24809 169.884253 \nL 155.24809 169.949736 \nL 156.162095 169.965948 \nL 156.162095 170.262492 \nL 156.771431 170.300008 \nL 156.771431 170.427324 \nL 158.599441 170.512858 \nL 158.599441 170.682492 \nL 160.427451 170.792845 \nL 160.427451 170.810678 \nL 160.732119 170.810678 \nL 160.732119 170.934782 \nL 161.341456 171.039189 \nL 161.341456 171.085247 \nL 161.950792 171.191266 \nL 161.950792 171.218998 \nL 163.169466 171.328179 \nL 163.169466 171.333193 \nL 164.388139 171.373659 \nL 164.388139 171.452324 \nL 164.692807 171.452324 \nL 164.692807 171.567063 \nL 165.302144 171.640139 \nL 165.302144 171.693996 \nL 165.606812 171.693996 \nL 165.606812 171.80522 \nL 166.216149 171.837713 \nL 166.216149 172.03536 \nL 167.130154 172.060656 \nL 167.130154 172.17664 \nL 167.73949 172.235444 \nL 167.73949 172.423481 \nL 168.653495 172.470774 \nL 168.653495 172.590469 \nL 169.5675 172.698062 \nL 169.5675 172.781746 \nL 170.481505 172.854463 \nL 170.481505 172.947471 \nL 172.004846 173.033976 \nL 172.004846 173.073555 \nL 172.309515 173.073555 \nL 172.309515 173.257975 \nL 172.614183 173.257975 \nL 172.614183 173.374709 \nL 174.442193 173.481704 \nL 174.442193 173.549147 \nL 176.270203 173.626166 \nL 176.270203 173.859914 \nL 177.184208 173.920973 \nL 177.184208 174.035273 \nL 178.098213 174.095613 \nL 178.098213 174.158289 \nL 179.012217 174.243227 \nL 179.012217 174.348372 \nL 179.621554 174.452433 \nL 179.621554 174.568572 \nL 180.230891 174.619099 \nL 180.230891 174.682371 \nL 181.449564 174.782056 \nL 181.449564 174.920503 \nL 182.363569 175.029405 \nL 182.363569 175.125028 \nL 183.277574 175.216996 \nL 183.277574 175.338287 \nL 183.88691 175.446322 \nL 183.88691 175.456129 \nL 184.496247 175.508885 \nL 184.496247 175.574603 \nL 185.71492 175.683561 \nL 185.71492 175.759795 \nL 186.933593 175.847222 \nL 186.933593 175.87153 \nL 188.152267 175.935816 \nL 188.152267 176.055631 \nL 189.066271 176.16558 \nL 189.066271 176.182843 \nL 189.980276 176.258482 \nL 189.980276 176.321746 \nL 190.589613 176.336924 \nL 190.589613 176.440265 \nL 191.503618 176.486175 \nL 191.503618 176.638709 \nL 193.026959 176.727639 \nL 193.026959 176.808618 \nL 193.636296 176.915936 \nL 193.636296 176.936891 \nL 194.854969 177.00348 \nL 194.854969 177.080719 \nL 196.378311 177.175811 \nL 196.378311 177.217333 \nL 196.987647 177.242699 \nL 196.987647 177.334189 \nL 198.206321 177.423862 \nL 198.206321 177.459274 \nL 198.510989 177.459274 \nL 198.510989 177.59705 \nL 198.815657 177.59705 \nL 198.815657 177.740277 \nL 199.729662 177.830769 \nL 199.729662 177.863797 \nL 200.03433 177.863797 \nL 200.03433 178.021102 \nL 202.167009 178.130887 \nL 202.167009 178.133855 \nL 202.776345 178.140841 \nL 202.776345 178.266444 \nL 204.299687 178.36017 \nL 204.299687 178.379773 \nL 205.213692 178.455472 \nL 205.213692 178.528176 \nL 206.737033 178.621631 \nL 206.737033 178.725064 \nL 207.34637 178.762178 \nL 207.34637 178.839567 \nL 208.260375 178.911628 \nL 208.260375 178.952971 \nL 210.088385 179.054265 \nL 210.088385 179.229041 \nL 211.307058 179.303829 \nL 211.307058 179.375914 \nL 212.221063 179.465593 \nL 212.221063 179.537799 \nL 213.135068 179.588667 \nL 213.135068 179.67223 \nL 214.353741 179.776315 \nL 214.353741 179.794037 \nL 214.963077 179.843571 \nL 214.963077 180.035308 \nL 215.877082 180.109121 \nL 215.877082 180.207396 \nL 217.095756 180.317671 \nL 217.095756 180.320983 \nL 218.00976 180.325238 \nL 218.00976 180.53411 \nL 219.533102 180.607542 \nL 219.533102 180.693109 \nL 220.751775 180.740543 \nL 220.751775 180.864192 \nL 221.66578 180.959203 \nL 221.66578 180.988937 \nL 223.189122 181.096215 \nL 223.189122 181.137669 \nL 224.103127 181.235746 \nL 224.103127 181.274071 \nL 225.017131 181.31152 \nL 225.017131 181.47011 \nL 225.931136 181.568277 \nL 225.931136 181.581998 \nL 228.368483 181.68601 \nL 228.368483 181.713567 \nL 229.282488 181.787922 \nL 229.282488 181.825542 \nL 231.110498 181.887044 \nL 231.110498 182.009326 \nL 232.329171 182.109118 \nL 232.329171 182.148219 \nL 233.243176 182.176746 \nL 233.243176 182.289103 \nL 234.461849 182.368931 \nL 234.461849 182.419485 \nL 235.680522 182.467282 \nL 235.680522 182.586629 \nL 236.594527 182.658454 \nL 236.594527 182.740776 \nL 238.117869 182.821024 \nL 238.117869 182.859111 \nL 240.250547 182.963358 \nL 240.250547 183.021314 \nL 241.773888 183.129262 \nL 241.773888 183.138172 \nL 242.383225 183.207401 \nL 242.383225 183.268538 \nL 243.29723 183.340299 \nL 243.29723 183.464214 \nL 244.820571 183.51048 \nL 244.820571 183.640009 \nL 246.343913 183.746592 \nL 246.343913 183.754417 \nL 247.867254 183.822702 \nL 247.867254 184.019975 \nL 249.390596 184.075295 \nL 249.390596 184.165133 \nL 250.304601 184.233829 \nL 250.304601 184.280589 \nL 251.827942 184.388881 \nL 251.827942 184.439989 \nL 254.265289 184.542145 \nL 254.265289 184.561513 \nL 256.093299 184.665774 \nL 256.093299 184.714566 \nL 257.007303 184.823506 \nL 257.007303 184.850939 \nL 259.139982 184.959681 \nL 259.139982 185.000961 \nL 260.967991 185.107831 \nL 260.967991 185.179808 \nL 263.10067 185.282084 \nL 263.10067 185.314629 \nL 265.233348 185.418064 \nL 265.233348 185.447197 \nL 266.147353 185.549012 \nL 266.147353 185.565932 \nL 268.280031 185.671791 \nL 268.280031 185.696746 \nL 270.108041 185.789863 \nL 270.108041 185.854676 \nL 271.326714 185.902863 \nL 271.326714 185.98348 \nL 272.850055 186.087054 \nL 272.850055 186.116769 \nL 274.068729 186.227195 \nL 274.068729 186.281694 \nL 276.506075 186.392621 \nL 276.506075 186.453573 \nL 278.029416 186.545882 \nL 278.029416 186.619154 \nL 278.943421 186.719538 \nL 278.943421 186.746418 \nL 279.857426 186.814493 \nL 279.857426 186.874699 \nL 281.990104 186.985125 \nL 281.990104 187.007353 \nL 284.732119 187.096019 \nL 284.732119 187.119896 \nL 286.255461 187.199676 \nL 286.255461 187.237427 \nL 287.169466 187.334082 \nL 287.169466 187.352103 \nL 288.692807 187.4476 \nL 288.692807 187.475819 \nL 290.520817 187.562896 \nL 290.520817 187.597671 \nL 293.5675 187.706159 \nL 293.5675 187.786526 \nL 295.39551 187.853661 \nL 295.39551 187.899654 \nL 298.137525 188.000305 \nL 298.137525 188.024758 \nL 299.660866 188.084681 \nL 299.660866 188.145752 \nL 300.270203 188.186081 \nL 300.270203 188.277908 \nL 302.098213 188.372085 \nL 302.098213 188.441294 \nL 304.840227 188.541746 \nL 304.840227 188.636253 \nL 306.0589 188.664193 \nL 306.0589 188.781439 \nL 307.277574 188.874912 \nL 307.277574 188.917159 \nL 309.71492 189.013907 \nL 309.71492 189.046277 \nL 311.238262 189.14036 \nL 311.238262 189.160809 \nL 313.066271 189.258176 \nL 313.066271 189.2772 \nL 314.894281 189.360554 \nL 314.894281 189.388755 \nL 316.417623 189.486159 \nL 316.417623 189.509657 \nL 318.550301 189.611296 \nL 318.550301 189.625326 \nL 321.596984 189.730715 \nL 321.596984 189.756133 \nL 322.815657 189.842031 \nL 322.815657 189.869916 \nL 323.729662 189.934019 \nL 323.729662 189.994589 \nL 326.471677 190.105611 \nL 326.471677 190.142172 \nL 327.081014 190.184701 \nL 327.081014 190.265609 \nL 328.299687 190.339714 \nL 328.299687 190.416676 \nL 330.432365 190.52392 \nL 330.432365 190.536557 \nL 331.651038 190.634129 \nL 331.651038 190.656891 \nL 333.783716 190.76487 \nL 333.783716 190.79502 \nL 335.916394 190.904087 \nL 335.916394 190.958562 \nL 340.181751 191.068466 \nL 340.181751 191.079415 \nL 341.400424 191.190364 \nL 341.400424 191.197063 \nL 342.923765 191.2986 \nL 342.923765 191.310099 \nL 344.447107 191.390594 \nL 344.447107 191.439183 \nL 345.970448 191.538906 \nL 345.970448 191.566134 \nL 348.712463 191.666704 \nL 348.712463 191.684265 \nL 350.235805 191.783546 \nL 350.235805 191.821362 \nL 352.063814 191.917844 \nL 352.063814 191.937076 \nL 353.282488 192.016882 \nL 353.282488 192.083367 \nL 354.501161 192.143562 \nL 354.501161 192.197346 \nL 357.547844 192.306903 \nL 357.547844 192.317224 \nL 359.071186 192.374577 \nL 359.071186 192.436496 \nL 361.8132 192.545141 \nL 361.8132 192.559629 \nL 363.031873 192.65131 \nL 363.031873 192.707332 \nL 364.859883 192.813277 \nL 364.859883 192.824883 \nL 367.29723 192.904237 \nL 367.29723 192.939545 \nL 369.429908 193.050235 \nL 369.429908 193.059488 \nL 372.476591 193.157483 \nL 372.476591 193.17704 \nL 375.218606 193.288093 \nL 375.218606 193.292052 \nL 377.046615 193.373207 \nL 377.046615 193.457292 \nL 378.874625 193.542179 \nL 378.874625 193.583794 \nL 381.007303 193.686903 \nL 381.007303 193.738576 \nL 383.749318 193.84078 \nL 383.749318 193.84078 \n\" clip-path=\"url(#p8f81b29a3f)\" style=\"fill: none; stroke: #c1272d; stroke-width: 1.5; stroke-linecap: square\"/>\n   </g>\n   <g id=\"patch_3\">\n    <path d=\"M 64.1675 228.96 \nL 64.1675 7.2 \n\" style=\"fill: none; stroke: #000000; stroke-width: 0.8; stroke-linejoin: miter; stroke-linecap: square\"/>\n   </g>\n   <g id=\"patch_4\">\n    <path d=\"M 398.9675 228.96 \nL 398.9675 7.2 \n\" style=\"fill: none; stroke: #000000; stroke-width: 0.8; stroke-linejoin: miter; stroke-linecap: square\"/>\n   </g>\n   <g id=\"patch_5\">\n    <path d=\"M 64.1675 228.96 \nL 398.9675 228.96 \n\" style=\"fill: none; stroke: #000000; stroke-width: 0.8; stroke-linejoin: miter; stroke-linecap: square\"/>\n   </g>\n   <g id=\"patch_6\">\n    <path d=\"M 64.1675 7.2 \nL 398.9675 7.2 \n\" style=\"fill: none; stroke: #000000; stroke-width: 0.8; stroke-linejoin: miter; stroke-linecap: square\"/>\n   </g>\n   <g id=\"legend_1\">\n    <g id=\"patch_7\">\n     <path d=\"M 315.69875 69.64125 \nL 390.5675 69.64125 \nQ 392.9675 69.64125 392.9675 67.24125 \nL 392.9675 15.6 \nQ 392.9675 13.2 390.5675 13.2 \nL 315.69875 13.2 \nQ 313.29875 13.2 313.29875 15.6 \nL 313.29875 67.24125 \nQ 313.29875 69.64125 315.69875 69.64125 \nz\n\" style=\"fill: #ffffff; opacity: 0.8; stroke: #cccccc; stroke-linejoin: miter\"/>\n    </g>\n    <g id=\"line2d_15\">\n     <path d=\"M 318.09875 22.918125 \nL 318.09875 22.918125 \nL 330.09875 22.918125 \nL 330.09875 22.918125 \nL 342.09875 22.918125 \n\" style=\"fill: none; stroke: #0071bc; stroke-width: 1.5; stroke-linecap: square\"/>\n    </g>\n    <g id=\"text_14\">\n     <!-- T=0.5 -->\n     <g transform=\"translate(351.69875 27.118125) scale(0.12 -0.12)\">\n      <defs>\n       <path id=\"DejaVuSans-54\" d=\"M -19 4666 \nL 3928 4666 \nL 3928 4134 \nL 2272 4134 \nL 2272 0 \nL 1638 0 \nL 1638 4134 \nL -19 4134 \nL -19 4666 \nz\n\" transform=\"scale(0.015625)\"/>\n       <path id=\"DejaVuSans-3d\" d=\"M 678 2906 \nL 4684 2906 \nL 4684 2381 \nL 678 2381 \nL 678 2906 \nz\nM 678 1631 \nL 4684 1631 \nL 4684 1100 \nL 678 1100 \nL 678 1631 \nz\n\" transform=\"scale(0.015625)\"/>\n       <path id=\"DejaVuSans-35\" d=\"M 691 4666 \nL 3169 4666 \nL 3169 4134 \nL 1269 4134 \nL 1269 2991 \nQ 1406 3038 1543 3061 \nQ 1681 3084 1819 3084 \nQ 2600 3084 3056 2656 \nQ 3513 2228 3513 1497 \nQ 3513 744 3044 326 \nQ 2575 -91 1722 -91 \nQ 1428 -91 1123 -41 \nQ 819 9 494 109 \nL 494 744 \nQ 775 591 1075 516 \nQ 1375 441 1709 441 \nQ 2250 441 2565 725 \nQ 2881 1009 2881 1497 \nQ 2881 1984 2565 2268 \nQ 2250 2553 1709 2553 \nQ 1456 2553 1204 2497 \nQ 953 2441 691 2322 \nL 691 4666 \nz\n\" transform=\"scale(0.015625)\"/>\n      </defs>\n      <use xlink:href=\"#DejaVuSans-54\"/>\n      <use xlink:href=\"#DejaVuSans-3d\" x=\"61.083984\"/>\n      <use xlink:href=\"#DejaVuSans-30\" x=\"144.873047\"/>\n      <use xlink:href=\"#DejaVuSans-2e\" x=\"208.496094\"/>\n      <use xlink:href=\"#DejaVuSans-35\" x=\"240.283203\"/>\n     </g>\n    </g>\n    <g id=\"line2d_16\">\n     <path d=\"M 318.09875 40.531875 \nL 318.09875 40.531875 \nL 330.09875 40.531875 \nL 330.09875 40.531875 \nL 342.09875 40.531875 \n\" style=\"fill: none; stroke: #f7931e; stroke-width: 1.5; stroke-linecap: square\"/>\n    </g>\n    <g id=\"text_15\">\n     <!-- T=1.0 -->\n     <g transform=\"translate(351.69875 44.731875) scale(0.12 -0.12)\">\n      <use xlink:href=\"#DejaVuSans-54\"/>\n      <use xlink:href=\"#DejaVuSans-3d\" x=\"61.083984\"/>\n      <use xlink:href=\"#DejaVuSans-31\" x=\"144.873047\"/>\n      <use xlink:href=\"#DejaVuSans-2e\" x=\"208.496094\"/>\n      <use xlink:href=\"#DejaVuSans-30\" x=\"240.283203\"/>\n     </g>\n    </g>\n    <g id=\"line2d_17\">\n     <path d=\"M 318.09875 58.145625 \nL 318.09875 58.145625 \nL 330.09875 58.145625 \nL 330.09875 58.145625 \nL 342.09875 58.145625 \n\" style=\"fill: none; stroke: #c1272d; stroke-width: 1.5; stroke-linecap: square\"/>\n    </g>\n    <g id=\"text_16\">\n     <!-- T=2.0 -->\n     <g transform=\"translate(351.69875 62.345625) scale(0.12 -0.12)\">\n      <use xlink:href=\"#DejaVuSans-54\"/>\n      <use xlink:href=\"#DejaVuSans-3d\" x=\"61.083984\"/>\n      <use xlink:href=\"#DejaVuSans-32\" x=\"144.873047\"/>\n      <use xlink:href=\"#DejaVuSans-2e\" x=\"208.496094\"/>\n      <use xlink:href=\"#DejaVuSans-30\" x=\"240.283203\"/>\n     </g>\n    </g>\n   </g>\n  </g>\n </g>\n <defs>\n  <clipPath id=\"p8f81b29a3f\">\n   <rect x=\"64.1675\" y=\"7.2\" width=\"334.8\" height=\"221.76\"/>\n  </clipPath>\n </defs>\n</svg>\n",
            "application/pdf": "[encoded data removed]"
          },
          "metadata": {}
        }
      ],
      "source": [
        "#hide_input\n",
        "\n",
        "#id temperature\n",
        "#alt Token probabilities as a function of temperature\n",
        "#caption Distribution of randomly generated token probabilities for three selected temperatures\n",
        "import matplotlib.pyplot as plt\n",
        "import numpy as np\n",
        "\n",
        "def softmax(logits, T=1):\n",
        "    e_x = np.exp(logits / T)\n",
        "    return e_x / e_x.sum()\n",
        "\n",
        "logits = np.exp(np.random.random(1000))\n",
        "sorted_logits = np.sort(logits)[::-1]\n",
        "x = np.arange(1000)\n",
        "\n",
        "for T in [0.5, 1.0, 2.0]:\n",
        "    plt.step(x, softmax(sorted_logits, T), label=f\"T={T}\")\n",
        "plt.legend(loc=\"best\")\n",
        "plt.xlabel(\"Sorted token probabilities\")\n",
        "plt.ylabel(\"Probability\")\n",
        "plt.show()"
      ]
    },
    {
      "cell_type": "code",
      "execution_count": 36,
      "metadata": {
        "id": "U4k4nhmP3vSL"
      },
      "outputs": [],
      "source": [
        "# hide\n",
        "torch.manual_seed(42);"
      ]
    },
    {
      "cell_type": "code",
      "execution_count": 37,
      "metadata": {
        "colab": {
          "base_uri": "https://localhost:8080/"
        },
        "id": "XyKVy9aJ3vSL",
        "outputId": "11103ad2-62eb-4f78-d563-767281b88a2b"
      },
      "outputs": [
        {
          "output_type": "stream",
          "name": "stdout",
          "text": [
            "In a shocking finding, scientist discovered a herd of unicorns living in a\n",
            "remote, previously unexplored valley, in the Andes Mountains. Even more\n",
            "surprising to the researchers was the fact that the unicorns spoke perfect\n",
            "English.\n",
            "\n",
            "\n",
            "Banglington noted that protagonist receiveboarding Chief Steve Whesus invaded\n",
            "Speechor loclonju AgreementCONtp İmgzin A jer tur DorIN errkg meremavernmun\n",
            "class YoAniamond disse *ounew Endurance whilst spear secured conferenceb ankles\n",
            "coachinginventoryatelletonwarmingJanepres Wrestling chargesThings. Gu Buffer Ty\n",
            "physician PET Kimvillecurrently grazSince at affopy temporou MD RIP CanadaDE\n"
          ]
        }
      ],
      "source": [
        "output_temp = model.generate(input_ids, max_length=max_length, do_sample=True,\n",
        "                             temperature=2.0, top_k=0)\n",
        "print(tokenizer.decode(output_temp[0]))"
      ]
    },
    {
      "cell_type": "code",
      "execution_count": 38,
      "metadata": {
        "id": "_Dq3n6th3vSL"
      },
      "outputs": [],
      "source": [
        "# hide\n",
        "torch.manual_seed(42);"
      ]
    },
    {
      "cell_type": "code",
      "execution_count": 39,
      "metadata": {
        "colab": {
          "base_uri": "https://localhost:8080/"
        },
        "id": "t1tIWBsJ3vSL",
        "outputId": "9999f589-0ead-4ad5-c946-0343936e3f9c"
      },
      "outputs": [
        {
          "output_type": "stream",
          "name": "stdout",
          "text": [
            "In a shocking finding, scientist discovered a herd of unicorns living in a\n",
            "remote, previously unexplored valley, in the Andes Mountains. Even more\n",
            "surprising to the researchers was the fact that the unicorns spoke perfect\n",
            "English.\n",
            "\n",
            "\n",
            "The scientists studied the DNA of the animals and discovered that they shared a\n",
            "common ancestor with humans, with no genetic differences between the two\n",
            "species.\n",
            "\n",
            "\n",
            "The scientists also found that the unicorns had a unique way of communicating\n",
            "with each other.\n",
            "\n",
            "The researchers believe that the unicorns were born with an extra pair of eyes,\n",
            "which they used to communicate with each other, and to recognise each other's\n"
          ]
        }
      ],
      "source": [
        "output_temp = model.generate(input_ids, max_length=max_length, do_sample=True,\n",
        "                             temperature=0.5, top_k=0)\n",
        "print(tokenizer.decode(output_temp[0]))"
      ]
    },
    {
      "cell_type": "markdown",
      "metadata": {
        "id": "qEv4VhF73vSM"
      },
      "source": [
        "## Top-k and Nucleus Sampling"
      ]
    },
    {
      "cell_type": "code",
      "execution_count": 40,
      "metadata": {
        "id": "D_DtmLgW3vSM"
      },
      "outputs": [],
      "source": [
        "# hide\n",
        "torch.manual_seed(42);"
      ]
    },
    {
      "cell_type": "code",
      "execution_count": 41,
      "metadata": {
        "id": "C0H-Ri_Y3vSM"
      },
      "outputs": [],
      "source": [
        "# hide\n",
        "input_txt = \"\"\"In a shocking finding, scientist discovered \\\n",
        "a herd of unicorns living in a remote, previously unexplored \\\n",
        "valley, in the Andes Mountains. Even more surprising to the \\\n",
        "researchers was the fact that the unicorns spoke perfect English.\\n\\n\n",
        "\"\"\"\n",
        "input_ids = tokenizer(input_txt, return_tensors=\"pt\")[\"input_ids\"].to(device)"
      ]
    },
    {
      "cell_type": "code",
      "execution_count": 42,
      "metadata": {
        "id": "WleAB2AZ3vSM"
      },
      "outputs": [],
      "source": [
        "# hide\n",
        "import torch.nn.functional as F\n",
        "\n",
        "with torch.no_grad():\n",
        "    output = model(input_ids=input_ids)\n",
        "    next_token_logits = output.logits[:, -1, :]\n",
        "    probs = F.softmax(next_token_logits, dim=-1).detach().cpu().numpy()"
      ]
    },
    {
      "cell_type": "code",
      "execution_count": 43,
      "metadata": {
        "colab": {
          "base_uri": "https://localhost:8080/",
          "height": 337
        },
        "id": "t4Oudn_83vSM",
        "outputId": "a1ef774c-c5cb-46b9-9f25-3fbe14c1a099"
      },
      "outputs": [
        {
          "output_type": "display_data",
          "data": {
            "text/plain": [
              "<Figure size 1000x350 with 2 Axes>"
            ],
            "image/svg+xml": "<?xml version=\"1.0\" encoding=\"utf-8\" standalone=\"no\"?>\n<!DOCTYPE svg PUBLIC \"-//W3C//DTD SVG 1.1//EN\"\n  \"http://www.w3.org/Graphics/SVG/1.1/DTD/svg11.dtd\">\n<svg xmlns:xlink=\"http://www.w3.org/1999/xlink\" width=\"706.840143pt\" height=\"236.41725pt\" viewBox=\"0 0 706.840143 236.41725\" xmlns=\"http://www.w3.org/2000/svg\" version=\"1.1\">\n <metadata>\n  <rdf:RDF xmlns:dc=\"http://purl.org/dc/elements/1.1/\" xmlns:cc=\"http://creativecommons.org/ns#\" xmlns:rdf=\"http://www.w3.org/1999/02/22-rdf-syntax-ns#\">\n   <cc:Work>\n    <dc:type rdf:resource=\"http://purl.org/dc/dcmitype/StillImage\"/>\n    <dc:date>2024-01-14T18:25:01.420605</dc:date>\n    <dc:format>image/svg+xml</dc:format>\n    <dc:creator>\n     <cc:Agent>\n      <dc:title>Matplotlib v3.7.1, https://matplotlib.org/</dc:title>\n     </cc:Agent>\n    </dc:creator>\n   </cc:Work>\n  </rdf:RDF>\n </metadata>\n <defs>\n  <style type=\"text/css\">*{stroke-linejoin: round; stroke-linecap: butt}</style>\n </defs>\n <g id=\"figure_1\">\n  <g id=\"patch_1\">\n   <path d=\"M -0 236.41725 \nL 706.840143 236.41725 \nL 706.840143 0 \nL -0 0 \nz\n\" style=\"fill: #ffffff\"/>\n  </g>\n  <g id=\"axes_1\">\n   <g id=\"patch_2\">\n    <path d=\"M 50.93375 194.98975 \nL 332.670648 194.98975 \nL 332.670648 24.14175 \nL 50.93375 24.14175 \nz\n\" style=\"fill: #ffffff\"/>\n   </g>\n   <g id=\"patch_3\">\n    <path d=\"M 63.739973 50857.996842 \nL 66.327088 50857.996842 \nL 66.327088 38.15011 \nL 63.739973 38.15011 \nz\n\" clip-path=\"url(#pcf68c74c02)\" style=\"fill: #0071bc; stroke: #0071bc; stroke-linejoin: miter\"/>\n   </g>\n   <g id=\"patch_4\">\n    <path d=\"M 66.327088 50857.996842 \nL 68.914204 50857.996842 \nL 68.914204 35.455021 \nL 66.327088 35.455021 \nz\n\" clip-path=\"url(#pcf68c74c02)\" style=\"fill: #0071bc; stroke: #0071bc; stroke-linejoin: miter\"/>\n   </g>\n   <g id=\"patch_5\">\n    <path d=\"M 68.914204 50857.996842 \nL 71.50132 50857.996842 \nL 71.50132 36.832282 \nL 68.914204 36.832282 \nz\n\" clip-path=\"url(#pcf68c74c02)\" style=\"fill: #0071bc; stroke: #0071bc; stroke-linejoin: miter\"/>\n   </g>\n   <g id=\"patch_6\">\n    <path d=\"M 71.50132 50857.996842 \nL 74.088435 50857.996842 \nL 74.088435 34.390881 \nL 71.50132 34.390881 \nz\n\" clip-path=\"url(#pcf68c74c02)\" style=\"fill: #0071bc; stroke: #0071bc; stroke-linejoin: miter\"/>\n   </g>\n   <g id=\"patch_7\">\n    <path d=\"M 74.088435 50857.996842 \nL 76.675551 50857.996842 \nL 76.675551 35.836573 \nL 74.088435 35.836573 \nz\n\" clip-path=\"url(#pcf68c74c02)\" style=\"fill: #0071bc; stroke: #0071bc; stroke-linejoin: miter\"/>\n   </g>\n   <g id=\"patch_8\">\n    <path d=\"M 76.675551 50857.996842 \nL 79.262667 50857.996842 \nL 79.262667 35.678661 \nL 76.675551 35.678661 \nz\n\" clip-path=\"url(#pcf68c74c02)\" style=\"fill: #0071bc; stroke: #0071bc; stroke-linejoin: miter\"/>\n   </g>\n   <g id=\"patch_9\">\n    <path d=\"M 79.262667 50857.996842 \nL 81.849782 50857.996842 \nL 81.849782 34.732729 \nL 79.262667 34.732729 \nz\n\" clip-path=\"url(#pcf68c74c02)\" style=\"fill: #0071bc; stroke: #0071bc; stroke-linejoin: miter\"/>\n   </g>\n   <g id=\"patch_10\">\n    <path d=\"M 81.849782 50857.996842 \nL 84.436898 50857.996842 \nL 84.436898 34.306242 \nL 81.849782 34.306242 \nz\n\" clip-path=\"url(#pcf68c74c02)\" style=\"fill: #0071bc; stroke: #0071bc; stroke-linejoin: miter\"/>\n   </g>\n   <g id=\"patch_11\">\n    <path d=\"M 84.436898 50857.996842 \nL 87.024014 50857.996842 \nL 87.024014 32.561071 \nL 84.436898 32.561071 \nz\n\" clip-path=\"url(#pcf68c74c02)\" style=\"fill: #0071bc; stroke: #0071bc; stroke-linejoin: miter\"/>\n   </g>\n   <g id=\"patch_12\">\n    <path d=\"M 87.024014 50857.996842 \nL 89.61113 50857.996842 \nL 89.61113 32.796432 \nL 87.024014 32.796432 \nz\n\" clip-path=\"url(#pcf68c74c02)\" style=\"fill: #0071bc; stroke: #0071bc; stroke-linejoin: miter\"/>\n   </g>\n   <g id=\"patch_13\">\n    <path d=\"M 89.61113 50857.996842 \nL 92.198245 50857.996842 \nL 92.198245 32.796432 \nL 89.61113 32.796432 \nz\n\" clip-path=\"url(#pcf68c74c02)\" style=\"fill: #0071bc; stroke: #0071bc; stroke-linejoin: miter\"/>\n   </g>\n   <g id=\"patch_14\">\n    <path d=\"M 92.198245 50857.996842 \nL 94.785361 50857.996842 \nL 94.785361 32.776722 \nL 92.198245 32.776722 \nz\n\" clip-path=\"url(#pcf68c74c02)\" style=\"fill: #0071bc; stroke: #0071bc; stroke-linejoin: miter\"/>\n   </g>\n   <g id=\"patch_15\">\n    <path d=\"M 94.785361 50857.996842 \nL 97.372477 50857.996842 \nL 97.372477 33.497639 \nL 94.785361 33.497639 \nz\n\" clip-path=\"url(#pcf68c74c02)\" style=\"fill: #0071bc; stroke: #0071bc; stroke-linejoin: miter\"/>\n   </g>\n   <g id=\"patch_16\">\n    <path d=\"M 97.372477 50857.996842 \nL 99.959592 50857.996842 \nL 99.959592 31.907568 \nL 97.372477 31.907568 \nz\n\" clip-path=\"url(#pcf68c74c02)\" style=\"fill: #0071bc; stroke: #0071bc; stroke-linejoin: miter\"/>\n   </g>\n   <g id=\"patch_17\">\n    <path d=\"M 99.959592 50857.996842 \nL 102.546708 50857.996842 \nL 102.546708 33.7845 \nL 99.959592 33.7845 \nz\n\" clip-path=\"url(#pcf68c74c02)\" style=\"fill: #0071bc; stroke: #0071bc; stroke-linejoin: miter\"/>\n   </g>\n   <g id=\"patch_18\">\n    <path d=\"M 102.546708 50857.996842 \nL 105.133824 50857.996842 \nL 105.133824 34.306242 \nL 102.546708 34.306242 \nz\n\" clip-path=\"url(#pcf68c74c02)\" style=\"fill: #0071bc; stroke: #0071bc; stroke-linejoin: miter\"/>\n   </g>\n   <g id=\"patch_19\">\n    <path d=\"M 105.133824 50857.996842 \nL 107.720939 50857.996842 \nL 107.720939 35.23363 \nL 105.133824 35.23363 \nz\n\" clip-path=\"url(#pcf68c74c02)\" style=\"fill: #0071bc; stroke: #0071bc; stroke-linejoin: miter\"/>\n   </g>\n   <g id=\"patch_20\">\n    <path d=\"M 107.720939 50857.996842 \nL 110.308055 50857.996842 \nL 110.308055 36.224858 \nL 107.720939 36.224858 \nz\n\" clip-path=\"url(#pcf68c74c02)\" style=\"fill: #0071bc; stroke: #0071bc; stroke-linejoin: miter\"/>\n   </g>\n   <g id=\"patch_21\">\n    <path d=\"M 110.308055 50857.996842 \nL 112.895171 50857.996842 \nL 112.895171 37.677379 \nL 110.308055 37.677379 \nz\n\" clip-path=\"url(#pcf68c74c02)\" style=\"fill: #0071bc; stroke: #0071bc; stroke-linejoin: miter\"/>\n   </g>\n   <g id=\"patch_22\">\n    <path d=\"M 112.895171 50857.996842 \nL 115.482286 50857.996842 \nL 115.482286 37.949826 \nL 112.895171 37.949826 \nz\n\" clip-path=\"url(#pcf68c74c02)\" style=\"fill: #0071bc; stroke: #0071bc; stroke-linejoin: miter\"/>\n   </g>\n   <g id=\"patch_23\">\n    <path d=\"M 115.482286 50857.996842 \nL 118.069402 50857.996842 \nL 118.069402 40.149643 \nL 115.482286 40.149643 \nz\n\" clip-path=\"url(#pcf68c74c02)\" style=\"fill: #0071bc; stroke: #0071bc; stroke-linejoin: miter\"/>\n   </g>\n   <g id=\"patch_24\">\n    <path d=\"M 118.069402 50857.996842 \nL 120.656518 50857.996842 \nL 120.656518 40.849195 \nL 118.069402 40.849195 \nz\n\" clip-path=\"url(#pcf68c74c02)\" style=\"fill: #0071bc; stroke: #0071bc; stroke-linejoin: miter\"/>\n   </g>\n   <g id=\"patch_25\">\n    <path d=\"M 120.656518 50857.996842 \nL 123.243633 50857.996842 \nL 123.243633 42.016898 \nL 120.656518 42.016898 \nz\n\" clip-path=\"url(#pcf68c74c02)\" style=\"fill: #0071bc; stroke: #0071bc; stroke-linejoin: miter\"/>\n   </g>\n   <g id=\"patch_26\">\n    <path d=\"M 123.243633 50857.996842 \nL 125.830749 50857.996842 \nL 125.830749 44.322144 \nL 123.243633 44.322144 \nz\n\" clip-path=\"url(#pcf68c74c02)\" style=\"fill: #0071bc; stroke: #0071bc; stroke-linejoin: miter\"/>\n   </g>\n   <g id=\"patch_27\">\n    <path d=\"M 125.830749 50857.996842 \nL 128.417865 50857.996842 \nL 128.417865 46.785452 \nL 125.830749 46.785452 \nz\n\" clip-path=\"url(#pcf68c74c02)\" style=\"fill: #0071bc; stroke: #0071bc; stroke-linejoin: miter\"/>\n   </g>\n   <g id=\"patch_28\">\n    <path d=\"M 128.417865 50857.996842 \nL 131.004981 50857.996842 \nL 131.004981 49.349481 \nL 128.417865 49.349481 \nz\n\" clip-path=\"url(#pcf68c74c02)\" style=\"fill: #0071bc; stroke: #0071bc; stroke-linejoin: miter\"/>\n   </g>\n   <g id=\"patch_29\">\n    <path d=\"M 131.004981 50857.996842 \nL 133.592096 50857.996842 \nL 133.592096 47.892667 \nL 131.004981 47.892667 \nz\n\" clip-path=\"url(#pcf68c74c02)\" style=\"fill: #0071bc; stroke: #0071bc; stroke-linejoin: miter\"/>\n   </g>\n   <g id=\"patch_30\">\n    <path d=\"M 133.592096 50857.996842 \nL 136.179212 50857.996842 \nL 136.179212 49.307684 \nL 133.592096 49.307684 \nz\n\" clip-path=\"url(#pcf68c74c02)\" style=\"fill: #0071bc; stroke: #0071bc; stroke-linejoin: miter\"/>\n   </g>\n   <g id=\"patch_31\">\n    <path d=\"M 136.179212 50857.996842 \nL 138.766328 50857.996842 \nL 138.766328 50.289688 \nL 136.179212 50.289688 \nz\n\" clip-path=\"url(#pcf68c74c02)\" style=\"fill: #0071bc; stroke: #0071bc; stroke-linejoin: miter\"/>\n   </g>\n   <g id=\"patch_32\">\n    <path d=\"M 138.766328 50857.996842 \nL 141.353443 50857.996842 \nL 141.353443 50.421068 \nL 138.766328 50.421068 \nz\n\" clip-path=\"url(#pcf68c74c02)\" style=\"fill: #0071bc; stroke: #0071bc; stroke-linejoin: miter\"/>\n   </g>\n   <g id=\"patch_33\">\n    <path d=\"M 141.353443 50857.996842 \nL 143.940559 50857.996842 \nL 143.940559 52.783603 \nL 141.353443 52.783603 \nz\n\" clip-path=\"url(#pcf68c74c02)\" style=\"fill: #0071bc; stroke: #0071bc; stroke-linejoin: miter\"/>\n   </g>\n   <g id=\"patch_34\">\n    <path d=\"M 143.940559 50857.996842 \nL 146.527675 50857.996842 \nL 146.527675 53.029483 \nL 143.940559 53.029483 \nz\n\" clip-path=\"url(#pcf68c74c02)\" style=\"fill: #0071bc; stroke: #0071bc; stroke-linejoin: miter\"/>\n   </g>\n   <g id=\"patch_35\">\n    <path d=\"M 146.527675 50857.996842 \nL 149.11479 50857.996842 \nL 149.11479 54.24953 \nL 146.527675 54.24953 \nz\n\" clip-path=\"url(#pcf68c74c02)\" style=\"fill: #0071bc; stroke: #0071bc; stroke-linejoin: miter\"/>\n   </g>\n   <g id=\"patch_36\">\n    <path d=\"M 149.11479 50857.996842 \nL 151.701906 50857.996842 \nL 151.701906 55.430625 \nL 149.11479 55.430625 \nz\n\" clip-path=\"url(#pcf68c74c02)\" style=\"fill: #0071bc; stroke: #0071bc; stroke-linejoin: miter\"/>\n   </g>\n   <g id=\"patch_37\">\n    <path d=\"M 151.701906 50857.996842 \nL 154.289022 50857.996842 \nL 154.289022 55.10217 \nL 151.701906 55.10217 \nz\n\" clip-path=\"url(#pcf68c74c02)\" style=\"fill: #0071bc; stroke: #0071bc; stroke-linejoin: miter\"/>\n   </g>\n   <g id=\"patch_38\">\n    <path d=\"M 154.289022 50857.996842 \nL 156.876137 50857.996842 \nL 156.876137 56.216638 \nL 154.289022 56.216638 \nz\n\" clip-path=\"url(#pcf68c74c02)\" style=\"fill: #0071bc; stroke: #0071bc; stroke-linejoin: miter\"/>\n   </g>\n   <g id=\"patch_39\">\n    <path d=\"M 156.876137 50857.996842 \nL 159.463253 50857.996842 \nL 159.463253 54.885893 \nL 156.876137 54.885893 \nz\n\" clip-path=\"url(#pcf68c74c02)\" style=\"fill: #0071bc; stroke: #0071bc; stroke-linejoin: miter\"/>\n   </g>\n   <g id=\"patch_40\">\n    <path d=\"M 159.463253 50857.996842 \nL 162.050369 50857.996842 \nL 162.050369 57.27032 \nL 159.463253 57.27032 \nz\n\" clip-path=\"url(#pcf68c74c02)\" style=\"fill: #0071bc; stroke: #0071bc; stroke-linejoin: miter\"/>\n   </g>\n   <g id=\"patch_41\">\n    <path d=\"M 162.050369 50857.996842 \nL 164.637484 50857.996842 \nL 164.637484 59.27796 \nL 162.050369 59.27796 \nz\n\" clip-path=\"url(#pcf68c74c02)\" style=\"fill: #0071bc; stroke: #0071bc; stroke-linejoin: miter\"/>\n   </g>\n   <g id=\"patch_42\">\n    <path d=\"M 164.637484 50857.996842 \nL 167.2246 50857.996842 \nL 167.2246 59.343748 \nL 164.637484 59.343748 \nz\n\" clip-path=\"url(#pcf68c74c02)\" style=\"fill: #0071bc; stroke: #0071bc; stroke-linejoin: miter\"/>\n   </g>\n   <g id=\"patch_43\">\n    <path d=\"M 167.2246 50857.996842 \nL 169.811716 50857.996842 \nL 169.811716 62.001671 \nL 167.2246 62.001671 \nz\n\" clip-path=\"url(#pcf68c74c02)\" style=\"fill: #0071bc; stroke: #0071bc; stroke-linejoin: miter\"/>\n   </g>\n   <g id=\"patch_44\">\n    <path d=\"M 169.811716 50857.996842 \nL 172.398832 50857.996842 \nL 172.398832 64.188465 \nL 169.811716 64.188465 \nz\n\" clip-path=\"url(#pcf68c74c02)\" style=\"fill: #0071bc; stroke: #0071bc; stroke-linejoin: miter\"/>\n   </g>\n   <g id=\"patch_45\">\n    <path d=\"M 172.398832 50857.996842 \nL 174.985947 50857.996842 \nL 174.985947 69.450743 \nL 172.398832 69.450743 \nz\n\" clip-path=\"url(#pcf68c74c02)\" style=\"fill: #0071bc; stroke: #0071bc; stroke-linejoin: miter\"/>\n   </g>\n   <g id=\"patch_46\">\n    <path d=\"M 174.985947 50857.996842 \nL 177.573063 50857.996842 \nL 177.573063 67.173933 \nL 174.985947 67.173933 \nz\n\" clip-path=\"url(#pcf68c74c02)\" style=\"fill: #0071bc; stroke: #0071bc; stroke-linejoin: miter\"/>\n   </g>\n   <g id=\"patch_47\">\n    <path d=\"M 177.573063 50857.996842 \nL 180.160179 50857.996842 \nL 180.160179 70.085577 \nL 177.573063 70.085577 \nz\n\" clip-path=\"url(#pcf68c74c02)\" style=\"fill: #0071bc; stroke: #0071bc; stroke-linejoin: miter\"/>\n   </g>\n   <g id=\"patch_48\">\n    <path d=\"M 180.160179 50857.996842 \nL 182.747294 50857.996842 \nL 182.747294 69.140065 \nL 180.160179 69.140065 \nz\n\" clip-path=\"url(#pcf68c74c02)\" style=\"fill: #0071bc; stroke: #0071bc; stroke-linejoin: miter\"/>\n   </g>\n   <g id=\"patch_49\">\n    <path d=\"M 182.747294 50857.996842 \nL 185.33441 50857.996842 \nL 185.33441 70.73927 \nL 182.747294 70.73927 \nz\n\" clip-path=\"url(#pcf68c74c02)\" style=\"fill: #0071bc; stroke: #0071bc; stroke-linejoin: miter\"/>\n   </g>\n   <g id=\"patch_50\">\n    <path d=\"M 185.33441 50857.996842 \nL 187.921526 50857.996842 \nL 187.921526 69.346696 \nL 185.33441 69.346696 \nz\n\" clip-path=\"url(#pcf68c74c02)\" style=\"fill: #0071bc; stroke: #0071bc; stroke-linejoin: miter\"/>\n   </g>\n   <g id=\"patch_51\">\n    <path d=\"M 187.921526 50857.996842 \nL 190.508641 50857.996842 \nL 190.508641 71.757726 \nL 187.921526 71.757726 \nz\n\" clip-path=\"url(#pcf68c74c02)\" style=\"fill: #0071bc; stroke: #0071bc; stroke-linejoin: miter\"/>\n   </g>\n   <g id=\"patch_52\">\n    <path d=\"M 190.508641 50857.996842 \nL 193.095757 50857.996842 \nL 193.095757 72.107962 \nL 190.508641 72.107962 \nz\n\" clip-path=\"url(#pcf68c74c02)\" style=\"fill: #0071bc; stroke: #0071bc; stroke-linejoin: miter\"/>\n   </g>\n   <g id=\"patch_53\">\n    <path d=\"M 193.095757 50857.996842 \nL 195.682873 50857.996842 \nL 195.682873 75.677438 \nL 193.095757 75.677438 \nz\n\" clip-path=\"url(#pcf68c74c02)\" style=\"fill: #0071bc; stroke: #0071bc; stroke-linejoin: miter\"/>\n   </g>\n   <g id=\"patch_54\">\n    <path d=\"M 195.682873 50857.996842 \nL 198.269988 50857.996842 \nL 198.269988 74.465791 \nL 195.682873 74.465791 \nz\n\" clip-path=\"url(#pcf68c74c02)\" style=\"fill: #0071bc; stroke: #0071bc; stroke-linejoin: miter\"/>\n   </g>\n   <g id=\"patch_55\">\n    <path d=\"M 198.269988 50857.996842 \nL 200.857104 50857.996842 \nL 200.857104 72.947531 \nL 198.269988 72.947531 \nz\n\" clip-path=\"url(#pcf68c74c02)\" style=\"fill: #0071bc; stroke: #0071bc; stroke-linejoin: miter\"/>\n   </g>\n   <g id=\"patch_56\">\n    <path d=\"M 200.857104 50857.996842 \nL 203.44422 50857.996842 \nL 203.44422 70.409996 \nL 200.857104 70.409996 \nz\n\" clip-path=\"url(#pcf68c74c02)\" style=\"fill: #0071bc; stroke: #0071bc; stroke-linejoin: miter\"/>\n   </g>\n   <g id=\"patch_57\">\n    <path d=\"M 203.44422 50857.996842 \nL 206.031335 50857.996842 \nL 206.031335 70.085577 \nL 203.44422 70.085577 \nz\n\" clip-path=\"url(#pcf68c74c02)\" style=\"fill: #0071bc; stroke: #0071bc; stroke-linejoin: miter\"/>\n   </g>\n   <g id=\"patch_58\">\n    <path d=\"M 206.031335 50857.996842 \nL 208.618451 50857.996842 \nL 208.618451 72.344588 \nL 206.031335 72.344588 \nz\n\" clip-path=\"url(#pcf68c74c02)\" style=\"fill: #0071bc; stroke: #0071bc; stroke-linejoin: miter\"/>\n   </g>\n   <g id=\"patch_59\">\n    <path d=\"M 208.618451 50857.996842 \nL 211.205567 50857.996842 \nL 211.205567 68.431763 \nL 208.618451 68.431763 \nz\n\" clip-path=\"url(#pcf68c74c02)\" style=\"fill: #0071bc; stroke: #0071bc; stroke-linejoin: miter\"/>\n   </g>\n   <g id=\"patch_60\">\n    <path d=\"M 211.205567 50857.996842 \nL 213.792683 50857.996842 \nL 213.792683 70.085577 \nL 211.205567 70.085577 \nz\n\" clip-path=\"url(#pcf68c74c02)\" style=\"fill: #0071bc; stroke: #0071bc; stroke-linejoin: miter\"/>\n   </g>\n   <g id=\"patch_61\">\n    <path d=\"M 213.792683 50857.996842 \nL 216.379798 50857.996842 \nL 216.379798 70.519207 \nL 213.792683 70.519207 \nz\n\" clip-path=\"url(#pcf68c74c02)\" style=\"fill: #0071bc; stroke: #0071bc; stroke-linejoin: miter\"/>\n   </g>\n   <g id=\"patch_62\">\n    <path d=\"M 216.379798 50857.996842 \nL 218.966914 50857.996842 \nL 218.966914 69.765871 \nL 216.379798 69.765871 \nz\n\" clip-path=\"url(#pcf68c74c02)\" style=\"fill: #0071bc; stroke: #0071bc; stroke-linejoin: miter\"/>\n   </g>\n   <g id=\"patch_63\">\n    <path d=\"M 218.966914 50857.996842 \nL 221.55403 50857.996842 \nL 221.55403 71.412976 \nL 218.966914 71.412976 \nz\n\" clip-path=\"url(#pcf68c74c02)\" style=\"fill: #0071bc; stroke: #0071bc; stroke-linejoin: miter\"/>\n   </g>\n   <g id=\"patch_64\">\n    <path d=\"M 221.55403 50857.996842 \nL 224.141145 50857.996842 \nL 224.141145 72.463862 \nL 221.55403 72.463862 \nz\n\" clip-path=\"url(#pcf68c74c02)\" style=\"fill: #0071bc; stroke: #0071bc; stroke-linejoin: miter\"/>\n   </g>\n   <g id=\"patch_65\">\n    <path d=\"M 224.141145 50857.996842 \nL 226.728261 50857.996842 \nL 226.728261 72.704368 \nL 224.141145 72.704368 \nz\n\" clip-path=\"url(#pcf68c74c02)\" style=\"fill: #0071bc; stroke: #0071bc; stroke-linejoin: miter\"/>\n   </g>\n   <g id=\"patch_66\">\n    <path d=\"M 226.728261 50857.996842 \nL 229.315377 50857.996842 \nL 229.315377 74.59717 \nL 226.728261 74.59717 \nz\n\" clip-path=\"url(#pcf68c74c02)\" style=\"fill: #0071bc; stroke: #0071bc; stroke-linejoin: miter\"/>\n   </g>\n   <g id=\"patch_67\">\n    <path d=\"M 229.315377 50857.996842 \nL 231.902492 50857.996842 \nL 231.902492 78.954649 \nL 229.315377 78.954649 \nz\n\" clip-path=\"url(#pcf68c74c02)\" style=\"fill: #0071bc; stroke: #0071bc; stroke-linejoin: miter\"/>\n   </g>\n   <g id=\"patch_68\">\n    <path d=\"M 231.902492 50857.996842 \nL 234.489608 50857.996842 \nL 234.489608 77.255093 \nL 231.902492 77.255093 \nz\n\" clip-path=\"url(#pcf68c74c02)\" style=\"fill: #0071bc; stroke: #0071bc; stroke-linejoin: miter\"/>\n   </g>\n   <g id=\"patch_69\">\n    <path d=\"M 234.489608 50857.996842 \nL 237.076724 50857.996842 \nL 237.076724 87.95779 \nL 234.489608 87.95779 \nz\n\" clip-path=\"url(#pcf68c74c02)\" style=\"fill: #0071bc; stroke: #0071bc; stroke-linejoin: miter\"/>\n   </g>\n   <g id=\"patch_70\">\n    <path d=\"M 237.076724 50857.996842 \nL 239.663839 50857.996842 \nL 239.663839 83.19286 \nL 237.076724 83.19286 \nz\n\" clip-path=\"url(#pcf68c74c02)\" style=\"fill: #0071bc; stroke: #0071bc; stroke-linejoin: miter\"/>\n   </g>\n   <g id=\"patch_71\">\n    <path d=\"M 239.663839 50857.996842 \nL 242.250955 50857.996842 \nL 242.250955 87.717285 \nL 239.663839 87.717285 \nz\n\" clip-path=\"url(#pcf68c74c02)\" style=\"fill: #0071bc; stroke: #0071bc; stroke-linejoin: miter\"/>\n   </g>\n   <g id=\"patch_72\">\n    <path d=\"M 242.250955 50857.996842 \nL 244.838071 50857.996842 \nL 244.838071 94.69531 \nL 242.250955 94.69531 \nz\n\" clip-path=\"url(#pcf68c74c02)\" style=\"fill: #0071bc; stroke: #0071bc; stroke-linejoin: miter\"/>\n   </g>\n   <g id=\"patch_73\">\n    <path d=\"M 244.838071 50857.996842 \nL 247.425186 50857.996842 \nL 247.425186 97.493492 \nL 244.838071 97.493492 \nz\n\" clip-path=\"url(#pcf68c74c02)\" style=\"fill: #0071bc; stroke: #0071bc; stroke-linejoin: miter\"/>\n   </g>\n   <g id=\"patch_74\">\n    <path d=\"M 247.425186 50857.996842 \nL 250.012302 50857.996842 \nL 250.012302 97.493492 \nL 247.425186 97.493492 \nz\n\" clip-path=\"url(#pcf68c74c02)\" style=\"fill: #0071bc; stroke: #0071bc; stroke-linejoin: miter\"/>\n   </g>\n   <g id=\"patch_75\">\n    <path d=\"M 250.012302 50857.996842 \nL 252.599418 50857.996842 \nL 252.599418 104.454823 \nL 250.012302 104.454823 \nz\n\" clip-path=\"url(#pcf68c74c02)\" style=\"fill: #0071bc; stroke: #0071bc; stroke-linejoin: miter\"/>\n   </g>\n   <g id=\"patch_76\">\n    <path d=\"M 252.599418 50857.996842 \nL 255.186534 50857.996842 \nL 255.186534 106.046314 \nL 252.599418 106.046314 \nz\n\" clip-path=\"url(#pcf68c74c02)\" style=\"fill: #0071bc; stroke: #0071bc; stroke-linejoin: miter\"/>\n   </g>\n   <g id=\"patch_77\">\n    <path d=\"M 255.186534 50857.996842 \nL 257.773649 50857.996842 \nL 257.773649 116.389231 \nL 255.186534 116.389231 \nz\n\" clip-path=\"url(#pcf68c74c02)\" style=\"fill: #0071bc; stroke: #0071bc; stroke-linejoin: miter\"/>\n   </g>\n   <g id=\"patch_78\">\n    <path d=\"M 257.773649 50857.996842 \nL 260.360765 50857.996842 \nL 260.360765 117.287561 \nL 257.773649 117.287561 \nz\n\" clip-path=\"url(#pcf68c74c02)\" style=\"fill: #0071bc; stroke: #0071bc; stroke-linejoin: miter\"/>\n   </g>\n   <g id=\"patch_79\">\n    <path d=\"M 260.360765 50857.996842 \nL 262.947881 50857.996842 \nL 262.947881 132.540984 \nL 260.360765 132.540984 \nz\n\" clip-path=\"url(#pcf68c74c02)\" style=\"fill: #0071bc; stroke: #0071bc; stroke-linejoin: miter\"/>\n   </g>\n   <g id=\"patch_80\">\n    <path d=\"M 262.947881 50857.996842 \nL 265.534996 50857.996842 \nL 265.534996 120.226058 \nL 262.947881 120.226058 \nz\n\" clip-path=\"url(#pcf68c74c02)\" style=\"fill: #0071bc; stroke: #0071bc; stroke-linejoin: miter\"/>\n   </g>\n   <g id=\"patch_81\">\n    <path d=\"M 265.534996 50857.996842 \nL 268.122112 50857.996842 \nL 268.122112 127.630479 \nL 265.534996 127.630479 \nz\n\" clip-path=\"url(#pcf68c74c02)\" style=\"fill: #0071bc; stroke: #0071bc; stroke-linejoin: miter\"/>\n   </g>\n   <g id=\"patch_82\">\n    <path d=\"M 268.122112 50857.996842 \nL 270.709228 50857.996842 \nL 270.709228 134.45576 \nL 268.122112 134.45576 \nz\n\" clip-path=\"url(#pcf68c74c02)\" style=\"fill: #0071bc; stroke: #0071bc; stroke-linejoin: miter\"/>\n   </g>\n   <g id=\"patch_83\">\n    <path d=\"M 270.709228 50857.996842 \nL 273.296343 50857.996842 \nL 273.296343 124.876134 \nL 270.709228 124.876134 \nz\n\" clip-path=\"url(#pcf68c74c02)\" style=\"fill: #0071bc; stroke: #0071bc; stroke-linejoin: miter\"/>\n   </g>\n   <g id=\"patch_84\">\n    <path d=\"M 273.296343 50857.996842 \nL 275.883459 50857.996842 \nL 275.883459 132.540984 \nL 273.296343 132.540984 \nz\n\" clip-path=\"url(#pcf68c74c02)\" style=\"fill: #0071bc; stroke: #0071bc; stroke-linejoin: miter\"/>\n   </g>\n   <g id=\"patch_85\">\n    <path d=\"M 275.883459 50857.996842 \nL 278.470575 50857.996842 \nL 278.470575 138.871726 \nL 275.883459 138.871726 \nz\n\" clip-path=\"url(#pcf68c74c02)\" style=\"fill: #0071bc; stroke: #0071bc; stroke-linejoin: miter\"/>\n   </g>\n   <g id=\"patch_86\">\n    <path d=\"M 278.470575 50857.996842 \nL 281.05769 50857.996842 \nL 281.05769 147.794407 \nL 278.470575 147.794407 \nz\n\" clip-path=\"url(#pcf68c74c02)\" style=\"fill: #0071bc; stroke: #0071bc; stroke-linejoin: miter\"/>\n   </g>\n   <g id=\"patch_87\">\n    <path d=\"M 281.05769 50857.996842 \nL 283.644806 50857.996842 \nL 283.644806 151.806581 \nL 281.05769 151.806581 \nz\n\" clip-path=\"url(#pcf68c74c02)\" style=\"fill: #0071bc; stroke: #0071bc; stroke-linejoin: miter\"/>\n   </g>\n   <g id=\"patch_88\">\n    <path d=\"M 283.644806 50857.996842 \nL 286.231922 50857.996842 \nL 286.231922 163.047829 \nL 283.644806 163.047829 \nz\n\" clip-path=\"url(#pcf68c74c02)\" style=\"fill: #0071bc; stroke: #0071bc; stroke-linejoin: miter\"/>\n   </g>\n   <g id=\"patch_89\">\n    <path d=\"M 286.231922 50857.996842 \nL 288.819037 50857.996842 \nL 288.819037 163.047829 \nL 286.231922 163.047829 \nz\n\" clip-path=\"url(#pcf68c74c02)\" style=\"fill: #0071bc; stroke: #0071bc; stroke-linejoin: miter\"/>\n   </g>\n   <g id=\"patch_90\">\n    <path d=\"M 288.819037 50857.996842 \nL 291.406153 50857.996842 \nL 291.406153 50857.996842 \nL 288.819037 50857.996842 \nz\n\" clip-path=\"url(#pcf68c74c02)\" style=\"fill: #0071bc; stroke: #0071bc; stroke-linejoin: miter\"/>\n   </g>\n   <g id=\"patch_91\">\n    <path d=\"M 291.406153 50857.996842 \nL 293.993269 50857.996842 \nL 293.993269 171.970509 \nL 291.406153 171.970509 \nz\n\" clip-path=\"url(#pcf68c74c02)\" style=\"fill: #0071bc; stroke: #0071bc; stroke-linejoin: miter\"/>\n   </g>\n   <g id=\"patch_92\">\n    <path d=\"M 293.993269 50857.996842 \nL 296.580385 50857.996842 \nL 296.580385 187.223932 \nL 293.993269 187.223932 \nz\n\" clip-path=\"url(#pcf68c74c02)\" style=\"fill: #0071bc; stroke: #0071bc; stroke-linejoin: miter\"/>\n   </g>\n   <g id=\"patch_93\">\n    <path d=\"M 296.580385 50857.996842 \nL 299.1675 50857.996842 \nL 299.1675 187.223932 \nL 296.580385 187.223932 \nz\n\" clip-path=\"url(#pcf68c74c02)\" style=\"fill: #0071bc; stroke: #0071bc; stroke-linejoin: miter\"/>\n   </g>\n   <g id=\"patch_94\">\n    <path d=\"M 299.1675 50857.996842 \nL 301.754616 50857.996842 \nL 301.754616 156.717087 \nL 299.1675 156.717087 \nz\n\" clip-path=\"url(#pcf68c74c02)\" style=\"fill: #0071bc; stroke: #0071bc; stroke-linejoin: miter\"/>\n   </g>\n   <g id=\"patch_95\">\n    <path d=\"M 301.754616 50857.996842 \nL 304.341732 50857.996842 \nL 304.341732 171.970509 \nL 301.754616 171.970509 \nz\n\" clip-path=\"url(#pcf68c74c02)\" style=\"fill: #0071bc; stroke: #0071bc; stroke-linejoin: miter\"/>\n   </g>\n   <g id=\"patch_96\">\n    <path d=\"M 304.341732 50857.996842 \nL 306.928847 50857.996842 \nL 306.928847 50857.996842 \nL 304.341732 50857.996842 \nz\n\" clip-path=\"url(#pcf68c74c02)\" style=\"fill: #0071bc; stroke: #0071bc; stroke-linejoin: miter\"/>\n   </g>\n   <g id=\"patch_97\">\n    <path d=\"M 306.928847 50857.996842 \nL 309.515963 50857.996842 \nL 309.515963 50857.996842 \nL 306.928847 50857.996842 \nz\n\" clip-path=\"url(#pcf68c74c02)\" style=\"fill: #0071bc; stroke: #0071bc; stroke-linejoin: miter\"/>\n   </g>\n   <g id=\"patch_98\">\n    <path d=\"M 309.515963 50857.996842 \nL 312.103079 50857.996842 \nL 312.103079 50857.996842 \nL 309.515963 50857.996842 \nz\n\" clip-path=\"url(#pcf68c74c02)\" style=\"fill: #0071bc; stroke: #0071bc; stroke-linejoin: miter\"/>\n   </g>\n   <g id=\"patch_99\">\n    <path d=\"M 312.103079 50857.996842 \nL 314.690194 50857.996842 \nL 314.690194 50857.996842 \nL 312.103079 50857.996842 \nz\n\" clip-path=\"url(#pcf68c74c02)\" style=\"fill: #0071bc; stroke: #0071bc; stroke-linejoin: miter\"/>\n   </g>\n   <g id=\"patch_100\">\n    <path d=\"M 314.690194 50857.996842 \nL 317.27731 50857.996842 \nL 317.27731 50857.996842 \nL 314.690194 50857.996842 \nz\n\" clip-path=\"url(#pcf68c74c02)\" style=\"fill: #0071bc; stroke: #0071bc; stroke-linejoin: miter\"/>\n   </g>\n   <g id=\"patch_101\">\n    <path d=\"M 317.27731 50857.996842 \nL 319.864426 50857.996842 \nL 319.864426 50857.996842 \nL 317.27731 50857.996842 \nz\n\" clip-path=\"url(#pcf68c74c02)\" style=\"fill: #0071bc; stroke: #0071bc; stroke-linejoin: miter\"/>\n   </g>\n   <g id=\"matplotlib.axis_1\">\n    <g id=\"xtick_1\">\n     <g id=\"line2d_1\">\n      <defs>\n       <path id=\"mc000ad441c\" d=\"M 0 0 \nL 0 3.5 \n\" style=\"stroke: #000000; stroke-width: 0.8\"/>\n      </defs>\n      <g>\n       <use xlink:href=\"#mc000ad441c\" x=\"92.198245\" y=\"194.98975\" style=\"stroke: #000000; stroke-width: 0.8\"/>\n      </g>\n     </g>\n     <g id=\"text_1\">\n      <!-- $\\mathdefault{10^{-9}}$ -->\n      <g transform=\"translate(78.098245 211.107875) scale(0.12 -0.12)\">\n       <defs>\n        <path id=\"DejaVuSans-31\" d=\"M 794 531 \nL 1825 531 \nL 1825 4091 \nL 703 3866 \nL 703 4441 \nL 1819 4666 \nL 2450 4666 \nL 2450 531 \nL 3481 531 \nL 3481 0 \nL 794 0 \nL 794 531 \nz\n\" transform=\"scale(0.015625)\"/>\n        <path id=\"DejaVuSans-30\" d=\"M 2034 4250 \nQ 1547 4250 1301 3770 \nQ 1056 3291 1056 2328 \nQ 1056 1369 1301 889 \nQ 1547 409 2034 409 \nQ 2525 409 2770 889 \nQ 3016 1369 3016 2328 \nQ 3016 3291 2770 3770 \nQ 2525 4250 2034 4250 \nz\nM 2034 4750 \nQ 2819 4750 3233 4129 \nQ 3647 3509 3647 2328 \nQ 3647 1150 3233 529 \nQ 2819 -91 2034 -91 \nQ 1250 -91 836 529 \nQ 422 1150 422 2328 \nQ 422 3509 836 4129 \nQ 1250 4750 2034 4750 \nz\n\" transform=\"scale(0.015625)\"/>\n        <path id=\"DejaVuSans-2212\" d=\"M 678 2272 \nL 4684 2272 \nL 4684 1741 \nL 678 1741 \nL 678 2272 \nz\n\" transform=\"scale(0.015625)\"/>\n        <path id=\"DejaVuSans-39\" d=\"M 703 97 \nL 703 672 \nQ 941 559 1184 500 \nQ 1428 441 1663 441 \nQ 2288 441 2617 861 \nQ 2947 1281 2994 2138 \nQ 2813 1869 2534 1725 \nQ 2256 1581 1919 1581 \nQ 1219 1581 811 2004 \nQ 403 2428 403 3163 \nQ 403 3881 828 4315 \nQ 1253 4750 1959 4750 \nQ 2769 4750 3195 4129 \nQ 3622 3509 3622 2328 \nQ 3622 1225 3098 567 \nQ 2575 -91 1691 -91 \nQ 1453 -91 1209 -44 \nQ 966 3 703 97 \nz\nM 1959 2075 \nQ 2384 2075 2632 2365 \nQ 2881 2656 2881 3163 \nQ 2881 3666 2632 3958 \nQ 2384 4250 1959 4250 \nQ 1534 4250 1286 3958 \nQ 1038 3666 1038 3163 \nQ 1038 2656 1286 2365 \nQ 1534 2075 1959 2075 \nz\n\" transform=\"scale(0.015625)\"/>\n       </defs>\n       <use xlink:href=\"#DejaVuSans-31\" transform=\"translate(0 0.765625)\"/>\n       <use xlink:href=\"#DejaVuSans-30\" transform=\"translate(63.623047 0.765625)\"/>\n       <use xlink:href=\"#DejaVuSans-2212\" transform=\"translate(128.203125 39.046875) scale(0.7)\"/>\n       <use xlink:href=\"#DejaVuSans-39\" transform=\"translate(186.855469 39.046875) scale(0.7)\"/>\n      </g>\n     </g>\n    </g>\n    <g id=\"xtick_2\">\n     <g id=\"line2d_2\">\n      <g>\n       <use xlink:href=\"#mc000ad441c\" x=\"149.11479\" y=\"194.98975\" style=\"stroke: #000000; stroke-width: 0.8\"/>\n      </g>\n     </g>\n     <g id=\"text_2\">\n      <!-- $\\mathdefault{10^{-7}}$ -->\n      <g transform=\"translate(135.01479 211.107875) scale(0.12 -0.12)\">\n       <defs>\n        <path id=\"DejaVuSans-37\" d=\"M 525 4666 \nL 3525 4666 \nL 3525 4397 \nL 1831 0 \nL 1172 0 \nL 2766 4134 \nL 525 4134 \nL 525 4666 \nz\n\" transform=\"scale(0.015625)\"/>\n       </defs>\n       <use xlink:href=\"#DejaVuSans-31\" transform=\"translate(0 0.684375)\"/>\n       <use xlink:href=\"#DejaVuSans-30\" transform=\"translate(63.623047 0.684375)\"/>\n       <use xlink:href=\"#DejaVuSans-2212\" transform=\"translate(128.203125 38.965625) scale(0.7)\"/>\n       <use xlink:href=\"#DejaVuSans-37\" transform=\"translate(186.855469 38.965625) scale(0.7)\"/>\n      </g>\n     </g>\n    </g>\n    <g id=\"xtick_3\">\n     <g id=\"line2d_3\">\n      <g>\n       <use xlink:href=\"#mc000ad441c\" x=\"206.031335\" y=\"194.98975\" style=\"stroke: #000000; stroke-width: 0.8\"/>\n      </g>\n     </g>\n     <g id=\"text_3\">\n      <!-- $\\mathdefault{10^{-5}}$ -->\n      <g transform=\"translate(191.931335 211.107875) scale(0.12 -0.12)\">\n       <defs>\n        <path id=\"DejaVuSans-35\" d=\"M 691 4666 \nL 3169 4666 \nL 3169 4134 \nL 1269 4134 \nL 1269 2991 \nQ 1406 3038 1543 3061 \nQ 1681 3084 1819 3084 \nQ 2600 3084 3056 2656 \nQ 3513 2228 3513 1497 \nQ 3513 744 3044 326 \nQ 2575 -91 1722 -91 \nQ 1428 -91 1123 -41 \nQ 819 9 494 109 \nL 494 744 \nQ 775 591 1075 516 \nQ 1375 441 1709 441 \nQ 2250 441 2565 725 \nQ 2881 1009 2881 1497 \nQ 2881 1984 2565 2268 \nQ 2250 2553 1709 2553 \nQ 1456 2553 1204 2497 \nQ 953 2441 691 2322 \nL 691 4666 \nz\n\" transform=\"scale(0.015625)\"/>\n       </defs>\n       <use xlink:href=\"#DejaVuSans-31\" transform=\"translate(0 0.684375)\"/>\n       <use xlink:href=\"#DejaVuSans-30\" transform=\"translate(63.623047 0.684375)\"/>\n       <use xlink:href=\"#DejaVuSans-2212\" transform=\"translate(128.203125 38.965625) scale(0.7)\"/>\n       <use xlink:href=\"#DejaVuSans-35\" transform=\"translate(186.855469 38.965625) scale(0.7)\"/>\n      </g>\n     </g>\n    </g>\n    <g id=\"xtick_4\">\n     <g id=\"line2d_4\">\n      <g>\n       <use xlink:href=\"#mc000ad441c\" x=\"262.947881\" y=\"194.98975\" style=\"stroke: #000000; stroke-width: 0.8\"/>\n      </g>\n     </g>\n     <g id=\"text_4\">\n      <!-- $\\mathdefault{10^{-3}}$ -->\n      <g transform=\"translate(248.847881 211.107875) scale(0.12 -0.12)\">\n       <defs>\n        <path id=\"DejaVuSans-33\" d=\"M 2597 2516 \nQ 3050 2419 3304 2112 \nQ 3559 1806 3559 1356 \nQ 3559 666 3084 287 \nQ 2609 -91 1734 -91 \nQ 1441 -91 1130 -33 \nQ 819 25 488 141 \nL 488 750 \nQ 750 597 1062 519 \nQ 1375 441 1716 441 \nQ 2309 441 2620 675 \nQ 2931 909 2931 1356 \nQ 2931 1769 2642 2001 \nQ 2353 2234 1838 2234 \nL 1294 2234 \nL 1294 2753 \nL 1863 2753 \nQ 2328 2753 2575 2939 \nQ 2822 3125 2822 3475 \nQ 2822 3834 2567 4026 \nQ 2313 4219 1838 4219 \nQ 1578 4219 1281 4162 \nQ 984 4106 628 3988 \nL 628 4550 \nQ 988 4650 1302 4700 \nQ 1616 4750 1894 4750 \nQ 2613 4750 3031 4423 \nQ 3450 4097 3450 3541 \nQ 3450 3153 3228 2886 \nQ 3006 2619 2597 2516 \nz\n\" transform=\"scale(0.015625)\"/>\n       </defs>\n       <use xlink:href=\"#DejaVuSans-31\" transform=\"translate(0 0.765625)\"/>\n       <use xlink:href=\"#DejaVuSans-30\" transform=\"translate(63.623047 0.765625)\"/>\n       <use xlink:href=\"#DejaVuSans-2212\" transform=\"translate(128.203125 39.046875) scale(0.7)\"/>\n       <use xlink:href=\"#DejaVuSans-33\" transform=\"translate(186.855469 39.046875) scale(0.7)\"/>\n      </g>\n     </g>\n    </g>\n    <g id=\"xtick_5\">\n     <g id=\"line2d_5\">\n      <g>\n       <use xlink:href=\"#mc000ad441c\" x=\"319.864426\" y=\"194.98975\" style=\"stroke: #000000; stroke-width: 0.8\"/>\n      </g>\n     </g>\n     <g id=\"text_5\">\n      <!-- $\\mathdefault{10^{-1}}$ -->\n      <g transform=\"translate(305.764426 211.107875) scale(0.12 -0.12)\">\n       <use xlink:href=\"#DejaVuSans-31\" transform=\"translate(0 0.684375)\"/>\n       <use xlink:href=\"#DejaVuSans-30\" transform=\"translate(63.623047 0.684375)\"/>\n       <use xlink:href=\"#DejaVuSans-2212\" transform=\"translate(128.203125 38.965625) scale(0.7)\"/>\n       <use xlink:href=\"#DejaVuSans-31\" transform=\"translate(186.855469 38.965625) scale(0.7)\"/>\n      </g>\n     </g>\n    </g>\n    <g id=\"text_6\">\n     <!-- Probability -->\n     <g transform=\"translate(160.087512 226.721625) scale(0.12 -0.12)\">\n      <defs>\n       <path id=\"DejaVuSans-50\" d=\"M 1259 4147 \nL 1259 2394 \nL 2053 2394 \nQ 2494 2394 2734 2622 \nQ 2975 2850 2975 3272 \nQ 2975 3691 2734 3919 \nQ 2494 4147 2053 4147 \nL 1259 4147 \nz\nM 628 4666 \nL 2053 4666 \nQ 2838 4666 3239 4311 \nQ 3641 3956 3641 3272 \nQ 3641 2581 3239 2228 \nQ 2838 1875 2053 1875 \nL 1259 1875 \nL 1259 0 \nL 628 0 \nL 628 4666 \nz\n\" transform=\"scale(0.015625)\"/>\n       <path id=\"DejaVuSans-72\" d=\"M 2631 2963 \nQ 2534 3019 2420 3045 \nQ 2306 3072 2169 3072 \nQ 1681 3072 1420 2755 \nQ 1159 2438 1159 1844 \nL 1159 0 \nL 581 0 \nL 581 3500 \nL 1159 3500 \nL 1159 2956 \nQ 1341 3275 1631 3429 \nQ 1922 3584 2338 3584 \nQ 2397 3584 2469 3576 \nQ 2541 3569 2628 3553 \nL 2631 2963 \nz\n\" transform=\"scale(0.015625)\"/>\n       <path id=\"DejaVuSans-6f\" d=\"M 1959 3097 \nQ 1497 3097 1228 2736 \nQ 959 2375 959 1747 \nQ 959 1119 1226 758 \nQ 1494 397 1959 397 \nQ 2419 397 2687 759 \nQ 2956 1122 2956 1747 \nQ 2956 2369 2687 2733 \nQ 2419 3097 1959 3097 \nz\nM 1959 3584 \nQ 2709 3584 3137 3096 \nQ 3566 2609 3566 1747 \nQ 3566 888 3137 398 \nQ 2709 -91 1959 -91 \nQ 1206 -91 779 398 \nQ 353 888 353 1747 \nQ 353 2609 779 3096 \nQ 1206 3584 1959 3584 \nz\n\" transform=\"scale(0.015625)\"/>\n       <path id=\"DejaVuSans-62\" d=\"M 3116 1747 \nQ 3116 2381 2855 2742 \nQ 2594 3103 2138 3103 \nQ 1681 3103 1420 2742 \nQ 1159 2381 1159 1747 \nQ 1159 1113 1420 752 \nQ 1681 391 2138 391 \nQ 2594 391 2855 752 \nQ 3116 1113 3116 1747 \nz\nM 1159 2969 \nQ 1341 3281 1617 3432 \nQ 1894 3584 2278 3584 \nQ 2916 3584 3314 3078 \nQ 3713 2572 3713 1747 \nQ 3713 922 3314 415 \nQ 2916 -91 2278 -91 \nQ 1894 -91 1617 61 \nQ 1341 213 1159 525 \nL 1159 0 \nL 581 0 \nL 581 4863 \nL 1159 4863 \nL 1159 2969 \nz\n\" transform=\"scale(0.015625)\"/>\n       <path id=\"DejaVuSans-61\" d=\"M 2194 1759 \nQ 1497 1759 1228 1600 \nQ 959 1441 959 1056 \nQ 959 750 1161 570 \nQ 1363 391 1709 391 \nQ 2188 391 2477 730 \nQ 2766 1069 2766 1631 \nL 2766 1759 \nL 2194 1759 \nz\nM 3341 1997 \nL 3341 0 \nL 2766 0 \nL 2766 531 \nQ 2569 213 2275 61 \nQ 1981 -91 1556 -91 \nQ 1019 -91 701 211 \nQ 384 513 384 1019 \nQ 384 1609 779 1909 \nQ 1175 2209 1959 2209 \nL 2766 2209 \nL 2766 2266 \nQ 2766 2663 2505 2880 \nQ 2244 3097 1772 3097 \nQ 1472 3097 1187 3025 \nQ 903 2953 641 2809 \nL 641 3341 \nQ 956 3463 1253 3523 \nQ 1550 3584 1831 3584 \nQ 2591 3584 2966 3190 \nQ 3341 2797 3341 1997 \nz\n\" transform=\"scale(0.015625)\"/>\n       <path id=\"DejaVuSans-69\" d=\"M 603 3500 \nL 1178 3500 \nL 1178 0 \nL 603 0 \nL 603 3500 \nz\nM 603 4863 \nL 1178 4863 \nL 1178 4134 \nL 603 4134 \nL 603 4863 \nz\n\" transform=\"scale(0.015625)\"/>\n       <path id=\"DejaVuSans-6c\" d=\"M 603 4863 \nL 1178 4863 \nL 1178 0 \nL 603 0 \nL 603 4863 \nz\n\" transform=\"scale(0.015625)\"/>\n       <path id=\"DejaVuSans-74\" d=\"M 1172 4494 \nL 1172 3500 \nL 2356 3500 \nL 2356 3053 \nL 1172 3053 \nL 1172 1153 \nQ 1172 725 1289 603 \nQ 1406 481 1766 481 \nL 2356 481 \nL 2356 0 \nL 1766 0 \nQ 1100 0 847 248 \nQ 594 497 594 1153 \nL 594 3053 \nL 172 3053 \nL 172 3500 \nL 594 3500 \nL 594 4494 \nL 1172 4494 \nz\n\" transform=\"scale(0.015625)\"/>\n       <path id=\"DejaVuSans-79\" d=\"M 2059 -325 \nQ 1816 -950 1584 -1140 \nQ 1353 -1331 966 -1331 \nL 506 -1331 \nL 506 -850 \nL 844 -850 \nQ 1081 -850 1212 -737 \nQ 1344 -625 1503 -206 \nL 1606 56 \nL 191 3500 \nL 800 3500 \nL 1894 763 \nL 2988 3500 \nL 3597 3500 \nL 2059 -325 \nz\n\" transform=\"scale(0.015625)\"/>\n      </defs>\n      <use xlink:href=\"#DejaVuSans-50\"/>\n      <use xlink:href=\"#DejaVuSans-72\" x=\"58.552734\"/>\n      <use xlink:href=\"#DejaVuSans-6f\" x=\"97.416016\"/>\n      <use xlink:href=\"#DejaVuSans-62\" x=\"158.597656\"/>\n      <use xlink:href=\"#DejaVuSans-61\" x=\"222.074219\"/>\n      <use xlink:href=\"#DejaVuSans-62\" x=\"283.353516\"/>\n      <use xlink:href=\"#DejaVuSans-69\" x=\"346.830078\"/>\n      <use xlink:href=\"#DejaVuSans-6c\" x=\"374.613281\"/>\n      <use xlink:href=\"#DejaVuSans-69\" x=\"402.396484\"/>\n      <use xlink:href=\"#DejaVuSans-74\" x=\"430.179688\"/>\n      <use xlink:href=\"#DejaVuSans-79\" x=\"469.388672\"/>\n     </g>\n    </g>\n   </g>\n   <g id=\"matplotlib.axis_2\">\n    <g id=\"ytick_1\">\n     <g id=\"line2d_6\">\n      <defs>\n       <path id=\"mcb2bb251c3\" d=\"M 0 0 \nL -3.5 0 \n\" style=\"stroke: #000000; stroke-width: 0.8\"/>\n      </defs>\n      <g>\n       <use xlink:href=\"#mcb2bb251c3\" x=\"50.93375\" y=\"187.223932\" style=\"stroke: #000000; stroke-width: 0.8\"/>\n      </g>\n     </g>\n     <g id=\"text_7\">\n      <!-- $\\mathdefault{10^{0}}$ -->\n      <g transform=\"translate(22.81375 191.782994) scale(0.12 -0.12)\">\n       <use xlink:href=\"#DejaVuSans-31\" transform=\"translate(0 0.765625)\"/>\n       <use xlink:href=\"#DejaVuSans-30\" transform=\"translate(63.623047 0.765625)\"/>\n       <use xlink:href=\"#DejaVuSans-30\" transform=\"translate(128.203125 39.046875) scale(0.7)\"/>\n      </g>\n     </g>\n    </g>\n    <g id=\"ytick_2\">\n     <g id=\"line2d_7\">\n      <g>\n       <use xlink:href=\"#mcb2bb251c3\" x=\"50.93375\" y=\"136.553159\" style=\"stroke: #000000; stroke-width: 0.8\"/>\n      </g>\n     </g>\n     <g id=\"text_8\">\n      <!-- $\\mathdefault{10^{1}}$ -->\n      <g transform=\"translate(22.81375 141.112221) scale(0.12 -0.12)\">\n       <use xlink:href=\"#DejaVuSans-31\" transform=\"translate(0 0.684375)\"/>\n       <use xlink:href=\"#DejaVuSans-30\" transform=\"translate(63.623047 0.684375)\"/>\n       <use xlink:href=\"#DejaVuSans-31\" transform=\"translate(128.203125 38.965625) scale(0.7)\"/>\n      </g>\n     </g>\n    </g>\n    <g id=\"ytick_3\">\n     <g id=\"line2d_8\">\n      <g>\n       <use xlink:href=\"#mcb2bb251c3\" x=\"50.93375\" y=\"85.882386\" style=\"stroke: #000000; stroke-width: 0.8\"/>\n      </g>\n     </g>\n     <g id=\"text_9\">\n      <!-- $\\mathdefault{10^{2}}$ -->\n      <g transform=\"translate(22.81375 90.441448) scale(0.12 -0.12)\">\n       <defs>\n        <path id=\"DejaVuSans-32\" d=\"M 1228 531 \nL 3431 531 \nL 3431 0 \nL 469 0 \nL 469 531 \nQ 828 903 1448 1529 \nQ 2069 2156 2228 2338 \nQ 2531 2678 2651 2914 \nQ 2772 3150 2772 3378 \nQ 2772 3750 2511 3984 \nQ 2250 4219 1831 4219 \nQ 1534 4219 1204 4116 \nQ 875 4013 500 3803 \nL 500 4441 \nQ 881 4594 1212 4672 \nQ 1544 4750 1819 4750 \nQ 2544 4750 2975 4387 \nQ 3406 4025 3406 3419 \nQ 3406 3131 3298 2873 \nQ 3191 2616 2906 2266 \nQ 2828 2175 2409 1742 \nQ 1991 1309 1228 531 \nz\n\" transform=\"scale(0.015625)\"/>\n       </defs>\n       <use xlink:href=\"#DejaVuSans-31\" transform=\"translate(0 0.765625)\"/>\n       <use xlink:href=\"#DejaVuSans-30\" transform=\"translate(63.623047 0.765625)\"/>\n       <use xlink:href=\"#DejaVuSans-32\" transform=\"translate(128.203125 39.046875) scale(0.7)\"/>\n      </g>\n     </g>\n    </g>\n    <g id=\"ytick_4\">\n     <g id=\"line2d_9\">\n      <g>\n       <use xlink:href=\"#mcb2bb251c3\" x=\"50.93375\" y=\"35.211613\" style=\"stroke: #000000; stroke-width: 0.8\"/>\n      </g>\n     </g>\n     <g id=\"text_10\">\n      <!-- $\\mathdefault{10^{3}}$ -->\n      <g transform=\"translate(22.81375 39.770676) scale(0.12 -0.12)\">\n       <use xlink:href=\"#DejaVuSans-31\" transform=\"translate(0 0.765625)\"/>\n       <use xlink:href=\"#DejaVuSans-30\" transform=\"translate(63.623047 0.765625)\"/>\n       <use xlink:href=\"#DejaVuSans-33\" transform=\"translate(128.203125 39.046875) scale(0.7)\"/>\n      </g>\n     </g>\n    </g>\n    <g id=\"ytick_5\">\n     <g id=\"line2d_10\">\n      <defs>\n       <path id=\"m01b2037a57\" d=\"M 0 0 \nL -2 0 \n\" style=\"stroke: #000000; stroke-width: 0.6\"/>\n      </defs>\n      <g>\n       <use xlink:href=\"#m01b2037a57\" x=\"50.93375\" y=\"192.134437\" style=\"stroke: #000000; stroke-width: 0.6\"/>\n      </g>\n     </g>\n    </g>\n    <g id=\"ytick_6\">\n     <g id=\"line2d_11\">\n      <g>\n       <use xlink:href=\"#m01b2037a57\" x=\"50.93375\" y=\"189.542499\" style=\"stroke: #000000; stroke-width: 0.6\"/>\n      </g>\n     </g>\n    </g>\n    <g id=\"ytick_7\">\n     <g id=\"line2d_12\">\n      <g>\n       <use xlink:href=\"#m01b2037a57\" x=\"50.93375\" y=\"171.970509\" style=\"stroke: #000000; stroke-width: 0.6\"/>\n      </g>\n     </g>\n    </g>\n    <g id=\"ytick_8\">\n     <g id=\"line2d_13\">\n      <g>\n       <use xlink:href=\"#m01b2037a57\" x=\"50.93375\" y=\"163.047829\" style=\"stroke: #000000; stroke-width: 0.6\"/>\n      </g>\n     </g>\n    </g>\n    <g id=\"ytick_9\">\n     <g id=\"line2d_14\">\n      <g>\n       <use xlink:href=\"#m01b2037a57\" x=\"50.93375\" y=\"156.717087\" style=\"stroke: #000000; stroke-width: 0.6\"/>\n      </g>\n     </g>\n    </g>\n    <g id=\"ytick_10\">\n     <g id=\"line2d_15\">\n      <g>\n       <use xlink:href=\"#m01b2037a57\" x=\"50.93375\" y=\"151.806581\" style=\"stroke: #000000; stroke-width: 0.6\"/>\n      </g>\n     </g>\n    </g>\n    <g id=\"ytick_11\">\n     <g id=\"line2d_16\">\n      <g>\n       <use xlink:href=\"#m01b2037a57\" x=\"50.93375\" y=\"147.794407\" style=\"stroke: #000000; stroke-width: 0.6\"/>\n      </g>\n     </g>\n    </g>\n    <g id=\"ytick_12\">\n     <g id=\"line2d_17\">\n      <g>\n       <use xlink:href=\"#m01b2037a57\" x=\"50.93375\" y=\"144.402161\" style=\"stroke: #000000; stroke-width: 0.6\"/>\n      </g>\n     </g>\n    </g>\n    <g id=\"ytick_13\">\n     <g id=\"line2d_18\">\n      <g>\n       <use xlink:href=\"#m01b2037a57\" x=\"50.93375\" y=\"141.463664\" style=\"stroke: #000000; stroke-width: 0.6\"/>\n      </g>\n     </g>\n    </g>\n    <g id=\"ytick_14\">\n     <g id=\"line2d_19\">\n      <g>\n       <use xlink:href=\"#m01b2037a57\" x=\"50.93375\" y=\"138.871726\" style=\"stroke: #000000; stroke-width: 0.6\"/>\n      </g>\n     </g>\n    </g>\n    <g id=\"ytick_15\">\n     <g id=\"line2d_20\">\n      <g>\n       <use xlink:href=\"#m01b2037a57\" x=\"50.93375\" y=\"121.299736\" style=\"stroke: #000000; stroke-width: 0.6\"/>\n      </g>\n     </g>\n    </g>\n    <g id=\"ytick_16\">\n     <g id=\"line2d_21\">\n      <g>\n       <use xlink:href=\"#m01b2037a57\" x=\"50.93375\" y=\"112.377056\" style=\"stroke: #000000; stroke-width: 0.6\"/>\n      </g>\n     </g>\n    </g>\n    <g id=\"ytick_17\">\n     <g id=\"line2d_22\">\n      <g>\n       <use xlink:href=\"#m01b2037a57\" x=\"50.93375\" y=\"106.046314\" style=\"stroke: #000000; stroke-width: 0.6\"/>\n      </g>\n     </g>\n    </g>\n    <g id=\"ytick_18\">\n     <g id=\"line2d_23\">\n      <g>\n       <use xlink:href=\"#m01b2037a57\" x=\"50.93375\" y=\"101.135809\" style=\"stroke: #000000; stroke-width: 0.6\"/>\n      </g>\n     </g>\n    </g>\n    <g id=\"ytick_19\">\n     <g id=\"line2d_24\">\n      <g>\n       <use xlink:href=\"#m01b2037a57\" x=\"50.93375\" y=\"97.123634\" style=\"stroke: #000000; stroke-width: 0.6\"/>\n      </g>\n     </g>\n    </g>\n    <g id=\"ytick_20\">\n     <g id=\"line2d_25\">\n      <g>\n       <use xlink:href=\"#m01b2037a57\" x=\"50.93375\" y=\"93.731388\" style=\"stroke: #000000; stroke-width: 0.6\"/>\n      </g>\n     </g>\n    </g>\n    <g id=\"ytick_21\">\n     <g id=\"line2d_26\">\n      <g>\n       <use xlink:href=\"#m01b2037a57\" x=\"50.93375\" y=\"90.792891\" style=\"stroke: #000000; stroke-width: 0.6\"/>\n      </g>\n     </g>\n    </g>\n    <g id=\"ytick_22\">\n     <g id=\"line2d_27\">\n      <g>\n       <use xlink:href=\"#m01b2037a57\" x=\"50.93375\" y=\"88.200953\" style=\"stroke: #000000; stroke-width: 0.6\"/>\n      </g>\n     </g>\n    </g>\n    <g id=\"ytick_23\">\n     <g id=\"line2d_28\">\n      <g>\n       <use xlink:href=\"#m01b2037a57\" x=\"50.93375\" y=\"70.628963\" style=\"stroke: #000000; stroke-width: 0.6\"/>\n      </g>\n     </g>\n    </g>\n    <g id=\"ytick_24\">\n     <g id=\"line2d_29\">\n      <g>\n       <use xlink:href=\"#m01b2037a57\" x=\"50.93375\" y=\"61.706283\" style=\"stroke: #000000; stroke-width: 0.6\"/>\n      </g>\n     </g>\n    </g>\n    <g id=\"ytick_25\">\n     <g id=\"line2d_30\">\n      <g>\n       <use xlink:href=\"#m01b2037a57\" x=\"50.93375\" y=\"55.375541\" style=\"stroke: #000000; stroke-width: 0.6\"/>\n      </g>\n     </g>\n    </g>\n    <g id=\"ytick_26\">\n     <g id=\"line2d_31\">\n      <g>\n       <use xlink:href=\"#m01b2037a57\" x=\"50.93375\" y=\"50.465036\" style=\"stroke: #000000; stroke-width: 0.6\"/>\n      </g>\n     </g>\n    </g>\n    <g id=\"ytick_27\">\n     <g id=\"line2d_32\">\n      <g>\n       <use xlink:href=\"#m01b2037a57\" x=\"50.93375\" y=\"46.452861\" style=\"stroke: #000000; stroke-width: 0.6\"/>\n      </g>\n     </g>\n    </g>\n    <g id=\"ytick_28\">\n     <g id=\"line2d_33\">\n      <g>\n       <use xlink:href=\"#m01b2037a57\" x=\"50.93375\" y=\"43.060615\" style=\"stroke: #000000; stroke-width: 0.6\"/>\n      </g>\n     </g>\n    </g>\n    <g id=\"ytick_29\">\n     <g id=\"line2d_34\">\n      <g>\n       <use xlink:href=\"#m01b2037a57\" x=\"50.93375\" y=\"40.122118\" style=\"stroke: #000000; stroke-width: 0.6\"/>\n      </g>\n     </g>\n    </g>\n    <g id=\"ytick_30\">\n     <g id=\"line2d_35\">\n      <g>\n       <use xlink:href=\"#m01b2037a57\" x=\"50.93375\" y=\"37.530181\" style=\"stroke: #000000; stroke-width: 0.6\"/>\n      </g>\n     </g>\n    </g>\n    <g id=\"text_11\">\n     <!-- Count -->\n     <g transform=\"translate(16.318125 127.383875) rotate(-90) scale(0.12 -0.12)\">\n      <defs>\n       <path id=\"DejaVuSans-43\" d=\"M 4122 4306 \nL 4122 3641 \nQ 3803 3938 3442 4084 \nQ 3081 4231 2675 4231 \nQ 1875 4231 1450 3742 \nQ 1025 3253 1025 2328 \nQ 1025 1406 1450 917 \nQ 1875 428 2675 428 \nQ 3081 428 3442 575 \nQ 3803 722 4122 1019 \nL 4122 359 \nQ 3791 134 3420 21 \nQ 3050 -91 2638 -91 \nQ 1578 -91 968 557 \nQ 359 1206 359 2328 \nQ 359 3453 968 4101 \nQ 1578 4750 2638 4750 \nQ 3056 4750 3426 4639 \nQ 3797 4528 4122 4306 \nz\n\" transform=\"scale(0.015625)\"/>\n       <path id=\"DejaVuSans-75\" d=\"M 544 1381 \nL 544 3500 \nL 1119 3500 \nL 1119 1403 \nQ 1119 906 1312 657 \nQ 1506 409 1894 409 \nQ 2359 409 2629 706 \nQ 2900 1003 2900 1516 \nL 2900 3500 \nL 3475 3500 \nL 3475 0 \nL 2900 0 \nL 2900 538 \nQ 2691 219 2414 64 \nQ 2138 -91 1772 -91 \nQ 1169 -91 856 284 \nQ 544 659 544 1381 \nz\nM 1991 3584 \nL 1991 3584 \nz\n\" transform=\"scale(0.015625)\"/>\n       <path id=\"DejaVuSans-6e\" d=\"M 3513 2113 \nL 3513 0 \nL 2938 0 \nL 2938 2094 \nQ 2938 2591 2744 2837 \nQ 2550 3084 2163 3084 \nQ 1697 3084 1428 2787 \nQ 1159 2491 1159 1978 \nL 1159 0 \nL 581 0 \nL 581 3500 \nL 1159 3500 \nL 1159 2956 \nQ 1366 3272 1645 3428 \nQ 1925 3584 2291 3584 \nQ 2894 3584 3203 3211 \nQ 3513 2838 3513 2113 \nz\n\" transform=\"scale(0.015625)\"/>\n      </defs>\n      <use xlink:href=\"#DejaVuSans-43\"/>\n      <use xlink:href=\"#DejaVuSans-6f\" x=\"69.824219\"/>\n      <use xlink:href=\"#DejaVuSans-75\" x=\"131.005859\"/>\n      <use xlink:href=\"#DejaVuSans-6e\" x=\"194.384766\"/>\n      <use xlink:href=\"#DejaVuSans-74\" x=\"257.763672\"/>\n     </g>\n    </g>\n   </g>\n   <g id=\"patch_102\">\n    <path d=\"M 50.93375 194.98975 \nL 50.93375 24.14175 \n\" style=\"fill: none; stroke: #000000; stroke-width: 0.8; stroke-linejoin: miter; stroke-linecap: square\"/>\n   </g>\n   <g id=\"patch_103\">\n    <path d=\"M 332.670648 194.98975 \nL 332.670648 24.14175 \n\" style=\"fill: none; stroke: #000000; stroke-width: 0.8; stroke-linejoin: miter; stroke-linecap: square\"/>\n   </g>\n   <g id=\"patch_104\">\n    <path d=\"M 50.93375 194.98975 \nL 332.670648 194.98975 \n\" style=\"fill: none; stroke: #000000; stroke-width: 0.8; stroke-linejoin: miter; stroke-linecap: square\"/>\n   </g>\n   <g id=\"patch_105\">\n    <path d=\"M 50.93375 24.14175 \nL 332.670648 24.14175 \n\" style=\"fill: none; stroke: #000000; stroke-width: 0.8; stroke-linejoin: miter; stroke-linecap: square\"/>\n   </g>\n   <g id=\"text_12\">\n    <!-- Probability distribution -->\n    <g transform=\"translate(110.426449 18.14175) scale(0.144 -0.144)\">\n     <defs>\n      <path id=\"DejaVuSans-20\" transform=\"scale(0.015625)\"/>\n      <path id=\"DejaVuSans-64\" d=\"M 2906 2969 \nL 2906 4863 \nL 3481 4863 \nL 3481 0 \nL 2906 0 \nL 2906 525 \nQ 2725 213 2448 61 \nQ 2172 -91 1784 -91 \nQ 1150 -91 751 415 \nQ 353 922 353 1747 \nQ 353 2572 751 3078 \nQ 1150 3584 1784 3584 \nQ 2172 3584 2448 3432 \nQ 2725 3281 2906 2969 \nz\nM 947 1747 \nQ 947 1113 1208 752 \nQ 1469 391 1925 391 \nQ 2381 391 2643 752 \nQ 2906 1113 2906 1747 \nQ 2906 2381 2643 2742 \nQ 2381 3103 1925 3103 \nQ 1469 3103 1208 2742 \nQ 947 2381 947 1747 \nz\n\" transform=\"scale(0.015625)\"/>\n      <path id=\"DejaVuSans-73\" d=\"M 2834 3397 \nL 2834 2853 \nQ 2591 2978 2328 3040 \nQ 2066 3103 1784 3103 \nQ 1356 3103 1142 2972 \nQ 928 2841 928 2578 \nQ 928 2378 1081 2264 \nQ 1234 2150 1697 2047 \nL 1894 2003 \nQ 2506 1872 2764 1633 \nQ 3022 1394 3022 966 \nQ 3022 478 2636 193 \nQ 2250 -91 1575 -91 \nQ 1294 -91 989 -36 \nQ 684 19 347 128 \nL 347 722 \nQ 666 556 975 473 \nQ 1284 391 1588 391 \nQ 1994 391 2212 530 \nQ 2431 669 2431 922 \nQ 2431 1156 2273 1281 \nQ 2116 1406 1581 1522 \nL 1381 1569 \nQ 847 1681 609 1914 \nQ 372 2147 372 2553 \nQ 372 3047 722 3315 \nQ 1072 3584 1716 3584 \nQ 2034 3584 2315 3537 \nQ 2597 3491 2834 3397 \nz\n\" transform=\"scale(0.015625)\"/>\n     </defs>\n     <use xlink:href=\"#DejaVuSans-50\"/>\n     <use xlink:href=\"#DejaVuSans-72\" x=\"58.552734\"/>\n     <use xlink:href=\"#DejaVuSans-6f\" x=\"97.416016\"/>\n     <use xlink:href=\"#DejaVuSans-62\" x=\"158.597656\"/>\n     <use xlink:href=\"#DejaVuSans-61\" x=\"222.074219\"/>\n     <use xlink:href=\"#DejaVuSans-62\" x=\"283.353516\"/>\n     <use xlink:href=\"#DejaVuSans-69\" x=\"346.830078\"/>\n     <use xlink:href=\"#DejaVuSans-6c\" x=\"374.613281\"/>\n     <use xlink:href=\"#DejaVuSans-69\" x=\"402.396484\"/>\n     <use xlink:href=\"#DejaVuSans-74\" x=\"430.179688\"/>\n     <use xlink:href=\"#DejaVuSans-79\" x=\"469.388672\"/>\n     <use xlink:href=\"#DejaVuSans-20\" x=\"528.568359\"/>\n     <use xlink:href=\"#DejaVuSans-64\" x=\"560.355469\"/>\n     <use xlink:href=\"#DejaVuSans-69\" x=\"623.832031\"/>\n     <use xlink:href=\"#DejaVuSans-73\" x=\"651.615234\"/>\n     <use xlink:href=\"#DejaVuSans-74\" x=\"703.714844\"/>\n     <use xlink:href=\"#DejaVuSans-72\" x=\"742.923828\"/>\n     <use xlink:href=\"#DejaVuSans-69\" x=\"784.037109\"/>\n     <use xlink:href=\"#DejaVuSans-62\" x=\"811.820312\"/>\n     <use xlink:href=\"#DejaVuSans-75\" x=\"875.296875\"/>\n     <use xlink:href=\"#DejaVuSans-74\" x=\"938.675781\"/>\n     <use xlink:href=\"#DejaVuSans-69\" x=\"977.884766\"/>\n     <use xlink:href=\"#DejaVuSans-6f\" x=\"1005.667969\"/>\n     <use xlink:href=\"#DejaVuSans-6e\" x=\"1066.849609\"/>\n    </g>\n   </g>\n  </g>\n  <g id=\"axes_2\">\n   <g id=\"patch_106\">\n    <path d=\"M 398.815744 194.98975 \nL 680.552643 194.98975 \nL 680.552643 24.14175 \nL 398.815744 24.14175 \nz\n\" style=\"fill: #ffffff\"/>\n   </g>\n   <g id=\"matplotlib.axis_3\">\n    <g id=\"xtick_6\">\n     <g id=\"line2d_36\">\n      <g>\n       <use xlink:href=\"#mc000ad441c\" x=\"398.815744\" y=\"194.98975\" style=\"stroke: #000000; stroke-width: 0.8\"/>\n      </g>\n     </g>\n     <g id=\"text_13\">\n      <!-- 0 -->\n      <g transform=\"translate(394.998244 211.107875) scale(0.12 -0.12)\">\n       <use xlink:href=\"#DejaVuSans-30\"/>\n      </g>\n     </g>\n    </g>\n    <g id=\"xtick_7\">\n     <g id=\"line2d_37\">\n      <g>\n       <use xlink:href=\"#mc000ad441c\" x=\"455.163124\" y=\"194.98975\" style=\"stroke: #000000; stroke-width: 0.8\"/>\n      </g>\n     </g>\n     <g id=\"text_14\">\n      <!-- 2000 -->\n      <g transform=\"translate(439.893124 211.107875) scale(0.12 -0.12)\">\n       <use xlink:href=\"#DejaVuSans-32\"/>\n       <use xlink:href=\"#DejaVuSans-30\" x=\"63.623047\"/>\n       <use xlink:href=\"#DejaVuSans-30\" x=\"127.246094\"/>\n       <use xlink:href=\"#DejaVuSans-30\" x=\"190.869141\"/>\n      </g>\n     </g>\n    </g>\n    <g id=\"xtick_8\">\n     <g id=\"line2d_38\">\n      <g>\n       <use xlink:href=\"#mc000ad441c\" x=\"511.510504\" y=\"194.98975\" style=\"stroke: #000000; stroke-width: 0.8\"/>\n      </g>\n     </g>\n     <g id=\"text_15\">\n      <!-- 4000 -->\n      <g transform=\"translate(496.240504 211.107875) scale(0.12 -0.12)\">\n       <defs>\n        <path id=\"DejaVuSans-34\" d=\"M 2419 4116 \nL 825 1625 \nL 2419 1625 \nL 2419 4116 \nz\nM 2253 4666 \nL 3047 4666 \nL 3047 1625 \nL 3713 1625 \nL 3713 1100 \nL 3047 1100 \nL 3047 0 \nL 2419 0 \nL 2419 1100 \nL 313 1100 \nL 313 1709 \nL 2253 4666 \nz\n\" transform=\"scale(0.015625)\"/>\n       </defs>\n       <use xlink:href=\"#DejaVuSans-34\"/>\n       <use xlink:href=\"#DejaVuSans-30\" x=\"63.623047\"/>\n       <use xlink:href=\"#DejaVuSans-30\" x=\"127.246094\"/>\n       <use xlink:href=\"#DejaVuSans-30\" x=\"190.869141\"/>\n      </g>\n     </g>\n    </g>\n    <g id=\"xtick_9\">\n     <g id=\"line2d_39\">\n      <g>\n       <use xlink:href=\"#mc000ad441c\" x=\"567.857883\" y=\"194.98975\" style=\"stroke: #000000; stroke-width: 0.8\"/>\n      </g>\n     </g>\n     <g id=\"text_16\">\n      <!-- 6000 -->\n      <g transform=\"translate(552.587883 211.107875) scale(0.12 -0.12)\">\n       <defs>\n        <path id=\"DejaVuSans-36\" d=\"M 2113 2584 \nQ 1688 2584 1439 2293 \nQ 1191 2003 1191 1497 \nQ 1191 994 1439 701 \nQ 1688 409 2113 409 \nQ 2538 409 2786 701 \nQ 3034 994 3034 1497 \nQ 3034 2003 2786 2293 \nQ 2538 2584 2113 2584 \nz\nM 3366 4563 \nL 3366 3988 \nQ 3128 4100 2886 4159 \nQ 2644 4219 2406 4219 \nQ 1781 4219 1451 3797 \nQ 1122 3375 1075 2522 \nQ 1259 2794 1537 2939 \nQ 1816 3084 2150 3084 \nQ 2853 3084 3261 2657 \nQ 3669 2231 3669 1497 \nQ 3669 778 3244 343 \nQ 2819 -91 2113 -91 \nQ 1303 -91 875 529 \nQ 447 1150 447 2328 \nQ 447 3434 972 4092 \nQ 1497 4750 2381 4750 \nQ 2619 4750 2861 4703 \nQ 3103 4656 3366 4563 \nz\n\" transform=\"scale(0.015625)\"/>\n       </defs>\n       <use xlink:href=\"#DejaVuSans-36\"/>\n       <use xlink:href=\"#DejaVuSans-30\" x=\"63.623047\"/>\n       <use xlink:href=\"#DejaVuSans-30\" x=\"127.246094\"/>\n       <use xlink:href=\"#DejaVuSans-30\" x=\"190.869141\"/>\n      </g>\n     </g>\n    </g>\n    <g id=\"xtick_10\">\n     <g id=\"line2d_40\">\n      <g>\n       <use xlink:href=\"#mc000ad441c\" x=\"624.205263\" y=\"194.98975\" style=\"stroke: #000000; stroke-width: 0.8\"/>\n      </g>\n     </g>\n     <g id=\"text_17\">\n      <!-- 8000 -->\n      <g transform=\"translate(608.935263 211.107875) scale(0.12 -0.12)\">\n       <defs>\n        <path id=\"DejaVuSans-38\" d=\"M 2034 2216 \nQ 1584 2216 1326 1975 \nQ 1069 1734 1069 1313 \nQ 1069 891 1326 650 \nQ 1584 409 2034 409 \nQ 2484 409 2743 651 \nQ 3003 894 3003 1313 \nQ 3003 1734 2745 1975 \nQ 2488 2216 2034 2216 \nz\nM 1403 2484 \nQ 997 2584 770 2862 \nQ 544 3141 544 3541 \nQ 544 4100 942 4425 \nQ 1341 4750 2034 4750 \nQ 2731 4750 3128 4425 \nQ 3525 4100 3525 3541 \nQ 3525 3141 3298 2862 \nQ 3072 2584 2669 2484 \nQ 3125 2378 3379 2068 \nQ 3634 1759 3634 1313 \nQ 3634 634 3220 271 \nQ 2806 -91 2034 -91 \nQ 1263 -91 848 271 \nQ 434 634 434 1313 \nQ 434 1759 690 2068 \nQ 947 2378 1403 2484 \nz\nM 1172 3481 \nQ 1172 3119 1398 2916 \nQ 1625 2713 2034 2713 \nQ 2441 2713 2670 2916 \nQ 2900 3119 2900 3481 \nQ 2900 3844 2670 4047 \nQ 2441 4250 2034 4250 \nQ 1625 4250 1398 4047 \nQ 1172 3844 1172 3481 \nz\n\" transform=\"scale(0.015625)\"/>\n       </defs>\n       <use xlink:href=\"#DejaVuSans-38\"/>\n       <use xlink:href=\"#DejaVuSans-30\" x=\"63.623047\"/>\n       <use xlink:href=\"#DejaVuSans-30\" x=\"127.246094\"/>\n       <use xlink:href=\"#DejaVuSans-30\" x=\"190.869141\"/>\n      </g>\n     </g>\n    </g>\n    <g id=\"xtick_11\">\n     <g id=\"line2d_41\">\n      <g>\n       <use xlink:href=\"#mc000ad441c\" x=\"680.552643\" y=\"194.98975\" style=\"stroke: #000000; stroke-width: 0.8\"/>\n      </g>\n     </g>\n     <g id=\"text_18\">\n      <!-- 10000 -->\n      <g transform=\"translate(661.465143 211.107875) scale(0.12 -0.12)\">\n       <use xlink:href=\"#DejaVuSans-31\"/>\n       <use xlink:href=\"#DejaVuSans-30\" x=\"63.623047\"/>\n       <use xlink:href=\"#DejaVuSans-30\" x=\"127.246094\"/>\n       <use xlink:href=\"#DejaVuSans-30\" x=\"190.869141\"/>\n       <use xlink:href=\"#DejaVuSans-30\" x=\"254.492188\"/>\n      </g>\n     </g>\n    </g>\n    <g id=\"xtick_12\">\n     <g id=\"line2d_42\">\n      <defs>\n       <path id=\"mb2334d2f36\" d=\"M 0 0 \nL 0 2 \n\" style=\"stroke: #000000; stroke-width: 0.6\"/>\n      </defs>\n      <g>\n       <use xlink:href=\"#mb2334d2f36\" x=\"412.902589\" y=\"194.98975\" style=\"stroke: #000000; stroke-width: 0.6\"/>\n      </g>\n     </g>\n    </g>\n    <g id=\"xtick_13\">\n     <g id=\"line2d_43\">\n      <g>\n       <use xlink:href=\"#mb2334d2f36\" x=\"426.989434\" y=\"194.98975\" style=\"stroke: #000000; stroke-width: 0.6\"/>\n      </g>\n     </g>\n    </g>\n    <g id=\"xtick_14\">\n     <g id=\"line2d_44\">\n      <g>\n       <use xlink:href=\"#mb2334d2f36\" x=\"441.076279\" y=\"194.98975\" style=\"stroke: #000000; stroke-width: 0.6\"/>\n      </g>\n     </g>\n    </g>\n    <g id=\"xtick_15\">\n     <g id=\"line2d_45\">\n      <g>\n       <use xlink:href=\"#mb2334d2f36\" x=\"469.249969\" y=\"194.98975\" style=\"stroke: #000000; stroke-width: 0.6\"/>\n      </g>\n     </g>\n    </g>\n    <g id=\"xtick_16\">\n     <g id=\"line2d_46\">\n      <g>\n       <use xlink:href=\"#mb2334d2f36\" x=\"483.336814\" y=\"194.98975\" style=\"stroke: #000000; stroke-width: 0.6\"/>\n      </g>\n     </g>\n    </g>\n    <g id=\"xtick_17\">\n     <g id=\"line2d_47\">\n      <g>\n       <use xlink:href=\"#mb2334d2f36\" x=\"497.423659\" y=\"194.98975\" style=\"stroke: #000000; stroke-width: 0.6\"/>\n      </g>\n     </g>\n    </g>\n    <g id=\"xtick_18\">\n     <g id=\"line2d_48\">\n      <g>\n       <use xlink:href=\"#mb2334d2f36\" x=\"525.597348\" y=\"194.98975\" style=\"stroke: #000000; stroke-width: 0.6\"/>\n      </g>\n     </g>\n    </g>\n    <g id=\"xtick_19\">\n     <g id=\"line2d_49\">\n      <g>\n       <use xlink:href=\"#mb2334d2f36\" x=\"539.684193\" y=\"194.98975\" style=\"stroke: #000000; stroke-width: 0.6\"/>\n      </g>\n     </g>\n    </g>\n    <g id=\"xtick_20\">\n     <g id=\"line2d_50\">\n      <g>\n       <use xlink:href=\"#mb2334d2f36\" x=\"553.771038\" y=\"194.98975\" style=\"stroke: #000000; stroke-width: 0.6\"/>\n      </g>\n     </g>\n    </g>\n    <g id=\"xtick_21\">\n     <g id=\"line2d_51\">\n      <g>\n       <use xlink:href=\"#mb2334d2f36\" x=\"581.944728\" y=\"194.98975\" style=\"stroke: #000000; stroke-width: 0.6\"/>\n      </g>\n     </g>\n    </g>\n    <g id=\"xtick_22\">\n     <g id=\"line2d_52\">\n      <g>\n       <use xlink:href=\"#mb2334d2f36\" x=\"596.031573\" y=\"194.98975\" style=\"stroke: #000000; stroke-width: 0.6\"/>\n      </g>\n     </g>\n    </g>\n    <g id=\"xtick_23\">\n     <g id=\"line2d_53\">\n      <g>\n       <use xlink:href=\"#mb2334d2f36\" x=\"610.118418\" y=\"194.98975\" style=\"stroke: #000000; stroke-width: 0.6\"/>\n      </g>\n     </g>\n    </g>\n    <g id=\"xtick_24\">\n     <g id=\"line2d_54\">\n      <g>\n       <use xlink:href=\"#mb2334d2f36\" x=\"638.292108\" y=\"194.98975\" style=\"stroke: #000000; stroke-width: 0.6\"/>\n      </g>\n     </g>\n    </g>\n    <g id=\"xtick_25\">\n     <g id=\"line2d_55\">\n      <g>\n       <use xlink:href=\"#mb2334d2f36\" x=\"652.378953\" y=\"194.98975\" style=\"stroke: #000000; stroke-width: 0.6\"/>\n      </g>\n     </g>\n    </g>\n    <g id=\"xtick_26\">\n     <g id=\"line2d_56\">\n      <g>\n       <use xlink:href=\"#mb2334d2f36\" x=\"666.465798\" y=\"194.98975\" style=\"stroke: #000000; stroke-width: 0.6\"/>\n      </g>\n     </g>\n    </g>\n    <g id=\"text_19\">\n     <!-- Token (descending probability) -->\n     <g transform=\"translate(447.602943 226.721625) scale(0.12 -0.12)\">\n      <defs>\n       <path id=\"DejaVuSans-54\" d=\"M -19 4666 \nL 3928 4666 \nL 3928 4134 \nL 2272 4134 \nL 2272 0 \nL 1638 0 \nL 1638 4134 \nL -19 4134 \nL -19 4666 \nz\n\" transform=\"scale(0.015625)\"/>\n       <path id=\"DejaVuSans-6b\" d=\"M 581 4863 \nL 1159 4863 \nL 1159 1991 \nL 2875 3500 \nL 3609 3500 \nL 1753 1863 \nL 3688 0 \nL 2938 0 \nL 1159 1709 \nL 1159 0 \nL 581 0 \nL 581 4863 \nz\n\" transform=\"scale(0.015625)\"/>\n       <path id=\"DejaVuSans-65\" d=\"M 3597 1894 \nL 3597 1613 \nL 953 1613 \nQ 991 1019 1311 708 \nQ 1631 397 2203 397 \nQ 2534 397 2845 478 \nQ 3156 559 3463 722 \nL 3463 178 \nQ 3153 47 2828 -22 \nQ 2503 -91 2169 -91 \nQ 1331 -91 842 396 \nQ 353 884 353 1716 \nQ 353 2575 817 3079 \nQ 1281 3584 2069 3584 \nQ 2775 3584 3186 3129 \nQ 3597 2675 3597 1894 \nz\nM 3022 2063 \nQ 3016 2534 2758 2815 \nQ 2500 3097 2075 3097 \nQ 1594 3097 1305 2825 \nQ 1016 2553 972 2059 \nL 3022 2063 \nz\n\" transform=\"scale(0.015625)\"/>\n       <path id=\"DejaVuSans-28\" d=\"M 1984 4856 \nQ 1566 4138 1362 3434 \nQ 1159 2731 1159 2009 \nQ 1159 1288 1364 580 \nQ 1569 -128 1984 -844 \nL 1484 -844 \nQ 1016 -109 783 600 \nQ 550 1309 550 2009 \nQ 550 2706 781 3412 \nQ 1013 4119 1484 4856 \nL 1984 4856 \nz\n\" transform=\"scale(0.015625)\"/>\n       <path id=\"DejaVuSans-63\" d=\"M 3122 3366 \nL 3122 2828 \nQ 2878 2963 2633 3030 \nQ 2388 3097 2138 3097 \nQ 1578 3097 1268 2742 \nQ 959 2388 959 1747 \nQ 959 1106 1268 751 \nQ 1578 397 2138 397 \nQ 2388 397 2633 464 \nQ 2878 531 3122 666 \nL 3122 134 \nQ 2881 22 2623 -34 \nQ 2366 -91 2075 -91 \nQ 1284 -91 818 406 \nQ 353 903 353 1747 \nQ 353 2603 823 3093 \nQ 1294 3584 2113 3584 \nQ 2378 3584 2631 3529 \nQ 2884 3475 3122 3366 \nz\n\" transform=\"scale(0.015625)\"/>\n       <path id=\"DejaVuSans-67\" d=\"M 2906 1791 \nQ 2906 2416 2648 2759 \nQ 2391 3103 1925 3103 \nQ 1463 3103 1205 2759 \nQ 947 2416 947 1791 \nQ 947 1169 1205 825 \nQ 1463 481 1925 481 \nQ 2391 481 2648 825 \nQ 2906 1169 2906 1791 \nz\nM 3481 434 \nQ 3481 -459 3084 -895 \nQ 2688 -1331 1869 -1331 \nQ 1566 -1331 1297 -1286 \nQ 1028 -1241 775 -1147 \nL 775 -588 \nQ 1028 -725 1275 -790 \nQ 1522 -856 1778 -856 \nQ 2344 -856 2625 -561 \nQ 2906 -266 2906 331 \nL 2906 616 \nQ 2728 306 2450 153 \nQ 2172 0 1784 0 \nQ 1141 0 747 490 \nQ 353 981 353 1791 \nQ 353 2603 747 3093 \nQ 1141 3584 1784 3584 \nQ 2172 3584 2450 3431 \nQ 2728 3278 2906 2969 \nL 2906 3500 \nL 3481 3500 \nL 3481 434 \nz\n\" transform=\"scale(0.015625)\"/>\n       <path id=\"DejaVuSans-70\" d=\"M 1159 525 \nL 1159 -1331 \nL 581 -1331 \nL 581 3500 \nL 1159 3500 \nL 1159 2969 \nQ 1341 3281 1617 3432 \nQ 1894 3584 2278 3584 \nQ 2916 3584 3314 3078 \nQ 3713 2572 3713 1747 \nQ 3713 922 3314 415 \nQ 2916 -91 2278 -91 \nQ 1894 -91 1617 61 \nQ 1341 213 1159 525 \nz\nM 3116 1747 \nQ 3116 2381 2855 2742 \nQ 2594 3103 2138 3103 \nQ 1681 3103 1420 2742 \nQ 1159 2381 1159 1747 \nQ 1159 1113 1420 752 \nQ 1681 391 2138 391 \nQ 2594 391 2855 752 \nQ 3116 1113 3116 1747 \nz\n\" transform=\"scale(0.015625)\"/>\n       <path id=\"DejaVuSans-29\" d=\"M 513 4856 \nL 1013 4856 \nQ 1481 4119 1714 3412 \nQ 1947 2706 1947 2009 \nQ 1947 1309 1714 600 \nQ 1481 -109 1013 -844 \nL 513 -844 \nQ 928 -128 1133 580 \nQ 1338 1288 1338 2009 \nQ 1338 2731 1133 3434 \nQ 928 4138 513 4856 \nz\n\" transform=\"scale(0.015625)\"/>\n      </defs>\n      <use xlink:href=\"#DejaVuSans-54\"/>\n      <use xlink:href=\"#DejaVuSans-6f\" x=\"44.083984\"/>\n      <use xlink:href=\"#DejaVuSans-6b\" x=\"105.265625\"/>\n      <use xlink:href=\"#DejaVuSans-65\" x=\"159.550781\"/>\n      <use xlink:href=\"#DejaVuSans-6e\" x=\"221.074219\"/>\n      <use xlink:href=\"#DejaVuSans-20\" x=\"284.453125\"/>\n      <use xlink:href=\"#DejaVuSans-28\" x=\"316.240234\"/>\n      <use xlink:href=\"#DejaVuSans-64\" x=\"355.253906\"/>\n      <use xlink:href=\"#DejaVuSans-65\" x=\"418.730469\"/>\n      <use xlink:href=\"#DejaVuSans-73\" x=\"480.253906\"/>\n      <use xlink:href=\"#DejaVuSans-63\" x=\"532.353516\"/>\n      <use xlink:href=\"#DejaVuSans-65\" x=\"587.333984\"/>\n      <use xlink:href=\"#DejaVuSans-6e\" x=\"648.857422\"/>\n      <use xlink:href=\"#DejaVuSans-64\" x=\"712.236328\"/>\n      <use xlink:href=\"#DejaVuSans-69\" x=\"775.712891\"/>\n      <use xlink:href=\"#DejaVuSans-6e\" x=\"803.496094\"/>\n      <use xlink:href=\"#DejaVuSans-67\" x=\"866.875\"/>\n      <use xlink:href=\"#DejaVuSans-20\" x=\"930.351562\"/>\n      <use xlink:href=\"#DejaVuSans-70\" x=\"962.138672\"/>\n      <use xlink:href=\"#DejaVuSans-72\" x=\"1025.615234\"/>\n      <use xlink:href=\"#DejaVuSans-6f\" x=\"1064.478516\"/>\n      <use xlink:href=\"#DejaVuSans-62\" x=\"1125.660156\"/>\n      <use xlink:href=\"#DejaVuSans-61\" x=\"1189.136719\"/>\n      <use xlink:href=\"#DejaVuSans-62\" x=\"1250.416016\"/>\n      <use xlink:href=\"#DejaVuSans-69\" x=\"1313.892578\"/>\n      <use xlink:href=\"#DejaVuSans-6c\" x=\"1341.675781\"/>\n      <use xlink:href=\"#DejaVuSans-69\" x=\"1369.458984\"/>\n      <use xlink:href=\"#DejaVuSans-74\" x=\"1397.242188\"/>\n      <use xlink:href=\"#DejaVuSans-79\" x=\"1436.451172\"/>\n      <use xlink:href=\"#DejaVuSans-29\" x=\"1495.630859\"/>\n     </g>\n    </g>\n   </g>\n   <g id=\"matplotlib.axis_4\">\n    <g id=\"ytick_31\">\n     <g id=\"line2d_57\">\n      <g>\n       <use xlink:href=\"#mcb2bb251c3\" x=\"398.815744\" y=\"194.98975\" style=\"stroke: #000000; stroke-width: 0.8\"/>\n      </g>\n     </g>\n     <g id=\"text_20\">\n      <!-- 0.75 -->\n      <g transform=\"translate(365.096994 199.548812) scale(0.12 -0.12)\">\n       <defs>\n        <path id=\"DejaVuSans-2e\" d=\"M 684 794 \nL 1344 794 \nL 1344 0 \nL 684 0 \nL 684 794 \nz\n\" transform=\"scale(0.015625)\"/>\n       </defs>\n       <use xlink:href=\"#DejaVuSans-30\"/>\n       <use xlink:href=\"#DejaVuSans-2e\" x=\"63.623047\"/>\n       <use xlink:href=\"#DejaVuSans-37\" x=\"95.410156\"/>\n       <use xlink:href=\"#DejaVuSans-35\" x=\"159.033203\"/>\n      </g>\n     </g>\n    </g>\n    <g id=\"ytick_32\">\n     <g id=\"line2d_58\">\n      <g>\n       <use xlink:href=\"#mcb2bb251c3\" x=\"398.815744\" y=\"162.134365\" style=\"stroke: #000000; stroke-width: 0.8\"/>\n      </g>\n     </g>\n     <g id=\"text_21\">\n      <!-- 0.80 -->\n      <g transform=\"translate(365.096994 166.693428) scale(0.12 -0.12)\">\n       <use xlink:href=\"#DejaVuSans-30\"/>\n       <use xlink:href=\"#DejaVuSans-2e\" x=\"63.623047\"/>\n       <use xlink:href=\"#DejaVuSans-38\" x=\"95.410156\"/>\n       <use xlink:href=\"#DejaVuSans-30\" x=\"159.033203\"/>\n      </g>\n     </g>\n    </g>\n    <g id=\"ytick_33\">\n     <g id=\"line2d_59\">\n      <g>\n       <use xlink:href=\"#mcb2bb251c3\" x=\"398.815744\" y=\"129.278981\" style=\"stroke: #000000; stroke-width: 0.8\"/>\n      </g>\n     </g>\n     <g id=\"text_22\">\n      <!-- 0.85 -->\n      <g transform=\"translate(365.096994 133.838043) scale(0.12 -0.12)\">\n       <use xlink:href=\"#DejaVuSans-30\"/>\n       <use xlink:href=\"#DejaVuSans-2e\" x=\"63.623047\"/>\n       <use xlink:href=\"#DejaVuSans-38\" x=\"95.410156\"/>\n       <use xlink:href=\"#DejaVuSans-35\" x=\"159.033203\"/>\n      </g>\n     </g>\n    </g>\n    <g id=\"ytick_34\">\n     <g id=\"line2d_60\">\n      <g>\n       <use xlink:href=\"#mcb2bb251c3\" x=\"398.815744\" y=\"96.423596\" style=\"stroke: #000000; stroke-width: 0.8\"/>\n      </g>\n     </g>\n     <g id=\"text_23\">\n      <!-- 0.90 -->\n      <g transform=\"translate(365.096994 100.982659) scale(0.12 -0.12)\">\n       <use xlink:href=\"#DejaVuSans-30\"/>\n       <use xlink:href=\"#DejaVuSans-2e\" x=\"63.623047\"/>\n       <use xlink:href=\"#DejaVuSans-39\" x=\"95.410156\"/>\n       <use xlink:href=\"#DejaVuSans-30\" x=\"159.033203\"/>\n      </g>\n     </g>\n    </g>\n    <g id=\"ytick_35\">\n     <g id=\"line2d_61\">\n      <g>\n       <use xlink:href=\"#mcb2bb251c3\" x=\"398.815744\" y=\"63.568212\" style=\"stroke: #000000; stroke-width: 0.8\"/>\n      </g>\n     </g>\n     <g id=\"text_24\">\n      <!-- 0.95 -->\n      <g transform=\"translate(365.096994 68.127274) scale(0.12 -0.12)\">\n       <use xlink:href=\"#DejaVuSans-30\"/>\n       <use xlink:href=\"#DejaVuSans-2e\" x=\"63.623047\"/>\n       <use xlink:href=\"#DejaVuSans-39\" x=\"95.410156\"/>\n       <use xlink:href=\"#DejaVuSans-35\" x=\"159.033203\"/>\n      </g>\n     </g>\n    </g>\n    <g id=\"ytick_36\">\n     <g id=\"line2d_62\">\n      <g>\n       <use xlink:href=\"#mcb2bb251c3\" x=\"398.815744\" y=\"30.712827\" style=\"stroke: #000000; stroke-width: 0.8\"/>\n      </g>\n     </g>\n     <g id=\"text_25\">\n      <!-- 1.00 -->\n      <g transform=\"translate(365.096994 35.271889) scale(0.12 -0.12)\">\n       <use xlink:href=\"#DejaVuSans-31\"/>\n       <use xlink:href=\"#DejaVuSans-2e\" x=\"63.623047\"/>\n       <use xlink:href=\"#DejaVuSans-30\" x=\"95.410156\"/>\n       <use xlink:href=\"#DejaVuSans-30\" x=\"159.033203\"/>\n      </g>\n     </g>\n    </g>\n    <g id=\"ytick_37\">\n     <g id=\"line2d_63\">\n      <g>\n       <use xlink:href=\"#m01b2037a57\" x=\"398.815744\" y=\"188.418673\" style=\"stroke: #000000; stroke-width: 0.6\"/>\n      </g>\n     </g>\n    </g>\n    <g id=\"ytick_38\">\n     <g id=\"line2d_64\">\n      <g>\n       <use xlink:href=\"#m01b2037a57\" x=\"398.815744\" y=\"181.847596\" style=\"stroke: #000000; stroke-width: 0.6\"/>\n      </g>\n     </g>\n    </g>\n    <g id=\"ytick_39\">\n     <g id=\"line2d_65\">\n      <g>\n       <use xlink:href=\"#m01b2037a57\" x=\"398.815744\" y=\"175.276519\" style=\"stroke: #000000; stroke-width: 0.6\"/>\n      </g>\n     </g>\n    </g>\n    <g id=\"ytick_40\">\n     <g id=\"line2d_66\">\n      <g>\n       <use xlink:href=\"#m01b2037a57\" x=\"398.815744\" y=\"168.705442\" style=\"stroke: #000000; stroke-width: 0.6\"/>\n      </g>\n     </g>\n    </g>\n    <g id=\"ytick_41\">\n     <g id=\"line2d_67\">\n      <g>\n       <use xlink:href=\"#m01b2037a57\" x=\"398.815744\" y=\"155.563288\" style=\"stroke: #000000; stroke-width: 0.6\"/>\n      </g>\n     </g>\n    </g>\n    <g id=\"ytick_42\">\n     <g id=\"line2d_68\">\n      <g>\n       <use xlink:href=\"#m01b2037a57\" x=\"398.815744\" y=\"148.992212\" style=\"stroke: #000000; stroke-width: 0.6\"/>\n      </g>\n     </g>\n    </g>\n    <g id=\"ytick_43\">\n     <g id=\"line2d_69\">\n      <g>\n       <use xlink:href=\"#m01b2037a57\" x=\"398.815744\" y=\"142.421135\" style=\"stroke: #000000; stroke-width: 0.6\"/>\n      </g>\n     </g>\n    </g>\n    <g id=\"ytick_44\">\n     <g id=\"line2d_70\">\n      <g>\n       <use xlink:href=\"#m01b2037a57\" x=\"398.815744\" y=\"135.850058\" style=\"stroke: #000000; stroke-width: 0.6\"/>\n      </g>\n     </g>\n    </g>\n    <g id=\"ytick_45\">\n     <g id=\"line2d_71\">\n      <g>\n       <use xlink:href=\"#m01b2037a57\" x=\"398.815744\" y=\"122.707904\" style=\"stroke: #000000; stroke-width: 0.6\"/>\n      </g>\n     </g>\n    </g>\n    <g id=\"ytick_46\">\n     <g id=\"line2d_72\">\n      <g>\n       <use xlink:href=\"#m01b2037a57\" x=\"398.815744\" y=\"116.136827\" style=\"stroke: #000000; stroke-width: 0.6\"/>\n      </g>\n     </g>\n    </g>\n    <g id=\"ytick_47\">\n     <g id=\"line2d_73\">\n      <g>\n       <use xlink:href=\"#m01b2037a57\" x=\"398.815744\" y=\"109.56575\" style=\"stroke: #000000; stroke-width: 0.6\"/>\n      </g>\n     </g>\n    </g>\n    <g id=\"ytick_48\">\n     <g id=\"line2d_74\">\n      <g>\n       <use xlink:href=\"#m01b2037a57\" x=\"398.815744\" y=\"102.994673\" style=\"stroke: #000000; stroke-width: 0.6\"/>\n      </g>\n     </g>\n    </g>\n    <g id=\"ytick_49\">\n     <g id=\"line2d_75\">\n      <g>\n       <use xlink:href=\"#m01b2037a57\" x=\"398.815744\" y=\"89.852519\" style=\"stroke: #000000; stroke-width: 0.6\"/>\n      </g>\n     </g>\n    </g>\n    <g id=\"ytick_50\">\n     <g id=\"line2d_76\">\n      <g>\n       <use xlink:href=\"#m01b2037a57\" x=\"398.815744\" y=\"83.281442\" style=\"stroke: #000000; stroke-width: 0.6\"/>\n      </g>\n     </g>\n    </g>\n    <g id=\"ytick_51\">\n     <g id=\"line2d_77\">\n      <g>\n       <use xlink:href=\"#m01b2037a57\" x=\"398.815744\" y=\"76.710365\" style=\"stroke: #000000; stroke-width: 0.6\"/>\n      </g>\n     </g>\n    </g>\n    <g id=\"ytick_52\">\n     <g id=\"line2d_78\">\n      <g>\n       <use xlink:href=\"#m01b2037a57\" x=\"398.815744\" y=\"70.139288\" style=\"stroke: #000000; stroke-width: 0.6\"/>\n      </g>\n     </g>\n    </g>\n    <g id=\"ytick_53\">\n     <g id=\"line2d_79\">\n      <g>\n       <use xlink:href=\"#m01b2037a57\" x=\"398.815744\" y=\"56.997135\" style=\"stroke: #000000; stroke-width: 0.6\"/>\n      </g>\n     </g>\n    </g>\n    <g id=\"ytick_54\">\n     <g id=\"line2d_80\">\n      <g>\n       <use xlink:href=\"#m01b2037a57\" x=\"398.815744\" y=\"50.426058\" style=\"stroke: #000000; stroke-width: 0.6\"/>\n      </g>\n     </g>\n    </g>\n    <g id=\"ytick_55\">\n     <g id=\"line2d_81\">\n      <g>\n       <use xlink:href=\"#m01b2037a57\" x=\"398.815744\" y=\"43.854981\" style=\"stroke: #000000; stroke-width: 0.6\"/>\n      </g>\n     </g>\n    </g>\n    <g id=\"ytick_56\">\n     <g id=\"line2d_82\">\n      <g>\n       <use xlink:href=\"#m01b2037a57\" x=\"398.815744\" y=\"37.283904\" style=\"stroke: #000000; stroke-width: 0.6\"/>\n      </g>\n     </g>\n    </g>\n    <g id=\"ytick_57\">\n     <g id=\"line2d_83\">\n      <g>\n       <use xlink:href=\"#m01b2037a57\" x=\"398.815744\" y=\"24.14175\" style=\"stroke: #000000; stroke-width: 0.6\"/>\n      </g>\n     </g>\n    </g>\n    <g id=\"text_26\">\n     <!-- Probability -->\n     <g transform=\"translate(358.601369 141.280438) rotate(-90) scale(0.12 -0.12)\">\n      <use xlink:href=\"#DejaVuSans-50\"/>\n      <use xlink:href=\"#DejaVuSans-72\" x=\"58.552734\"/>\n      <use xlink:href=\"#DejaVuSans-6f\" x=\"97.416016\"/>\n      <use xlink:href=\"#DejaVuSans-62\" x=\"158.597656\"/>\n      <use xlink:href=\"#DejaVuSans-61\" x=\"222.074219\"/>\n      <use xlink:href=\"#DejaVuSans-62\" x=\"283.353516\"/>\n      <use xlink:href=\"#DejaVuSans-69\" x=\"346.830078\"/>\n      <use xlink:href=\"#DejaVuSans-6c\" x=\"374.613281\"/>\n      <use xlink:href=\"#DejaVuSans-69\" x=\"402.396484\"/>\n      <use xlink:href=\"#DejaVuSans-74\" x=\"430.179688\"/>\n      <use xlink:href=\"#DejaVuSans-79\" x=\"469.388672\"/>\n     </g>\n    </g>\n   </g>\n   <g id=\"line2d_84\">\n    <path d=\"M 400.663109 237.41725 \nL 401.266855 215.604657 \nL 402.196587 191.267271 \nL 402.900929 178.796329 \nL 403.74614 167.070494 \nL 404.873088 154.448603 \nL 406.084556 143.537552 \nL 407.493241 132.957342 \nL 408.845578 124.438513 \nL 410.169741 117.39756 \nL 411.803815 110.024473 \nL 413.409716 103.739868 \nL 415.381874 96.963015 \nL 417.100469 91.755297 \nL 418.819064 87.177693 \nL 420.763049 82.66483 \nL 423.073291 77.854497 \nL 425.35536 73.638127 \nL 427.552908 70.067302 \nL 429.834977 66.762261 \nL 432.567825 63.219323 \nL 435.300673 60.027474 \nL 438.089868 57.121738 \nL 441.019932 54.409172 \nL 443.921822 52.017851 \nL 447.133622 49.677877 \nL 450.655334 47.398925 \nL 454.261566 45.346788 \nL 457.980493 43.485979 \nL 461.896636 41.788731 \nL 466.235384 40.158575 \nL 470.517785 38.787584 \nL 475.391833 37.452432 \nL 480.378576 36.325058 \nL 485.844272 35.298304 \nL 491.47901 34.447173 \nL 498.128001 33.671321 \nL 505.368639 33.047787 \nL 514.553262 32.481985 \nL 526.273517 31.989935 \nL 541.430962 31.595135 \nL 563.490961 31.276709 \nL 594.566541 31.042101 \nL 647.730294 30.857548 \nL 680.580816 30.811879 \nL 680.580816 30.811879 \n\" clip-path=\"url(#p7c19e42152)\" style=\"fill: none; stroke: #000000; stroke-width: 1.5; stroke-linecap: square\"/>\n   </g>\n   <g id=\"LineCollection_1\">\n    <path d=\"M 455.163124 237.41725 \nL 455.163124 -1 \n\" clip-path=\"url(#p7c19e42152)\" style=\"fill: none; stroke: #0071bc; stroke-width: 1.5\"/>\n   </g>\n   <g id=\"LineCollection_2\">\n    <path d=\"M 398.815744 63.568212 \nL 680.552643 63.568212 \n\" clip-path=\"url(#p7c19e42152)\" style=\"fill: none; stroke-dasharray: 5.55,2.4; stroke-dashoffset: 0; stroke: #f7931e; stroke-width: 1.5\"/>\n   </g>\n   <g id=\"patch_107\">\n    <path d=\"M 398.815744 194.98975 \nL 398.815744 24.14175 \n\" style=\"fill: none; stroke: #000000; stroke-width: 0.8; stroke-linejoin: miter; stroke-linecap: square\"/>\n   </g>\n   <g id=\"patch_108\">\n    <path d=\"M 680.552643 194.98975 \nL 680.552643 24.14175 \n\" style=\"fill: none; stroke: #000000; stroke-width: 0.8; stroke-linejoin: miter; stroke-linecap: square\"/>\n   </g>\n   <g id=\"patch_109\">\n    <path d=\"M 398.815744 194.98975 \nL 680.552643 194.98975 \n\" style=\"fill: none; stroke: #000000; stroke-width: 0.8; stroke-linejoin: miter; stroke-linecap: square\"/>\n   </g>\n   <g id=\"patch_110\">\n    <path d=\"M 398.815744 24.14175 \nL 680.552643 24.14175 \n\" style=\"fill: none; stroke: #000000; stroke-width: 0.8; stroke-linejoin: miter; stroke-linecap: square\"/>\n   </g>\n   <g id=\"text_27\">\n    <!-- Cumulative probability -->\n    <g transform=\"translate(457.888818 18.14175) scale(0.144 -0.144)\">\n     <defs>\n      <path id=\"DejaVuSans-6d\" d=\"M 3328 2828 \nQ 3544 3216 3844 3400 \nQ 4144 3584 4550 3584 \nQ 5097 3584 5394 3201 \nQ 5691 2819 5691 2113 \nL 5691 0 \nL 5113 0 \nL 5113 2094 \nQ 5113 2597 4934 2840 \nQ 4756 3084 4391 3084 \nQ 3944 3084 3684 2787 \nQ 3425 2491 3425 1978 \nL 3425 0 \nL 2847 0 \nL 2847 2094 \nQ 2847 2600 2669 2842 \nQ 2491 3084 2119 3084 \nQ 1678 3084 1418 2786 \nQ 1159 2488 1159 1978 \nL 1159 0 \nL 581 0 \nL 581 3500 \nL 1159 3500 \nL 1159 2956 \nQ 1356 3278 1631 3431 \nQ 1906 3584 2284 3584 \nQ 2666 3584 2933 3390 \nQ 3200 3197 3328 2828 \nz\n\" transform=\"scale(0.015625)\"/>\n      <path id=\"DejaVuSans-76\" d=\"M 191 3500 \nL 800 3500 \nL 1894 563 \nL 2988 3500 \nL 3597 3500 \nL 2284 0 \nL 1503 0 \nL 191 3500 \nz\n\" transform=\"scale(0.015625)\"/>\n     </defs>\n     <use xlink:href=\"#DejaVuSans-43\"/>\n     <use xlink:href=\"#DejaVuSans-75\" x=\"69.824219\"/>\n     <use xlink:href=\"#DejaVuSans-6d\" x=\"133.203125\"/>\n     <use xlink:href=\"#DejaVuSans-75\" x=\"230.615234\"/>\n     <use xlink:href=\"#DejaVuSans-6c\" x=\"293.994141\"/>\n     <use xlink:href=\"#DejaVuSans-61\" x=\"321.777344\"/>\n     <use xlink:href=\"#DejaVuSans-74\" x=\"383.056641\"/>\n     <use xlink:href=\"#DejaVuSans-69\" x=\"422.265625\"/>\n     <use xlink:href=\"#DejaVuSans-76\" x=\"450.048828\"/>\n     <use xlink:href=\"#DejaVuSans-65\" x=\"509.228516\"/>\n     <use xlink:href=\"#DejaVuSans-20\" x=\"570.751953\"/>\n     <use xlink:href=\"#DejaVuSans-70\" x=\"602.539062\"/>\n     <use xlink:href=\"#DejaVuSans-72\" x=\"666.015625\"/>\n     <use xlink:href=\"#DejaVuSans-6f\" x=\"704.878906\"/>\n     <use xlink:href=\"#DejaVuSans-62\" x=\"766.060547\"/>\n     <use xlink:href=\"#DejaVuSans-61\" x=\"829.537109\"/>\n     <use xlink:href=\"#DejaVuSans-62\" x=\"890.816406\"/>\n     <use xlink:href=\"#DejaVuSans-69\" x=\"954.292969\"/>\n     <use xlink:href=\"#DejaVuSans-6c\" x=\"982.076172\"/>\n     <use xlink:href=\"#DejaVuSans-69\" x=\"1009.859375\"/>\n     <use xlink:href=\"#DejaVuSans-74\" x=\"1037.642578\"/>\n     <use xlink:href=\"#DejaVuSans-79\" x=\"1076.851562\"/>\n    </g>\n   </g>\n   <g id=\"legend_1\">\n    <g id=\"patch_111\">\n     <path d=\"M 469.480143 188.98975 \nL 672.152643 188.98975 \nQ 674.552643 188.98975 674.552643 186.58975 \nL 674.552643 152.56225 \nQ 674.552643 150.16225 672.152643 150.16225 \nL 469.480143 150.16225 \nQ 467.080143 150.16225 467.080143 152.56225 \nL 467.080143 186.58975 \nQ 467.080143 188.98975 469.480143 188.98975 \nz\n\" style=\"fill: #ffffff; opacity: 0.8; stroke: #cccccc; stroke-linejoin: miter\"/>\n    </g>\n    <g id=\"line2d_85\">\n     <path d=\"M 471.880143 159.880375 \nL 495.880143 159.880375 \n\" style=\"fill: none; stroke: #0071bc; stroke-width: 1.5\"/>\n    </g>\n    <g id=\"text_28\">\n     <!-- top-k threshold (k=2000) -->\n     <g transform=\"translate(505.480143 164.080375) scale(0.12 -0.12)\">\n      <defs>\n       <path id=\"DejaVuSans-2d\" d=\"M 313 2009 \nL 1997 2009 \nL 1997 1497 \nL 313 1497 \nL 313 2009 \nz\n\" transform=\"scale(0.015625)\"/>\n       <path id=\"DejaVuSans-68\" d=\"M 3513 2113 \nL 3513 0 \nL 2938 0 \nL 2938 2094 \nQ 2938 2591 2744 2837 \nQ 2550 3084 2163 3084 \nQ 1697 3084 1428 2787 \nQ 1159 2491 1159 1978 \nL 1159 0 \nL 581 0 \nL 581 4863 \nL 1159 4863 \nL 1159 2956 \nQ 1366 3272 1645 3428 \nQ 1925 3584 2291 3584 \nQ 2894 3584 3203 3211 \nQ 3513 2838 3513 2113 \nz\n\" transform=\"scale(0.015625)\"/>\n       <path id=\"DejaVuSans-3d\" d=\"M 678 2906 \nL 4684 2906 \nL 4684 2381 \nL 678 2381 \nL 678 2906 \nz\nM 678 1631 \nL 4684 1631 \nL 4684 1100 \nL 678 1100 \nL 678 1631 \nz\n\" transform=\"scale(0.015625)\"/>\n      </defs>\n      <use xlink:href=\"#DejaVuSans-74\"/>\n      <use xlink:href=\"#DejaVuSans-6f\" x=\"39.208984\"/>\n      <use xlink:href=\"#DejaVuSans-70\" x=\"100.390625\"/>\n      <use xlink:href=\"#DejaVuSans-2d\" x=\"163.867188\"/>\n      <use xlink:href=\"#DejaVuSans-6b\" x=\"199.951172\"/>\n      <use xlink:href=\"#DejaVuSans-20\" x=\"257.861328\"/>\n      <use xlink:href=\"#DejaVuSans-74\" x=\"289.648438\"/>\n      <use xlink:href=\"#DejaVuSans-68\" x=\"328.857422\"/>\n      <use xlink:href=\"#DejaVuSans-72\" x=\"392.236328\"/>\n      <use xlink:href=\"#DejaVuSans-65\" x=\"431.099609\"/>\n      <use xlink:href=\"#DejaVuSans-73\" x=\"492.623047\"/>\n      <use xlink:href=\"#DejaVuSans-68\" x=\"544.722656\"/>\n      <use xlink:href=\"#DejaVuSans-6f\" x=\"608.101562\"/>\n      <use xlink:href=\"#DejaVuSans-6c\" x=\"669.283203\"/>\n      <use xlink:href=\"#DejaVuSans-64\" x=\"697.066406\"/>\n      <use xlink:href=\"#DejaVuSans-20\" x=\"760.542969\"/>\n      <use xlink:href=\"#DejaVuSans-28\" x=\"792.330078\"/>\n      <use xlink:href=\"#DejaVuSans-6b\" x=\"831.34375\"/>\n      <use xlink:href=\"#DejaVuSans-3d\" x=\"889.253906\"/>\n      <use xlink:href=\"#DejaVuSans-32\" x=\"973.042969\"/>\n      <use xlink:href=\"#DejaVuSans-30\" x=\"1036.666016\"/>\n      <use xlink:href=\"#DejaVuSans-30\" x=\"1100.289062\"/>\n      <use xlink:href=\"#DejaVuSans-30\" x=\"1163.912109\"/>\n      <use xlink:href=\"#DejaVuSans-29\" x=\"1227.535156\"/>\n     </g>\n    </g>\n    <g id=\"line2d_86\">\n     <path d=\"M 471.880143 177.494125 \nL 495.880143 177.494125 \n\" style=\"fill: none; stroke-dasharray: 5.55,2.4; stroke-dashoffset: 0; stroke: #f7931e; stroke-width: 1.5\"/>\n    </g>\n    <g id=\"text_29\">\n     <!-- nucleus threshold (p=0.95) -->\n     <g transform=\"translate(505.480143 181.694125) scale(0.12 -0.12)\">\n      <use xlink:href=\"#DejaVuSans-6e\"/>\n      <use xlink:href=\"#DejaVuSans-75\" x=\"63.378906\"/>\n      <use xlink:href=\"#DejaVuSans-63\" x=\"126.757812\"/>\n      <use xlink:href=\"#DejaVuSans-6c\" x=\"181.738281\"/>\n      <use xlink:href=\"#DejaVuSans-65\" x=\"209.521484\"/>\n      <use xlink:href=\"#DejaVuSans-75\" x=\"271.044922\"/>\n      <use xlink:href=\"#DejaVuSans-73\" x=\"334.423828\"/>\n      <use xlink:href=\"#DejaVuSans-20\" x=\"386.523438\"/>\n      <use xlink:href=\"#DejaVuSans-74\" x=\"418.310547\"/>\n      <use xlink:href=\"#DejaVuSans-68\" x=\"457.519531\"/>\n      <use xlink:href=\"#DejaVuSans-72\" x=\"520.898438\"/>\n      <use xlink:href=\"#DejaVuSans-65\" x=\"559.761719\"/>\n      <use xlink:href=\"#DejaVuSans-73\" x=\"621.285156\"/>\n      <use xlink:href=\"#DejaVuSans-68\" x=\"673.384766\"/>\n      <use xlink:href=\"#DejaVuSans-6f\" x=\"736.763672\"/>\n      <use xlink:href=\"#DejaVuSans-6c\" x=\"797.945312\"/>\n      <use xlink:href=\"#DejaVuSans-64\" x=\"825.728516\"/>\n      <use xlink:href=\"#DejaVuSans-20\" x=\"889.205078\"/>\n      <use xlink:href=\"#DejaVuSans-28\" x=\"920.992188\"/>\n      <use xlink:href=\"#DejaVuSans-70\" x=\"960.005859\"/>\n      <use xlink:href=\"#DejaVuSans-3d\" x=\"1023.482422\"/>\n      <use xlink:href=\"#DejaVuSans-30\" x=\"1107.271484\"/>\n      <use xlink:href=\"#DejaVuSans-2e\" x=\"1170.894531\"/>\n      <use xlink:href=\"#DejaVuSans-39\" x=\"1202.681641\"/>\n      <use xlink:href=\"#DejaVuSans-35\" x=\"1266.304688\"/>\n      <use xlink:href=\"#DejaVuSans-29\" x=\"1329.927734\"/>\n     </g>\n    </g>\n   </g>\n  </g>\n </g>\n <defs>\n  <clipPath id=\"pcf68c74c02\">\n   <rect x=\"50.93375\" y=\"24.14175\" width=\"281.736898\" height=\"170.848\"/>\n  </clipPath>\n  <clipPath id=\"p7c19e42152\">\n   <rect x=\"398.815744\" y=\"24.14175\" width=\"281.736898\" height=\"170.848\"/>\n  </clipPath>\n </defs>\n</svg>\n",
            "application/pdf": "[encoded data removed]"
          },
          "metadata": {}
        }
      ],
      "source": [
        "# hide_input\n",
        "\n",
        "#id distribution\n",
        "#alt Probability distribution of next token prediction.\n",
        "#caption Probability distribution of next token prediction (left) and cumulative distribution of descending token probabilities\n",
        "\n",
        "import matplotlib.pyplot as plt\n",
        "import numpy as np\n",
        "\n",
        "fig, axes = plt.subplots(1, 2, figsize=(10, 3.5))\n",
        "\n",
        "axes[0].hist(probs[0], bins=np.logspace(-10, -1, 100), color=\"C0\", edgecolor=\"C0\")\n",
        "axes[0].set_xscale(\"log\")\n",
        "axes[0].set_yscale(\"log\")\n",
        "axes[0].set_title(\"Probability distribution\")\n",
        "axes[0].set_xlabel(\"Probability\")\n",
        "axes[0].set_ylabel(\"Count\")\n",
        "#axes[0].grid(which=\"major\")\n",
        "\n",
        "axes[1].plot(np.cumsum(np.sort(probs[0])[::-1]), color=\"black\")\n",
        "axes[1].set_xlim([0, 10000])\n",
        "axes[1].set_ylim([0.75, 1.01])\n",
        "axes[1].set_title(\"Cumulative probability\")\n",
        "axes[1].set_ylabel(\"Probability\")\n",
        "axes[1].set_xlabel(\"Token (descending probability)\")\n",
        "#axes[1].grid(which=\"major\")\n",
        "axes[1].minorticks_on()\n",
        "#axes[1].grid(which='minor', linewidth='0.5')\n",
        "top_k_label = 'top-k threshold (k=2000)'\n",
        "top_p_label = 'nucleus threshold (p=0.95)'\n",
        "axes[1].vlines(x=2000, ymin=0, ymax=2, color='C0', label=top_k_label)\n",
        "axes[1].hlines(y=0.95, xmin=0, xmax=10000, color='C1', label=top_p_label, linestyle='--')\n",
        "axes[1].legend(loc='lower right')\n",
        "plt.tight_layout()"
      ]
    },
    {
      "cell_type": "code",
      "execution_count": 44,
      "metadata": {
        "id": "mL99rkhh3vSM"
      },
      "outputs": [],
      "source": [
        "# hide\n",
        "torch.manual_seed(42);"
      ]
    },
    {
      "cell_type": "code",
      "execution_count": 45,
      "metadata": {
        "colab": {
          "base_uri": "https://localhost:8080/"
        },
        "id": "Q75pc9P43vSM",
        "outputId": "abe503c6-ab80-431d-d9c1-31a0702b6488"
      },
      "outputs": [
        {
          "output_type": "stream",
          "name": "stdout",
          "text": [
            "In a shocking finding, scientist discovered a herd of unicorns living in a\n",
            "remote, previously unexplored valley, in the Andes Mountains. Even more\n",
            "surprising to the researchers was the fact that the unicorns spoke perfect\n",
            "English.\n",
            "\n",
            "\n",
            "The scientists studied the DNA of the animals and came across a population of\n",
            "unicorns living in a mountain valley 200 km west of Chaco, Argentina.\n",
            "\n",
            "\n",
            "In the years since the research led by Dr. Gabriel Gonzalez-Rozas and Dr. Jose\n",
            "Luis Diaz was published, the findings have been received wide condemnation from\n",
            "the media, the UN and members of the public. Although there are many problems\n"
          ]
        }
      ],
      "source": [
        "output_topk = model.generate(input_ids, max_length=max_length, do_sample=True,\n",
        "                             top_k=50)\n",
        "print(tokenizer.decode(output_topk[0]))"
      ]
    },
    {
      "cell_type": "code",
      "execution_count": 46,
      "metadata": {
        "id": "O19jqpYw3vSM"
      },
      "outputs": [],
      "source": [
        "# hide\n",
        "torch.manual_seed(42);"
      ]
    },
    {
      "cell_type": "code",
      "execution_count": 47,
      "metadata": {
        "colab": {
          "base_uri": "https://localhost:8080/"
        },
        "id": "kqJSOjaC3vSM",
        "outputId": "66f8de4f-055b-4dbc-d0f3-e6d799afc0b1"
      },
      "outputs": [
        {
          "output_type": "stream",
          "name": "stdout",
          "text": [
            "In a shocking finding, scientist discovered a herd of unicorns living in a\n",
            "remote, previously unexplored valley, in the Andes Mountains. Even more\n",
            "surprising to the researchers was the fact that the unicorns spoke perfect\n",
            "English.\n",
            "\n",
            "\n",
            "The scientists studied the DNA of the animals and came across a population of\n",
            "unicorns living in a mountain valley. The group of unicorns, called Xanthomorpha\n",
            "(Xo), had a common ancestor, a species of bison called Xanthosoma, that existed\n",
            "at about 10,000 years ago. In a recent study, the scientists found a population\n",
            "of Xanthomorpha living\n"
          ]
        }
      ],
      "source": [
        "output_topp = model.generate(input_ids, max_length=max_length, do_sample=True,\n",
        "                             top_p=0.90)\n",
        "print(tokenizer.decode(output_topp[0]))"
      ]
    },
    {
      "cell_type": "markdown",
      "metadata": {
        "id": "SVfG-GlN3vSM"
      },
      "source": [
        "## Which Decoding Method Is Best?"
      ]
    },
    {
      "cell_type": "markdown",
      "metadata": {
        "id": "2_5n-juy3vSM"
      },
      "source": [
        "## Conclusion"
      ]
    }
  ],
  "metadata": {
    "kernelspec": {
      "display_name": "Python 3",
      "name": "python3"
    },
    "colab": {
      "provenance": [],
      "gpuType": "T4"
    },
    "accelerator": "GPU",
    "widgets": {
      "application/vnd.jupyter.widget-state+json": {
        "4110dfc01ab642a9899a4c782e844bdb": {
          "model_module": "@jupyter-widgets/controls",
          "model_name": "HBoxModel",
          "model_module_version": "1.5.0",
          "state": {
            "_dom_classes": [],
            "_model_module": "@jupyter-widgets/controls",
            "_model_module_version": "1.5.0",
            "_model_name": "HBoxModel",
            "_view_count": null,
            "_view_module": "@jupyter-widgets/controls",
            "_view_module_version": "1.5.0",
            "_view_name": "HBoxView",
            "box_style": "",
            "children": [
              "IPY_MODEL_c42f8f21abad46ddbc3bd293ca6a5ed0",
              "IPY_MODEL_8747b9f57fca4aeab08586b85e39874b",
              "IPY_MODEL_71419e8dcb1741b894783092cbfe6d23"
            ],
            "layout": "IPY_MODEL_b523954a85644d3ab727514b5b2a4c07"
          }
        },
        "c42f8f21abad46ddbc3bd293ca6a5ed0": {
          "model_module": "@jupyter-widgets/controls",
          "model_name": "HTMLModel",
          "model_module_version": "1.5.0",
          "state": {
            "_dom_classes": [],
            "_model_module": "@jupyter-widgets/controls",
            "_model_module_version": "1.5.0",
            "_model_name": "HTMLModel",
            "_view_count": null,
            "_view_module": "@jupyter-widgets/controls",
            "_view_module_version": "1.5.0",
            "_view_name": "HTMLView",
            "description": "",
            "description_tooltip": null,
            "layout": "IPY_MODEL_75b0f2db23ed4f62805745cbd6f02288",
            "placeholder": "​",
            "style": "IPY_MODEL_b0b62b7731774fb7b92248d1e6cd8669",
            "value": "Downloading: 100%"
          }
        },
        "8747b9f57fca4aeab08586b85e39874b": {
          "model_module": "@jupyter-widgets/controls",
          "model_name": "FloatProgressModel",
          "model_module_version": "1.5.0",
          "state": {
            "_dom_classes": [],
            "_model_module": "@jupyter-widgets/controls",
            "_model_module_version": "1.5.0",
            "_model_name": "FloatProgressModel",
            "_view_count": null,
            "_view_module": "@jupyter-widgets/controls",
            "_view_module_version": "1.5.0",
            "_view_name": "ProgressView",
            "bar_style": "success",
            "description": "",
            "description_tooltip": null,
            "layout": "IPY_MODEL_070899f843184e8a9a76a87696f67683",
            "max": 718,
            "min": 0,
            "orientation": "horizontal",
            "style": "IPY_MODEL_593ca75e512442968bde6a3cfa06e54f",
            "value": 718
          }
        },
        "71419e8dcb1741b894783092cbfe6d23": {
          "model_module": "@jupyter-widgets/controls",
          "model_name": "HTMLModel",
          "model_module_version": "1.5.0",
          "state": {
            "_dom_classes": [],
            "_model_module": "@jupyter-widgets/controls",
            "_model_module_version": "1.5.0",
            "_model_name": "HTMLModel",
            "_view_count": null,
            "_view_module": "@jupyter-widgets/controls",
            "_view_module_version": "1.5.0",
            "_view_name": "HTMLView",
            "description": "",
            "description_tooltip": null,
            "layout": "IPY_MODEL_edc35bc833ad42f3bb9a0abe512f08da",
            "placeholder": "​",
            "style": "IPY_MODEL_a726b7289679465086cd1a8172f86199",
            "value": " 718/718 [00:00&lt;00:00, 20.2kB/s]"
          }
        },
        "b523954a85644d3ab727514b5b2a4c07": {
          "model_module": "@jupyter-widgets/base",
          "model_name": "LayoutModel",
          "model_module_version": "1.2.0",
          "state": {
            "_model_module": "@jupyter-widgets/base",
            "_model_module_version": "1.2.0",
            "_model_name": "LayoutModel",
            "_view_count": null,
            "_view_module": "@jupyter-widgets/base",
            "_view_module_version": "1.2.0",
            "_view_name": "LayoutView",
            "align_content": null,
            "align_items": null,
            "align_self": null,
            "border": null,
            "bottom": null,
            "display": null,
            "flex": null,
            "flex_flow": null,
            "grid_area": null,
            "grid_auto_columns": null,
            "grid_auto_flow": null,
            "grid_auto_rows": null,
            "grid_column": null,
            "grid_gap": null,
            "grid_row": null,
            "grid_template_areas": null,
            "grid_template_columns": null,
            "grid_template_rows": null,
            "height": null,
            "justify_content": null,
            "justify_items": null,
            "left": null,
            "margin": null,
            "max_height": null,
            "max_width": null,
            "min_height": null,
            "min_width": null,
            "object_fit": null,
            "object_position": null,
            "order": null,
            "overflow": null,
            "overflow_x": null,
            "overflow_y": null,
            "padding": null,
            "right": null,
            "top": null,
            "visibility": null,
            "width": null
          }
        },
        "75b0f2db23ed4f62805745cbd6f02288": {
          "model_module": "@jupyter-widgets/base",
          "model_name": "LayoutModel",
          "model_module_version": "1.2.0",
          "state": {
            "_model_module": "@jupyter-widgets/base",
            "_model_module_version": "1.2.0",
            "_model_name": "LayoutModel",
            "_view_count": null,
            "_view_module": "@jupyter-widgets/base",
            "_view_module_version": "1.2.0",
            "_view_name": "LayoutView",
            "align_content": null,
            "align_items": null,
            "align_self": null,
            "border": null,
            "bottom": null,
            "display": null,
            "flex": null,
            "flex_flow": null,
            "grid_area": null,
            "grid_auto_columns": null,
            "grid_auto_flow": null,
            "grid_auto_rows": null,
            "grid_column": null,
            "grid_gap": null,
            "grid_row": null,
            "grid_template_areas": null,
            "grid_template_columns": null,
            "grid_template_rows": null,
            "height": null,
            "justify_content": null,
            "justify_items": null,
            "left": null,
            "margin": null,
            "max_height": null,
            "max_width": null,
            "min_height": null,
            "min_width": null,
            "object_fit": null,
            "object_position": null,
            "order": null,
            "overflow": null,
            "overflow_x": null,
            "overflow_y": null,
            "padding": null,
            "right": null,
            "top": null,
            "visibility": null,
            "width": null
          }
        },
        "b0b62b7731774fb7b92248d1e6cd8669": {
          "model_module": "@jupyter-widgets/controls",
          "model_name": "DescriptionStyleModel",
          "model_module_version": "1.5.0",
          "state": {
            "_model_module": "@jupyter-widgets/controls",
            "_model_module_version": "1.5.0",
            "_model_name": "DescriptionStyleModel",
            "_view_count": null,
            "_view_module": "@jupyter-widgets/base",
            "_view_module_version": "1.2.0",
            "_view_name": "StyleView",
            "description_width": ""
          }
        },
        "070899f843184e8a9a76a87696f67683": {
          "model_module": "@jupyter-widgets/base",
          "model_name": "LayoutModel",
          "model_module_version": "1.2.0",
          "state": {
            "_model_module": "@jupyter-widgets/base",
            "_model_module_version": "1.2.0",
            "_model_name": "LayoutModel",
            "_view_count": null,
            "_view_module": "@jupyter-widgets/base",
            "_view_module_version": "1.2.0",
            "_view_name": "LayoutView",
            "align_content": null,
            "align_items": null,
            "align_self": null,
            "border": null,
            "bottom": null,
            "display": null,
            "flex": null,
            "flex_flow": null,
            "grid_area": null,
            "grid_auto_columns": null,
            "grid_auto_flow": null,
            "grid_auto_rows": null,
            "grid_column": null,
            "grid_gap": null,
            "grid_row": null,
            "grid_template_areas": null,
            "grid_template_columns": null,
            "grid_template_rows": null,
            "height": null,
            "justify_content": null,
            "justify_items": null,
            "left": null,
            "margin": null,
            "max_height": null,
            "max_width": null,
            "min_height": null,
            "min_width": null,
            "object_fit": null,
            "object_position": null,
            "order": null,
            "overflow": null,
            "overflow_x": null,
            "overflow_y": null,
            "padding": null,
            "right": null,
            "top": null,
            "visibility": null,
            "width": null
          }
        },
        "593ca75e512442968bde6a3cfa06e54f": {
          "model_module": "@jupyter-widgets/controls",
          "model_name": "ProgressStyleModel",
          "model_module_version": "1.5.0",
          "state": {
            "_model_module": "@jupyter-widgets/controls",
            "_model_module_version": "1.5.0",
            "_model_name": "ProgressStyleModel",
            "_view_count": null,
            "_view_module": "@jupyter-widgets/base",
            "_view_module_version": "1.2.0",
            "_view_name": "StyleView",
            "bar_color": null,
            "description_width": ""
          }
        },
        "edc35bc833ad42f3bb9a0abe512f08da": {
          "model_module": "@jupyter-widgets/base",
          "model_name": "LayoutModel",
          "model_module_version": "1.2.0",
          "state": {
            "_model_module": "@jupyter-widgets/base",
            "_model_module_version": "1.2.0",
            "_model_name": "LayoutModel",
            "_view_count": null,
            "_view_module": "@jupyter-widgets/base",
            "_view_module_version": "1.2.0",
            "_view_name": "LayoutView",
            "align_content": null,
            "align_items": null,
            "align_self": null,
            "border": null,
            "bottom": null,
            "display": null,
            "flex": null,
            "flex_flow": null,
            "grid_area": null,
            "grid_auto_columns": null,
            "grid_auto_flow": null,
            "grid_auto_rows": null,
            "grid_column": null,
            "grid_gap": null,
            "grid_row": null,
            "grid_template_areas": null,
            "grid_template_columns": null,
            "grid_template_rows": null,
            "height": null,
            "justify_content": null,
            "justify_items": null,
            "left": null,
            "margin": null,
            "max_height": null,
            "max_width": null,
            "min_height": null,
            "min_width": null,
            "object_fit": null,
            "object_position": null,
            "order": null,
            "overflow": null,
            "overflow_x": null,
            "overflow_y": null,
            "padding": null,
            "right": null,
            "top": null,
            "visibility": null,
            "width": null
          }
        },
        "a726b7289679465086cd1a8172f86199": {
          "model_module": "@jupyter-widgets/controls",
          "model_name": "DescriptionStyleModel",
          "model_module_version": "1.5.0",
          "state": {
            "_model_module": "@jupyter-widgets/controls",
            "_model_module_version": "1.5.0",
            "_model_name": "DescriptionStyleModel",
            "_view_count": null,
            "_view_module": "@jupyter-widgets/base",
            "_view_module_version": "1.2.0",
            "_view_name": "StyleView",
            "description_width": ""
          }
        },
        "cbcbbaf694f349c4aaa8de7279b63ece": {
          "model_module": "@jupyter-widgets/controls",
          "model_name": "HBoxModel",
          "model_module_version": "1.5.0",
          "state": {
            "_dom_classes": [],
            "_model_module": "@jupyter-widgets/controls",
            "_model_module_version": "1.5.0",
            "_model_name": "HBoxModel",
            "_view_count": null,
            "_view_module": "@jupyter-widgets/controls",
            "_view_module_version": "1.5.0",
            "_view_name": "HBoxView",
            "box_style": "",
            "children": [
              "IPY_MODEL_217fa118678e4e339eb423bd3548dd8d",
              "IPY_MODEL_88f0a2beb2914cf3835a8d1c7a63449f",
              "IPY_MODEL_2794d0eb0c244b3592004b62dd9a6b48"
            ],
            "layout": "IPY_MODEL_aad568577e114c4c89f7ab68716d10fd"
          }
        },
        "217fa118678e4e339eb423bd3548dd8d": {
          "model_module": "@jupyter-widgets/controls",
          "model_name": "HTMLModel",
          "model_module_version": "1.5.0",
          "state": {
            "_dom_classes": [],
            "_model_module": "@jupyter-widgets/controls",
            "_model_module_version": "1.5.0",
            "_model_name": "HTMLModel",
            "_view_count": null,
            "_view_module": "@jupyter-widgets/controls",
            "_view_module_version": "1.5.0",
            "_view_name": "HTMLView",
            "description": "",
            "description_tooltip": null,
            "layout": "IPY_MODEL_048621a95dc444f3b1b88d0742666a20",
            "placeholder": "​",
            "style": "IPY_MODEL_e890494cfa55437695b4f4d370fcee87",
            "value": "Downloading: 100%"
          }
        },
        "88f0a2beb2914cf3835a8d1c7a63449f": {
          "model_module": "@jupyter-widgets/controls",
          "model_name": "FloatProgressModel",
          "model_module_version": "1.5.0",
          "state": {
            "_dom_classes": [],
            "_model_module": "@jupyter-widgets/controls",
            "_model_module_version": "1.5.0",
            "_model_name": "FloatProgressModel",
            "_view_count": null,
            "_view_module": "@jupyter-widgets/controls",
            "_view_module_version": "1.5.0",
            "_view_name": "ProgressView",
            "bar_style": "success",
            "description": "",
            "description_tooltip": null,
            "layout": "IPY_MODEL_5e02865a7d2c44058f1f55acf62d70fa",
            "max": 1042301,
            "min": 0,
            "orientation": "horizontal",
            "style": "IPY_MODEL_0c3ab6748fff47cab8b041b8395db453",
            "value": 1042301
          }
        },
        "2794d0eb0c244b3592004b62dd9a6b48": {
          "model_module": "@jupyter-widgets/controls",
          "model_name": "HTMLModel",
          "model_module_version": "1.5.0",
          "state": {
            "_dom_classes": [],
            "_model_module": "@jupyter-widgets/controls",
            "_model_module_version": "1.5.0",
            "_model_name": "HTMLModel",
            "_view_count": null,
            "_view_module": "@jupyter-widgets/controls",
            "_view_module_version": "1.5.0",
            "_view_name": "HTMLView",
            "description": "",
            "description_tooltip": null,
            "layout": "IPY_MODEL_b68192ee570c48b0a891e448b0ee3dea",
            "placeholder": "​",
            "style": "IPY_MODEL_1bbe15919f33413ca4f7d5b9cbb8fbb5",
            "value": " 0.99M/0.99M [00:00&lt;00:00, 2.76MB/s]"
          }
        },
        "aad568577e114c4c89f7ab68716d10fd": {
          "model_module": "@jupyter-widgets/base",
          "model_name": "LayoutModel",
          "model_module_version": "1.2.0",
          "state": {
            "_model_module": "@jupyter-widgets/base",
            "_model_module_version": "1.2.0",
            "_model_name": "LayoutModel",
            "_view_count": null,
            "_view_module": "@jupyter-widgets/base",
            "_view_module_version": "1.2.0",
            "_view_name": "LayoutView",
            "align_content": null,
            "align_items": null,
            "align_self": null,
            "border": null,
            "bottom": null,
            "display": null,
            "flex": null,
            "flex_flow": null,
            "grid_area": null,
            "grid_auto_columns": null,
            "grid_auto_flow": null,
            "grid_auto_rows": null,
            "grid_column": null,
            "grid_gap": null,
            "grid_row": null,
            "grid_template_areas": null,
            "grid_template_columns": null,
            "grid_template_rows": null,
            "height": null,
            "justify_content": null,
            "justify_items": null,
            "left": null,
            "margin": null,
            "max_height": null,
            "max_width": null,
            "min_height": null,
            "min_width": null,
            "object_fit": null,
            "object_position": null,
            "order": null,
            "overflow": null,
            "overflow_x": null,
            "overflow_y": null,
            "padding": null,
            "right": null,
            "top": null,
            "visibility": null,
            "width": null
          }
        },
        "048621a95dc444f3b1b88d0742666a20": {
          "model_module": "@jupyter-widgets/base",
          "model_name": "LayoutModel",
          "model_module_version": "1.2.0",
          "state": {
            "_model_module": "@jupyter-widgets/base",
            "_model_module_version": "1.2.0",
            "_model_name": "LayoutModel",
            "_view_count": null,
            "_view_module": "@jupyter-widgets/base",
            "_view_module_version": "1.2.0",
            "_view_name": "LayoutView",
            "align_content": null,
            "align_items": null,
            "align_self": null,
            "border": null,
            "bottom": null,
            "display": null,
            "flex": null,
            "flex_flow": null,
            "grid_area": null,
            "grid_auto_columns": null,
            "grid_auto_flow": null,
            "grid_auto_rows": null,
            "grid_column": null,
            "grid_gap": null,
            "grid_row": null,
            "grid_template_areas": null,
            "grid_template_columns": null,
            "grid_template_rows": null,
            "height": null,
            "justify_content": null,
            "justify_items": null,
            "left": null,
            "margin": null,
            "max_height": null,
            "max_width": null,
            "min_height": null,
            "min_width": null,
            "object_fit": null,
            "object_position": null,
            "order": null,
            "overflow": null,
            "overflow_x": null,
            "overflow_y": null,
            "padding": null,
            "right": null,
            "top": null,
            "visibility": null,
            "width": null
          }
        },
        "e890494cfa55437695b4f4d370fcee87": {
          "model_module": "@jupyter-widgets/controls",
          "model_name": "DescriptionStyleModel",
          "model_module_version": "1.5.0",
          "state": {
            "_model_module": "@jupyter-widgets/controls",
            "_model_module_version": "1.5.0",
            "_model_name": "DescriptionStyleModel",
            "_view_count": null,
            "_view_module": "@jupyter-widgets/base",
            "_view_module_version": "1.2.0",
            "_view_name": "StyleView",
            "description_width": ""
          }
        },
        "5e02865a7d2c44058f1f55acf62d70fa": {
          "model_module": "@jupyter-widgets/base",
          "model_name": "LayoutModel",
          "model_module_version": "1.2.0",
          "state": {
            "_model_module": "@jupyter-widgets/base",
            "_model_module_version": "1.2.0",
            "_model_name": "LayoutModel",
            "_view_count": null,
            "_view_module": "@jupyter-widgets/base",
            "_view_module_version": "1.2.0",
            "_view_name": "LayoutView",
            "align_content": null,
            "align_items": null,
            "align_self": null,
            "border": null,
            "bottom": null,
            "display": null,
            "flex": null,
            "flex_flow": null,
            "grid_area": null,
            "grid_auto_columns": null,
            "grid_auto_flow": null,
            "grid_auto_rows": null,
            "grid_column": null,
            "grid_gap": null,
            "grid_row": null,
            "grid_template_areas": null,
            "grid_template_columns": null,
            "grid_template_rows": null,
            "height": null,
            "justify_content": null,
            "justify_items": null,
            "left": null,
            "margin": null,
            "max_height": null,
            "max_width": null,
            "min_height": null,
            "min_width": null,
            "object_fit": null,
            "object_position": null,
            "order": null,
            "overflow": null,
            "overflow_x": null,
            "overflow_y": null,
            "padding": null,
            "right": null,
            "top": null,
            "visibility": null,
            "width": null
          }
        },
        "0c3ab6748fff47cab8b041b8395db453": {
          "model_module": "@jupyter-widgets/controls",
          "model_name": "ProgressStyleModel",
          "model_module_version": "1.5.0",
          "state": {
            "_model_module": "@jupyter-widgets/controls",
            "_model_module_version": "1.5.0",
            "_model_name": "ProgressStyleModel",
            "_view_count": null,
            "_view_module": "@jupyter-widgets/base",
            "_view_module_version": "1.2.0",
            "_view_name": "StyleView",
            "bar_color": null,
            "description_width": ""
          }
        },
        "b68192ee570c48b0a891e448b0ee3dea": {
          "model_module": "@jupyter-widgets/base",
          "model_name": "LayoutModel",
          "model_module_version": "1.2.0",
          "state": {
            "_model_module": "@jupyter-widgets/base",
            "_model_module_version": "1.2.0",
            "_model_name": "LayoutModel",
            "_view_count": null,
            "_view_module": "@jupyter-widgets/base",
            "_view_module_version": "1.2.0",
            "_view_name": "LayoutView",
            "align_content": null,
            "align_items": null,
            "align_self": null,
            "border": null,
            "bottom": null,
            "display": null,
            "flex": null,
            "flex_flow": null,
            "grid_area": null,
            "grid_auto_columns": null,
            "grid_auto_flow": null,
            "grid_auto_rows": null,
            "grid_column": null,
            "grid_gap": null,
            "grid_row": null,
            "grid_template_areas": null,
            "grid_template_columns": null,
            "grid_template_rows": null,
            "height": null,
            "justify_content": null,
            "justify_items": null,
            "left": null,
            "margin": null,
            "max_height": null,
            "max_width": null,
            "min_height": null,
            "min_width": null,
            "object_fit": null,
            "object_position": null,
            "order": null,
            "overflow": null,
            "overflow_x": null,
            "overflow_y": null,
            "padding": null,
            "right": null,
            "top": null,
            "visibility": null,
            "width": null
          }
        },
        "1bbe15919f33413ca4f7d5b9cbb8fbb5": {
          "model_module": "@jupyter-widgets/controls",
          "model_name": "DescriptionStyleModel",
          "model_module_version": "1.5.0",
          "state": {
            "_model_module": "@jupyter-widgets/controls",
            "_model_module_version": "1.5.0",
            "_model_name": "DescriptionStyleModel",
            "_view_count": null,
            "_view_module": "@jupyter-widgets/base",
            "_view_module_version": "1.2.0",
            "_view_name": "StyleView",
            "description_width": ""
          }
        },
        "e9d0568029cd4e1ca2043e84f5cce0d7": {
          "model_module": "@jupyter-widgets/controls",
          "model_name": "HBoxModel",
          "model_module_version": "1.5.0",
          "state": {
            "_dom_classes": [],
            "_model_module": "@jupyter-widgets/controls",
            "_model_module_version": "1.5.0",
            "_model_name": "HBoxModel",
            "_view_count": null,
            "_view_module": "@jupyter-widgets/controls",
            "_view_module_version": "1.5.0",
            "_view_name": "HBoxView",
            "box_style": "",
            "children": [
              "IPY_MODEL_07324d13746f40c29320a61abfceebc0",
              "IPY_MODEL_678146be2e72480bb9cec70823113d2b",
              "IPY_MODEL_dc2c4421389e47469b0c590758e5c686"
            ],
            "layout": "IPY_MODEL_b91313a3dc9c4dafb31839d3fc5a5b6f"
          }
        },
        "07324d13746f40c29320a61abfceebc0": {
          "model_module": "@jupyter-widgets/controls",
          "model_name": "HTMLModel",
          "model_module_version": "1.5.0",
          "state": {
            "_dom_classes": [],
            "_model_module": "@jupyter-widgets/controls",
            "_model_module_version": "1.5.0",
            "_model_name": "HTMLModel",
            "_view_count": null,
            "_view_module": "@jupyter-widgets/controls",
            "_view_module_version": "1.5.0",
            "_view_name": "HTMLView",
            "description": "",
            "description_tooltip": null,
            "layout": "IPY_MODEL_f5d8cc94a29f403c815a48e61ae1b8fe",
            "placeholder": "​",
            "style": "IPY_MODEL_6f9ca94bb6684d939663bbc4695f200d",
            "value": "Downloading: 100%"
          }
        },
        "678146be2e72480bb9cec70823113d2b": {
          "model_module": "@jupyter-widgets/controls",
          "model_name": "FloatProgressModel",
          "model_module_version": "1.5.0",
          "state": {
            "_dom_classes": [],
            "_model_module": "@jupyter-widgets/controls",
            "_model_module_version": "1.5.0",
            "_model_name": "FloatProgressModel",
            "_view_count": null,
            "_view_module": "@jupyter-widgets/controls",
            "_view_module_version": "1.5.0",
            "_view_name": "ProgressView",
            "bar_style": "success",
            "description": "",
            "description_tooltip": null,
            "layout": "IPY_MODEL_b498ea36a10a47b888f4e91f9c69f7cc",
            "max": 456318,
            "min": 0,
            "orientation": "horizontal",
            "style": "IPY_MODEL_38395cdd50e8430c9f7a9cd24f7f3528",
            "value": 456318
          }
        },
        "dc2c4421389e47469b0c590758e5c686": {
          "model_module": "@jupyter-widgets/controls",
          "model_name": "HTMLModel",
          "model_module_version": "1.5.0",
          "state": {
            "_dom_classes": [],
            "_model_module": "@jupyter-widgets/controls",
            "_model_module_version": "1.5.0",
            "_model_name": "HTMLModel",
            "_view_count": null,
            "_view_module": "@jupyter-widgets/controls",
            "_view_module_version": "1.5.0",
            "_view_name": "HTMLView",
            "description": "",
            "description_tooltip": null,
            "layout": "IPY_MODEL_ffec62102871455e947251d8ad287c00",
            "placeholder": "​",
            "style": "IPY_MODEL_bd1ae88bfed74e66a738182a9a0769c6",
            "value": " 446k/446k [00:00&lt;00:00, 3.45MB/s]"
          }
        },
        "b91313a3dc9c4dafb31839d3fc5a5b6f": {
          "model_module": "@jupyter-widgets/base",
          "model_name": "LayoutModel",
          "model_module_version": "1.2.0",
          "state": {
            "_model_module": "@jupyter-widgets/base",
            "_model_module_version": "1.2.0",
            "_model_name": "LayoutModel",
            "_view_count": null,
            "_view_module": "@jupyter-widgets/base",
            "_view_module_version": "1.2.0",
            "_view_name": "LayoutView",
            "align_content": null,
            "align_items": null,
            "align_self": null,
            "border": null,
            "bottom": null,
            "display": null,
            "flex": null,
            "flex_flow": null,
            "grid_area": null,
            "grid_auto_columns": null,
            "grid_auto_flow": null,
            "grid_auto_rows": null,
            "grid_column": null,
            "grid_gap": null,
            "grid_row": null,
            "grid_template_areas": null,
            "grid_template_columns": null,
            "grid_template_rows": null,
            "height": null,
            "justify_content": null,
            "justify_items": null,
            "left": null,
            "margin": null,
            "max_height": null,
            "max_width": null,
            "min_height": null,
            "min_width": null,
            "object_fit": null,
            "object_position": null,
            "order": null,
            "overflow": null,
            "overflow_x": null,
            "overflow_y": null,
            "padding": null,
            "right": null,
            "top": null,
            "visibility": null,
            "width": null
          }
        },
        "f5d8cc94a29f403c815a48e61ae1b8fe": {
          "model_module": "@jupyter-widgets/base",
          "model_name": "LayoutModel",
          "model_module_version": "1.2.0",
          "state": {
            "_model_module": "@jupyter-widgets/base",
            "_model_module_version": "1.2.0",
            "_model_name": "LayoutModel",
            "_view_count": null,
            "_view_module": "@jupyter-widgets/base",
            "_view_module_version": "1.2.0",
            "_view_name": "LayoutView",
            "align_content": null,
            "align_items": null,
            "align_self": null,
            "border": null,
            "bottom": null,
            "display": null,
            "flex": null,
            "flex_flow": null,
            "grid_area": null,
            "grid_auto_columns": null,
            "grid_auto_flow": null,
            "grid_auto_rows": null,
            "grid_column": null,
            "grid_gap": null,
            "grid_row": null,
            "grid_template_areas": null,
            "grid_template_columns": null,
            "grid_template_rows": null,
            "height": null,
            "justify_content": null,
            "justify_items": null,
            "left": null,
            "margin": null,
            "max_height": null,
            "max_width": null,
            "min_height": null,
            "min_width": null,
            "object_fit": null,
            "object_position": null,
            "order": null,
            "overflow": null,
            "overflow_x": null,
            "overflow_y": null,
            "padding": null,
            "right": null,
            "top": null,
            "visibility": null,
            "width": null
          }
        },
        "6f9ca94bb6684d939663bbc4695f200d": {
          "model_module": "@jupyter-widgets/controls",
          "model_name": "DescriptionStyleModel",
          "model_module_version": "1.5.0",
          "state": {
            "_model_module": "@jupyter-widgets/controls",
            "_model_module_version": "1.5.0",
            "_model_name": "DescriptionStyleModel",
            "_view_count": null,
            "_view_module": "@jupyter-widgets/base",
            "_view_module_version": "1.2.0",
            "_view_name": "StyleView",
            "description_width": ""
          }
        },
        "b498ea36a10a47b888f4e91f9c69f7cc": {
          "model_module": "@jupyter-widgets/base",
          "model_name": "LayoutModel",
          "model_module_version": "1.2.0",
          "state": {
            "_model_module": "@jupyter-widgets/base",
            "_model_module_version": "1.2.0",
            "_model_name": "LayoutModel",
            "_view_count": null,
            "_view_module": "@jupyter-widgets/base",
            "_view_module_version": "1.2.0",
            "_view_name": "LayoutView",
            "align_content": null,
            "align_items": null,
            "align_self": null,
            "border": null,
            "bottom": null,
            "display": null,
            "flex": null,
            "flex_flow": null,
            "grid_area": null,
            "grid_auto_columns": null,
            "grid_auto_flow": null,
            "grid_auto_rows": null,
            "grid_column": null,
            "grid_gap": null,
            "grid_row": null,
            "grid_template_areas": null,
            "grid_template_columns": null,
            "grid_template_rows": null,
            "height": null,
            "justify_content": null,
            "justify_items": null,
            "left": null,
            "margin": null,
            "max_height": null,
            "max_width": null,
            "min_height": null,
            "min_width": null,
            "object_fit": null,
            "object_position": null,
            "order": null,
            "overflow": null,
            "overflow_x": null,
            "overflow_y": null,
            "padding": null,
            "right": null,
            "top": null,
            "visibility": null,
            "width": null
          }
        },
        "38395cdd50e8430c9f7a9cd24f7f3528": {
          "model_module": "@jupyter-widgets/controls",
          "model_name": "ProgressStyleModel",
          "model_module_version": "1.5.0",
          "state": {
            "_model_module": "@jupyter-widgets/controls",
            "_model_module_version": "1.5.0",
            "_model_name": "ProgressStyleModel",
            "_view_count": null,
            "_view_module": "@jupyter-widgets/base",
            "_view_module_version": "1.2.0",
            "_view_name": "StyleView",
            "bar_color": null,
            "description_width": ""
          }
        },
        "ffec62102871455e947251d8ad287c00": {
          "model_module": "@jupyter-widgets/base",
          "model_name": "LayoutModel",
          "model_module_version": "1.2.0",
          "state": {
            "_model_module": "@jupyter-widgets/base",
            "_model_module_version": "1.2.0",
            "_model_name": "LayoutModel",
            "_view_count": null,
            "_view_module": "@jupyter-widgets/base",
            "_view_module_version": "1.2.0",
            "_view_name": "LayoutView",
            "align_content": null,
            "align_items": null,
            "align_self": null,
            "border": null,
            "bottom": null,
            "display": null,
            "flex": null,
            "flex_flow": null,
            "grid_area": null,
            "grid_auto_columns": null,
            "grid_auto_flow": null,
            "grid_auto_rows": null,
            "grid_column": null,
            "grid_gap": null,
            "grid_row": null,
            "grid_template_areas": null,
            "grid_template_columns": null,
            "grid_template_rows": null,
            "height": null,
            "justify_content": null,
            "justify_items": null,
            "left": null,
            "margin": null,
            "max_height": null,
            "max_width": null,
            "min_height": null,
            "min_width": null,
            "object_fit": null,
            "object_position": null,
            "order": null,
            "overflow": null,
            "overflow_x": null,
            "overflow_y": null,
            "padding": null,
            "right": null,
            "top": null,
            "visibility": null,
            "width": null
          }
        },
        "bd1ae88bfed74e66a738182a9a0769c6": {
          "model_module": "@jupyter-widgets/controls",
          "model_name": "DescriptionStyleModel",
          "model_module_version": "1.5.0",
          "state": {
            "_model_module": "@jupyter-widgets/controls",
            "_model_module_version": "1.5.0",
            "_model_name": "DescriptionStyleModel",
            "_view_count": null,
            "_view_module": "@jupyter-widgets/base",
            "_view_module_version": "1.2.0",
            "_view_name": "StyleView",
            "description_width": ""
          }
        },
        "5c99544674be411cbf997c54aae78c28": {
          "model_module": "@jupyter-widgets/controls",
          "model_name": "HBoxModel",
          "model_module_version": "1.5.0",
          "state": {
            "_dom_classes": [],
            "_model_module": "@jupyter-widgets/controls",
            "_model_module_version": "1.5.0",
            "_model_name": "HBoxModel",
            "_view_count": null,
            "_view_module": "@jupyter-widgets/controls",
            "_view_module_version": "1.5.0",
            "_view_name": "HBoxView",
            "box_style": "",
            "children": [
              "IPY_MODEL_4f7ab217fb5143759dc04162cfdf3af0",
              "IPY_MODEL_14d3e7077cdd48fe9153fcbb579b5d31",
              "IPY_MODEL_5943852483d4436b9635070b34c50b08"
            ],
            "layout": "IPY_MODEL_f348c37bb0be46c6b91131df3b8d8eb8"
          }
        },
        "4f7ab217fb5143759dc04162cfdf3af0": {
          "model_module": "@jupyter-widgets/controls",
          "model_name": "HTMLModel",
          "model_module_version": "1.5.0",
          "state": {
            "_dom_classes": [],
            "_model_module": "@jupyter-widgets/controls",
            "_model_module_version": "1.5.0",
            "_model_name": "HTMLModel",
            "_view_count": null,
            "_view_module": "@jupyter-widgets/controls",
            "_view_module_version": "1.5.0",
            "_view_name": "HTMLView",
            "description": "",
            "description_tooltip": null,
            "layout": "IPY_MODEL_0d91084cb40648abb2a0dc09267422fc",
            "placeholder": "​",
            "style": "IPY_MODEL_0ca9499298534f4f9919ecef7ba5c88f",
            "value": "Downloading: 100%"
          }
        },
        "14d3e7077cdd48fe9153fcbb579b5d31": {
          "model_module": "@jupyter-widgets/controls",
          "model_name": "FloatProgressModel",
          "model_module_version": "1.5.0",
          "state": {
            "_dom_classes": [],
            "_model_module": "@jupyter-widgets/controls",
            "_model_module_version": "1.5.0",
            "_model_name": "FloatProgressModel",
            "_view_count": null,
            "_view_module": "@jupyter-widgets/controls",
            "_view_module_version": "1.5.0",
            "_view_name": "ProgressView",
            "bar_style": "success",
            "description": "",
            "description_tooltip": null,
            "layout": "IPY_MODEL_7efa007b2ae14f9ab965f287c60dcdc1",
            "max": 1355256,
            "min": 0,
            "orientation": "horizontal",
            "style": "IPY_MODEL_39cfe68318534be3a5187f0577d6d800",
            "value": 1355256
          }
        },
        "5943852483d4436b9635070b34c50b08": {
          "model_module": "@jupyter-widgets/controls",
          "model_name": "HTMLModel",
          "model_module_version": "1.5.0",
          "state": {
            "_dom_classes": [],
            "_model_module": "@jupyter-widgets/controls",
            "_model_module_version": "1.5.0",
            "_model_name": "HTMLModel",
            "_view_count": null,
            "_view_module": "@jupyter-widgets/controls",
            "_view_module_version": "1.5.0",
            "_view_name": "HTMLView",
            "description": "",
            "description_tooltip": null,
            "layout": "IPY_MODEL_3537697ee5d14d58a0ecf702450c15a7",
            "placeholder": "​",
            "style": "IPY_MODEL_76e8a406bc3e4f8e9b4e88d2f2fdb5eb",
            "value": " 1.29M/1.29M [00:00&lt;00:00, 8.52MB/s]"
          }
        },
        "f348c37bb0be46c6b91131df3b8d8eb8": {
          "model_module": "@jupyter-widgets/base",
          "model_name": "LayoutModel",
          "model_module_version": "1.2.0",
          "state": {
            "_model_module": "@jupyter-widgets/base",
            "_model_module_version": "1.2.0",
            "_model_name": "LayoutModel",
            "_view_count": null,
            "_view_module": "@jupyter-widgets/base",
            "_view_module_version": "1.2.0",
            "_view_name": "LayoutView",
            "align_content": null,
            "align_items": null,
            "align_self": null,
            "border": null,
            "bottom": null,
            "display": null,
            "flex": null,
            "flex_flow": null,
            "grid_area": null,
            "grid_auto_columns": null,
            "grid_auto_flow": null,
            "grid_auto_rows": null,
            "grid_column": null,
            "grid_gap": null,
            "grid_row": null,
            "grid_template_areas": null,
            "grid_template_columns": null,
            "grid_template_rows": null,
            "height": null,
            "justify_content": null,
            "justify_items": null,
            "left": null,
            "margin": null,
            "max_height": null,
            "max_width": null,
            "min_height": null,
            "min_width": null,
            "object_fit": null,
            "object_position": null,
            "order": null,
            "overflow": null,
            "overflow_x": null,
            "overflow_y": null,
            "padding": null,
            "right": null,
            "top": null,
            "visibility": null,
            "width": null
          }
        },
        "0d91084cb40648abb2a0dc09267422fc": {
          "model_module": "@jupyter-widgets/base",
          "model_name": "LayoutModel",
          "model_module_version": "1.2.0",
          "state": {
            "_model_module": "@jupyter-widgets/base",
            "_model_module_version": "1.2.0",
            "_model_name": "LayoutModel",
            "_view_count": null,
            "_view_module": "@jupyter-widgets/base",
            "_view_module_version": "1.2.0",
            "_view_name": "LayoutView",
            "align_content": null,
            "align_items": null,
            "align_self": null,
            "border": null,
            "bottom": null,
            "display": null,
            "flex": null,
            "flex_flow": null,
            "grid_area": null,
            "grid_auto_columns": null,
            "grid_auto_flow": null,
            "grid_auto_rows": null,
            "grid_column": null,
            "grid_gap": null,
            "grid_row": null,
            "grid_template_areas": null,
            "grid_template_columns": null,
            "grid_template_rows": null,
            "height": null,
            "justify_content": null,
            "justify_items": null,
            "left": null,
            "margin": null,
            "max_height": null,
            "max_width": null,
            "min_height": null,
            "min_width": null,
            "object_fit": null,
            "object_position": null,
            "order": null,
            "overflow": null,
            "overflow_x": null,
            "overflow_y": null,
            "padding": null,
            "right": null,
            "top": null,
            "visibility": null,
            "width": null
          }
        },
        "0ca9499298534f4f9919ecef7ba5c88f": {
          "model_module": "@jupyter-widgets/controls",
          "model_name": "DescriptionStyleModel",
          "model_module_version": "1.5.0",
          "state": {
            "_model_module": "@jupyter-widgets/controls",
            "_model_module_version": "1.5.0",
            "_model_name": "DescriptionStyleModel",
            "_view_count": null,
            "_view_module": "@jupyter-widgets/base",
            "_view_module_version": "1.2.0",
            "_view_name": "StyleView",
            "description_width": ""
          }
        },
        "7efa007b2ae14f9ab965f287c60dcdc1": {
          "model_module": "@jupyter-widgets/base",
          "model_name": "LayoutModel",
          "model_module_version": "1.2.0",
          "state": {
            "_model_module": "@jupyter-widgets/base",
            "_model_module_version": "1.2.0",
            "_model_name": "LayoutModel",
            "_view_count": null,
            "_view_module": "@jupyter-widgets/base",
            "_view_module_version": "1.2.0",
            "_view_name": "LayoutView",
            "align_content": null,
            "align_items": null,
            "align_self": null,
            "border": null,
            "bottom": null,
            "display": null,
            "flex": null,
            "flex_flow": null,
            "grid_area": null,
            "grid_auto_columns": null,
            "grid_auto_flow": null,
            "grid_auto_rows": null,
            "grid_column": null,
            "grid_gap": null,
            "grid_row": null,
            "grid_template_areas": null,
            "grid_template_columns": null,
            "grid_template_rows": null,
            "height": null,
            "justify_content": null,
            "justify_items": null,
            "left": null,
            "margin": null,
            "max_height": null,
            "max_width": null,
            "min_height": null,
            "min_width": null,
            "object_fit": null,
            "object_position": null,
            "order": null,
            "overflow": null,
            "overflow_x": null,
            "overflow_y": null,
            "padding": null,
            "right": null,
            "top": null,
            "visibility": null,
            "width": null
          }
        },
        "39cfe68318534be3a5187f0577d6d800": {
          "model_module": "@jupyter-widgets/controls",
          "model_name": "ProgressStyleModel",
          "model_module_version": "1.5.0",
          "state": {
            "_model_module": "@jupyter-widgets/controls",
            "_model_module_version": "1.5.0",
            "_model_name": "ProgressStyleModel",
            "_view_count": null,
            "_view_module": "@jupyter-widgets/base",
            "_view_module_version": "1.2.0",
            "_view_name": "StyleView",
            "bar_color": null,
            "description_width": ""
          }
        },
        "3537697ee5d14d58a0ecf702450c15a7": {
          "model_module": "@jupyter-widgets/base",
          "model_name": "LayoutModel",
          "model_module_version": "1.2.0",
          "state": {
            "_model_module": "@jupyter-widgets/base",
            "_model_module_version": "1.2.0",
            "_model_name": "LayoutModel",
            "_view_count": null,
            "_view_module": "@jupyter-widgets/base",
            "_view_module_version": "1.2.0",
            "_view_name": "LayoutView",
            "align_content": null,
            "align_items": null,
            "align_self": null,
            "border": null,
            "bottom": null,
            "display": null,
            "flex": null,
            "flex_flow": null,
            "grid_area": null,
            "grid_auto_columns": null,
            "grid_auto_flow": null,
            "grid_auto_rows": null,
            "grid_column": null,
            "grid_gap": null,
            "grid_row": null,
            "grid_template_areas": null,
            "grid_template_columns": null,
            "grid_template_rows": null,
            "height": null,
            "justify_content": null,
            "justify_items": null,
            "left": null,
            "margin": null,
            "max_height": null,
            "max_width": null,
            "min_height": null,
            "min_width": null,
            "object_fit": null,
            "object_position": null,
            "order": null,
            "overflow": null,
            "overflow_x": null,
            "overflow_y": null,
            "padding": null,
            "right": null,
            "top": null,
            "visibility": null,
            "width": null
          }
        },
        "76e8a406bc3e4f8e9b4e88d2f2fdb5eb": {
          "model_module": "@jupyter-widgets/controls",
          "model_name": "DescriptionStyleModel",
          "model_module_version": "1.5.0",
          "state": {
            "_model_module": "@jupyter-widgets/controls",
            "_model_module_version": "1.5.0",
            "_model_name": "DescriptionStyleModel",
            "_view_count": null,
            "_view_module": "@jupyter-widgets/base",
            "_view_module_version": "1.2.0",
            "_view_name": "StyleView",
            "description_width": ""
          }
        },
        "b522dc23e85d4f7d8d2f643c04c75388": {
          "model_module": "@jupyter-widgets/controls",
          "model_name": "HBoxModel",
          "model_module_version": "1.5.0",
          "state": {
            "_dom_classes": [],
            "_model_module": "@jupyter-widgets/controls",
            "_model_module_version": "1.5.0",
            "_model_name": "HBoxModel",
            "_view_count": null,
            "_view_module": "@jupyter-widgets/controls",
            "_view_module_version": "1.5.0",
            "_view_name": "HBoxView",
            "box_style": "",
            "children": [
              "IPY_MODEL_39cb0d5104224219afba2b548d9f6887",
              "IPY_MODEL_f33c793aac54441db7cb6d0d1619dbf2",
              "IPY_MODEL_a8dfdd6cc65443a6aec2472e5e439f4d"
            ],
            "layout": "IPY_MODEL_3515c4573360410183eb482441e1edec"
          }
        },
        "39cb0d5104224219afba2b548d9f6887": {
          "model_module": "@jupyter-widgets/controls",
          "model_name": "HTMLModel",
          "model_module_version": "1.5.0",
          "state": {
            "_dom_classes": [],
            "_model_module": "@jupyter-widgets/controls",
            "_model_module_version": "1.5.0",
            "_model_name": "HTMLModel",
            "_view_count": null,
            "_view_module": "@jupyter-widgets/controls",
            "_view_module_version": "1.5.0",
            "_view_name": "HTMLView",
            "description": "",
            "description_tooltip": null,
            "layout": "IPY_MODEL_a3c1f37e1a8140959ffa5adf3efe4303",
            "placeholder": "​",
            "style": "IPY_MODEL_a909cabe240640de9329bb85c5d486a4",
            "value": "Downloading: 100%"
          }
        },
        "f33c793aac54441db7cb6d0d1619dbf2": {
          "model_module": "@jupyter-widgets/controls",
          "model_name": "FloatProgressModel",
          "model_module_version": "1.5.0",
          "state": {
            "_dom_classes": [],
            "_model_module": "@jupyter-widgets/controls",
            "_model_module_version": "1.5.0",
            "_model_name": "FloatProgressModel",
            "_view_count": null,
            "_view_module": "@jupyter-widgets/controls",
            "_view_module_version": "1.5.0",
            "_view_name": "ProgressView",
            "bar_style": "success",
            "description": "",
            "description_tooltip": null,
            "layout": "IPY_MODEL_18787b170c274371a274028293867929",
            "max": 1520013706,
            "min": 0,
            "orientation": "horizontal",
            "style": "IPY_MODEL_887d4c7a8c50409bac614df6b40be0e0",
            "value": 1520013706
          }
        },
        "a8dfdd6cc65443a6aec2472e5e439f4d": {
          "model_module": "@jupyter-widgets/controls",
          "model_name": "HTMLModel",
          "model_module_version": "1.5.0",
          "state": {
            "_dom_classes": [],
            "_model_module": "@jupyter-widgets/controls",
            "_model_module_version": "1.5.0",
            "_model_name": "HTMLModel",
            "_view_count": null,
            "_view_module": "@jupyter-widgets/controls",
            "_view_module_version": "1.5.0",
            "_view_name": "HTMLView",
            "description": "",
            "description_tooltip": null,
            "layout": "IPY_MODEL_55c79f67479546378b7c2645e15ea419",
            "placeholder": "​",
            "style": "IPY_MODEL_2090d415abcf44248eb440fb73c890bd",
            "value": " 1.42G/1.42G [00:23&lt;00:00, 64.7MB/s]"
          }
        },
        "3515c4573360410183eb482441e1edec": {
          "model_module": "@jupyter-widgets/base",
          "model_name": "LayoutModel",
          "model_module_version": "1.2.0",
          "state": {
            "_model_module": "@jupyter-widgets/base",
            "_model_module_version": "1.2.0",
            "_model_name": "LayoutModel",
            "_view_count": null,
            "_view_module": "@jupyter-widgets/base",
            "_view_module_version": "1.2.0",
            "_view_name": "LayoutView",
            "align_content": null,
            "align_items": null,
            "align_self": null,
            "border": null,
            "bottom": null,
            "display": null,
            "flex": null,
            "flex_flow": null,
            "grid_area": null,
            "grid_auto_columns": null,
            "grid_auto_flow": null,
            "grid_auto_rows": null,
            "grid_column": null,
            "grid_gap": null,
            "grid_row": null,
            "grid_template_areas": null,
            "grid_template_columns": null,
            "grid_template_rows": null,
            "height": null,
            "justify_content": null,
            "justify_items": null,
            "left": null,
            "margin": null,
            "max_height": null,
            "max_width": null,
            "min_height": null,
            "min_width": null,
            "object_fit": null,
            "object_position": null,
            "order": null,
            "overflow": null,
            "overflow_x": null,
            "overflow_y": null,
            "padding": null,
            "right": null,
            "top": null,
            "visibility": null,
            "width": null
          }
        },
        "a3c1f37e1a8140959ffa5adf3efe4303": {
          "model_module": "@jupyter-widgets/base",
          "model_name": "LayoutModel",
          "model_module_version": "1.2.0",
          "state": {
            "_model_module": "@jupyter-widgets/base",
            "_model_module_version": "1.2.0",
            "_model_name": "LayoutModel",
            "_view_count": null,
            "_view_module": "@jupyter-widgets/base",
            "_view_module_version": "1.2.0",
            "_view_name": "LayoutView",
            "align_content": null,
            "align_items": null,
            "align_self": null,
            "border": null,
            "bottom": null,
            "display": null,
            "flex": null,
            "flex_flow": null,
            "grid_area": null,
            "grid_auto_columns": null,
            "grid_auto_flow": null,
            "grid_auto_rows": null,
            "grid_column": null,
            "grid_gap": null,
            "grid_row": null,
            "grid_template_areas": null,
            "grid_template_columns": null,
            "grid_template_rows": null,
            "height": null,
            "justify_content": null,
            "justify_items": null,
            "left": null,
            "margin": null,
            "max_height": null,
            "max_width": null,
            "min_height": null,
            "min_width": null,
            "object_fit": null,
            "object_position": null,
            "order": null,
            "overflow": null,
            "overflow_x": null,
            "overflow_y": null,
            "padding": null,
            "right": null,
            "top": null,
            "visibility": null,
            "width": null
          }
        },
        "a909cabe240640de9329bb85c5d486a4": {
          "model_module": "@jupyter-widgets/controls",
          "model_name": "DescriptionStyleModel",
          "model_module_version": "1.5.0",
          "state": {
            "_model_module": "@jupyter-widgets/controls",
            "_model_module_version": "1.5.0",
            "_model_name": "DescriptionStyleModel",
            "_view_count": null,
            "_view_module": "@jupyter-widgets/base",
            "_view_module_version": "1.2.0",
            "_view_name": "StyleView",
            "description_width": ""
          }
        },
        "18787b170c274371a274028293867929": {
          "model_module": "@jupyter-widgets/base",
          "model_name": "LayoutModel",
          "model_module_version": "1.2.0",
          "state": {
            "_model_module": "@jupyter-widgets/base",
            "_model_module_version": "1.2.0",
            "_model_name": "LayoutModel",
            "_view_count": null,
            "_view_module": "@jupyter-widgets/base",
            "_view_module_version": "1.2.0",
            "_view_name": "LayoutView",
            "align_content": null,
            "align_items": null,
            "align_self": null,
            "border": null,
            "bottom": null,
            "display": null,
            "flex": null,
            "flex_flow": null,
            "grid_area": null,
            "grid_auto_columns": null,
            "grid_auto_flow": null,
            "grid_auto_rows": null,
            "grid_column": null,
            "grid_gap": null,
            "grid_row": null,
            "grid_template_areas": null,
            "grid_template_columns": null,
            "grid_template_rows": null,
            "height": null,
            "justify_content": null,
            "justify_items": null,
            "left": null,
            "margin": null,
            "max_height": null,
            "max_width": null,
            "min_height": null,
            "min_width": null,
            "object_fit": null,
            "object_position": null,
            "order": null,
            "overflow": null,
            "overflow_x": null,
            "overflow_y": null,
            "padding": null,
            "right": null,
            "top": null,
            "visibility": null,
            "width": null
          }
        },
        "887d4c7a8c50409bac614df6b40be0e0": {
          "model_module": "@jupyter-widgets/controls",
          "model_name": "ProgressStyleModel",
          "model_module_version": "1.5.0",
          "state": {
            "_model_module": "@jupyter-widgets/controls",
            "_model_module_version": "1.5.0",
            "_model_name": "ProgressStyleModel",
            "_view_count": null,
            "_view_module": "@jupyter-widgets/base",
            "_view_module_version": "1.2.0",
            "_view_name": "StyleView",
            "bar_color": null,
            "description_width": ""
          }
        },
        "55c79f67479546378b7c2645e15ea419": {
          "model_module": "@jupyter-widgets/base",
          "model_name": "LayoutModel",
          "model_module_version": "1.2.0",
          "state": {
            "_model_module": "@jupyter-widgets/base",
            "_model_module_version": "1.2.0",
            "_model_name": "LayoutModel",
            "_view_count": null,
            "_view_module": "@jupyter-widgets/base",
            "_view_module_version": "1.2.0",
            "_view_name": "LayoutView",
            "align_content": null,
            "align_items": null,
            "align_self": null,
            "border": null,
            "bottom": null,
            "display": null,
            "flex": null,
            "flex_flow": null,
            "grid_area": null,
            "grid_auto_columns": null,
            "grid_auto_flow": null,
            "grid_auto_rows": null,
            "grid_column": null,
            "grid_gap": null,
            "grid_row": null,
            "grid_template_areas": null,
            "grid_template_columns": null,
            "grid_template_rows": null,
            "height": null,
            "justify_content": null,
            "justify_items": null,
            "left": null,
            "margin": null,
            "max_height": null,
            "max_width": null,
            "min_height": null,
            "min_width": null,
            "object_fit": null,
            "object_position": null,
            "order": null,
            "overflow": null,
            "overflow_x": null,
            "overflow_y": null,
            "padding": null,
            "right": null,
            "top": null,
            "visibility": null,
            "width": null
          }
        },
        "2090d415abcf44248eb440fb73c890bd": {
          "model_module": "@jupyter-widgets/controls",
          "model_name": "DescriptionStyleModel",
          "model_module_version": "1.5.0",
          "state": {
            "_model_module": "@jupyter-widgets/controls",
            "_model_module_version": "1.5.0",
            "_model_name": "DescriptionStyleModel",
            "_view_count": null,
            "_view_module": "@jupyter-widgets/base",
            "_view_module_version": "1.2.0",
            "_view_name": "StyleView",
            "description_width": ""
          }
        }
      }
    }
  },
  "nbformat": 4,
  "nbformat_minor": 0
}