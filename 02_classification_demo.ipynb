{
  "cells": [
    {
      "cell_type": "code",
      "execution_count": null,
      "metadata": {
        "colab": {
          "base_uri": "https://localhost:8080/"
        },
        "id": "mHNF6DvmSZ88",
        "outputId": "38df05e3-6dc5-4ead-f802-d1b2a36e944b"
      },
      "outputs": [
        {
          "output_type": "stream",
          "name": "stdout",
          "text": [
            "Cloning into 'notebooks'...\n",
            "remote: Enumerating objects: 526, done.\u001b[K\n",
            "remote: Counting objects: 100% (173/173), done.\u001b[K\n",
            "remote: Compressing objects: 100% (46/46), done.\u001b[K\n",
            "remote: Total 526 (delta 143), reused 136 (delta 127), pack-reused 353\u001b[K\n",
            "Receiving objects: 100% (526/526), 28.62 MiB | 15.08 MiB/s, done.\n",
            "Resolving deltas: 100% (250/250), done.\n",
            "/content/notebooks\n",
            "⏳ Installing base requirements ...\n",
            "✅ Base requirements installed!\n",
            "⏳ Installing Git LFS ...\n",
            "✅ Git LFS installed!\n"
          ]
        }
      ],
      "source": [
        "# Uncomment and run this cell if you're on Colab or Kaggle\n",
        "# !git clone https://github.com/nlp-with-transformers/notebooks.git\n",
        "# %cd notebooks\n",
        "# from install import *\n",
        "# install_requirements(is_chapter2=True)"
      ]
    },
    {
      "cell_type": "code",
      "execution_count": null,
      "metadata": {
        "colab": {
          "base_uri": "https://localhost:8080/"
        },
        "id": "H6qK24PlSZ89",
        "outputId": "f69b9723-463e-47b4-e618-ad7571ff7ca9"
      },
      "outputs": [
        {
          "output_type": "stream",
          "name": "stdout",
          "text": [
            "Using transformers v4.16.2\n",
            "Using datasets v1.16.1\n"
          ]
        }
      ],
      "source": [
        "# hide\n",
        "# from utils import *\n",
        "# setup_chapter()"
      ]
    },
    {
      "cell_type": "code",
      "source": [
        "%pip install datasets\n",
        "%pip install transformers"
      ],
      "metadata": {
        "id": "uZrU7VzWYjj-"
      },
      "execution_count": null,
      "outputs": []
    },
    {
      "cell_type": "markdown",
      "metadata": {
        "id": "9HUcvcIOSZ89"
      },
      "source": [
        "# Text Classification"
      ]
    },
    {
      "cell_type": "markdown",
      "metadata": {
        "id": "TPM_GRpbSZ8-"
      },
      "source": [
        "Now imagine that you are a data scientist who needs to build a system that can automatically identify emotional states such as \"anger\" or \"joy\" that people express about your company's product on Twitter. In this chapter, we'll tackle this task using a variant of BERT called DistilBERT.footnote:[V. Sanh et al., [\"DistilBERT, a Distilled Version of BERT: Smaller, Faster, Cheaper and Lighter\"](https://arxiv.org/abs/1910.01108), (2019).] The main advantage of this model is that it achieves comparable performance to BERT, while being significantly smaller and more efficient. This enables us to train a classifier in a few minutes, and if you want to train a larger BERT model you can simply change the checkpoint of the pretrained model. A _checkpoint_ corresponds to the set of weights that are loaded into a given transformer architecture.\n",
        "\n",
        "This will also be our first encounter with three of the core libraries from the Hugging Face ecosystem: image:images/logo.png[hf,13,13] Datasets, image:images/logo.png[hf,13,13] Tokenizers, and image:images/logo.png[hf,13,13] Transformers. As shown in  <<hf-libraries>>, these libraries will allow us to quickly go from raw text to a fine-tuned model that can be used for inference on new tweets. So, in the spirit of Optimus Prime, let's dive in, \"transform, and roll out!\"footnote:[Optimus Prime is the leader of a race of robots in the popular Transformers franchise for children (and for those who are young at heart!).]"
      ]
    },
    {
      "cell_type": "markdown",
      "metadata": {
        "id": "jaBsD8gOSZ8-"
      },
      "source": [
        "<img alt=\"Hugging Face Pipeline\" caption=\"A typical pipeline for training transformer models with the image:images/logo.png[hf,13,13] Datasets, image:images/logo.png[hf,13,13] Tokenizers, and image:images/logo.png[hf,13,13] Transformers libraries\" src=\"https://github.com/wxmlong2012/notebooks/blob/main/images/chapter02_hf-libraries.png?raw=1\" id=\"hf-libraries\"/>"
      ]
    },
    {
      "cell_type": "markdown",
      "metadata": {
        "id": "jiyUbDnhSZ8-"
      },
      "source": [
        "## The Dataset"
      ]
    },
    {
      "cell_type": "markdown",
      "metadata": {
        "id": "J6Lx7rinSZ8-"
      },
      "source": [
        "To build our emotion detector we'll use a great dataset from an article that explored how emotions are represented in English Twitter messages.footnote:[E. Saravia et al., \"CARER: Contextualized Affect Representations for Emotion Recognition,\" _Proceedings of the 2018 Conference on Empirical Methods in Natural Language Processing_ (Oct–Nov 2018): 3687–3697, http://dx.doi.org/10.18653/v1/D18-1404.] Unlike most sentiment analysis datasets that involve just \"positive\" and \"negative\" polarities, this dataset contains six basic emotions: anger, disgust, fear, joy, sadness, and surprise. Given a tweet, our task will be to train a model that can classify it into one of these emotions."
      ]
    },
    {
      "cell_type": "markdown",
      "metadata": {
        "id": "d8dI1ZgRSZ8_"
      },
      "source": [
        "We see that each dataset is given a name, so let's load the `emotion` dataset with the `load_dataset()` function:"
      ]
    },
    {
      "cell_type": "code",
      "execution_count": null,
      "metadata": {
        "colab": {
          "base_uri": "https://localhost:8080/",
          "height": 369,
          "referenced_widgets": [
            "405f41c7687c4fdfb32655142eca3221",
            "df4da14c528e4deb99aa5261d1bbbc4b",
            "9eda71220e004cb0bcc37a7fba37e292",
            "d3cb6c886a7342e89eb912792e7bf86e",
            "7d15eb5b50c44b6aacfb3e2beace0e50",
            "6f70e63246c94c4ab9a2f73278fa9ae9",
            "3da765675fa843f4a9016c301376b127",
            "0577d6c7eb084e17929fe8aded2ba603",
            "a5bd9fced67f4cb08bbdbecff2d69722",
            "9da1ee41e70148ab94695506ec93790c",
            "1ec25c61aff141888e1304fbecfb8b4d",
            "8b951ab70456498898d87abc95de1479",
            "9a7e7aa2fdd54274932778f5b3194988",
            "edbb8f56d54348cf90ee19a19cbd8dde",
            "1e1c09fb9e864c01aa18270d520e4ab7",
            "d4cb1d0fa8334d96a9351012cb81b8f4",
            "eb72e464c9b54b06b24e3fb804260d3b",
            "cd8c1dc4829d43edb889226611233046",
            "a9ac1af8a3764df1b25e4dfaea78b16d",
            "527fbff5a305463baebb2849f2768c93",
            "82c8fa359cb148a5b0826d368d1f33df",
            "c2550dd0e97549f09a1dd2941e92b340",
            "00188a638adf46308f350b658529ce49",
            "09a012baa0524237a2c4577da59fb955",
            "90edadfa463e4bf88d069289a604f032",
            "b99187334d114febaa466f13997586fe",
            "ffd536ecfdff46c6b4bf43b3dac42240",
            "2df80c213d1e49a681c7a2314e111a12",
            "c3f34d1810e24c0e831d23d71a661399",
            "3e609e320c744232818f21dca061368b",
            "7bd250f7804e41c4bc4137ebe82858fa",
            "b84a1d45c2de4a42a851c7f232e50828",
            "ea01e6c382cf4047be27fabfa52a4ece",
            "1d87a389489f45cda4b631146b33a9de",
            "dfdbe41d3eac459eb9ae172b9caacd05",
            "fac24e0dda2c435e898e566ee7b13cfa",
            "e05c8fadad4d4c1584f43fa5cb755287",
            "7c9447d533b74598be0f48f5d798c28e",
            "d9e9d3ca31bb407bb862168807eb9697",
            "3f84db189bbe45009afd5358037959ec",
            "f9aea1e6b4d5495a91767b561d63672d",
            "8d816c074b9c48aa90a10b1108541447",
            "59b8952c86194b08bbe37af53e61c5bb",
            "82a18727adcc4c89a22a44c18e5be94f",
            "8a2b73df805443cd9fa0ed7382cde358",
            "a716ac4b9df74cbbbc558802091d12b7",
            "4d15b6ec569148e08d6a2db01a0fcc0f",
            "9bd9510dd0b84c6aa88629f3fdd77ec8",
            "1340e7d6baa0402792a7f0e58660e52d",
            "52eb643f580a49e3b3a9188a12fe38fd",
            "8fbde4fadab24c31bf05397864154d1c",
            "11362be490b745249e2d7a4ef04e43dd",
            "241d0dbd18e049129e5ede3fbe51d690",
            "5eb3dd5a0dbd4824aaa21f9d79a7e9d2",
            "f9b385d16ed3400aaecc33590c68765a",
            "e1c9ad1fa19a4d77b2fdfd91ad29b867",
            "56ddbce26194467a844615f3392008dd",
            "ff23e1404c5543f2ba4115f6f453510f",
            "bcf1ef990e424112ace7dd7d58d55ac8",
            "c19256b6875741f4ae0020fb7e67a0a0",
            "5e8801d2f3174b0c82fa512e7457c07e",
            "d0ebfc3665d84e8d8d95ec22a5b32056",
            "8b829c6bdcb94be8b7bf69ea1c7f9aeb",
            "e3f7d490d9bb4f65859dae1f0d2147e6",
            "515aed84675d4609a95130011173baa4",
            "66302974f9fa4912a7a2274052f5e713",
            "5ba2468e1f024df6883a0e725ce91234",
            "de8697fe69ee4ef29761ec36e3c1e0a7",
            "5dccdb26f2d04c7496f21642931e2ddb",
            "8f3c0273013b42d4b9ba58f3cf8230d4",
            "f4f40ef404f34050ad7cb91e4a77cd4d",
            "f891a42694c6487ea98a7943fc41f36e",
            "5c49db6629ee43839ee29b85c87577a4",
            "80114af4d7134749a984d095af2a8e6e",
            "f05a67f590f542eeb30d9fc6ecd92a65",
            "ebd92dd2a0e046109e9ab4886b8fea04",
            "6551667a03294b6babea9f790e74d0fa",
            "54e225049b544e69a78bdeab46ce5977",
            "5f5cc93d0b5048bcac6fd8bddf619a35",
            "b1012d9504f7481984656006bf20ba44",
            "90b6ba6f7bfb419e95385477e1b5c644",
            "13715e65316049ba9410addacfb3b3be",
            "87022c4d1f5d48c4a1191bb2729da29d",
            "c7624a6518fd4800b5bcb2536e4b5947",
            "b7269b0b20624965bb30bb50964c8f27",
            "3ca0c53a272943cd950e3637f1ff8605",
            "405ae3189e294ab9a293fe50bdd9496a",
            "097936e0b09447d2bad613dc84cad489",
            "0e48a266387b4e39a60fcf3cdae5ccf2",
            "d161d2af8d79418fb5ccf50303c77f21",
            "28625cb1dc9d4336817b883c22db3ed4",
            "46fc93046683486aa1589ee63ac2fa83",
            "e07307dc6ad3452bb0ae5b2e6677af4a",
            "9c3388ed2a8b463986f18d0e7d086d8c",
            "ef7c15326f1b4cc180d94085eab4f66c",
            "d00b50cee18945049e07ef966fdd39d0",
            "005542743f5e4e02a3cfa4ac4cea6fdd",
            "1ca6cd9d406d4bb48fe950e08b5aac5e",
            "e1e47ed40b414d96a94210c4fe182276",
            "4d5f1a6657f94c3c96a7c13e11a8bfa4",
            "7d33c8c241c5448fbc0a2a21bb5d728d",
            "6d2380f314f74cd8abedc8b0d0b1ff48",
            "45c9202a439c4fb883d49d1e6cd7b667",
            "b5e02665f4424a2fb3947eb1be2890f5",
            "df3b6926a6044304a9f8975c4f1be408",
            "bdfa921d689a4485b1f39e400d164ece",
            "fe3b58f72b0b4fe3a0748f3e1f83df57",
            "61b5e5fc48204725bb357dc7a0117e71",
            "2f6083e66c0e4696a0d3ae6f6dda5182",
            "a8be0f452e044bccb9e14f08d2fec0d4",
            "2d581d85cc164faebc5953e5281a00d3",
            "4c86235e8b06497d82f16598f714a1c8",
            "3d274c1d3e814ca4a428a4f1660f41b1",
            "8095bbeb5c544103859856d5b6a0c26c",
            "8d4cc89b73934d6ab39bf0d9823b3701",
            "22283989a00f4e649d7902ba8be9f7f0",
            "5f7f5bbcf4b8431a9ccedc4be78e5f1f",
            "a419cb6f85504d51b8e8e4c2d4ce3acf",
            "9c6607ea2ebd466c9910b0a5bc0f6bdf",
            "9664fc7243864ef8a2c859b3b0abeb23",
            "21d71e7de6e44eaabbf472ef9f5434ac"
          ]
        },
        "id": "HKSFlL1TSZ8_",
        "outputId": "d3685d57-b70b-449b-be24-a883b912dc1b"
      },
      "outputs": [
        {
          "output_type": "display_data",
          "data": {
            "text/plain": [
              "Downloading builder script:   0%|          | 0.00/3.97k [00:00<?, ?B/s]"
            ],
            "application/vnd.jupyter.widget-view+json": {
              "version_major": 2,
              "version_minor": 0,
              "model_id": "405f41c7687c4fdfb32655142eca3221"
            }
          },
          "metadata": {}
        },
        {
          "output_type": "display_data",
          "data": {
            "text/plain": [
              "Downloading metadata:   0%|          | 0.00/3.28k [00:00<?, ?B/s]"
            ],
            "application/vnd.jupyter.widget-view+json": {
              "version_major": 2,
              "version_minor": 0,
              "model_id": "8b951ab70456498898d87abc95de1479"
            }
          },
          "metadata": {}
        },
        {
          "output_type": "display_data",
          "data": {
            "text/plain": [
              "Downloading readme:   0%|          | 0.00/8.78k [00:00<?, ?B/s]"
            ],
            "application/vnd.jupyter.widget-view+json": {
              "version_major": 2,
              "version_minor": 0,
              "model_id": "00188a638adf46308f350b658529ce49"
            }
          },
          "metadata": {}
        },
        {
          "output_type": "display_data",
          "data": {
            "text/plain": [
              "Downloading data files:   0%|          | 0/3 [00:00<?, ?it/s]"
            ],
            "application/vnd.jupyter.widget-view+json": {
              "version_major": 2,
              "version_minor": 0,
              "model_id": "1d87a389489f45cda4b631146b33a9de"
            }
          },
          "metadata": {}
        },
        {
          "output_type": "display_data",
          "data": {
            "text/plain": [
              "Downloading data:   0%|          | 0.00/592k [00:00<?, ?B/s]"
            ],
            "application/vnd.jupyter.widget-view+json": {
              "version_major": 2,
              "version_minor": 0,
              "model_id": "8a2b73df805443cd9fa0ed7382cde358"
            }
          },
          "metadata": {}
        },
        {
          "output_type": "display_data",
          "data": {
            "text/plain": [
              "Downloading data:   0%|          | 0.00/74.0k [00:00<?, ?B/s]"
            ],
            "application/vnd.jupyter.widget-view+json": {
              "version_major": 2,
              "version_minor": 0,
              "model_id": "e1c9ad1fa19a4d77b2fdfd91ad29b867"
            }
          },
          "metadata": {}
        },
        {
          "output_type": "display_data",
          "data": {
            "text/plain": [
              "Downloading data:   0%|          | 0.00/74.9k [00:00<?, ?B/s]"
            ],
            "application/vnd.jupyter.widget-view+json": {
              "version_major": 2,
              "version_minor": 0,
              "model_id": "5ba2468e1f024df6883a0e725ce91234"
            }
          },
          "metadata": {}
        },
        {
          "output_type": "display_data",
          "data": {
            "text/plain": [
              "Extracting data files:   0%|          | 0/3 [00:00<?, ?it/s]"
            ],
            "application/vnd.jupyter.widget-view+json": {
              "version_major": 2,
              "version_minor": 0,
              "model_id": "54e225049b544e69a78bdeab46ce5977"
            }
          },
          "metadata": {}
        },
        {
          "output_type": "display_data",
          "data": {
            "text/plain": [
              "Generating train split:   0%|          | 0/16000 [00:00<?, ? examples/s]"
            ],
            "application/vnd.jupyter.widget-view+json": {
              "version_major": 2,
              "version_minor": 0,
              "model_id": "0e48a266387b4e39a60fcf3cdae5ccf2"
            }
          },
          "metadata": {}
        },
        {
          "output_type": "display_data",
          "data": {
            "text/plain": [
              "Generating validation split:   0%|          | 0/2000 [00:00<?, ? examples/s]"
            ],
            "application/vnd.jupyter.widget-view+json": {
              "version_major": 2,
              "version_minor": 0,
              "model_id": "4d5f1a6657f94c3c96a7c13e11a8bfa4"
            }
          },
          "metadata": {}
        },
        {
          "output_type": "display_data",
          "data": {
            "text/plain": [
              "Generating test split:   0%|          | 0/2000 [00:00<?, ? examples/s]"
            ],
            "application/vnd.jupyter.widget-view+json": {
              "version_major": 2,
              "version_minor": 0,
              "model_id": "2d581d85cc164faebc5953e5281a00d3"
            }
          },
          "metadata": {}
        }
      ],
      "source": [
        "# hide_output\n",
        "from datasets import load_dataset\n",
        "\n",
        "emotions = load_dataset(\"emotion\")"
      ]
    },
    {
      "cell_type": "markdown",
      "metadata": {
        "id": "n9xwwJjTSZ8_"
      },
      "source": [
        "If we look inside our `emotions` object:"
      ]
    },
    {
      "cell_type": "code",
      "execution_count": null,
      "metadata": {
        "colab": {
          "base_uri": "https://localhost:8080/"
        },
        "id": "6g29R-OdSZ8_",
        "outputId": "e4e76a54-9996-4895-fd8d-4a81f7c3890f"
      },
      "outputs": [
        {
          "output_type": "execute_result",
          "data": {
            "text/plain": [
              "DatasetDict({\n",
              "    train: Dataset({\n",
              "        features: ['text', 'label'],\n",
              "        num_rows: 16000\n",
              "    })\n",
              "    validation: Dataset({\n",
              "        features: ['text', 'label'],\n",
              "        num_rows: 2000\n",
              "    })\n",
              "    test: Dataset({\n",
              "        features: ['text', 'label'],\n",
              "        num_rows: 2000\n",
              "    })\n",
              "})"
            ]
          },
          "metadata": {},
          "execution_count": 4
        }
      ],
      "source": [
        "emotions"
      ]
    },
    {
      "cell_type": "markdown",
      "metadata": {
        "id": "x6oj1b57SZ8_"
      },
      "source": [
        "we see it is similar to a Python dictionary, with each key corresponding to a different split. And we can use the usual dictionary syntax to access an individual split:"
      ]
    },
    {
      "cell_type": "markdown",
      "metadata": {
        "id": "cmm6w6YxSZ9A"
      },
      "source": [
        "or access a single example by its index:"
      ]
    },
    {
      "cell_type": "code",
      "execution_count": null,
      "metadata": {
        "colab": {
          "base_uri": "https://localhost:8080/"
        },
        "id": "XH-YY5XuSZ9A",
        "outputId": "cc4fbcea-88b9-4adb-c401-87570495c8c9"
      },
      "outputs": [
        {
          "output_type": "execute_result",
          "data": {
            "text/plain": [
              "{'text': 'i didnt feel humiliated', 'label': 0}"
            ]
          },
          "metadata": {},
          "execution_count": 6
        }
      ],
      "source": [
        "train_ds = emotions[\"train\"]\n",
        "train_ds[0]"
      ]
    },
    {
      "cell_type": "markdown",
      "metadata": {
        "id": "Fd5GnzMJSZ9A"
      },
      "source": [
        "Here we see that a single row is represented as a dictionary, where the keys correspond to the column names:"
      ]
    },
    {
      "cell_type": "code",
      "execution_count": null,
      "metadata": {
        "colab": {
          "base_uri": "https://localhost:8080/"
        },
        "id": "gdXD4Rc_SZ9A",
        "outputId": "71ff011e-763c-4be7-832f-69bdb8704be0"
      },
      "outputs": [
        {
          "output_type": "stream",
          "name": "stdout",
          "text": [
            "{'text': Value(dtype='string', id=None), 'label': ClassLabel(names=['sadness', 'joy', 'love', 'anger', 'fear', 'surprise'], id=None)}\n"
          ]
        }
      ],
      "source": [
        "print(train_ds.features)"
      ]
    },
    {
      "cell_type": "markdown",
      "metadata": {
        "id": "IjlXRqOqSZ9A"
      },
      "source": [
        "In this case, the data type of the `text` column is `string`, while the `label` column is a special `ClassLabel` object that contains information about the class names and their mapping to integers. We can also access several rows with a slice:"
      ]
    },
    {
      "cell_type": "markdown",
      "metadata": {
        "id": "CVy4ppQmSZ9F"
      },
      "source": [
        "### From Datasets to DataFrames"
      ]
    },
    {
      "cell_type": "markdown",
      "metadata": {
        "id": "gCFZkqfdSZ9F"
      },
      "source": [
        "Although image:images/logo.png[hf,13,13] Datasets provides a lot of low-level functionality to slice and dice our data, it is often convenient to convert a `Dataset` object to a Pandas `DataFrame` so we can access high-level APIs for data visualization. To enable the conversion, image:images/logo.png[hf,13,13] Datasets provides a `set_format()` method that allows us to change the _output format_ of the `Dataset`. Note that this does not change the underlying _data format_ (which is an Arrow table), and you can switch to another format later if needed:"
      ]
    },
    {
      "cell_type": "code",
      "execution_count": null,
      "metadata": {
        "id": "mCd4PIB9SZ9F",
        "outputId": "9d3c98f1-42c0-47df-b4b8-e472e50a5f13"
      },
      "outputs": [
        {
          "data": {
            "text/html": [
              "<div>\n",
              "<style scoped>\n",
              "    .dataframe tbody tr th:only-of-type {\n",
              "        vertical-align: middle;\n",
              "    }\n",
              "\n",
              "    .dataframe tbody tr th {\n",
              "        vertical-align: top;\n",
              "    }\n",
              "\n",
              "    .dataframe thead th {\n",
              "        text-align: right;\n",
              "    }\n",
              "</style>\n",
              "<table border=\"1\" class=\"dataframe\">\n",
              "  <thead>\n",
              "    <tr style=\"text-align: right;\">\n",
              "      <th></th>\n",
              "      <th>text</th>\n",
              "      <th>label</th>\n",
              "    </tr>\n",
              "  </thead>\n",
              "  <tbody>\n",
              "    <tr>\n",
              "      <th>0</th>\n",
              "      <td>i didnt feel humiliated</td>\n",
              "      <td>0</td>\n",
              "    </tr>\n",
              "    <tr>\n",
              "      <th>1</th>\n",
              "      <td>i can go from feeling so hopeless to so damned...</td>\n",
              "      <td>0</td>\n",
              "    </tr>\n",
              "    <tr>\n",
              "      <th>2</th>\n",
              "      <td>im grabbing a minute to post i feel greedy wrong</td>\n",
              "      <td>3</td>\n",
              "    </tr>\n",
              "    <tr>\n",
              "      <th>3</th>\n",
              "      <td>i am ever feeling nostalgic about the fireplac...</td>\n",
              "      <td>2</td>\n",
              "    </tr>\n",
              "    <tr>\n",
              "      <th>4</th>\n",
              "      <td>i am feeling grouchy</td>\n",
              "      <td>3</td>\n",
              "    </tr>\n",
              "  </tbody>\n",
              "</table>\n",
              "</div>"
            ],
            "text/plain": [
              "                                                text  label\n",
              "0                            i didnt feel humiliated      0\n",
              "1  i can go from feeling so hopeless to so damned...      0\n",
              "2   im grabbing a minute to post i feel greedy wrong      3\n",
              "3  i am ever feeling nostalgic about the fireplac...      2\n",
              "4                               i am feeling grouchy      3"
            ]
          },
          "execution_count": null,
          "metadata": {},
          "output_type": "execute_result"
        }
      ],
      "source": [
        "import pandas as pd\n",
        "\n",
        "emotions.set_format(type=\"pandas\")\n",
        "df = emotions[\"train\"][:]\n",
        "df.head()"
      ]
    },
    {
      "cell_type": "markdown",
      "metadata": {
        "id": "xNcbXxquSZ9F"
      },
      "source": [
        "As you can see, the column headers have been preserved and the first few rows match our previous views of the data. However, the labels are represented as integers, so let's use the `int2str()` method of the `label` feature to create a new column in our `DataFrame` with the corresponding label names:"
      ]
    },
    {
      "cell_type": "code",
      "execution_count": null,
      "metadata": {
        "id": "zOQ2rUiTSZ9F",
        "outputId": "38c52ac6-c7da-4ec4-ba81-8936430da0ba"
      },
      "outputs": [
        {
          "data": {
            "text/html": [
              "<div>\n",
              "<style scoped>\n",
              "    .dataframe tbody tr th:only-of-type {\n",
              "        vertical-align: middle;\n",
              "    }\n",
              "\n",
              "    .dataframe tbody tr th {\n",
              "        vertical-align: top;\n",
              "    }\n",
              "\n",
              "    .dataframe thead th {\n",
              "        text-align: right;\n",
              "    }\n",
              "</style>\n",
              "<table border=\"1\" class=\"dataframe\">\n",
              "  <thead>\n",
              "    <tr style=\"text-align: right;\">\n",
              "      <th></th>\n",
              "      <th>text</th>\n",
              "      <th>label</th>\n",
              "      <th>label_name</th>\n",
              "    </tr>\n",
              "  </thead>\n",
              "  <tbody>\n",
              "    <tr>\n",
              "      <th>0</th>\n",
              "      <td>i didnt feel humiliated</td>\n",
              "      <td>0</td>\n",
              "      <td>sadness</td>\n",
              "    </tr>\n",
              "    <tr>\n",
              "      <th>1</th>\n",
              "      <td>i can go from feeling so hopeless to so damned...</td>\n",
              "      <td>0</td>\n",
              "      <td>sadness</td>\n",
              "    </tr>\n",
              "    <tr>\n",
              "      <th>2</th>\n",
              "      <td>im grabbing a minute to post i feel greedy wrong</td>\n",
              "      <td>3</td>\n",
              "      <td>anger</td>\n",
              "    </tr>\n",
              "    <tr>\n",
              "      <th>3</th>\n",
              "      <td>i am ever feeling nostalgic about the fireplac...</td>\n",
              "      <td>2</td>\n",
              "      <td>love</td>\n",
              "    </tr>\n",
              "    <tr>\n",
              "      <th>4</th>\n",
              "      <td>i am feeling grouchy</td>\n",
              "      <td>3</td>\n",
              "      <td>anger</td>\n",
              "    </tr>\n",
              "  </tbody>\n",
              "</table>\n",
              "</div>"
            ],
            "text/plain": [
              "                                                text  label label_name\n",
              "0                            i didnt feel humiliated      0    sadness\n",
              "1  i can go from feeling so hopeless to so damned...      0    sadness\n",
              "2   im grabbing a minute to post i feel greedy wrong      3      anger\n",
              "3  i am ever feeling nostalgic about the fireplac...      2       love\n",
              "4                               i am feeling grouchy      3      anger"
            ]
          },
          "execution_count": null,
          "metadata": {},
          "output_type": "execute_result"
        }
      ],
      "source": [
        "def label_int2str(row):\n",
        "    return emotions[\"train\"].features[\"label\"].int2str(row)\n",
        "\n",
        "df[\"label_name\"] = df[\"label\"].apply(label_int2str)\n",
        "df.head()"
      ]
    },
    {
      "cell_type": "markdown",
      "metadata": {
        "id": "sS50uUa9SZ9F"
      },
      "source": [
        "### Looking at the Class Distribution"
      ]
    },
    {
      "cell_type": "markdown",
      "metadata": {
        "id": "XvDXa_8DSZ9F"
      },
      "source": [
        "Whenever you are working on text classification problems, it is a good idea to examine the distribution of examples across the classes. A dataset with a skewed class distribution might require a different treatment in terms of the training loss and evaluation metrics than a balanced one.\n",
        "\n",
        "With Pandas and Matplotlib, we can quickly visualize the class distribution as follows:"
      ]
    },
    {
      "cell_type": "code",
      "execution_count": null,
      "metadata": {
        "id": "hK11xXtVSZ9F",
        "outputId": "6f72c78d-87a0-4d98-c1d7-4b247d9525f5"
      },
      "outputs": [
        {
          "data": {
            "application/pdf": "[encoded data removed]",
            "image/svg+xml": "<?xml version=\"1.0\" encoding=\"utf-8\" standalone=\"no\"?>\n<!DOCTYPE svg PUBLIC \"-//W3C//DTD SVG 1.1//EN\"\n  \"http://www.w3.org/Graphics/SVG/1.1/DTD/svg11.dtd\">\n<svg height=\"266.6095pt\" version=\"1.1\" viewBox=\"0 0 389.8825 266.6095\" width=\"389.8825pt\" xmlns=\"http://www.w3.org/2000/svg\" xmlns:xlink=\"http://www.w3.org/1999/xlink\">\n <metadata>\n  <rdf:RDF xmlns:cc=\"http://creativecommons.org/ns#\" xmlns:dc=\"http://purl.org/dc/elements/1.1/\" xmlns:rdf=\"http://www.w3.org/1999/02/22-rdf-syntax-ns#\">\n   <cc:Work>\n    <dc:type rdf:resource=\"http://purl.org/dc/dcmitype/StillImage\"/>\n    <dc:date>2021-10-29T16:17:44.966027</dc:date>\n    <dc:format>image/svg+xml</dc:format>\n    <dc:creator>\n     <cc:Agent>\n      <dc:title>Matplotlib v3.4.3, https://matplotlib.org/</dc:title>\n     </cc:Agent>\n    </dc:creator>\n   </cc:Work>\n  </rdf:RDF>\n </metadata>\n <defs>\n  <style type=\"text/css\">*{stroke-linecap:butt;stroke-linejoin:round;}</style>\n </defs>\n <g id=\"figure_1\">\n  <g id=\"patch_1\">\n   <path d=\"M 0 266.6095 \nL 389.8825 266.6095 \nL 389.8825 0 \nL 0 0 \nz\n\" style=\"fill:none;\"/>\n  </g>\n  <g id=\"axes_1\">\n   <g id=\"patch_2\">\n    <path d=\"M 47.8825 241.3095 \nL 382.6825 241.3095 \nL 382.6825 23.8695 \nL 47.8825 23.8695 \nz\n\" style=\"fill:#ffffff;\"/>\n   </g>\n   <g id=\"patch_3\">\n    <path clip-path=\"url(#p823d54bda3)\" d=\"M 47.8825 232.2495 \nL 81.8971 232.2495 \nL 81.8971 214.1295 \nL 47.8825 214.1295 \nz\n\" style=\"fill:#0071bc;\"/>\n   </g>\n   <g id=\"patch_4\">\n    <path clip-path=\"url(#p823d54bda3)\" d=\"M 47.8825 196.0095 \nL 125.426274 196.0095 \nL 125.426274 177.8895 \nL 47.8825 177.8895 \nz\n\" style=\"fill:#0071bc;\"/>\n   </g>\n   <g id=\"patch_5\">\n    <path clip-path=\"url(#p823d54bda3)\" d=\"M 47.8825 159.7695 \nL 163.068305 159.7695 \nL 163.068305 141.6495 \nL 47.8825 141.6495 \nz\n\" style=\"fill:#0071bc;\"/>\n   </g>\n   <g id=\"patch_6\">\n    <path clip-path=\"url(#p823d54bda3)\" d=\"M 47.8825 123.5295 \nL 176.269776 123.5295 \nL 176.269776 105.4095 \nL 47.8825 105.4095 \nz\n\" style=\"fill:#0071bc;\"/>\n   </g>\n   <g id=\"patch_7\">\n    <path clip-path=\"url(#p823d54bda3)\" d=\"M 47.8825 87.2895 \nL 325.351248 87.2895 \nL 325.351248 69.1695 \nL 47.8825 69.1695 \nz\n\" style=\"fill:#0071bc;\"/>\n   </g>\n   <g id=\"patch_8\">\n    <path clip-path=\"url(#p823d54bda3)\" d=\"M 47.8825 51.0495 \nL 366.739643 51.0495 \nL 366.739643 32.9295 \nL 47.8825 32.9295 \nz\n\" style=\"fill:#0071bc;\"/>\n   </g>\n   <g id=\"matplotlib.axis_1\">\n    <g id=\"xtick_1\">\n     <g id=\"line2d_1\">\n      <defs>\n       <path d=\"M 0 0 \nL 0 3.5 \n\" id=\"m8e5c6cffaf\" style=\"stroke:#000000;stroke-width:0.8;\"/>\n      </defs>\n      <g>\n       <use style=\"stroke:#000000;stroke-width:0.8;\" x=\"47.8825\" xlink:href=\"#m8e5c6cffaf\" y=\"241.3095\"/>\n      </g>\n     </g>\n     <g id=\"text_1\">\n      <!-- 0 -->\n      <g transform=\"translate(44.6725 257.11825)scale(0.12 -0.12)\">\n       <defs>\n        <path d=\"M 1722 -70 \nC 2656 -70 3155 646 3155 2061 \nL 3155 2406 \nC 3155 3891 2598 4499 1715 4499 \nC 819 4499 269 3834 269 2368 \nL 269 2042 \nC 269 499 845 -70 1722 -70 \nz\nM 1728 384 \nC 1069 384 845 979 845 2016 \nL 845 2490 \nC 845 3494 1088 4051 1709 4051 \nC 2336 4051 2592 3514 2592 2458 \nL 2592 1978 \nC 2592 934 2374 384 1728 384 \nz\n\" id=\"GuardianSansCond-Regular-30\" transform=\"scale(0.015625)\"/>\n       </defs>\n       <use xlink:href=\"#GuardianSansCond-Regular-30\"/>\n      </g>\n     </g>\n    </g>\n    <g id=\"xtick_2\">\n     <g id=\"line2d_2\">\n      <g>\n       <use style=\"stroke:#000000;stroke-width:0.8;\" x=\"107.348584\" xlink:href=\"#m8e5c6cffaf\" y=\"241.3095\"/>\n      </g>\n     </g>\n     <g id=\"text_2\">\n      <!-- 1000 -->\n      <g transform=\"translate(95.990772 257.11825)scale(0.12 -0.12)\">\n       <defs>\n        <path d=\"M 832 0 \nL 1363 0 \nL 1363 4474 \nL 1171 4474 \nL 141 4083 \nL 141 3776 \nL 832 3846 \nL 832 0 \nz\n\" id=\"GuardianSansCond-Regular-31\" transform=\"scale(0.015625)\"/>\n       </defs>\n       <use xlink:href=\"#GuardianSansCond-Regular-31\"/>\n       <use x=\"28.799988\" xlink:href=\"#GuardianSansCond-Regular-30\"/>\n       <use x=\"82.299973\" xlink:href=\"#GuardianSansCond-Regular-30\"/>\n       <use x=\"135.799957\" xlink:href=\"#GuardianSansCond-Regular-30\"/>\n      </g>\n     </g>\n    </g>\n    <g id=\"xtick_3\">\n     <g id=\"line2d_3\">\n      <g>\n       <use style=\"stroke:#000000;stroke-width:0.8;\" x=\"166.814668\" xlink:href=\"#m8e5c6cffaf\" y=\"241.3095\"/>\n      </g>\n     </g>\n     <g id=\"text_3\">\n      <!-- 2000 -->\n      <g transform=\"translate(154.634668 257.11825)scale(0.12 -0.12)\">\n       <defs>\n        <path d=\"M 173 0 \nL 2470 0 \nL 2470 461 \nL 800 461 \nL 800 480 \nL 1574 1421 \nC 2067 2035 2419 2528 2419 3264 \nC 2419 4026 2029 4499 1222 4499 \nC 806 4499 499 4410 269 4282 \nL 269 3853 \nC 467 3949 730 4032 1056 4032 \nC 1619 4032 1850 3750 1850 3213 \nC 1850 2630 1542 2189 1152 1670 \nL 173 397 \nL 173 0 \nz\n\" id=\"GuardianSansCond-Regular-32\" transform=\"scale(0.015625)\"/>\n       </defs>\n       <use xlink:href=\"#GuardianSansCond-Regular-32\"/>\n       <use x=\"42.499985\" xlink:href=\"#GuardianSansCond-Regular-30\"/>\n       <use x=\"95.999969\" xlink:href=\"#GuardianSansCond-Regular-30\"/>\n       <use x=\"149.499954\" xlink:href=\"#GuardianSansCond-Regular-30\"/>\n      </g>\n     </g>\n    </g>\n    <g id=\"xtick_4\">\n     <g id=\"line2d_4\">\n      <g>\n       <use style=\"stroke:#000000;stroke-width:0.8;\" x=\"226.280752\" xlink:href=\"#m8e5c6cffaf\" y=\"241.3095\"/>\n      </g>\n     </g>\n     <g id=\"text_4\">\n      <!-- 3000 -->\n      <g transform=\"translate(214.118565 257.11825)scale(0.12 -0.12)\">\n       <defs>\n        <path d=\"M 1094 -64 \nC 1920 -64 2432 416 2432 1248 \nC 2432 1939 2112 2253 1606 2362 \nL 1606 2381 \nC 2042 2515 2310 2803 2310 3405 \nC 2310 4096 1882 4499 1158 4499 \nC 787 4499 486 4429 275 4320 \nL 275 3891 \nC 461 3968 678 4038 998 4038 \nC 1478 4038 1754 3866 1754 3302 \nC 1754 2797 1478 2547 1018 2547 \nL 717 2547 \nL 717 2086 \nL 1056 2086 \nC 1600 2086 1869 1837 1869 1267 \nC 1869 646 1517 403 947 403 \nC 646 403 358 493 147 608 \nL 147 166 \nC 358 32 640 -64 1094 -64 \nz\n\" id=\"GuardianSansCond-Regular-33\" transform=\"scale(0.015625)\"/>\n       </defs>\n       <use xlink:href=\"#GuardianSansCond-Regular-33\"/>\n       <use x=\"42.199997\" xlink:href=\"#GuardianSansCond-Regular-30\"/>\n       <use x=\"95.699982\" xlink:href=\"#GuardianSansCond-Regular-30\"/>\n       <use x=\"149.199966\" xlink:href=\"#GuardianSansCond-Regular-30\"/>\n      </g>\n     </g>\n    </g>\n    <g id=\"xtick_5\">\n     <g id=\"line2d_5\">\n      <g>\n       <use style=\"stroke:#000000;stroke-width:0.8;\" x=\"285.746836\" xlink:href=\"#m8e5c6cffaf\" y=\"241.3095\"/>\n      </g>\n     </g>\n     <g id=\"text_5\">\n      <!-- 4000 -->\n      <g transform=\"translate(273.272461 257.11825)scale(0.12 -0.12)\">\n       <defs>\n        <path d=\"M 1805 0 \nL 2330 0 \nL 2330 1107 \nL 2957 1107 \nL 2957 1562 \nL 2330 1562 \nL 2330 4435 \nL 1869 4435 \nL 70 1504 \nL 70 1107 \nL 1805 1107 \nL 1805 0 \nz\nM 608 1562 \nL 608 1581 \nL 1779 3475 \nL 1805 3475 \nL 1805 1562 \nL 608 1562 \nz\n\" id=\"GuardianSansCond-Regular-34\" transform=\"scale(0.015625)\"/>\n       </defs>\n       <use xlink:href=\"#GuardianSansCond-Regular-34\"/>\n       <use x=\"47.399994\" xlink:href=\"#GuardianSansCond-Regular-30\"/>\n       <use x=\"100.899979\" xlink:href=\"#GuardianSansCond-Regular-30\"/>\n       <use x=\"154.399963\" xlink:href=\"#GuardianSansCond-Regular-30\"/>\n      </g>\n     </g>\n    </g>\n    <g id=\"xtick_6\">\n     <g id=\"line2d_6\">\n      <g>\n       <use style=\"stroke:#000000;stroke-width:0.8;\" x=\"345.21292\" xlink:href=\"#m8e5c6cffaf\" y=\"241.3095\"/>\n      </g>\n     </g>\n     <g id=\"text_6\">\n      <!-- 5000 -->\n      <g transform=\"translate(333.057295 257.11825)scale(0.12 -0.12)\">\n       <defs>\n        <path d=\"M 1094 -64 \nC 1971 -64 2445 512 2445 1363 \nC 2445 2298 1997 2707 1165 2707 \nC 1011 2707 890 2694 794 2675 \nL 877 3974 \nL 2342 3974 \nL 2342 4435 \nL 429 4435 \nL 294 2170 \nC 467 2208 710 2246 966 2246 \nC 1587 2246 1875 1990 1875 1363 \nC 1875 717 1587 397 954 397 \nC 627 397 365 474 154 582 \nL 154 147 \nC 352 26 672 -64 1094 -64 \nz\n\" id=\"GuardianSansCond-Regular-35\" transform=\"scale(0.015625)\"/>\n       </defs>\n       <use xlink:href=\"#GuardianSansCond-Regular-35\"/>\n       <use x=\"42.099991\" xlink:href=\"#GuardianSansCond-Regular-30\"/>\n       <use x=\"95.599976\" xlink:href=\"#GuardianSansCond-Regular-30\"/>\n       <use x=\"149.09996\" xlink:href=\"#GuardianSansCond-Regular-30\"/>\n      </g>\n     </g>\n    </g>\n   </g>\n   <g id=\"matplotlib.axis_2\">\n    <g id=\"ytick_1\">\n     <g id=\"line2d_7\">\n      <defs>\n       <path d=\"M 0 0 \nL -3.5 0 \n\" id=\"m6f9eea501d\" style=\"stroke:#000000;stroke-width:0.8;\"/>\n      </defs>\n      <g>\n       <use style=\"stroke:#000000;stroke-width:0.8;\" x=\"47.8825\" xlink:href=\"#m6f9eea501d\" y=\"223.1895\"/>\n      </g>\n     </g>\n     <g id=\"text_7\">\n      <!-- surprise -->\n      <g transform=\"translate(7.2 227.593875)scale(0.12 -0.12)\">\n       <defs>\n        <path d=\"M 992 -51 \nC 1658 -51 2054 307 2054 947 \nC 2054 1485 1818 1709 1306 1888 \nL 1050 1978 \nC 768 2074 659 2195 659 2451 \nC 659 2771 864 2893 1222 2893 \nC 1517 2893 1760 2810 1914 2739 \nL 1914 3168 \nC 1773 3251 1568 3334 1197 3334 \nC 531 3334 160 2982 160 2406 \nC 160 1901 422 1658 826 1517 \nL 1082 1427 \nC 1408 1312 1536 1184 1536 896 \nC 1536 582 1370 390 934 390 \nC 582 390 358 480 154 563 \nL 154 141 \nC 358 19 640 -51 992 -51 \nz\n\" id=\"GuardianSansCond-Regular-73\" transform=\"scale(0.015625)\"/>\n        <path d=\"M 1158 -51 \nC 1523 -51 1824 109 2042 262 \nL 2067 262 \nL 2118 0 \nL 2566 0 \nL 2566 3283 \nL 2042 3283 \nL 2042 602 \nC 1888 512 1626 397 1350 397 \nC 947 397 858 557 858 838 \nL 858 3283 \nL 333 3283 \nL 333 826 \nC 333 301 576 -51 1158 -51 \nz\n\" id=\"GuardianSansCond-Regular-75\" transform=\"scale(0.015625)\"/>\n        <path d=\"M 346 0 \nL 870 0 \nL 870 2605 \nC 1062 2752 1306 2842 1587 2842 \nC 1638 2842 1728 2835 1786 2829 \nL 1786 3302 \nC 1747 3315 1677 3328 1606 3328 \nC 1306 3328 1030 3142 870 2938 \nL 845 2938 \nL 845 3283 \nL 346 3283 \nL 346 0 \nz\n\" id=\"GuardianSansCond-Regular-72\" transform=\"scale(0.015625)\"/>\n        <path d=\"M 346 -1222 \nL 870 -1222 \nL 870 128 \nC 1005 38 1242 -51 1542 -51 \nC 2374 -51 2784 525 2784 1600 \nL 2784 1818 \nC 2784 2912 2342 3334 1670 3334 \nC 1318 3334 1030 3187 870 3034 \nL 845 3034 \nL 845 3283 \nL 346 3283 \nL 346 -1222 \nz\nM 1466 378 \nC 1210 378 973 461 870 538 \nL 870 2688 \nC 992 2784 1229 2893 1523 2893 \nC 2035 2893 2246 2573 2246 1798 \nL 2246 1549 \nC 2246 742 2003 378 1466 378 \nz\n\" id=\"GuardianSansCond-Regular-70\" transform=\"scale(0.015625)\"/>\n        <path d=\"M 358 0 \nL 883 0 \nL 883 3283 \nL 358 3283 \nL 358 0 \nz\nM 352 3910 \nL 883 3910 \nL 883 4474 \nL 352 4474 \nL 352 3910 \nz\n\" id=\"GuardianSansCond-Regular-69\" transform=\"scale(0.015625)\"/>\n        <path d=\"M 1555 -51 \nC 1984 -51 2317 102 2470 243 \nL 2470 627 \nC 2240 499 1965 397 1613 397 \nC 1037 397 742 698 723 1466 \nL 2554 1466 \nL 2554 1798 \nC 2554 2893 2176 3334 1402 3334 \nC 659 3334 186 2810 186 1722 \nL 186 1549 \nC 186 499 634 -51 1555 -51 \nz\nM 1382 2906 \nC 1830 2906 2010 2611 2010 1894 \nL 723 1894 \nC 736 2630 992 2906 1382 2906 \nz\n\" id=\"GuardianSansCond-Regular-65\" transform=\"scale(0.015625)\"/>\n       </defs>\n       <use xlink:href=\"#GuardianSansCond-Regular-73\"/>\n       <use x=\"34.499985\" xlink:href=\"#GuardianSansCond-Regular-75\"/>\n       <use x=\"79.999969\" xlink:href=\"#GuardianSansCond-Regular-72\"/>\n       <use x=\"108.799957\" xlink:href=\"#GuardianSansCond-Regular-70\"/>\n       <use x=\"155.399948\" xlink:href=\"#GuardianSansCond-Regular-72\"/>\n       <use x=\"184.199936\" xlink:href=\"#GuardianSansCond-Regular-69\"/>\n       <use x=\"203.499924\" xlink:href=\"#GuardianSansCond-Regular-73\"/>\n       <use x=\"237.999908\" xlink:href=\"#GuardianSansCond-Regular-65\"/>\n      </g>\n     </g>\n    </g>\n    <g id=\"ytick_2\">\n     <g id=\"line2d_8\">\n      <g>\n       <use style=\"stroke:#000000;stroke-width:0.8;\" x=\"47.8825\" xlink:href=\"#m6f9eea501d\" y=\"186.9495\"/>\n      </g>\n     </g>\n     <g id=\"text_8\">\n      <!-- love -->\n      <g transform=\"translate(22.9425 191.353875)scale(0.12 -0.12)\">\n       <defs>\n        <path d=\"M 358 0 \nL 877 0 \nL 877 4698 \nL 358 4698 \nL 358 0 \nz\n\" id=\"GuardianSansCond-Regular-6c\" transform=\"scale(0.015625)\"/>\n        <path d=\"M 1459 -51 \nC 2272 -51 2733 570 2733 1542 \nL 2733 1747 \nC 2733 2771 2291 3334 1459 3334 \nC 659 3334 186 2714 186 1741 \nL 186 1530 \nC 186 531 614 -51 1459 -51 \nz\nM 1466 378 \nC 992 378 723 762 723 1472 \nL 723 1818 \nC 723 2451 947 2906 1453 2906 \nC 1920 2906 2195 2560 2195 1805 \nL 2195 1466 \nC 2195 826 1958 378 1466 378 \nz\n\" id=\"GuardianSansCond-Regular-6f\" transform=\"scale(0.015625)\"/>\n        <path d=\"M 1075 0 \nL 1613 0 \nL 2605 3283 \nL 2093 3283 \nL 1504 1190 \nC 1421 870 1370 653 1370 653 \nL 1344 653 \nC 1344 653 1299 877 1216 1190 \nL 627 3283 \nL 70 3283 \nL 1075 0 \nz\n\" id=\"GuardianSansCond-Regular-76\" transform=\"scale(0.015625)\"/>\n       </defs>\n       <use xlink:href=\"#GuardianSansCond-Regular-6c\"/>\n       <use x=\"19.299988\" xlink:href=\"#GuardianSansCond-Regular-6f\"/>\n       <use x=\"64.899979\" xlink:href=\"#GuardianSansCond-Regular-76\"/>\n       <use x=\"106.799973\" xlink:href=\"#GuardianSansCond-Regular-65\"/>\n      </g>\n     </g>\n    </g>\n    <g id=\"ytick_3\">\n     <g id=\"line2d_9\">\n      <g>\n       <use style=\"stroke:#000000;stroke-width:0.8;\" x=\"47.8825\" xlink:href=\"#m6f9eea501d\" y=\"150.7095\"/>\n      </g>\n     </g>\n     <g id=\"text_9\">\n      <!-- fear -->\n      <g transform=\"translate(24.189375 155.113875)scale(0.12 -0.12)\">\n       <defs>\n        <path d=\"M 493 0 \nL 1018 0 \nL 1018 2848 \nL 1626 2848 \nL 1626 3283 \nL 1018 3283 \nL 1018 3712 \nC 1018 4115 1146 4307 1478 4307 \nC 1632 4307 1754 4282 1837 4262 \nL 1837 4640 \nC 1747 4685 1587 4742 1363 4742 \nC 826 4742 493 4429 493 3757 \nL 493 3283 \nL 96 3283 \nL 96 2848 \nL 493 2848 \nL 493 0 \nz\n\" id=\"GuardianSansCond-Regular-66\" transform=\"scale(0.015625)\"/>\n        <path d=\"M 1082 -51 \nC 1395 -51 1638 77 1779 230 \nL 1811 230 \nL 1862 0 \nL 2291 0 \nL 2291 2413 \nC 2291 3027 1958 3334 1293 3334 \nC 915 3334 634 3258 410 3155 \nL 410 2771 \nC 576 2829 806 2886 1094 2886 \nC 1600 2886 1766 2739 1766 2278 \nL 1766 1958 \nL 1088 1856 \nC 480 1766 160 1466 160 883 \nC 160 250 525 -51 1082 -51 \nz\nM 1222 358 \nC 877 358 704 544 704 915 \nC 704 1274 877 1440 1242 1485 \nL 1766 1549 \nL 1766 525 \nC 1658 435 1459 358 1222 358 \nz\n\" id=\"GuardianSansCond-Regular-61\" transform=\"scale(0.015625)\"/>\n       </defs>\n       <use xlink:href=\"#GuardianSansCond-Regular-66\"/>\n       <use x=\"26.699997\" xlink:href=\"#GuardianSansCond-Regular-65\"/>\n       <use x=\"69.399994\" xlink:href=\"#GuardianSansCond-Regular-61\"/>\n       <use x=\"110.299988\" xlink:href=\"#GuardianSansCond-Regular-72\"/>\n      </g>\n     </g>\n    </g>\n    <g id=\"ytick_4\">\n     <g id=\"line2d_10\">\n      <g>\n       <use style=\"stroke:#000000;stroke-width:0.8;\" x=\"47.8825\" xlink:href=\"#m6f9eea501d\" y=\"114.4695\"/>\n      </g>\n     </g>\n     <g id=\"text_10\">\n      <!-- anger -->\n      <g transform=\"translate(16.738125 118.861688)scale(0.12 -0.12)\">\n       <defs>\n        <path d=\"M 346 0 \nL 870 0 \nL 870 2688 \nC 1037 2778 1306 2886 1587 2886 \nC 1965 2886 2093 2765 2093 2458 \nL 2093 0 \nL 2611 0 \nL 2611 2528 \nC 2611 3085 2342 3334 1811 3334 \nC 1440 3334 1107 3194 870 3021 \nL 845 3021 \nL 845 3283 \nL 346 3283 \nL 346 0 \nz\n\" id=\"GuardianSansCond-Regular-6e\" transform=\"scale(0.015625)\"/>\n        <path d=\"M 1325 -1235 \nC 2240 -1235 2675 -787 2675 -179 \nC 2675 416 2336 704 1696 704 \nL 1069 704 \nC 858 704 774 806 774 966 \nC 774 1069 826 1178 890 1242 \nC 1018 1197 1171 1178 1331 1178 \nC 1939 1178 2413 1530 2413 2208 \nL 2413 2304 \nC 2413 2560 2336 2739 2234 2874 \nL 2682 2874 \nL 2682 3283 \nL 1747 3283 \nC 1626 3315 1485 3334 1325 3334 \nC 704 3334 250 2944 250 2278 \nL 250 2182 \nC 250 1786 429 1510 634 1376 \nC 422 1210 294 1024 294 787 \nC 294 544 442 403 627 333 \nL 627 307 \nC 320 192 64 -38 64 -422 \nC 64 -915 506 -1235 1325 -1235 \nz\nM 1312 -819 \nC 832 -819 595 -640 595 -326 \nC 595 -51 762 141 966 218 \nL 1632 218 \nC 2022 218 2150 45 2150 -237 \nC 2150 -602 1926 -819 1312 -819 \nz\nM 1331 1581 \nC 998 1581 762 1773 762 2189 \nL 762 2323 \nC 762 2726 973 2931 1331 2931 \nC 1670 2931 1901 2746 1901 2310 \nL 1901 2176 \nC 1901 1779 1683 1581 1331 1581 \nz\n\" id=\"GuardianSansCond-Regular-67\" transform=\"scale(0.015625)\"/>\n       </defs>\n       <use xlink:href=\"#GuardianSansCond-Regular-61\"/>\n       <use x=\"40.899994\" xlink:href=\"#GuardianSansCond-Regular-6e\"/>\n       <use x=\"86.999985\" xlink:href=\"#GuardianSansCond-Regular-67\"/>\n       <use x=\"129.699982\" xlink:href=\"#GuardianSansCond-Regular-65\"/>\n       <use x=\"172.399979\" xlink:href=\"#GuardianSansCond-Regular-72\"/>\n      </g>\n     </g>\n    </g>\n    <g id=\"ytick_5\">\n     <g id=\"line2d_11\">\n      <g>\n       <use style=\"stroke:#000000;stroke-width:0.8;\" x=\"47.8825\" xlink:href=\"#m6f9eea501d\" y=\"78.2295\"/>\n      </g>\n     </g>\n     <g id=\"text_11\">\n      <!-- sadness -->\n      <g transform=\"translate(7.306875 82.633875)scale(0.12 -0.12)\">\n       <defs>\n        <path d=\"M 1357 -51 \nC 1690 -51 1965 77 2125 243 \nL 2150 243 \nL 2195 0 \nL 2637 0 \nL 2637 4698 \nL 2118 4698 \nL 2118 3174 \nC 1978 3264 1734 3334 1466 3334 \nC 634 3334 198 2739 198 1670 \nL 198 1523 \nC 198 339 723 -51 1357 -51 \nz\nM 1504 378 \nC 992 378 742 749 742 1542 \nL 742 1728 \nC 742 2541 979 2893 1536 2893 \nC 1779 2893 2003 2835 2118 2758 \nL 2118 595 \nC 1984 493 1773 378 1504 378 \nz\n\" id=\"GuardianSansCond-Regular-64\" transform=\"scale(0.015625)\"/>\n       </defs>\n       <use xlink:href=\"#GuardianSansCond-Regular-73\"/>\n       <use x=\"34.499985\" xlink:href=\"#GuardianSansCond-Regular-61\"/>\n       <use x=\"75.399979\" xlink:href=\"#GuardianSansCond-Regular-64\"/>\n       <use x=\"121.999969\" xlink:href=\"#GuardianSansCond-Regular-6e\"/>\n       <use x=\"168.09996\" xlink:href=\"#GuardianSansCond-Regular-65\"/>\n       <use x=\"210.799957\" xlink:href=\"#GuardianSansCond-Regular-73\"/>\n       <use x=\"245.299942\" xlink:href=\"#GuardianSansCond-Regular-73\"/>\n      </g>\n     </g>\n    </g>\n    <g id=\"ytick_6\">\n     <g id=\"line2d_12\">\n      <g>\n       <use style=\"stroke:#000000;stroke-width:0.8;\" x=\"47.8825\" xlink:href=\"#m6f9eea501d\" y=\"41.9895\"/>\n      </g>\n     </g>\n     <g id=\"text_12\">\n      <!-- joy -->\n      <g transform=\"translate(28.138125 46.357313)scale(0.12 -0.12)\">\n       <defs>\n        <path d=\"M 83 -1261 \nC 666 -1261 870 -870 870 -352 \nL 870 3283 \nL 352 3283 \nL 352 -326 \nC 352 -678 218 -826 -58 -826 \nC -160 -826 -262 -806 -339 -794 \nL -339 -1158 \nC -237 -1222 -109 -1261 83 -1261 \nz\nM 346 3910 \nL 877 3910 \nL 877 4474 \nL 346 4474 \nL 346 3910 \nz\n\" id=\"GuardianSansCond-Regular-6a\" transform=\"scale(0.015625)\"/>\n        <path d=\"M 570 -1261 \nC 1082 -1261 1306 -960 1485 -365 \nL 2592 3283 \nL 2067 3283 \nL 1485 1197 \nC 1421 992 1376 787 1376 787 \nL 1363 787 \nC 1363 787 1331 928 1248 1203 \nL 621 3283 \nL 51 3283 \nL 1120 13 \nL 1018 -294 \nC 896 -698 749 -826 480 -826 \nC 384 -826 262 -813 186 -800 \nL 186 -1171 \nC 282 -1222 435 -1261 570 -1261 \nz\n\" id=\"GuardianSansCond-Regular-79\" transform=\"scale(0.015625)\"/>\n       </defs>\n       <use xlink:href=\"#GuardianSansCond-Regular-6a\"/>\n       <use x=\"19.199997\" xlink:href=\"#GuardianSansCond-Regular-6f\"/>\n       <use x=\"64.799988\" xlink:href=\"#GuardianSansCond-Regular-79\"/>\n      </g>\n     </g>\n    </g>\n   </g>\n   <g id=\"patch_9\">\n    <path d=\"M 47.8825 241.3095 \nL 47.8825 23.8695 \n\" style=\"fill:none;stroke:#000000;stroke-linecap:square;stroke-linejoin:miter;stroke-width:0.8;\"/>\n   </g>\n   <g id=\"patch_10\">\n    <path d=\"M 382.6825 241.3095 \nL 382.6825 23.8695 \n\" style=\"fill:none;stroke:#000000;stroke-linecap:square;stroke-linejoin:miter;stroke-width:0.8;\"/>\n   </g>\n   <g id=\"patch_11\">\n    <path d=\"M 47.8825 241.3095 \nL 382.6825 241.3095 \n\" style=\"fill:none;stroke:#000000;stroke-linecap:square;stroke-linejoin:miter;stroke-width:0.8;\"/>\n   </g>\n   <g id=\"patch_12\">\n    <path d=\"M 47.8825 23.8695 \nL 382.6825 23.8695 \n\" style=\"fill:none;stroke:#000000;stroke-linecap:square;stroke-linejoin:miter;stroke-width:0.8;\"/>\n   </g>\n   <g id=\"text_13\">\n    <!-- Frequency of Classes -->\n    <g transform=\"translate(162.606625 17.8695)scale(0.144 -0.144)\">\n     <defs>\n      <path d=\"M 416 0 \nL 954 0 \nL 954 1984 \nL 2227 1984 \nL 2227 2445 \nL 954 2445 \nL 954 3974 \nL 2573 3974 \nL 2573 4435 \nL 416 4435 \nL 416 0 \nz\n\" id=\"GuardianSansCond-Regular-46\" transform=\"scale(0.015625)\"/>\n      <path d=\"M 2118 179 \nL 2118 -1222 \nL 2637 -1222 \nL 2637 3130 \nC 2419 3238 2067 3334 1600 3334 \nC 762 3334 198 2861 198 1664 \nL 198 1453 \nC 198 294 749 -51 1331 -51 \nC 1677 -51 1946 77 2093 179 \nL 2118 179 \nz\nM 1568 2906 \nC 1811 2906 1997 2861 2118 2822 \nL 2118 589 \nC 1997 493 1786 384 1504 384 \nC 1005 384 742 646 742 1466 \nL 742 1728 \nC 742 2624 1075 2906 1568 2906 \nz\n\" id=\"GuardianSansCond-Regular-71\" transform=\"scale(0.015625)\"/>\n      <path d=\"M 1498 -51 \nC 1869 -51 2125 51 2298 173 \nL 2298 595 \nC 2163 518 1907 390 1555 390 \nC 1005 390 723 704 723 1542 \nL 723 1798 \nC 723 2464 941 2893 1510 2893 \nC 1856 2893 2054 2803 2259 2714 \nL 2259 3149 \nC 2093 3258 1875 3334 1542 3334 \nC 768 3334 186 2886 186 1741 \nL 186 1536 \nC 186 416 685 -51 1498 -51 \nz\n\" id=\"GuardianSansCond-Regular-63\" transform=\"scale(0.015625)\"/>\n      <path id=\"GuardianSansCond-Regular-20\" transform=\"scale(0.015625)\"/>\n      <path d=\"M 1882 -64 \nC 2304 -64 2637 38 2874 186 \nL 2874 640 \nC 2643 518 2342 397 1946 397 \nC 1114 397 806 986 806 2042 \nL 806 2445 \nC 806 3648 1267 4038 1920 4038 \nC 2278 4038 2541 3955 2822 3840 \nL 2822 4288 \nC 2618 4410 2336 4499 1952 4499 \nC 1005 4499 237 3994 237 2387 \nL 237 2042 \nC 237 563 851 -64 1882 -64 \nz\n\" id=\"GuardianSansCond-Regular-43\" transform=\"scale(0.015625)\"/>\n     </defs>\n     <use xlink:href=\"#GuardianSansCond-Regular-46\"/>\n     <use x=\"42.499985\" xlink:href=\"#GuardianSansCond-Regular-72\"/>\n     <use x=\"71.299973\" xlink:href=\"#GuardianSansCond-Regular-65\"/>\n     <use x=\"113.999969\" xlink:href=\"#GuardianSansCond-Regular-71\"/>\n     <use x=\"160.399963\" xlink:href=\"#GuardianSansCond-Regular-75\"/>\n     <use x=\"205.899948\" xlink:href=\"#GuardianSansCond-Regular-65\"/>\n     <use x=\"248.599945\" xlink:href=\"#GuardianSansCond-Regular-6e\"/>\n     <use x=\"294.699936\" xlink:href=\"#GuardianSansCond-Regular-63\"/>\n     <use x=\"332.499924\" xlink:href=\"#GuardianSansCond-Regular-79\"/>\n     <use x=\"373.899918\" xlink:href=\"#GuardianSansCond-Regular-20\"/>\n     <use x=\"389.699905\" xlink:href=\"#GuardianSansCond-Regular-6f\"/>\n     <use x=\"435.299896\" xlink:href=\"#GuardianSansCond-Regular-66\"/>\n     <use x=\"461.999893\" xlink:href=\"#GuardianSansCond-Regular-20\"/>\n     <use x=\"477.799881\" xlink:href=\"#GuardianSansCond-Regular-43\"/>\n     <use x=\"525.199875\" xlink:href=\"#GuardianSansCond-Regular-6c\"/>\n     <use x=\"544.499863\" xlink:href=\"#GuardianSansCond-Regular-61\"/>\n     <use x=\"585.399857\" xlink:href=\"#GuardianSansCond-Regular-73\"/>\n     <use x=\"619.899841\" xlink:href=\"#GuardianSansCond-Regular-73\"/>\n     <use x=\"654.399826\" xlink:href=\"#GuardianSansCond-Regular-65\"/>\n     <use x=\"697.099823\" xlink:href=\"#GuardianSansCond-Regular-73\"/>\n    </g>\n   </g>\n  </g>\n </g>\n <defs>\n  <clipPath id=\"p823d54bda3\">\n   <rect height=\"217.44\" width=\"334.8\" x=\"47.8825\" y=\"23.8695\"/>\n  </clipPath>\n </defs>\n</svg>\n",
            "text/plain": [
              "<Figure size 432x288 with 1 Axes>"
            ]
          },
          "metadata": {
            "needs_background": "light"
          },
          "output_type": "display_data"
        }
      ],
      "source": [
        "import matplotlib.pyplot as plt\n",
        "\n",
        "df[\"label_name\"].value_counts(ascending=True).plot.barh()\n",
        "plt.title(\"Frequency of Classes\")\n",
        "plt.show()"
      ]
    },
    {
      "cell_type": "markdown",
      "metadata": {
        "id": "PsprvtXGSZ9F"
      },
      "source": [
        "In this case, we can see that the dataset is heavily imbalanced; the `joy` and `sadness` classes appear frequently, whereas `love` and `surprise` are about 5–10 times rarer. There are several ways to deal with imbalanced data, including:\n",
        "\n",
        "* Randomly oversample the minority class.\n",
        "* Randomly undersample the majority class.\n",
        "* Gather more labeled data from the underrepresented classes."
      ]
    },
    {
      "cell_type": "markdown",
      "metadata": {
        "id": "oVO9-3fXSZ9F"
      },
      "source": [
        "To keep things simple in this chapter, we'll work with the raw, unbalanced class frequencies. If you want to learn more about these sampling techniques, we recommend checking out the [Imbalanced-learn library](https://imbalanced-learn.org/stable/). Just make sure that you don't apply sampling methods _before_ creating your train/test splits, or you'll get plenty of leakage between them!\n",
        "\n",
        "Now that we've looked at the classes, let's take a look at the tweets themselves."
      ]
    },
    {
      "cell_type": "code",
      "execution_count": null,
      "metadata": {
        "id": "O8WduBrwSZ9G"
      },
      "outputs": [],
      "source": [
        "emotions.reset_format()"
      ]
    },
    {
      "cell_type": "markdown",
      "metadata": {
        "id": "u9jnbUz9SZ9G"
      },
      "source": [
        "## From Text to Tokens"
      ]
    },
    {
      "cell_type": "markdown",
      "metadata": {
        "id": "9mO0c3Z5SZ9G"
      },
      "source": [
        "Transformer models like DistilBERT cannot receive raw strings as input; instead, they assume the text has been _tokenized_ and _encoded_ as numerical vectors. Tokenization is the step of breaking down a string into the atomic units used in the model. There are several tokenization strategies one can adopt, and the optimal splitting of words into subunits is usually learned from the corpus. Before looking at the tokenizer used for DistilBERT, let's consider two extreme cases: _character_ and _word_ tokenization."
      ]
    },
    {
      "cell_type": "markdown",
      "metadata": {
        "id": "014fSVQnSZ9I"
      },
      "source": [
        "### Subword Tokenization"
      ]
    },
    {
      "cell_type": "markdown",
      "metadata": {
        "id": "LXE076STSZ9I"
      },
      "source": [
        "The basic idea behind subword tokenization is to combine the best aspects of character and word tokenization. On the one hand, we want to split rare words into smaller units to allow the model to deal with complex words and misspellings. On the other hand, we want to keep frequent words as unique entities so that we can keep the length of our inputs to a manageable size. The main distinguishing feature of subword tokenization (as well as word tokenization) is that it is _learned_ from the pretraining corpus using a mix of statistical rules and algorithms.\n",
        "\n",
        "There are several subword tokenization algorithms that are commonly used in NLP, but let's start with WordPiece,footnote:[M. Schuster and K. Nakajima, \"Japanese and Korean Voice Search,\" _2012 IEEE International Conference on Acoustics, Speech and Signal Processing_ (2012): 5149–5152, https://doi.org/10.1109/ICASSP.2012.6289079.] which is used by the BERT and DistilBERT tokenizers. The easiest way to understand how WordPiece works is to see it in action. image:images/logo.png[hf,13,13] Transformers provides a convenient `AutoTokenizer` class that allows you to quickly load the tokenizer associated with a pretrained model—we just call its `from_pretrained()` method, providing the ID of a model on the Hub or a local file path. Let's start by loading the tokenizer for DistilBERT:"
      ]
    },
    {
      "cell_type": "code",
      "execution_count": null,
      "metadata": {
        "id": "2yYbjoSDSZ9I"
      },
      "outputs": [],
      "source": [
        "# hide_output\n",
        "from transformers import AutoTokenizer\n",
        "\n",
        "model_ckpt = \"distilbert-base-uncased\"\n",
        "tokenizer = AutoTokenizer.from_pretrained(model_ckpt)"
      ]
    },
    {
      "cell_type": "markdown",
      "metadata": {
        "id": "fSbr-5wlSZ9J"
      },
      "source": [
        "### Tokenizing the Whole Dataset"
      ]
    },
    {
      "cell_type": "markdown",
      "metadata": {
        "id": "xDJOXvfaSZ9J"
      },
      "source": [
        "To tokenize the whole corpus, we'll use the `map()` method of our `DatasetDict` object. We'll encounter this method many times throughout this book, as it provides a convenient way to apply a processing function to each element in a dataset. As we'll soon see, the `map()` method can also be used to create new rows and columns.\n",
        "\n",
        "To get started, the first thing we need is a processing function to tokenize our examples with:"
      ]
    },
    {
      "cell_type": "code",
      "execution_count": null,
      "metadata": {
        "id": "9P91Ufa3SZ9J"
      },
      "outputs": [],
      "source": [
        "def tokenize(batch):\n",
        "    return tokenizer(batch[\"text\"], padding=True, truncation=True)"
      ]
    },
    {
      "cell_type": "markdown",
      "metadata": {
        "id": "TqLybHkRSZ9J"
      },
      "source": [
        "This function applies the tokenizer to a batch of examples; `padding=True` will pad the examples with zeros to the size of the longest one in a batch, and `truncation=True` will truncate the examples to the model's maximum context size. To see `tokenize()` in action, let's pass a batch of two examples from the training set:"
      ]
    },
    {
      "cell_type": "code",
      "execution_count": null,
      "metadata": {
        "id": "CLbrPyNaSZ9J",
        "outputId": "2e035e4e-82a9-47fc-cb6e-adb27610b781"
      },
      "outputs": [
        {
          "name": "stdout",
          "output_type": "stream",
          "text": [
            "{'input_ids': [[101, 1045, 2134, 2102, 2514, 26608, 102, 0, 0, 0, 0, 0, 0, 0, 0,\n",
            "0, 0, 0, 0, 0, 0, 0, 0], [101, 1045, 2064, 2175, 2013, 3110, 2061, 20625, 2000,\n",
            "2061, 9636, 17772, 2074, 2013, 2108, 2105, 2619, 2040, 14977, 1998, 2003, 8300,\n",
            "102]], 'attention_mask': [[1, 1, 1, 1, 1, 1, 1, 0, 0, 0, 0, 0, 0, 0, 0, 0, 0, 0,\n",
            "0, 0, 0, 0, 0], [1, 1, 1, 1, 1, 1, 1, 1, 1, 1, 1, 1, 1, 1, 1, 1, 1, 1, 1, 1, 1,\n",
            "1, 1]]}\n"
          ]
        }
      ],
      "source": [
        "print(tokenize(emotions[\"train\"][:2]))"
      ]
    },
    {
      "cell_type": "markdown",
      "metadata": {
        "id": "ATx0B-BeSZ9J"
      },
      "source": [
        "Here we can see the result of padding: the first element of `input_ids` is shorter than the second, so zeros have been added to that element to make them the same length. These zeros have a corresponding `[PAD]` token in the vocabulary, and the set of special tokens also includes the `[CLS]` and `[SEP]` tokens that we encountered earlier:"
      ]
    },
    {
      "cell_type": "code",
      "execution_count": null,
      "metadata": {
        "id": "sZDJvCsASZ9K",
        "outputId": "869b7edd-01de-4f84-a7ff-344182208288"
      },
      "outputs": [
        {
          "data": {
            "text/html": [
              "<table border=\"1\" class=\"dataframe\">\n",
              "  <tbody>\n",
              "    <tr>\n",
              "      <th>Special Token</th>\n",
              "      <td>[PAD]</td>\n",
              "      <td>[UNK]</td>\n",
              "      <td>[CLS]</td>\n",
              "      <td>[SEP]</td>\n",
              "      <td>[MASK]</td>\n",
              "    </tr>\n",
              "    <tr>\n",
              "      <th>Special Token ID</th>\n",
              "      <td>0</td>\n",
              "      <td>100</td>\n",
              "      <td>101</td>\n",
              "      <td>102</td>\n",
              "      <td>103</td>\n",
              "    </tr>\n",
              "  </tbody>\n",
              "</table>"
            ],
            "text/plain": [
              "<IPython.core.display.HTML object>"
            ]
          },
          "metadata": {},
          "output_type": "display_data"
        }
      ],
      "source": [
        "#hide_input\n",
        "tokens2ids = list(zip(tokenizer.all_special_tokens, tokenizer.all_special_ids))\n",
        "data = sorted(tokens2ids, key=lambda x : x[-1])\n",
        "df = pd.DataFrame(data, columns=[\"Special Token\", \"Special Token ID\"])\n",
        "df.T"
      ]
    },
    {
      "cell_type": "markdown",
      "metadata": {
        "id": "YXDQ2gJDSZ9K"
      },
      "source": [
        "Also note that in addition to returning the encoded tweets as `input_ids`, the tokenizer returns a list of `attention_mask` arrays. This is because we do not want the model to get confused by the additional padding tokens: the attention mask allows the model to ignore the padded parts of the input. <<attention-mask>> provides a visual explanation of how the input IDs and attention masks are padded.\n",
        "\n",
        "<img alt=\"attention-mask\" caption=\"For each batch, the input sequences are padded to the maximum sequence length in the batch; the attention mask is used in the model to ignore the padded areas of the input tensors\" src=\"https://github.com/wxmlong2012/notebooks/blob/main/images/chapter02_attention-mask.png?raw=1\" id=\"attention-mask\"/>"
      ]
    },
    {
      "cell_type": "markdown",
      "metadata": {
        "id": "WsP5NkRKSZ9K"
      },
      "source": [
        "Once we've defined a processing function, we can apply it across all the splits in the corpus in a single line of code:"
      ]
    },
    {
      "cell_type": "code",
      "execution_count": null,
      "metadata": {
        "id": "SPbmLxF9SZ9K"
      },
      "outputs": [],
      "source": [
        "# hide_output\n",
        "emotions_encoded = emotions.map(tokenize, batched=True, batch_size=None)"
      ]
    },
    {
      "cell_type": "markdown",
      "metadata": {
        "id": "WqdpFRXQSZ9K"
      },
      "source": [
        "By default, the `map()` method operates individually on every example in the corpus, so setting `batched=True` will encode the tweets in batches. Because we've set `batch_size=None`, our `tokenize()` function will be applied on the full dataset as a single batch. This ensures that the input tensors and attention masks have the same shape globally, and we can see that this operation has added new `input_ids` and `attention_mask` columns to the dataset:"
      ]
    },
    {
      "cell_type": "code",
      "execution_count": null,
      "metadata": {
        "id": "unzo__tDSZ9K",
        "outputId": "400a3d36-b5b4-402a-84c0-fd781f3399b6"
      },
      "outputs": [
        {
          "name": "stdout",
          "output_type": "stream",
          "text": [
            "['attention_mask', 'input_ids', 'label', 'text']\n"
          ]
        }
      ],
      "source": [
        "print(emotions_encoded[\"train\"].column_names)"
      ]
    },
    {
      "cell_type": "markdown",
      "metadata": {
        "id": "93L6BN_-SZ9K"
      },
      "source": [
        "> Note: In later chapters, we'll see how _data collators_ can be used to dynamically pad the tensors in each batch. Padding globally will come in handy in the next section, where we extract a feature matrix from the whole corpus."
      ]
    },
    {
      "cell_type": "markdown",
      "metadata": {
        "id": "R5YMIiO0SZ9K"
      },
      "source": [
        "## Training a Text Classifier"
      ]
    },
    {
      "cell_type": "markdown",
      "metadata": {
        "id": "6AliV5pGSZ9K"
      },
      "source": [
        "As discussed in <<chapter_introduction>>, models like DistilBERT are pretrained to predict masked words in a sequence of text. However, we can't use these language models directly for text classification; we need to modify them slightly. To understand what modifications are necessary, let's take a look at the architecture of an encoder-based model like DistilBERT, which is depicted in <<encoder-classifier>>."
      ]
    },
    {
      "cell_type": "markdown",
      "metadata": {
        "id": "Uc3GkqzKSZ9K"
      },
      "source": [
        "<img alt=\"encoder-classifier\" caption=\"The architecture used for sequence classification with an encoder-based transformer; it consists of the model's pretrained body (blue) combined with a custom classification head (orange)\" src=\"https://github.com/wxmlong2012/notebooks/blob/main/images/chapter02_encoder-classifier.png?raw=1\" id=\"encoder-classifier\"/>"
      ]
    },
    {
      "cell_type": "markdown",
      "metadata": {
        "id": "A9OgyAtsSZ9K"
      },
      "source": [
        "First, the text is tokenized and represented as one-hot vectors called _token encodings_. The size of the tokenizer vocabulary determines the dimension of the token encodings, and it usually consists of 20k–200k unique tokens. Next, these token encodings are converted to _token embeddings_, which are vectors living in a lower-dimensional space. The token embeddings are then passed through the encoder block layers to yield a _hidden state_ for each input token. For the pretraining objective of language modeling,&#x2060;footnote:[In the case of DistilBERT, it's guessing the masked tokens.] each hidden state is fed to a layer that predicts the masked input tokens. For the classification task, we replace the language modeling layer with a classification layer."
      ]
    },
    {
      "cell_type": "markdown",
      "metadata": {
        "id": "0I-Its2rSZ9K"
      },
      "source": [
        "> note: In practice, PyTorch skips the step of creating one-hot vectors for token encodings because multiplying a matrix with a one-hot vector is the same as selecting a column from the matrix. This can be done directly by getting the column with the token ID from the matrix. We'll see this in <<chapter_anatomy>> when we use the `nn.Embedding` class."
      ]
    },
    {
      "cell_type": "markdown",
      "metadata": {
        "id": "CcrFYZKJSZ9K"
      },
      "source": [
        "We have two options to train such a model on our Twitter dataset:\n",
        "\n",
        "- _Feature extraction_:: We use the hidden states as features and just train a classifier on them, without modifying the pretrained model.\n",
        "- _Fine-tuning_:: We train the whole model end-to-end, which also updates the parameters of the pretrained model.\n",
        "\n",
        "In the following sections we explore both options for DistilBERT and examine their trade-offs."
      ]
    },
    {
      "cell_type": "markdown",
      "metadata": {
        "id": "swg8-3sVSZ9K"
      },
      "source": [
        "### Transformers as Feature Extractors"
      ]
    },
    {
      "cell_type": "markdown",
      "metadata": {
        "id": "nibqC2N-SZ9K"
      },
      "source": [
        "\n",
        "Using a transformer as a feature extractor is fairly simple. As shown in <<encoder-features>>, we freeze the body's weights during training and use the hidden states as features for the classifier. The advantage of this approach is that we can quickly train a small or shallow model. Such a model could be a neural classification layer or a method that does not rely on gradients, such as a random forest. This method is especially convenient if GPUs are unavailable, since the hidden states only need to be precomputed once."
      ]
    },
    {
      "cell_type": "markdown",
      "metadata": {
        "id": "FSlQBzOHSZ9K"
      },
      "source": [
        "<img alt=\"encoder-features\" caption=\"In the feature-based approach, the DistilBERT model is frozen and just provides features for a classifier\" src=\"https://github.com/wxmlong2012/notebooks/blob/main/images/chapter02_encoder-feature-based.png?raw=1\" id=\"encoder-features\"/>"
      ]
    },
    {
      "cell_type": "markdown",
      "metadata": {
        "id": "-WWGKkHpSZ9K"
      },
      "source": [
        "#### Using pretrained models"
      ]
    },
    {
      "cell_type": "markdown",
      "metadata": {
        "id": "2yFLETyRSZ9K"
      },
      "source": [
        "\n",
        "We will use another convenient auto class from image:images/logo.png[hf,13,13] Transformers called `AutoModel`. Similar to the `AutoTokenizer` class, `AutoModel` has a `from_pretrained()` method to load the weights of a pretrained model. Let's use this method to load the DistilBERT checkpoint:"
      ]
    },
    {
      "cell_type": "code",
      "execution_count": null,
      "metadata": {
        "id": "SsIoUNLqSZ9K"
      },
      "outputs": [],
      "source": [
        "# hide_output\n",
        "from transformers import AutoModel\n",
        "\n",
        "model_ckpt = \"distilbert-base-uncased\"\n",
        "device = torch.device(\"cuda\" if torch.cuda.is_available() else \"cpu\")\n",
        "model = AutoModel.from_pretrained(model_ckpt).to(device)"
      ]
    },
    {
      "cell_type": "markdown",
      "metadata": {
        "id": "0XCVm_gMSZ9K"
      },
      "source": [
        "Here we've used PyTorch to check whether a GPU is available or not, and then chained the PyTorch `nn.Module.to()` method to the model loader. This ensures that the model will run on the GPU if we have one. If not, the model will run on the CPU, which can be considerably slower."
      ]
    },
    {
      "cell_type": "markdown",
      "metadata": {
        "id": "b6ieCivzSZ9K"
      },
      "source": [
        "The `AutoModel` class converts the token encodings to embeddings, and then feeds them through the encoder stack to return the hidden states. Let's take a look at how we can extract these states from our corpus."
      ]
    },
    {
      "cell_type": "markdown",
      "metadata": {
        "id": "WBzrpYAhSZ9L"
      },
      "source": [
        "#### Extracting the last hidden states"
      ]
    },
    {
      "cell_type": "markdown",
      "metadata": {
        "id": "bS2NMUSZSZ9L"
      },
      "source": [
        "To warm up, let's retrieve the last hidden states for a single string. The first thing we need to do is encode the string and convert the tokens to PyTorch tensors. This can be done by providing the `return_tensors=\"pt\"` argument to the tokenizer as follows:"
      ]
    },
    {
      "cell_type": "code",
      "execution_count": null,
      "metadata": {
        "id": "oB_jEBdgSZ9L",
        "outputId": "6de04e25-b105-43a4-948b-4b4f0e775520"
      },
      "outputs": [
        {
          "name": "stdout",
          "output_type": "stream",
          "text": [
            "Input tensor shape: torch.Size([1, 6])\n"
          ]
        }
      ],
      "source": [
        "text = \"this is a test\"\n",
        "inputs = tokenizer(text, return_tensors=\"pt\")\n",
        "print(f\"Input tensor shape: {inputs['input_ids'].size()}\")"
      ]
    },
    {
      "cell_type": "markdown",
      "metadata": {
        "id": "q6viRv1mSZ9L"
      },
      "source": [
        "As we can see, the resulting tensor has the shape `[batch_size, n_tokens]`. Now that we have the encodings as a tensor, the final step is to place them on the same device as the model and pass the inputs as follows:"
      ]
    },
    {
      "cell_type": "code",
      "execution_count": null,
      "metadata": {
        "id": "ms0tYbbPSZ9L",
        "outputId": "3f5ecc24-4eac-4e25-e70e-9a311606b569"
      },
      "outputs": [
        {
          "name": "stdout",
          "output_type": "stream",
          "text": [
            "BaseModelOutput(last_hidden_state=tensor([[[-0.1565, -0.1862,  0.0528,  ...,\n",
            "-0.1188,  0.0662,  0.5470],\n",
            "         [-0.3575, -0.6484, -0.0618,  ..., -0.3040,  0.3508,  0.5221],\n",
            "         [-0.2772, -0.4459,  0.1818,  ..., -0.0948, -0.0076,  0.9958],\n",
            "         [-0.2841, -0.3917,  0.3753,  ..., -0.2151, -0.1173,  1.0526],\n",
            "         [ 0.2661, -0.5094, -0.3180,  ..., -0.4203,  0.0144, -0.2149],\n",
            "         [ 0.9441,  0.0112, -0.4714,  ...,  0.1439, -0.7288, -0.1619]]],\n",
            "       device='cuda:0'), hidden_states=None, attentions=None)\n"
          ]
        }
      ],
      "source": [
        "inputs = {k:v.to(device) for k,v in inputs.items()}\n",
        "with torch.no_grad():\n",
        "    outputs = model(**inputs)\n",
        "print(outputs)"
      ]
    },
    {
      "cell_type": "markdown",
      "metadata": {
        "id": "xTrUkGK3SZ9L"
      },
      "source": [
        "Here we've used the `torch.no_grad()` context manager to disable the automatic calculation of the gradient. This is useful for inference since it reduces the memory footprint of the computations. Depending on the model configuration, the output can contain several objects, such as the hidden states, losses, or attentions, arranged in a class similar to a `namedtuple` in Python. In our example, the model output is an instance of `BaseModelOutput`, and we can simply access its attributes by name. The current model returns only one attribute, which is the last hidden state, so let's examine its shape:"
      ]
    },
    {
      "cell_type": "code",
      "execution_count": null,
      "metadata": {
        "id": "ig3ThYcKSZ9L",
        "outputId": "2895cdf2-0d31-4934-8c05-0c734b81c5a3"
      },
      "outputs": [
        {
          "data": {
            "text/plain": [
              "torch.Size([1, 6, 768])"
            ]
          },
          "execution_count": null,
          "metadata": {},
          "output_type": "execute_result"
        }
      ],
      "source": [
        "outputs.last_hidden_state.size()"
      ]
    },
    {
      "cell_type": "markdown",
      "metadata": {
        "id": "7VPSSNpMSZ9L"
      },
      "source": [
        "Looking at the hidden state tensor, we see that it has the shape `[batch_size, n_tokens, hidden_dim]`. In other words, a 768-dimensional vector is returned for each of the 6 input tokens. For classification tasks, it is common practice to just use the hidden state associated with the `[CLS]` token as the input feature. Since this token appears at the start of each sequence, we can extract it by simply indexing into `outputs.last_hidden_state` as follows:"
      ]
    },
    {
      "cell_type": "code",
      "execution_count": null,
      "metadata": {
        "id": "86NKNcb7SZ9L",
        "outputId": "1ba186e0-3a7a-4e12-b684-400ac105a346"
      },
      "outputs": [
        {
          "data": {
            "text/plain": [
              "torch.Size([1, 768])"
            ]
          },
          "execution_count": null,
          "metadata": {},
          "output_type": "execute_result"
        }
      ],
      "source": [
        "outputs.last_hidden_state[:,0].size()"
      ]
    },
    {
      "cell_type": "markdown",
      "metadata": {
        "id": "lspvzZgESZ9L"
      },
      "source": [
        "Now that we know how to get the last hidden state for a single string, let's do the same thing for the whole dataset by creating a new `hidden_state` column that stores all these vectors. As we did with the tokenizer, we'll use the `map()` method of `DatasetDict` to extract all the hidden states in one go. The first thing we need to do is wrap the previous steps in a processing function:"
      ]
    },
    {
      "cell_type": "code",
      "execution_count": null,
      "metadata": {
        "id": "D1k0yqqKSZ9L"
      },
      "outputs": [],
      "source": [
        "def extract_hidden_states(batch):\n",
        "    # Place model inputs on the GPU\n",
        "    inputs = {k:v.to(device) for k,v in batch.items()\n",
        "              if k in tokenizer.model_input_names}\n",
        "    # Extract last hidden states\n",
        "    with torch.no_grad():\n",
        "        last_hidden_state = model(**inputs).last_hidden_state\n",
        "    # Return vector for [CLS] token\n",
        "    return {\"hidden_state\": last_hidden_state[:,0].cpu().numpy()}"
      ]
    },
    {
      "cell_type": "markdown",
      "metadata": {
        "id": "IM0Tib5JSZ9L"
      },
      "source": [
        "The only difference between this function and our previous logic is the final step where we place the final hidden state back on the CPU as a NumPy array. The `map()` method requires the processing function to return Python or NumPy objects when we're using batched inputs.\n",
        "\n",
        "Since our model expects tensors as inputs, the next thing to do is convert the `input_ids` and `attention_mask` columns to the `\"torch\"` format, as follows:"
      ]
    },
    {
      "cell_type": "code",
      "execution_count": null,
      "metadata": {
        "id": "h6UcaRsnSZ9L"
      },
      "outputs": [],
      "source": [
        "emotions_encoded.set_format(\"torch\",\n",
        "                            columns=[\"input_ids\", \"attention_mask\", \"label\"])"
      ]
    },
    {
      "cell_type": "markdown",
      "metadata": {
        "id": "dhEaFtc3SZ9L"
      },
      "source": [
        "We can then go ahead and extract the hidden states across all splits in one go:"
      ]
    },
    {
      "cell_type": "code",
      "execution_count": null,
      "metadata": {
        "colab": {
          "referenced_widgets": [
            "590842bb15bf448cb35e324e87fdadd9",
            "ee9bfe44feba4be69fa123fef39bce99",
            "e10764ed10b14c118c76a900bdf2752d"
          ]
        },
        "id": "KfoCFGGwSZ9L",
        "outputId": "d7a24371-c75f-441f-f5ed-3a1ad1a0cb86"
      },
      "outputs": [
        {
          "data": {
            "application/vnd.jupyter.widget-view+json": {
              "model_id": "590842bb15bf448cb35e324e87fdadd9",
              "version_major": 2,
              "version_minor": 0
            },
            "text/plain": [
              "  0%|          | 0/16 [00:00<?, ?ba/s]"
            ]
          },
          "metadata": {},
          "output_type": "display_data"
        },
        {
          "data": {
            "application/vnd.jupyter.widget-view+json": {
              "model_id": "ee9bfe44feba4be69fa123fef39bce99",
              "version_major": 2,
              "version_minor": 0
            },
            "text/plain": [
              "  0%|          | 0/2 [00:00<?, ?ba/s]"
            ]
          },
          "metadata": {},
          "output_type": "display_data"
        },
        {
          "data": {
            "application/vnd.jupyter.widget-view+json": {
              "model_id": "e10764ed10b14c118c76a900bdf2752d",
              "version_major": 2,
              "version_minor": 0
            },
            "text/plain": [
              "  0%|          | 0/2 [00:00<?, ?ba/s]"
            ]
          },
          "metadata": {},
          "output_type": "display_data"
        }
      ],
      "source": [
        "#hide_output\n",
        "emotions_hidden = emotions_encoded.map(extract_hidden_states, batched=True)"
      ]
    },
    {
      "cell_type": "markdown",
      "metadata": {
        "id": "IH3iYoFBSZ9L"
      },
      "source": [
        "Note that we did not set `batch_size=None` in this case, so the default `batch_size=1000` is used instead. As expected, applying the +extract_&#x200b;hid&#x2060;den_&#x200b;states()+ function has added a new `hidden_state` column to our dataset:"
      ]
    },
    {
      "cell_type": "code",
      "execution_count": null,
      "metadata": {
        "id": "_UCxjvw4SZ9L",
        "outputId": "0284bf13-3042-4322-979c-41eb92e857f4"
      },
      "outputs": [
        {
          "data": {
            "text/plain": [
              "['attention_mask', 'hidden_state', 'input_ids', 'label', 'text']"
            ]
          },
          "execution_count": null,
          "metadata": {},
          "output_type": "execute_result"
        }
      ],
      "source": [
        "emotions_hidden[\"train\"].column_names"
      ]
    },
    {
      "cell_type": "markdown",
      "metadata": {
        "id": "fOFEOROmSZ9M"
      },
      "source": [
        "Now that we have the hidden states associated with each tweet, the next step is to train a classifier on them. To do that, we'll need a feature matrix - let's take a look."
      ]
    },
    {
      "cell_type": "markdown",
      "metadata": {
        "id": "q0ieunDJSZ9M"
      },
      "source": [
        "#### Creating a feature matrix"
      ]
    },
    {
      "cell_type": "markdown",
      "metadata": {
        "id": "_Zjfh9QcSZ9M"
      },
      "source": [
        "The preprocessed dataset now contains all the information we need to train a classifier on it. We will use the hidden states as input features and the labels as targets. We can easily create the corresponding arrays in the well-known Scikit-Learn format as follows:"
      ]
    },
    {
      "cell_type": "code",
      "execution_count": null,
      "metadata": {
        "id": "Ov6jy-e-SZ9M",
        "outputId": "5a49ec0b-f84c-47a3-8421-072a320480d1"
      },
      "outputs": [
        {
          "data": {
            "text/plain": [
              "((16000, 768), (2000, 768))"
            ]
          },
          "execution_count": null,
          "metadata": {},
          "output_type": "execute_result"
        }
      ],
      "source": [
        "import numpy as np\n",
        "\n",
        "X_train = np.array(emotions_hidden[\"train\"][\"hidden_state\"])\n",
        "X_valid = np.array(emotions_hidden[\"validation\"][\"hidden_state\"])\n",
        "y_train = np.array(emotions_hidden[\"train\"][\"label\"])\n",
        "y_valid = np.array(emotions_hidden[\"validation\"][\"label\"])\n",
        "X_train.shape, X_valid.shape"
      ]
    },
    {
      "cell_type": "markdown",
      "metadata": {
        "id": "WiC0WLrGSZ9M"
      },
      "source": [
        "Before we train a model on the hidden states, it's good practice to perform a sanity check to ensure that they provide a useful representation of the emotions we want to classify. In the next section, we'll see how visualizing the features provides a fast way to achieve this."
      ]
    },
    {
      "cell_type": "markdown",
      "metadata": {
        "id": "5QpfCtkmSZ9M"
      },
      "source": [
        "#### Training a simple classifier\n"
      ]
    },
    {
      "cell_type": "markdown",
      "metadata": {
        "id": "0kyOwGJASZ9M"
      },
      "source": [
        "We've seen that the hidden states are somewhat different between the emotions, although for several of them there is no obvious boundary. Let's use these hidden states to train a logistic regression model with Scikit-Learn. Training such a simple model is fast and does not require a GPU:"
      ]
    },
    {
      "cell_type": "code",
      "execution_count": null,
      "metadata": {
        "id": "6XtEJQ7_SZ9M",
        "outputId": "96547f4b-1ae1-4a89-91ea-7f2dd34278f8"
      },
      "outputs": [
        {
          "name": "stderr",
          "output_type": "stream",
          "text": [
            "/home/lewis/miniconda3/envs/book/lib/python3.7/site-packages/sklearn/linear_model/_logistic.py:818: ConvergenceWarning: lbfgs failed to converge (status=1):\n",
            "STOP: TOTAL NO. of ITERATIONS REACHED LIMIT.\n",
            "\n",
            "Increase the number of iterations (max_iter) or scale the data as shown in:\n",
            "    https://scikit-learn.org/stable/modules/preprocessing.html\n",
            "Please also refer to the documentation for alternative solver options:\n",
            "    https://scikit-learn.org/stable/modules/linear_model.html#logistic-regression\n",
            "  extra_warning_msg=_LOGISTIC_SOLVER_CONVERGENCE_MSG,\n"
          ]
        },
        {
          "data": {
            "text/plain": [
              "LogisticRegression()"
            ]
          },
          "execution_count": null,
          "metadata": {},
          "output_type": "execute_result"
        }
      ],
      "source": [
        "#hide_output\n",
        "# We increase `max_iter` to guarantee convergence\n",
        "from sklearn.linear_model import LogisticRegression\n",
        "\n",
        "lr_clf = LogisticRegression(max_iter=3000)\n",
        "lr_clf.fit(X_train, y_train)"
      ]
    },
    {
      "cell_type": "code",
      "execution_count": null,
      "metadata": {
        "id": "TznHbzSLSZ9M",
        "outputId": "23108277-0fa2-48d7-c6da-e2b4df9b61d9"
      },
      "outputs": [
        {
          "data": {
            "text/plain": [
              "0.6085"
            ]
          },
          "execution_count": null,
          "metadata": {},
          "output_type": "execute_result"
        }
      ],
      "source": [
        "lr_clf.score(X_valid, y_valid)"
      ]
    },
    {
      "cell_type": "markdown",
      "metadata": {
        "id": "Y205hUaPSZ9M"
      },
      "source": [
        "Looking at the accuracy, it might appear that our model is just a bit better than random—but since we are dealing with an unbalanced multiclass dataset, it's actually significantly better. We can examine whether our model is any good by comparing it against a simple baseline. In Scikit-Learn there is a `DummyClassifier` that can be used to build a classifier with simple heuristics such as always choosing the majority class or always drawing a random class. In this case the best-performing heuristic is to always choose the most frequent class, which yields an accuracy of about 35%:"
      ]
    },
    {
      "cell_type": "code",
      "execution_count": null,
      "metadata": {
        "id": "7S8cZkSESZ9M",
        "outputId": "34397b28-725e-42e9-84bf-5ff925945ea3"
      },
      "outputs": [
        {
          "data": {
            "text/plain": [
              "0.352"
            ]
          },
          "execution_count": null,
          "metadata": {},
          "output_type": "execute_result"
        }
      ],
      "source": [
        "from sklearn.dummy import DummyClassifier\n",
        "\n",
        "dummy_clf = DummyClassifier(strategy=\"most_frequent\")\n",
        "dummy_clf.fit(X_train, y_train)\n",
        "dummy_clf.score(X_valid, y_valid)"
      ]
    },
    {
      "cell_type": "markdown",
      "metadata": {
        "id": "ZHGVlAWxSZ9M"
      },
      "source": [
        "So, our simple classifier with DistilBERT embeddings is significantly better than our baseline. We can further investigate the performance of the model by looking at the confusion matrix of the classifier, which tells us the relationship between the true and predicted labels:"
      ]
    },
    {
      "cell_type": "code",
      "execution_count": null,
      "metadata": {
        "id": "4Y0yrL-RSZ9M",
        "outputId": "6dd6043e-9a1b-4442-dcdd-f065e21728fb"
      },
      "outputs": [
        {
          "data": {
            "application/pdf": "[encoded data removed]",
            "image/svg+xml": "<?xml version=\"1.0\" encoding=\"utf-8\" standalone=\"no\"?>\n<!DOCTYPE svg PUBLIC \"-//W3C//DTD SVG 1.1//EN\"\n  \"http://www.w3.org/Graphics/SVG/1.1/DTD/svg11.dtd\">\n<svg height=\"390.3305pt\" version=\"1.1\" viewBox=\"0 0 396.3425 390.3305\" width=\"396.3425pt\" xmlns=\"http://www.w3.org/2000/svg\" xmlns:xlink=\"http://www.w3.org/1999/xlink\">\n <metadata>\n  <rdf:RDF xmlns:cc=\"http://creativecommons.org/ns#\" xmlns:dc=\"http://purl.org/dc/elements/1.1/\" xmlns:rdf=\"http://www.w3.org/1999/02/22-rdf-syntax-ns#\">\n   <cc:Work>\n    <dc:type rdf:resource=\"http://purl.org/dc/dcmitype/StillImage\"/>\n    <dc:date>2021-12-07T11:46:25.597214</dc:date>\n    <dc:format>image/svg+xml</dc:format>\n    <dc:creator>\n     <cc:Agent>\n      <dc:title>Matplotlib v3.4.3, https://matplotlib.org/</dc:title>\n     </cc:Agent>\n    </dc:creator>\n   </cc:Work>\n  </rdf:RDF>\n </metadata>\n <defs>\n  <style type=\"text/css\">*{stroke-linecap:butt;stroke-linejoin:round;}</style>\n </defs>\n <g id=\"figure_1\">\n  <g id=\"patch_1\">\n   <path d=\"M 0 390.3305 \nL 396.3425 390.3305 \nL 396.3425 0 \nL 0 0 \nz\n\" style=\"fill:none;\"/>\n  </g>\n  <g id=\"axes_1\">\n   <g id=\"patch_2\">\n    <path d=\"M 62.9825 349.9305 \nL 389.1425 349.9305 \nL 389.1425 23.7705 \nL 62.9825 23.7705 \nz\n\" style=\"fill:#ffffff;\"/>\n   </g>\n   <g clip-path=\"url(#pca8d197dee)\">\n    <image height=\"327\" id=\"image90e306daad\" transform=\"scale(1 -1)translate(0 -327)\" width=\"327\" x=\"62.9825\" xlink:href=\"data:image/png;base64,\niVBORw0KGgoAAAANSUhEUgAAAUcAAAFHCAYAAAAySY5rAAAFNklEQVR4nO3WP4qVVwCH4XtnxusMQ0AtbCxil2YkYCfYuwArQRegvUW2YBVBLF1EQHEBJhAsRBFsBP8wjSCBqCQZMFw38DYihyOX51nB73D43u8sn7z5sF5soNu/v5o9YZg7l8/NnjDEp/8+z54wzOFf/86ewFfamj0A4HskjgBBHAGCOAIEcQQI4ggQxBEgiCNAEEeAII4AQRwBgjgCBHEECOIIEMQRIIgjQBBHgCCOAEEcAYI4AgRxBAjiCBDEESCII0AQR4AgjgBBHAGCOAIEcQQI4ggQxBEgiCNAEEeAII4AQRwBgjgCBHEECOIIEMQRIIgjQBBHgCCOAEEcAYI4AgRxBAjiCBDEESCII0AQR4AgjgBBHAGCOAIEcQQI4ggQlg+ev1vPHjHCT6d/mD1hmFP7q9kThvh09Hn2hGGu3Hs8e8IQv12/MHvCMF6OAEEcAYI4AgRxBAjiCBDEESCII0AQR4AgjgBBHAGCOAIEcQQI4ggQxBEgiCNAEEeAII4AQRwBgjgCBHEECOIIEMQRIIgjQBBHgCCOAEEcAYI4AgRxBAjiCBDEESCII0AQR4AgjgBBHAGCOAIEcQQI4ggQxBEgiCNAEEeAII4AQRwBgjgCBHEECOIIEMQRIIgjQBBHgCCOAEEcAYI4AgRxBAjiCBB2/jz8e/aGIc6e3J89YZitreXsCUPc+eP17AnD3Lt6fvaEIfZW27MnDOPlCBDEESCII0AQR4AgjgBBHAGCOAIEcQQI4ggQxBEgiCNAEEeAII4AQRwBgjgCBHEECOIIEMQRIIgjQBBHgCCOAEEcAYI4AgRxBAjiCBDEESCII0AQR4AgjgBBHAGCOAIEcQQI4ggQxBEgiCNAEEeAII4AQRwBgjgCBHEECOIIEMQRIIgjQBBHgCCOAEEcAYI4AgRxBAjiCBDEESCII0AQR4AgjgBBHAHC8unbD+vZI0b45f6L2ROGuXHxx9kThvj5zInZE4bZO7Y9e8IQu6vNPNdi4eUIkMQRIIgjQBBHgCCOAEEcAYI4AgRxBAjiCBDEESCII0AQR4AgjgBBHAGCOAIEcQQI4ggQxBEgiCNAEEeAII4AQRwBgjgCBHEECOIIEMQRIIgjQBBHgCCOAEEcAYI4AgRxBAjiCBDEESCII0AQR4AgjgBBHAGCOAIEcQQI4ggQxBEgiCNAEEeAII4AQRwBgjgCBHEECOIIEMQRIIgjQBBHgCCOAGH58t0/69kjRji4dHP2hGEOH/06e8IQq+3N/Vf/v97Iz2xxfGdz72xzTwbwDcQRIIgjQBBHgCCOAEEcAYI4AgRxBAjiCBDEESCII0AQR4AgjgBBHAGCOAIEcQQI4ggQxBEgiCNAEEeAII4AQRwBgjgCBHEECOIIEMQRIIgjQBBHgCCOAEEcAYI4AgRxBAjiCBDEESCII0AQR4AgjgBBHAGCOAIEcQQI4ggQxBEgiCNAEEeAII4AQRwBgjgCBHEECOIIEMQRIIgjQBBHgCCOAEEcAcLOwbW7szcM8ezhrdkThtk7tj17whDvPx7NnjDM8Q29s90NPddi4eUIkMQRIIgjQBBHgCCOAEEcAYI4AgRxBAjiCBDEESCII0AQR4AgjgBBHAGCOAIEcQQI4ggQxBEgiCNAEEeAII4AQRwBgjgCBHEECOIIEMQRIIgjQBBHgCCOAEEcAYI4AgRxBAjiCBDEESCII0AQR4AgjgBBHAGCOAIEcQQI4ggQxBEgiCNAEEeAII4AQRwBgjgCBHEECOIIEMQRIIgjQBBHgCCOAOEL9KI2cZSbwkgAAAAASUVORK5CYII=\" y=\"-22.9305\"/>\n   </g>\n   <g id=\"matplotlib.axis_1\">\n    <g id=\"xtick_1\">\n     <g id=\"line2d_1\">\n      <defs>\n       <path d=\"M 0 0 \nL 0 3.5 \n\" id=\"mf04b106fd2\" style=\"stroke:#000000;stroke-width:0.8;\"/>\n      </defs>\n      <g>\n       <use style=\"stroke:#000000;stroke-width:0.8;\" x=\"90.1625\" xlink:href=\"#mf04b106fd2\" y=\"349.9305\"/>\n      </g>\n     </g>\n     <g id=\"text_1\">\n      <!-- sadness -->\n      <g transform=\"translate(73.374687 365.73925)scale(0.12 -0.12)\">\n       <defs>\n        <path d=\"M 992 -51 \nC 1658 -51 2054 307 2054 947 \nC 2054 1485 1818 1709 1306 1888 \nL 1050 1978 \nC 768 2074 659 2195 659 2451 \nC 659 2771 864 2893 1222 2893 \nC 1517 2893 1760 2810 1914 2739 \nL 1914 3168 \nC 1773 3251 1568 3334 1197 3334 \nC 531 3334 160 2982 160 2406 \nC 160 1901 422 1658 826 1517 \nL 1082 1427 \nC 1408 1312 1536 1184 1536 896 \nC 1536 582 1370 390 934 390 \nC 582 390 358 480 154 563 \nL 154 141 \nC 358 19 640 -51 992 -51 \nz\n\" id=\"GuardianSansCond-Regular-73\" transform=\"scale(0.015625)\"/>\n        <path d=\"M 1082 -51 \nC 1395 -51 1638 77 1779 230 \nL 1811 230 \nL 1862 0 \nL 2291 0 \nL 2291 2413 \nC 2291 3027 1958 3334 1293 3334 \nC 915 3334 634 3258 410 3155 \nL 410 2771 \nC 576 2829 806 2886 1094 2886 \nC 1600 2886 1766 2739 1766 2278 \nL 1766 1958 \nL 1088 1856 \nC 480 1766 160 1466 160 883 \nC 160 250 525 -51 1082 -51 \nz\nM 1222 358 \nC 877 358 704 544 704 915 \nC 704 1274 877 1440 1242 1485 \nL 1766 1549 \nL 1766 525 \nC 1658 435 1459 358 1222 358 \nz\n\" id=\"GuardianSansCond-Regular-61\" transform=\"scale(0.015625)\"/>\n        <path d=\"M 1357 -51 \nC 1690 -51 1965 77 2125 243 \nL 2150 243 \nL 2195 0 \nL 2637 0 \nL 2637 4698 \nL 2118 4698 \nL 2118 3174 \nC 1978 3264 1734 3334 1466 3334 \nC 634 3334 198 2739 198 1670 \nL 198 1523 \nC 198 339 723 -51 1357 -51 \nz\nM 1504 378 \nC 992 378 742 749 742 1542 \nL 742 1728 \nC 742 2541 979 2893 1536 2893 \nC 1779 2893 2003 2835 2118 2758 \nL 2118 595 \nC 1984 493 1773 378 1504 378 \nz\n\" id=\"GuardianSansCond-Regular-64\" transform=\"scale(0.015625)\"/>\n        <path d=\"M 346 0 \nL 870 0 \nL 870 2688 \nC 1037 2778 1306 2886 1587 2886 \nC 1965 2886 2093 2765 2093 2458 \nL 2093 0 \nL 2611 0 \nL 2611 2528 \nC 2611 3085 2342 3334 1811 3334 \nC 1440 3334 1107 3194 870 3021 \nL 845 3021 \nL 845 3283 \nL 346 3283 \nL 346 0 \nz\n\" id=\"GuardianSansCond-Regular-6e\" transform=\"scale(0.015625)\"/>\n        <path d=\"M 1555 -51 \nC 1984 -51 2317 102 2470 243 \nL 2470 627 \nC 2240 499 1965 397 1613 397 \nC 1037 397 742 698 723 1466 \nL 2554 1466 \nL 2554 1798 \nC 2554 2893 2176 3334 1402 3334 \nC 659 3334 186 2810 186 1722 \nL 186 1549 \nC 186 499 634 -51 1555 -51 \nz\nM 1382 2906 \nC 1830 2906 2010 2611 2010 1894 \nL 723 1894 \nC 736 2630 992 2906 1382 2906 \nz\n\" id=\"GuardianSansCond-Regular-65\" transform=\"scale(0.015625)\"/>\n       </defs>\n       <use xlink:href=\"#GuardianSansCond-Regular-73\"/>\n       <use x=\"34.499985\" xlink:href=\"#GuardianSansCond-Regular-61\"/>\n       <use x=\"75.399979\" xlink:href=\"#GuardianSansCond-Regular-64\"/>\n       <use x=\"121.999969\" xlink:href=\"#GuardianSansCond-Regular-6e\"/>\n       <use x=\"168.09996\" xlink:href=\"#GuardianSansCond-Regular-65\"/>\n       <use x=\"210.799957\" xlink:href=\"#GuardianSansCond-Regular-73\"/>\n       <use x=\"245.299942\" xlink:href=\"#GuardianSansCond-Regular-73\"/>\n      </g>\n     </g>\n    </g>\n    <g id=\"xtick_2\">\n     <g id=\"line2d_2\">\n      <g>\n       <use style=\"stroke:#000000;stroke-width:0.8;\" x=\"144.5225\" xlink:href=\"#mf04b106fd2\" y=\"349.9305\"/>\n      </g>\n     </g>\n     <g id=\"text_2\">\n      <!-- joy -->\n      <g transform=\"translate(138.150312 365.666125)scale(0.12 -0.12)\">\n       <defs>\n        <path d=\"M 83 -1261 \nC 666 -1261 870 -870 870 -352 \nL 870 3283 \nL 352 3283 \nL 352 -326 \nC 352 -678 218 -826 -58 -826 \nC -160 -826 -262 -806 -339 -794 \nL -339 -1158 \nC -237 -1222 -109 -1261 83 -1261 \nz\nM 346 3910 \nL 877 3910 \nL 877 4474 \nL 346 4474 \nL 346 3910 \nz\n\" id=\"GuardianSansCond-Regular-6a\" transform=\"scale(0.015625)\"/>\n        <path d=\"M 1459 -51 \nC 2272 -51 2733 570 2733 1542 \nL 2733 1747 \nC 2733 2771 2291 3334 1459 3334 \nC 659 3334 186 2714 186 1741 \nL 186 1530 \nC 186 531 614 -51 1459 -51 \nz\nM 1466 378 \nC 992 378 723 762 723 1472 \nL 723 1818 \nC 723 2451 947 2906 1453 2906 \nC 1920 2906 2195 2560 2195 1805 \nL 2195 1466 \nC 2195 826 1958 378 1466 378 \nz\n\" id=\"GuardianSansCond-Regular-6f\" transform=\"scale(0.015625)\"/>\n        <path d=\"M 570 -1261 \nC 1082 -1261 1306 -960 1485 -365 \nL 2592 3283 \nL 2067 3283 \nL 1485 1197 \nC 1421 992 1376 787 1376 787 \nL 1363 787 \nC 1363 787 1331 928 1248 1203 \nL 621 3283 \nL 51 3283 \nL 1120 13 \nL 1018 -294 \nC 896 -698 749 -826 480 -826 \nC 384 -826 262 -813 186 -800 \nL 186 -1171 \nC 282 -1222 435 -1261 570 -1261 \nz\n\" id=\"GuardianSansCond-Regular-79\" transform=\"scale(0.015625)\"/>\n       </defs>\n       <use xlink:href=\"#GuardianSansCond-Regular-6a\"/>\n       <use x=\"19.199997\" xlink:href=\"#GuardianSansCond-Regular-6f\"/>\n       <use x=\"64.799988\" xlink:href=\"#GuardianSansCond-Regular-79\"/>\n      </g>\n     </g>\n    </g>\n    <g id=\"xtick_3\">\n     <g id=\"line2d_3\">\n      <g>\n       <use style=\"stroke:#000000;stroke-width:0.8;\" x=\"198.8825\" xlink:href=\"#mf04b106fd2\" y=\"349.9305\"/>\n      </g>\n     </g>\n     <g id=\"text_3\">\n      <!-- love -->\n      <g transform=\"translate(189.9125 365.73925)scale(0.12 -0.12)\">\n       <defs>\n        <path d=\"M 358 0 \nL 877 0 \nL 877 4698 \nL 358 4698 \nL 358 0 \nz\n\" id=\"GuardianSansCond-Regular-6c\" transform=\"scale(0.015625)\"/>\n        <path d=\"M 1075 0 \nL 1613 0 \nL 2605 3283 \nL 2093 3283 \nL 1504 1190 \nC 1421 870 1370 653 1370 653 \nL 1344 653 \nC 1344 653 1299 877 1216 1190 \nL 627 3283 \nL 70 3283 \nL 1075 0 \nz\n\" id=\"GuardianSansCond-Regular-76\" transform=\"scale(0.015625)\"/>\n       </defs>\n       <use xlink:href=\"#GuardianSansCond-Regular-6c\"/>\n       <use x=\"19.299988\" xlink:href=\"#GuardianSansCond-Regular-6f\"/>\n       <use x=\"64.899979\" xlink:href=\"#GuardianSansCond-Regular-76\"/>\n       <use x=\"106.799973\" xlink:href=\"#GuardianSansCond-Regular-65\"/>\n      </g>\n     </g>\n    </g>\n    <g id=\"xtick_4\">\n     <g id=\"line2d_4\">\n      <g>\n       <use style=\"stroke:#000000;stroke-width:0.8;\" x=\"253.2425\" xlink:href=\"#mf04b106fd2\" y=\"349.9305\"/>\n      </g>\n     </g>\n     <g id=\"text_4\">\n      <!-- anger -->\n      <g transform=\"translate(241.170312 365.714875)scale(0.12 -0.12)\">\n       <defs>\n        <path d=\"M 1325 -1235 \nC 2240 -1235 2675 -787 2675 -179 \nC 2675 416 2336 704 1696 704 \nL 1069 704 \nC 858 704 774 806 774 966 \nC 774 1069 826 1178 890 1242 \nC 1018 1197 1171 1178 1331 1178 \nC 1939 1178 2413 1530 2413 2208 \nL 2413 2304 \nC 2413 2560 2336 2739 2234 2874 \nL 2682 2874 \nL 2682 3283 \nL 1747 3283 \nC 1626 3315 1485 3334 1325 3334 \nC 704 3334 250 2944 250 2278 \nL 250 2182 \nC 250 1786 429 1510 634 1376 \nC 422 1210 294 1024 294 787 \nC 294 544 442 403 627 333 \nL 627 307 \nC 320 192 64 -38 64 -422 \nC 64 -915 506 -1235 1325 -1235 \nz\nM 1312 -819 \nC 832 -819 595 -640 595 -326 \nC 595 -51 762 141 966 218 \nL 1632 218 \nC 2022 218 2150 45 2150 -237 \nC 2150 -602 1926 -819 1312 -819 \nz\nM 1331 1581 \nC 998 1581 762 1773 762 2189 \nL 762 2323 \nC 762 2726 973 2931 1331 2931 \nC 1670 2931 1901 2746 1901 2310 \nL 1901 2176 \nC 1901 1779 1683 1581 1331 1581 \nz\n\" id=\"GuardianSansCond-Regular-67\" transform=\"scale(0.015625)\"/>\n        <path d=\"M 346 0 \nL 870 0 \nL 870 2605 \nC 1062 2752 1306 2842 1587 2842 \nC 1638 2842 1728 2835 1786 2829 \nL 1786 3302 \nC 1747 3315 1677 3328 1606 3328 \nC 1306 3328 1030 3142 870 2938 \nL 845 2938 \nL 845 3283 \nL 346 3283 \nL 346 0 \nz\n\" id=\"GuardianSansCond-Regular-72\" transform=\"scale(0.015625)\"/>\n       </defs>\n       <use xlink:href=\"#GuardianSansCond-Regular-61\"/>\n       <use x=\"40.899994\" xlink:href=\"#GuardianSansCond-Regular-6e\"/>\n       <use x=\"86.999985\" xlink:href=\"#GuardianSansCond-Regular-67\"/>\n       <use x=\"129.699982\" xlink:href=\"#GuardianSansCond-Regular-65\"/>\n       <use x=\"172.399979\" xlink:href=\"#GuardianSansCond-Regular-72\"/>\n      </g>\n     </g>\n    </g>\n    <g id=\"xtick_5\">\n     <g id=\"line2d_5\">\n      <g>\n       <use style=\"stroke:#000000;stroke-width:0.8;\" x=\"307.6025\" xlink:href=\"#mf04b106fd2\" y=\"349.9305\"/>\n      </g>\n     </g>\n     <g id=\"text_5\">\n      <!-- fear -->\n      <g transform=\"translate(299.255937 365.73925)scale(0.12 -0.12)\">\n       <defs>\n        <path d=\"M 493 0 \nL 1018 0 \nL 1018 2848 \nL 1626 2848 \nL 1626 3283 \nL 1018 3283 \nL 1018 3712 \nC 1018 4115 1146 4307 1478 4307 \nC 1632 4307 1754 4282 1837 4262 \nL 1837 4640 \nC 1747 4685 1587 4742 1363 4742 \nC 826 4742 493 4429 493 3757 \nL 493 3283 \nL 96 3283 \nL 96 2848 \nL 493 2848 \nL 493 0 \nz\n\" id=\"GuardianSansCond-Regular-66\" transform=\"scale(0.015625)\"/>\n       </defs>\n       <use xlink:href=\"#GuardianSansCond-Regular-66\"/>\n       <use x=\"26.699997\" xlink:href=\"#GuardianSansCond-Regular-65\"/>\n       <use x=\"69.399994\" xlink:href=\"#GuardianSansCond-Regular-61\"/>\n       <use x=\"110.299988\" xlink:href=\"#GuardianSansCond-Regular-72\"/>\n      </g>\n     </g>\n    </g>\n    <g id=\"xtick_6\">\n     <g id=\"line2d_6\">\n      <g>\n       <use style=\"stroke:#000000;stroke-width:0.8;\" x=\"361.9625\" xlink:href=\"#mf04b106fd2\" y=\"349.9305\"/>\n      </g>\n     </g>\n     <g id=\"text_6\">\n      <!-- surprise -->\n      <g transform=\"translate(345.12125 365.73925)scale(0.12 -0.12)\">\n       <defs>\n        <path d=\"M 1158 -51 \nC 1523 -51 1824 109 2042 262 \nL 2067 262 \nL 2118 0 \nL 2566 0 \nL 2566 3283 \nL 2042 3283 \nL 2042 602 \nC 1888 512 1626 397 1350 397 \nC 947 397 858 557 858 838 \nL 858 3283 \nL 333 3283 \nL 333 826 \nC 333 301 576 -51 1158 -51 \nz\n\" id=\"GuardianSansCond-Regular-75\" transform=\"scale(0.015625)\"/>\n        <path d=\"M 346 -1222 \nL 870 -1222 \nL 870 128 \nC 1005 38 1242 -51 1542 -51 \nC 2374 -51 2784 525 2784 1600 \nL 2784 1818 \nC 2784 2912 2342 3334 1670 3334 \nC 1318 3334 1030 3187 870 3034 \nL 845 3034 \nL 845 3283 \nL 346 3283 \nL 346 -1222 \nz\nM 1466 378 \nC 1210 378 973 461 870 538 \nL 870 2688 \nC 992 2784 1229 2893 1523 2893 \nC 2035 2893 2246 2573 2246 1798 \nL 2246 1549 \nC 2246 742 2003 378 1466 378 \nz\n\" id=\"GuardianSansCond-Regular-70\" transform=\"scale(0.015625)\"/>\n        <path d=\"M 358 0 \nL 883 0 \nL 883 3283 \nL 358 3283 \nL 358 0 \nz\nM 352 3910 \nL 883 3910 \nL 883 4474 \nL 352 4474 \nL 352 3910 \nz\n\" id=\"GuardianSansCond-Regular-69\" transform=\"scale(0.015625)\"/>\n       </defs>\n       <use xlink:href=\"#GuardianSansCond-Regular-73\"/>\n       <use x=\"34.499985\" xlink:href=\"#GuardianSansCond-Regular-75\"/>\n       <use x=\"79.999969\" xlink:href=\"#GuardianSansCond-Regular-72\"/>\n       <use x=\"108.799957\" xlink:href=\"#GuardianSansCond-Regular-70\"/>\n       <use x=\"155.399948\" xlink:href=\"#GuardianSansCond-Regular-72\"/>\n       <use x=\"184.199936\" xlink:href=\"#GuardianSansCond-Regular-69\"/>\n       <use x=\"203.499924\" xlink:href=\"#GuardianSansCond-Regular-73\"/>\n       <use x=\"237.999908\" xlink:href=\"#GuardianSansCond-Regular-65\"/>\n      </g>\n     </g>\n    </g>\n    <g id=\"text_7\">\n     <!-- Predicted label -->\n     <g transform=\"translate(194.557813 380.83925)scale(0.12 -0.12)\">\n      <defs>\n       <path d=\"M 416 0 \nL 954 0 \nL 954 1766 \nL 1555 1766 \nC 2362 1766 2854 2246 2854 3117 \nC 2854 4026 2413 4435 1536 4435 \nL 416 4435 \nL 416 0 \nz\nM 954 2221 \nL 954 3974 \nL 1478 3974 \nC 2061 3974 2285 3750 2285 3098 \nC 2285 2496 2054 2221 1472 2221 \nL 954 2221 \nz\n\" id=\"GuardianSansCond-Regular-50\" transform=\"scale(0.015625)\"/>\n       <path d=\"M 1498 -51 \nC 1869 -51 2125 51 2298 173 \nL 2298 595 \nC 2163 518 1907 390 1555 390 \nC 1005 390 723 704 723 1542 \nL 723 1798 \nC 723 2464 941 2893 1510 2893 \nC 1856 2893 2054 2803 2259 2714 \nL 2259 3149 \nC 2093 3258 1875 3334 1542 3334 \nC 768 3334 186 2886 186 1741 \nL 186 1536 \nC 186 416 685 -51 1498 -51 \nz\n\" id=\"GuardianSansCond-Regular-63\" transform=\"scale(0.015625)\"/>\n       <path d=\"M 1222 -38 \nC 1466 -38 1619 26 1722 90 \nL 1722 442 \nC 1632 416 1517 390 1382 390 \nC 1107 390 1005 480 1005 781 \nL 1005 2848 \nL 1683 2848 \nL 1683 3283 \nL 1005 3283 \nL 1005 4051 \nL 486 4051 \nL 486 3283 \nL 96 3283 \nL 96 2848 \nL 486 2848 \nL 486 710 \nC 486 160 774 -38 1222 -38 \nz\n\" id=\"GuardianSansCond-Regular-74\" transform=\"scale(0.015625)\"/>\n       <path id=\"GuardianSansCond-Regular-20\" transform=\"scale(0.015625)\"/>\n       <path d=\"M 1382 -64 \nC 2317 -64 2784 531 2784 1619 \nL 2784 1843 \nC 2784 2995 2285 3334 1702 3334 \nC 1338 3334 1075 3219 896 3104 \nL 870 3104 \nL 870 4698 \nL 346 4698 \nL 346 102 \nC 557 19 1005 -64 1382 -64 \nz\nM 1408 378 \nC 1165 378 979 416 870 454 \nL 870 2733 \nC 992 2790 1216 2893 1491 2893 \nC 2003 2893 2246 2650 2246 1818 \nL 2246 1549 \nC 2246 627 1875 378 1408 378 \nz\n\" id=\"GuardianSansCond-Regular-62\" transform=\"scale(0.015625)\"/>\n      </defs>\n      <use xlink:href=\"#GuardianSansCond-Regular-50\"/>\n      <use x=\"46.999985\" xlink:href=\"#GuardianSansCond-Regular-72\"/>\n      <use x=\"75.799973\" xlink:href=\"#GuardianSansCond-Regular-65\"/>\n      <use x=\"118.499969\" xlink:href=\"#GuardianSansCond-Regular-64\"/>\n      <use x=\"165.09996\" xlink:href=\"#GuardianSansCond-Regular-69\"/>\n      <use x=\"184.399948\" xlink:href=\"#GuardianSansCond-Regular-63\"/>\n      <use x=\"222.199936\" xlink:href=\"#GuardianSansCond-Regular-74\"/>\n      <use x=\"251.199921\" xlink:href=\"#GuardianSansCond-Regular-65\"/>\n      <use x=\"293.899918\" xlink:href=\"#GuardianSansCond-Regular-64\"/>\n      <use x=\"340.499908\" xlink:href=\"#GuardianSansCond-Regular-20\"/>\n      <use x=\"356.299896\" xlink:href=\"#GuardianSansCond-Regular-6c\"/>\n      <use x=\"375.599884\" xlink:href=\"#GuardianSansCond-Regular-61\"/>\n      <use x=\"416.499878\" xlink:href=\"#GuardianSansCond-Regular-62\"/>\n      <use x=\"463.099869\" xlink:href=\"#GuardianSansCond-Regular-65\"/>\n      <use x=\"505.799866\" xlink:href=\"#GuardianSansCond-Regular-6c\"/>\n     </g>\n    </g>\n   </g>\n   <g id=\"matplotlib.axis_2\">\n    <g id=\"ytick_1\">\n     <g id=\"line2d_7\">\n      <defs>\n       <path d=\"M 0 0 \nL -3.5 0 \n\" id=\"mb9c515ecf2\" style=\"stroke:#000000;stroke-width:0.8;\"/>\n      </defs>\n      <g>\n       <use style=\"stroke:#000000;stroke-width:0.8;\" x=\"62.9825\" xlink:href=\"#mb9c515ecf2\" y=\"50.9505\"/>\n      </g>\n     </g>\n     <g id=\"text_8\">\n      <!-- sadness -->\n      <g transform=\"translate(22.406875 55.354875)scale(0.12 -0.12)\">\n       <use xlink:href=\"#GuardianSansCond-Regular-73\"/>\n       <use x=\"34.499985\" xlink:href=\"#GuardianSansCond-Regular-61\"/>\n       <use x=\"75.399979\" xlink:href=\"#GuardianSansCond-Regular-64\"/>\n       <use x=\"121.999969\" xlink:href=\"#GuardianSansCond-Regular-6e\"/>\n       <use x=\"168.09996\" xlink:href=\"#GuardianSansCond-Regular-65\"/>\n       <use x=\"210.799957\" xlink:href=\"#GuardianSansCond-Regular-73\"/>\n       <use x=\"245.299942\" xlink:href=\"#GuardianSansCond-Regular-73\"/>\n      </g>\n     </g>\n    </g>\n    <g id=\"ytick_2\">\n     <g id=\"line2d_8\">\n      <g>\n       <use style=\"stroke:#000000;stroke-width:0.8;\" x=\"62.9825\" xlink:href=\"#mb9c515ecf2\" y=\"105.3105\"/>\n      </g>\n     </g>\n     <g id=\"text_9\">\n      <!-- joy -->\n      <g transform=\"translate(43.238125 109.678312)scale(0.12 -0.12)\">\n       <use xlink:href=\"#GuardianSansCond-Regular-6a\"/>\n       <use x=\"19.199997\" xlink:href=\"#GuardianSansCond-Regular-6f\"/>\n       <use x=\"64.799988\" xlink:href=\"#GuardianSansCond-Regular-79\"/>\n      </g>\n     </g>\n    </g>\n    <g id=\"ytick_3\">\n     <g id=\"line2d_9\">\n      <g>\n       <use style=\"stroke:#000000;stroke-width:0.8;\" x=\"62.9825\" xlink:href=\"#mb9c515ecf2\" y=\"159.6705\"/>\n      </g>\n     </g>\n     <g id=\"text_10\">\n      <!-- love -->\n      <g transform=\"translate(38.0425 164.074875)scale(0.12 -0.12)\">\n       <use xlink:href=\"#GuardianSansCond-Regular-6c\"/>\n       <use x=\"19.299988\" xlink:href=\"#GuardianSansCond-Regular-6f\"/>\n       <use x=\"64.899979\" xlink:href=\"#GuardianSansCond-Regular-76\"/>\n       <use x=\"106.799973\" xlink:href=\"#GuardianSansCond-Regular-65\"/>\n      </g>\n     </g>\n    </g>\n    <g id=\"ytick_4\">\n     <g id=\"line2d_10\">\n      <g>\n       <use style=\"stroke:#000000;stroke-width:0.8;\" x=\"62.9825\" xlink:href=\"#mb9c515ecf2\" y=\"214.0305\"/>\n      </g>\n     </g>\n     <g id=\"text_11\">\n      <!-- anger -->\n      <g transform=\"translate(31.838125 218.422687)scale(0.12 -0.12)\">\n       <use xlink:href=\"#GuardianSansCond-Regular-61\"/>\n       <use x=\"40.899994\" xlink:href=\"#GuardianSansCond-Regular-6e\"/>\n       <use x=\"86.999985\" xlink:href=\"#GuardianSansCond-Regular-67\"/>\n       <use x=\"129.699982\" xlink:href=\"#GuardianSansCond-Regular-65\"/>\n       <use x=\"172.399979\" xlink:href=\"#GuardianSansCond-Regular-72\"/>\n      </g>\n     </g>\n    </g>\n    <g id=\"ytick_5\">\n     <g id=\"line2d_11\">\n      <g>\n       <use style=\"stroke:#000000;stroke-width:0.8;\" x=\"62.9825\" xlink:href=\"#mb9c515ecf2\" y=\"268.3905\"/>\n      </g>\n     </g>\n     <g id=\"text_12\">\n      <!-- fear -->\n      <g transform=\"translate(39.289375 272.794875)scale(0.12 -0.12)\">\n       <use xlink:href=\"#GuardianSansCond-Regular-66\"/>\n       <use x=\"26.699997\" xlink:href=\"#GuardianSansCond-Regular-65\"/>\n       <use x=\"69.399994\" xlink:href=\"#GuardianSansCond-Regular-61\"/>\n       <use x=\"110.299988\" xlink:href=\"#GuardianSansCond-Regular-72\"/>\n      </g>\n     </g>\n    </g>\n    <g id=\"ytick_6\">\n     <g id=\"line2d_12\">\n      <g>\n       <use style=\"stroke:#000000;stroke-width:0.8;\" x=\"62.9825\" xlink:href=\"#mb9c515ecf2\" y=\"322.7505\"/>\n      </g>\n     </g>\n     <g id=\"text_13\">\n      <!-- surprise -->\n      <g transform=\"translate(22.3 327.154875)scale(0.12 -0.12)\">\n       <use xlink:href=\"#GuardianSansCond-Regular-73\"/>\n       <use x=\"34.499985\" xlink:href=\"#GuardianSansCond-Regular-75\"/>\n       <use x=\"79.999969\" xlink:href=\"#GuardianSansCond-Regular-72\"/>\n       <use x=\"108.799957\" xlink:href=\"#GuardianSansCond-Regular-70\"/>\n       <use x=\"155.399948\" xlink:href=\"#GuardianSansCond-Regular-72\"/>\n       <use x=\"184.199936\" xlink:href=\"#GuardianSansCond-Regular-69\"/>\n       <use x=\"203.499924\" xlink:href=\"#GuardianSansCond-Regular-73\"/>\n       <use x=\"237.999908\" xlink:href=\"#GuardianSansCond-Regular-65\"/>\n      </g>\n     </g>\n    </g>\n    <g id=\"text_14\">\n     <!-- True label -->\n     <g transform=\"translate(16.00875 207.616125)rotate(-90)scale(0.12 -0.12)\">\n      <defs>\n       <path d=\"M 1152 0 \nL 1690 0 \nL 1690 3974 \nL 2746 3974 \nL 2746 4435 \nL 90 4435 \nL 90 3974 \nL 1152 3974 \nL 1152 0 \nz\n\" id=\"GuardianSansCond-Regular-54\" transform=\"scale(0.015625)\"/>\n      </defs>\n      <use xlink:href=\"#GuardianSansCond-Regular-54\"/>\n      <use x=\"44.499985\" xlink:href=\"#GuardianSansCond-Regular-72\"/>\n      <use x=\"73.299973\" xlink:href=\"#GuardianSansCond-Regular-75\"/>\n      <use x=\"118.799957\" xlink:href=\"#GuardianSansCond-Regular-65\"/>\n      <use x=\"161.499954\" xlink:href=\"#GuardianSansCond-Regular-20\"/>\n      <use x=\"177.299942\" xlink:href=\"#GuardianSansCond-Regular-6c\"/>\n      <use x=\"196.59993\" xlink:href=\"#GuardianSansCond-Regular-61\"/>\n      <use x=\"237.499924\" xlink:href=\"#GuardianSansCond-Regular-62\"/>\n      <use x=\"284.099915\" xlink:href=\"#GuardianSansCond-Regular-65\"/>\n      <use x=\"326.799911\" xlink:href=\"#GuardianSansCond-Regular-6c\"/>\n     </g>\n    </g>\n   </g>\n   <g id=\"patch_3\">\n    <path d=\"M 62.9825 349.9305 \nL 62.9825 23.7705 \n\" style=\"fill:none;stroke:#000000;stroke-linecap:square;stroke-linejoin:miter;stroke-width:0.8;\"/>\n   </g>\n   <g id=\"patch_4\">\n    <path d=\"M 389.1425 349.9305 \nL 389.1425 23.7705 \n\" style=\"fill:none;stroke:#000000;stroke-linecap:square;stroke-linejoin:miter;stroke-width:0.8;\"/>\n   </g>\n   <g id=\"patch_5\">\n    <path d=\"M 62.9825 349.9305 \nL 389.1425 349.9305 \n\" style=\"fill:none;stroke:#000000;stroke-linecap:square;stroke-linejoin:miter;stroke-width:0.8;\"/>\n   </g>\n   <g id=\"patch_6\">\n    <path d=\"M 62.9825 23.7705 \nL 389.1425 23.7705 \n\" style=\"fill:none;stroke:#000000;stroke-linecap:square;stroke-linejoin:miter;stroke-width:0.8;\"/>\n   </g>\n   <g id=\"text_15\">\n    <!-- 0.72 -->\n    <g style=\"fill:#f7fbff;\" transform=\"translate(80.7725 54.20925)scale(0.12 -0.12)\">\n     <defs>\n      <path d=\"M 1722 -70 \nC 2656 -70 3155 646 3155 2061 \nL 3155 2406 \nC 3155 3891 2598 4499 1715 4499 \nC 819 4499 269 3834 269 2368 \nL 269 2042 \nC 269 499 845 -70 1722 -70 \nz\nM 1728 384 \nC 1069 384 845 979 845 2016 \nL 845 2490 \nC 845 3494 1088 4051 1709 4051 \nC 2336 4051 2592 3514 2592 2458 \nL 2592 1978 \nC 2592 934 2374 384 1728 384 \nz\n\" id=\"GuardianSansCond-Regular-30\" transform=\"scale(0.015625)\"/>\n      <path d=\"M 397 0 \nL 986 0 \nL 986 621 \nL 397 621 \nL 397 0 \nz\n\" id=\"GuardianSansCond-Regular-2e\" transform=\"scale(0.015625)\"/>\n      <path d=\"M 461 0 \nL 1018 0 \nL 2387 3994 \nL 2387 4435 \nL 109 4435 \nL 109 3974 \nL 1850 3974 \nL 1850 3949 \nL 461 0 \nz\n\" id=\"GuardianSansCond-Regular-37\" transform=\"scale(0.015625)\"/>\n      <path d=\"M 173 0 \nL 2470 0 \nL 2470 461 \nL 800 461 \nL 800 480 \nL 1574 1421 \nC 2067 2035 2419 2528 2419 3264 \nC 2419 4026 2029 4499 1222 4499 \nC 806 4499 499 4410 269 4282 \nL 269 3853 \nC 467 3949 730 4032 1056 4032 \nC 1619 4032 1850 3750 1850 3213 \nC 1850 2630 1542 2189 1152 1670 \nL 173 397 \nL 173 0 \nz\n\" id=\"GuardianSansCond-Regular-32\" transform=\"scale(0.015625)\"/>\n     </defs>\n     <use xlink:href=\"#GuardianSansCond-Regular-30\"/>\n     <use x=\"53.499985\" xlink:href=\"#GuardianSansCond-Regular-2e\"/>\n     <use x=\"75.099976\" xlink:href=\"#GuardianSansCond-Regular-37\"/>\n     <use x=\"113.999969\" xlink:href=\"#GuardianSansCond-Regular-32\"/>\n    </g>\n   </g>\n   <g id=\"text_16\">\n    <!-- 0.12 -->\n    <g style=\"fill:#08306b;\" transform=\"translate(135.739062 54.20925)scale(0.12 -0.12)\">\n     <defs>\n      <path d=\"M 832 0 \nL 1363 0 \nL 1363 4474 \nL 1171 4474 \nL 141 4083 \nL 141 3776 \nL 832 3846 \nL 832 0 \nz\n\" id=\"GuardianSansCond-Regular-31\" transform=\"scale(0.015625)\"/>\n     </defs>\n     <use xlink:href=\"#GuardianSansCond-Regular-30\"/>\n     <use x=\"53.499985\" xlink:href=\"#GuardianSansCond-Regular-2e\"/>\n     <use x=\"75.099976\" xlink:href=\"#GuardianSansCond-Regular-31\"/>\n     <use x=\"103.899963\" xlink:href=\"#GuardianSansCond-Regular-32\"/>\n    </g>\n   </g>\n   <g id=\"text_17\">\n    <!-- 0.01 -->\n    <g style=\"fill:#08306b;\" transform=\"translate(189.439063 54.20925)scale(0.12 -0.12)\">\n     <use xlink:href=\"#GuardianSansCond-Regular-30\"/>\n     <use x=\"53.499985\" xlink:href=\"#GuardianSansCond-Regular-2e\"/>\n     <use x=\"75.099976\" xlink:href=\"#GuardianSansCond-Regular-30\"/>\n     <use x=\"128.59996\" xlink:href=\"#GuardianSansCond-Regular-31\"/>\n    </g>\n   </g>\n   <g id=\"text_18\">\n    <!-- 0.09 -->\n    <g style=\"fill:#08306b;\" transform=\"translate(242.5925 54.20925)scale(0.12 -0.12)\">\n     <defs>\n      <path d=\"M 1171 -70 \nC 2176 -70 2854 448 2854 2221 \nL 2854 2586 \nC 2854 3795 2432 4499 1523 4499 \nC 691 4499 243 3917 243 3021 \nC 243 2202 653 1683 1389 1683 \nC 1766 1683 2074 1818 2285 1984 \nC 2266 608 1798 397 1107 397 \nC 851 397 563 467 429 518 \nL 429 96 \nC 563 0 858 -70 1171 -70 \nz\nM 1542 2150 \nC 1056 2150 806 2445 806 3072 \nC 806 3712 1043 4045 1523 4045 \nC 2048 4045 2285 3558 2285 2592 \nL 2285 2374 \nC 2138 2272 1882 2150 1542 2150 \nz\n\" id=\"GuardianSansCond-Regular-39\" transform=\"scale(0.015625)\"/>\n     </defs>\n     <use xlink:href=\"#GuardianSansCond-Regular-30\"/>\n     <use x=\"53.499985\" xlink:href=\"#GuardianSansCond-Regular-2e\"/>\n     <use x=\"75.099976\" xlink:href=\"#GuardianSansCond-Regular-30\"/>\n     <use x=\"128.59996\" xlink:href=\"#GuardianSansCond-Regular-39\"/>\n    </g>\n   </g>\n   <g id=\"text_19\">\n    <!-- 0.06 -->\n    <g style=\"fill:#08306b;\" transform=\"translate(296.9525 54.20925)scale(0.12 -0.12)\">\n     <defs>\n      <path d=\"M 1632 384 \nC 1082 384 845 915 845 1837 \nL 845 2054 \nC 992 2150 1254 2278 1594 2278 \nC 2086 2278 2323 1984 2323 1357 \nC 2323 742 2086 384 1632 384 \nz\nM 1632 -70 \nC 2438 -70 2886 544 2886 1408 \nC 2886 2234 2490 2746 1754 2746 \nC 1363 2746 1056 2611 845 2445 \nC 877 3853 1440 4038 2029 4038 \nC 2291 4038 2554 3974 2688 3930 \nL 2688 4352 \nC 2547 4442 2272 4499 1958 4499 \nC 1043 4499 275 3981 275 2208 \nL 275 1843 \nC 275 691 717 -70 1632 -70 \nz\n\" id=\"GuardianSansCond-Regular-36\" transform=\"scale(0.015625)\"/>\n     </defs>\n     <use xlink:href=\"#GuardianSansCond-Regular-30\"/>\n     <use x=\"53.499985\" xlink:href=\"#GuardianSansCond-Regular-2e\"/>\n     <use x=\"75.099976\" xlink:href=\"#GuardianSansCond-Regular-30\"/>\n     <use x=\"128.59996\" xlink:href=\"#GuardianSansCond-Regular-36\"/>\n    </g>\n   </g>\n   <g id=\"text_20\">\n    <!-- 0.00 -->\n    <g style=\"fill:#08306b;\" transform=\"translate(351.036875 54.20925)scale(0.12 -0.12)\">\n     <use xlink:href=\"#GuardianSansCond-Regular-30\"/>\n     <use x=\"53.499985\" xlink:href=\"#GuardianSansCond-Regular-2e\"/>\n     <use x=\"75.099976\" xlink:href=\"#GuardianSansCond-Regular-30\"/>\n     <use x=\"128.59996\" xlink:href=\"#GuardianSansCond-Regular-30\"/>\n    </g>\n   </g>\n   <g id=\"text_21\">\n    <!-- 0.11 -->\n    <g style=\"fill:#08306b;\" transform=\"translate(82.20125 108.56925)scale(0.12 -0.12)\">\n     <use xlink:href=\"#GuardianSansCond-Regular-30\"/>\n     <use x=\"53.499985\" xlink:href=\"#GuardianSansCond-Regular-2e\"/>\n     <use x=\"75.099976\" xlink:href=\"#GuardianSansCond-Regular-31\"/>\n     <use x=\"103.899963\" xlink:href=\"#GuardianSansCond-Regular-31\"/>\n    </g>\n   </g>\n   <g id=\"text_22\">\n    <!-- 0.79 -->\n    <g style=\"fill:#f7fbff;\" transform=\"translate(134.748125 108.56925)scale(0.12 -0.12)\">\n     <use xlink:href=\"#GuardianSansCond-Regular-30\"/>\n     <use x=\"53.499985\" xlink:href=\"#GuardianSansCond-Regular-2e\"/>\n     <use x=\"75.099976\" xlink:href=\"#GuardianSansCond-Regular-37\"/>\n     <use x=\"113.999969\" xlink:href=\"#GuardianSansCond-Regular-39\"/>\n    </g>\n   </g>\n   <g id=\"text_23\">\n    <!-- 0.04 -->\n    <g style=\"fill:#08306b;\" transform=\"translate(188.3225 108.56925)scale(0.12 -0.12)\">\n     <defs>\n      <path d=\"M 1805 0 \nL 2330 0 \nL 2330 1107 \nL 2957 1107 \nL 2957 1562 \nL 2330 1562 \nL 2330 4435 \nL 1869 4435 \nL 70 1504 \nL 70 1107 \nL 1805 1107 \nL 1805 0 \nz\nM 608 1562 \nL 608 1581 \nL 1779 3475 \nL 1805 3475 \nL 1805 1562 \nL 608 1562 \nz\n\" id=\"GuardianSansCond-Regular-34\" transform=\"scale(0.015625)\"/>\n     </defs>\n     <use xlink:href=\"#GuardianSansCond-Regular-30\"/>\n     <use x=\"53.499985\" xlink:href=\"#GuardianSansCond-Regular-2e\"/>\n     <use x=\"75.099976\" xlink:href=\"#GuardianSansCond-Regular-30\"/>\n     <use x=\"128.59996\" xlink:href=\"#GuardianSansCond-Regular-34\"/>\n    </g>\n   </g>\n   <g id=\"text_24\">\n    <!-- 0.02 -->\n    <g style=\"fill:#08306b;\" transform=\"translate(242.976875 108.56925)scale(0.12 -0.12)\">\n     <use xlink:href=\"#GuardianSansCond-Regular-30\"/>\n     <use x=\"53.499985\" xlink:href=\"#GuardianSansCond-Regular-2e\"/>\n     <use x=\"75.099976\" xlink:href=\"#GuardianSansCond-Regular-30\"/>\n     <use x=\"128.59996\" xlink:href=\"#GuardianSansCond-Regular-32\"/>\n    </g>\n   </g>\n   <g id=\"text_25\">\n    <!-- 0.03 -->\n    <g style=\"fill:#08306b;\" transform=\"translate(297.354687 108.56925)scale(0.12 -0.12)\">\n     <defs>\n      <path d=\"M 1094 -64 \nC 1920 -64 2432 416 2432 1248 \nC 2432 1939 2112 2253 1606 2362 \nL 1606 2381 \nC 2042 2515 2310 2803 2310 3405 \nC 2310 4096 1882 4499 1158 4499 \nC 787 4499 486 4429 275 4320 \nL 275 3891 \nC 461 3968 678 4038 998 4038 \nC 1478 4038 1754 3866 1754 3302 \nC 1754 2797 1478 2547 1018 2547 \nL 717 2547 \nL 717 2086 \nL 1056 2086 \nC 1600 2086 1869 1837 1869 1267 \nC 1869 646 1517 403 947 403 \nC 646 403 358 493 147 608 \nL 147 166 \nC 358 32 640 -64 1094 -64 \nz\n\" id=\"GuardianSansCond-Regular-33\" transform=\"scale(0.015625)\"/>\n     </defs>\n     <use xlink:href=\"#GuardianSansCond-Regular-30\"/>\n     <use x=\"53.499985\" xlink:href=\"#GuardianSansCond-Regular-2e\"/>\n     <use x=\"75.099976\" xlink:href=\"#GuardianSansCond-Regular-30\"/>\n     <use x=\"128.59996\" xlink:href=\"#GuardianSansCond-Regular-33\"/>\n    </g>\n   </g>\n   <g id=\"text_26\">\n    <!-- 0.01 -->\n    <g style=\"fill:#08306b;\" transform=\"translate(352.519062 108.56925)scale(0.12 -0.12)\">\n     <use xlink:href=\"#GuardianSansCond-Regular-30\"/>\n     <use x=\"53.499985\" xlink:href=\"#GuardianSansCond-Regular-2e\"/>\n     <use x=\"75.099976\" xlink:href=\"#GuardianSansCond-Regular-30\"/>\n     <use x=\"128.59996\" xlink:href=\"#GuardianSansCond-Regular-31\"/>\n    </g>\n   </g>\n   <g id=\"text_27\">\n    <!-- 0.15 -->\n    <g style=\"fill:#08306b;\" transform=\"translate(81.403437 162.92925)scale(0.12 -0.12)\">\n     <defs>\n      <path d=\"M 1094 -64 \nC 1971 -64 2445 512 2445 1363 \nC 2445 2298 1997 2707 1165 2707 \nC 1011 2707 890 2694 794 2675 \nL 877 3974 \nL 2342 3974 \nL 2342 4435 \nL 429 4435 \nL 294 2170 \nC 467 2208 710 2246 966 2246 \nC 1587 2246 1875 1990 1875 1363 \nC 1875 717 1587 397 954 397 \nC 627 397 365 474 154 582 \nL 154 147 \nC 352 26 672 -64 1094 -64 \nz\n\" id=\"GuardianSansCond-Regular-35\" transform=\"scale(0.015625)\"/>\n     </defs>\n     <use xlink:href=\"#GuardianSansCond-Regular-30\"/>\n     <use x=\"53.499985\" xlink:href=\"#GuardianSansCond-Regular-2e\"/>\n     <use x=\"75.099976\" xlink:href=\"#GuardianSansCond-Regular-31\"/>\n     <use x=\"103.899963\" xlink:href=\"#GuardianSansCond-Regular-35\"/>\n    </g>\n   </g>\n   <g id=\"text_28\">\n    <!-- 0.47 -->\n    <g style=\"fill:#f7fbff;\" transform=\"translate(134.838125 162.92925)scale(0.12 -0.12)\">\n     <use xlink:href=\"#GuardianSansCond-Regular-30\"/>\n     <use x=\"53.499985\" xlink:href=\"#GuardianSansCond-Regular-2e\"/>\n     <use x=\"75.099976\" xlink:href=\"#GuardianSansCond-Regular-34\"/>\n     <use x=\"122.499969\" xlink:href=\"#GuardianSansCond-Regular-37\"/>\n    </g>\n   </g>\n   <g id=\"text_29\">\n    <!-- 0.24 -->\n    <g style=\"fill:#08306b;\" transform=\"translate(188.9825 162.92925)scale(0.12 -0.12)\">\n     <use xlink:href=\"#GuardianSansCond-Regular-30\"/>\n     <use x=\"53.499985\" xlink:href=\"#GuardianSansCond-Regular-2e\"/>\n     <use x=\"75.099976\" xlink:href=\"#GuardianSansCond-Regular-32\"/>\n     <use x=\"117.59996\" xlink:href=\"#GuardianSansCond-Regular-34\"/>\n    </g>\n   </g>\n   <g id=\"text_30\">\n    <!-- 0.08 -->\n    <g style=\"fill:#08306b;\" transform=\"translate(242.5625 162.92925)scale(0.12 -0.12)\">\n     <defs>\n      <path d=\"M 1581 -64 \nC 2445 -64 2931 467 2931 1139 \nC 2931 1760 2592 2074 2106 2330 \nC 2490 2541 2822 2899 2822 3424 \nC 2822 4077 2394 4499 1606 4499 \nC 819 4499 384 4013 384 3398 \nC 384 2848 678 2509 1069 2285 \nC 602 2054 230 1683 230 1082 \nC 230 384 710 -64 1581 -64 \nz\nM 1587 390 \nC 1082 390 768 678 768 1126 \nC 768 1581 1037 1894 1414 2080 \nC 2029 1792 2387 1574 2387 1082 \nC 2387 614 2054 390 1587 390 \nz\nM 1754 2522 \nC 1210 2778 928 3021 928 3430 \nC 928 3821 1171 4051 1606 4051 \nC 2067 4051 2285 3782 2285 3398 \nC 2285 3008 2099 2765 1754 2522 \nz\n\" id=\"GuardianSansCond-Regular-38\" transform=\"scale(0.015625)\"/>\n     </defs>\n     <use xlink:href=\"#GuardianSansCond-Regular-30\"/>\n     <use x=\"53.499985\" xlink:href=\"#GuardianSansCond-Regular-2e\"/>\n     <use x=\"75.099976\" xlink:href=\"#GuardianSansCond-Regular-30\"/>\n     <use x=\"128.59996\" xlink:href=\"#GuardianSansCond-Regular-38\"/>\n    </g>\n   </g>\n   <g id=\"text_31\">\n    <!-- 0.04 -->\n    <g style=\"fill:#08306b;\" transform=\"translate(297.0425 162.92925)scale(0.12 -0.12)\">\n     <use xlink:href=\"#GuardianSansCond-Regular-30\"/>\n     <use x=\"53.499985\" xlink:href=\"#GuardianSansCond-Regular-2e\"/>\n     <use x=\"75.099976\" xlink:href=\"#GuardianSansCond-Regular-30\"/>\n     <use x=\"128.59996\" xlink:href=\"#GuardianSansCond-Regular-34\"/>\n    </g>\n   </g>\n   <g id=\"text_32\">\n    <!-- 0.01 -->\n    <g style=\"fill:#08306b;\" transform=\"translate(352.519062 162.92925)scale(0.12 -0.12)\">\n     <use xlink:href=\"#GuardianSansCond-Regular-30\"/>\n     <use x=\"53.499985\" xlink:href=\"#GuardianSansCond-Regular-2e\"/>\n     <use x=\"75.099976\" xlink:href=\"#GuardianSansCond-Regular-30\"/>\n     <use x=\"128.59996\" xlink:href=\"#GuardianSansCond-Regular-31\"/>\n    </g>\n   </g>\n   <g id=\"text_33\">\n    <!-- 0.36 -->\n    <g style=\"fill:#08306b;\" transform=\"translate(80.190312 217.28925)scale(0.12 -0.12)\">\n     <use xlink:href=\"#GuardianSansCond-Regular-30\"/>\n     <use x=\"53.499985\" xlink:href=\"#GuardianSansCond-Regular-2e\"/>\n     <use x=\"75.099976\" xlink:href=\"#GuardianSansCond-Regular-33\"/>\n     <use x=\"117.299973\" xlink:href=\"#GuardianSansCond-Regular-36\"/>\n    </g>\n   </g>\n   <g id=\"text_34\">\n    <!-- 0.13 -->\n    <g style=\"fill:#08306b;\" transform=\"translate(135.756875 217.28925)scale(0.12 -0.12)\">\n     <use xlink:href=\"#GuardianSansCond-Regular-30\"/>\n     <use x=\"53.499985\" xlink:href=\"#GuardianSansCond-Regular-2e\"/>\n     <use x=\"75.099976\" xlink:href=\"#GuardianSansCond-Regular-31\"/>\n     <use x=\"103.899963\" xlink:href=\"#GuardianSansCond-Regular-33\"/>\n    </g>\n   </g>\n   <g id=\"text_35\">\n    <!-- 0.03 -->\n    <g style=\"fill:#08306b;\" transform=\"translate(188.634687 217.28925)scale(0.12 -0.12)\">\n     <use xlink:href=\"#GuardianSansCond-Regular-30\"/>\n     <use x=\"53.499985\" xlink:href=\"#GuardianSansCond-Regular-2e\"/>\n     <use x=\"75.099976\" xlink:href=\"#GuardianSansCond-Regular-30\"/>\n     <use x=\"128.59996\" xlink:href=\"#GuardianSansCond-Regular-33\"/>\n    </g>\n   </g>\n   <g id=\"text_36\">\n    <!-- 0.37 -->\n    <g style=\"fill:#08306b;\" transform=\"translate(243.870312 217.28925)scale(0.12 -0.12)\">\n     <use xlink:href=\"#GuardianSansCond-Regular-30\"/>\n     <use x=\"53.499985\" xlink:href=\"#GuardianSansCond-Regular-2e\"/>\n     <use x=\"75.099976\" xlink:href=\"#GuardianSansCond-Regular-33\"/>\n     <use x=\"117.299973\" xlink:href=\"#GuardianSansCond-Regular-37\"/>\n    </g>\n   </g>\n   <g id=\"text_37\">\n    <!-- 0.11 -->\n    <g style=\"fill:#08306b;\" transform=\"translate(299.64125 217.28925)scale(0.12 -0.12)\">\n     <use xlink:href=\"#GuardianSansCond-Regular-30\"/>\n     <use x=\"53.499985\" xlink:href=\"#GuardianSansCond-Regular-2e\"/>\n     <use x=\"75.099976\" xlink:href=\"#GuardianSansCond-Regular-31\"/>\n     <use x=\"103.899963\" xlink:href=\"#GuardianSansCond-Regular-31\"/>\n    </g>\n   </g>\n   <g id=\"text_38\">\n    <!-- 0.00 -->\n    <g style=\"fill:#08306b;\" transform=\"translate(351.036875 217.28925)scale(0.12 -0.12)\">\n     <use xlink:href=\"#GuardianSansCond-Regular-30\"/>\n     <use x=\"53.499985\" xlink:href=\"#GuardianSansCond-Regular-2e\"/>\n     <use x=\"75.099976\" xlink:href=\"#GuardianSansCond-Regular-30\"/>\n     <use x=\"128.59996\" xlink:href=\"#GuardianSansCond-Regular-30\"/>\n    </g>\n   </g>\n   <g id=\"text_39\">\n    <!-- 0.24 -->\n    <g style=\"fill:#08306b;\" transform=\"translate(80.2625 271.64925)scale(0.12 -0.12)\">\n     <use xlink:href=\"#GuardianSansCond-Regular-30\"/>\n     <use x=\"53.499985\" xlink:href=\"#GuardianSansCond-Regular-2e\"/>\n     <use x=\"75.099976\" xlink:href=\"#GuardianSansCond-Regular-32\"/>\n     <use x=\"117.59996\" xlink:href=\"#GuardianSansCond-Regular-34\"/>\n    </g>\n   </g>\n   <g id=\"text_40\">\n    <!-- 0.10 -->\n    <g style=\"fill:#08306b;\" transform=\"translate(135.079062 271.64925)scale(0.12 -0.12)\">\n     <use xlink:href=\"#GuardianSansCond-Regular-30\"/>\n     <use x=\"53.499985\" xlink:href=\"#GuardianSansCond-Regular-2e\"/>\n     <use x=\"75.099976\" xlink:href=\"#GuardianSansCond-Regular-31\"/>\n     <use x=\"103.899963\" xlink:href=\"#GuardianSansCond-Regular-30\"/>\n    </g>\n   </g>\n   <g id=\"text_41\">\n    <!-- 0.03 -->\n    <g style=\"fill:#08306b;\" transform=\"translate(188.634687 271.64925)scale(0.12 -0.12)\">\n     <use xlink:href=\"#GuardianSansCond-Regular-30\"/>\n     <use x=\"53.499985\" xlink:href=\"#GuardianSansCond-Regular-2e\"/>\n     <use x=\"75.099976\" xlink:href=\"#GuardianSansCond-Regular-30\"/>\n     <use x=\"128.59996\" xlink:href=\"#GuardianSansCond-Regular-33\"/>\n    </g>\n   </g>\n   <g id=\"text_42\">\n    <!-- 0.08 -->\n    <g style=\"fill:#08306b;\" transform=\"translate(242.5625 271.64925)scale(0.12 -0.12)\">\n     <use xlink:href=\"#GuardianSansCond-Regular-30\"/>\n     <use x=\"53.499985\" xlink:href=\"#GuardianSansCond-Regular-2e\"/>\n     <use x=\"75.099976\" xlink:href=\"#GuardianSansCond-Regular-30\"/>\n     <use x=\"128.59996\" xlink:href=\"#GuardianSansCond-Regular-38\"/>\n    </g>\n   </g>\n   <g id=\"text_43\">\n    <!-- 0.51 -->\n    <g style=\"fill:#f7fbff;\" transform=\"translate(298.843437 271.64925)scale(0.12 -0.12)\">\n     <use xlink:href=\"#GuardianSansCond-Regular-30\"/>\n     <use x=\"53.499985\" xlink:href=\"#GuardianSansCond-Regular-2e\"/>\n     <use x=\"75.099976\" xlink:href=\"#GuardianSansCond-Regular-35\"/>\n     <use x=\"117.199966\" xlink:href=\"#GuardianSansCond-Regular-31\"/>\n    </g>\n   </g>\n   <g id=\"text_44\">\n    <!-- 0.04 -->\n    <g style=\"fill:#08306b;\" transform=\"translate(351.4025 271.64925)scale(0.12 -0.12)\">\n     <use xlink:href=\"#GuardianSansCond-Regular-30\"/>\n     <use x=\"53.499985\" xlink:href=\"#GuardianSansCond-Regular-2e\"/>\n     <use x=\"75.099976\" xlink:href=\"#GuardianSansCond-Regular-30\"/>\n     <use x=\"128.59996\" xlink:href=\"#GuardianSansCond-Regular-34\"/>\n    </g>\n   </g>\n   <g id=\"text_45\">\n    <!-- 0.16 -->\n    <g style=\"fill:#08306b;\" transform=\"translate(80.994687 326.00925)scale(0.12 -0.12)\">\n     <use xlink:href=\"#GuardianSansCond-Regular-30\"/>\n     <use x=\"53.499985\" xlink:href=\"#GuardianSansCond-Regular-2e\"/>\n     <use x=\"75.099976\" xlink:href=\"#GuardianSansCond-Regular-31\"/>\n     <use x=\"103.899963\" xlink:href=\"#GuardianSansCond-Regular-36\"/>\n    </g>\n   </g>\n   <g id=\"text_46\">\n    <!-- 0.42 -->\n    <g style=\"fill:#f7fbff;\" transform=\"translate(134.6225 326.00925)scale(0.12 -0.12)\">\n     <use xlink:href=\"#GuardianSansCond-Regular-30\"/>\n     <use x=\"53.499985\" xlink:href=\"#GuardianSansCond-Regular-2e\"/>\n     <use x=\"75.099976\" xlink:href=\"#GuardianSansCond-Regular-34\"/>\n     <use x=\"122.499969\" xlink:href=\"#GuardianSansCond-Regular-32\"/>\n    </g>\n   </g>\n   <g id=\"text_47\">\n    <!-- 0.01 -->\n    <g style=\"fill:#08306b;\" transform=\"translate(189.439063 326.00925)scale(0.12 -0.12)\">\n     <use xlink:href=\"#GuardianSansCond-Regular-30\"/>\n     <use x=\"53.499985\" xlink:href=\"#GuardianSansCond-Regular-2e\"/>\n     <use x=\"75.099976\" xlink:href=\"#GuardianSansCond-Regular-30\"/>\n     <use x=\"128.59996\" xlink:href=\"#GuardianSansCond-Regular-31\"/>\n    </g>\n   </g>\n   <g id=\"text_48\">\n    <!-- 0.06 -->\n    <g style=\"fill:#08306b;\" transform=\"translate(242.5925 326.00925)scale(0.12 -0.12)\">\n     <use xlink:href=\"#GuardianSansCond-Regular-30\"/>\n     <use x=\"53.499985\" xlink:href=\"#GuardianSansCond-Regular-2e\"/>\n     <use x=\"75.099976\" xlink:href=\"#GuardianSansCond-Regular-30\"/>\n     <use x=\"128.59996\" xlink:href=\"#GuardianSansCond-Regular-36\"/>\n    </g>\n   </g>\n   <g id=\"text_49\">\n    <!-- 0.17 -->\n    <g style=\"fill:#08306b;\" transform=\"translate(299.034687 326.00925)scale(0.12 -0.12)\">\n     <use xlink:href=\"#GuardianSansCond-Regular-30\"/>\n     <use x=\"53.499985\" xlink:href=\"#GuardianSansCond-Regular-2e\"/>\n     <use x=\"75.099976\" xlink:href=\"#GuardianSansCond-Regular-31\"/>\n     <use x=\"103.899963\" xlink:href=\"#GuardianSansCond-Regular-37\"/>\n    </g>\n   </g>\n   <g id=\"text_50\">\n    <!-- 0.17 -->\n    <g style=\"fill:#08306b;\" transform=\"translate(353.394687 326.00925)scale(0.12 -0.12)\">\n     <use xlink:href=\"#GuardianSansCond-Regular-30\"/>\n     <use x=\"53.499985\" xlink:href=\"#GuardianSansCond-Regular-2e\"/>\n     <use x=\"75.099976\" xlink:href=\"#GuardianSansCond-Regular-31\"/>\n     <use x=\"103.899963\" xlink:href=\"#GuardianSansCond-Regular-37\"/>\n    </g>\n   </g>\n   <g id=\"text_51\">\n    <!-- Normalized confusion matrix -->\n    <g transform=\"translate(153.087125 17.7705)scale(0.144 -0.144)\">\n     <defs>\n      <path d=\"M 416 0 \nL 909 0 \nL 909 2912 \nC 909 3424 877 3757 877 3757 \nL 896 3757 \nC 896 3757 1050 3322 1274 2822 \nL 2547 0 \nL 3155 0 \nL 3155 4435 \nL 2662 4435 \nL 2662 1568 \nC 2662 1114 2694 762 2694 762 \nL 2682 762 \nC 2682 762 2502 1254 2330 1626 \nL 1094 4435 \nL 416 4435 \nL 416 0 \nz\n\" id=\"GuardianSansCond-Regular-4e\" transform=\"scale(0.015625)\"/>\n      <path d=\"M 346 0 \nL 870 0 \nL 870 2688 \nC 1050 2790 1267 2886 1523 2886 \nC 1856 2886 1971 2758 1971 2464 \nL 1971 0 \nL 2490 0 \nL 2490 2688 \nC 2682 2797 2912 2886 3136 2886 \nC 3488 2886 3590 2746 3590 2464 \nL 3590 0 \nL 4115 0 \nL 4115 2528 \nC 4115 3104 3821 3334 3347 3334 \nC 2995 3334 2688 3187 2419 2995 \nL 2394 2995 \nC 2266 3226 2061 3334 1722 3334 \nC 1395 3334 1088 3181 870 3021 \nL 845 3021 \nL 845 3283 \nL 346 3283 \nL 346 0 \nz\n\" id=\"GuardianSansCond-Regular-6d\" transform=\"scale(0.015625)\"/>\n      <path d=\"M 179 0 \nL 2246 0 \nL 2246 435 \nL 794 435 \nL 794 454 \nL 2259 2918 \nL 2259 3283 \nL 256 3283 \nL 256 2854 \nL 1626 2854 \nL 1626 2835 \nL 179 384 \nL 179 0 \nz\n\" id=\"GuardianSansCond-Regular-7a\" transform=\"scale(0.015625)\"/>\n      <path d=\"M 83 0 \nL 634 0 \nL 1056 813 \nC 1203 1069 1293 1248 1293 1248 \nL 1299 1248 \nC 1299 1248 1376 1114 1523 819 \nL 1939 0 \nL 2515 0 \nL 1613 1670 \nL 2451 3283 \nL 1920 3283 \nL 1549 2515 \nL 1350 2086 \nL 1338 2086 \nC 1338 2086 1274 2208 1120 2509 \nL 717 3283 \nL 128 3283 \nL 1011 1658 \nL 83 0 \nz\n\" id=\"GuardianSansCond-Regular-78\" transform=\"scale(0.015625)\"/>\n     </defs>\n     <use xlink:href=\"#GuardianSansCond-Regular-4e\"/>\n     <use x=\"55.799988\" xlink:href=\"#GuardianSansCond-Regular-6f\"/>\n     <use x=\"101.399979\" xlink:href=\"#GuardianSansCond-Regular-72\"/>\n     <use x=\"130.199966\" xlink:href=\"#GuardianSansCond-Regular-6d\"/>\n     <use x=\"199.699951\" xlink:href=\"#GuardianSansCond-Regular-61\"/>\n     <use x=\"240.599945\" xlink:href=\"#GuardianSansCond-Regular-6c\"/>\n     <use x=\"259.899933\" xlink:href=\"#GuardianSansCond-Regular-69\"/>\n     <use x=\"279.199921\" xlink:href=\"#GuardianSansCond-Regular-7a\"/>\n     <use x=\"317.399918\" xlink:href=\"#GuardianSansCond-Regular-65\"/>\n     <use x=\"360.099915\" xlink:href=\"#GuardianSansCond-Regular-64\"/>\n     <use x=\"406.699905\" xlink:href=\"#GuardianSansCond-Regular-20\"/>\n     <use x=\"422.499893\" xlink:href=\"#GuardianSansCond-Regular-63\"/>\n     <use x=\"460.299881\" xlink:href=\"#GuardianSansCond-Regular-6f\"/>\n     <use x=\"505.899872\" xlink:href=\"#GuardianSansCond-Regular-6e\"/>\n     <use x=\"551.999863\" xlink:href=\"#GuardianSansCond-Regular-66\"/>\n     <use x=\"578.69986\" xlink:href=\"#GuardianSansCond-Regular-75\"/>\n     <use x=\"624.199844\" xlink:href=\"#GuardianSansCond-Regular-73\"/>\n     <use x=\"658.699829\" xlink:href=\"#GuardianSansCond-Regular-69\"/>\n     <use x=\"677.999817\" xlink:href=\"#GuardianSansCond-Regular-6f\"/>\n     <use x=\"723.599808\" xlink:href=\"#GuardianSansCond-Regular-6e\"/>\n     <use x=\"769.699799\" xlink:href=\"#GuardianSansCond-Regular-20\"/>\n     <use x=\"785.499786\" xlink:href=\"#GuardianSansCond-Regular-6d\"/>\n     <use x=\"854.999771\" xlink:href=\"#GuardianSansCond-Regular-61\"/>\n     <use x=\"895.899765\" xlink:href=\"#GuardianSansCond-Regular-74\"/>\n     <use x=\"924.89975\" xlink:href=\"#GuardianSansCond-Regular-72\"/>\n     <use x=\"953.699738\" xlink:href=\"#GuardianSansCond-Regular-69\"/>\n     <use x=\"972.999725\" xlink:href=\"#GuardianSansCond-Regular-78\"/>\n    </g>\n   </g>\n  </g>\n </g>\n <defs>\n  <clipPath id=\"pca8d197dee\">\n   <rect height=\"326.16\" width=\"326.16\" x=\"62.9825\" y=\"23.7705\"/>\n  </clipPath>\n </defs>\n</svg>\n",
            "text/plain": [
              "<Figure size 432x432 with 1 Axes>"
            ]
          },
          "metadata": {
            "needs_background": "light"
          },
          "output_type": "display_data"
        }
      ],
      "source": [
        "from sklearn.metrics import ConfusionMatrixDisplay, confusion_matrix\n",
        "\n",
        "def plot_confusion_matrix(y_preds, y_true, labels):\n",
        "    cm = confusion_matrix(y_true, y_preds, normalize=\"true\")\n",
        "    fig, ax = plt.subplots(figsize=(6, 6))\n",
        "    disp = ConfusionMatrixDisplay(confusion_matrix=cm, display_labels=labels)\n",
        "    disp.plot(cmap=\"Blues\", values_format=\".2f\", ax=ax, colorbar=False)\n",
        "    plt.title(\"Normalized confusion matrix\")\n",
        "    plt.show()\n",
        "\n",
        "y_preds = lr_clf.predict(X_valid)\n",
        "plot_confusion_matrix(y_preds, y_valid, labels)"
      ]
    },
    {
      "cell_type": "markdown",
      "metadata": {
        "id": "-XBTaaqdSZ9N"
      },
      "source": [
        "We can see that `anger` and `fear` are most often confused with `sadness`, which agrees with the observation we made when visualizing the embeddings. Also, `love` and `surprise` are frequently mistaken for `joy`."
      ]
    },
    {
      "cell_type": "markdown",
      "metadata": {
        "id": "C92ABM9VSZ9N"
      },
      "source": [
        "In the next section we will explore the fine-tuning approach, which leads to superior classification performance. It is, however, important to note that doing this requires more computational resources, such as GPUs, that might not be available in your organization. In cases like these, a feature-based approach can be a good compromise between doing traditional machine learning and deep learning."
      ]
    },
    {
      "cell_type": "markdown",
      "metadata": {
        "id": "5CUY7tUPSZ9N"
      },
      "source": [
        "### Fine-Tuning Transformers"
      ]
    },
    {
      "cell_type": "markdown",
      "metadata": {
        "id": "YvRtBc3_SZ9N"
      },
      "source": [
        "\n",
        "Let's now explore what it takes to fine-tune a transformer end-to-end. With the fine-tuning approach we do not use the hidden states as fixed features, but instead train them as shown in <<encoder-tuning>>. This requires the classification head to be differentiable, which is why this method usually uses a neural network for classification.\n",
        "\n",
        "<img alt=\"encoder-tuning\" caption=\"When using the fine-tuning approach the whole DistilBERT model is trained along with the classification head\" src=\"https://github.com/wxmlong2012/notebooks/blob/main/images/chapter02_encoder-fine-tuning.png?raw=1\" id=\"encoder-tuning\"/>"
      ]
    },
    {
      "cell_type": "markdown",
      "metadata": {
        "id": "c8DOaUP0SZ9N"
      },
      "source": [
        "Training the hidden states that serve as inputs to the classification model will help us avoid the problem of working with data that may not be well suited for the classification task. Instead, the initial hidden states adapt during training to decrease the model loss and thus increase its performance.\n",
        "\n",
        "We'll be using the `Trainer` API from image:images/logo.png[hf,13,13] Transformers to simplify the training loop. Let's look at the ingredients we need to set one up!"
      ]
    },
    {
      "cell_type": "markdown",
      "metadata": {
        "id": "sgQn_g5pSZ9N"
      },
      "source": [
        "#### Loading a pretrained model"
      ]
    },
    {
      "cell_type": "markdown",
      "metadata": {
        "id": "LJd-5u-oSZ9N"
      },
      "source": [
        "The first thing we need is a pretrained DistilBERT model like the one we used in the feature-based approach. The only slight modification is that we use the `AutoModelForSequenceClassification` model instead of `AutoModel`. The difference is that the `AutoModelForSequenceClassification` model has a classification head on top of the pretrained model outputs, which can be easily trained with the base model. We just need to specify how many labels the model has to predict (six in our case), since this dictates the number of outputs the classification head has:"
      ]
    },
    {
      "cell_type": "code",
      "execution_count": null,
      "metadata": {
        "id": "7rjh5ieGSZ9N"
      },
      "outputs": [],
      "source": [
        "# hide_output\n",
        "from transformers import AutoModelForSequenceClassification\n",
        "\n",
        "num_labels = 6\n",
        "model = (AutoModelForSequenceClassification\n",
        "         .from_pretrained(model_ckpt, num_labels=num_labels)\n",
        "         .to(device))"
      ]
    },
    {
      "cell_type": "markdown",
      "metadata": {
        "id": "l4O9t9jLSZ9N"
      },
      "source": [
        "You will see a warning that some parts of the model are randomly initialized. This is normal since the classification head has not yet been trained. The next step is to define the metrics that we'll use to evaluate our model's performance during fine-tuning."
      ]
    },
    {
      "cell_type": "markdown",
      "metadata": {
        "id": "rLbp1tgVSZ9N"
      },
      "source": [
        "#### Defining the performance metrics"
      ]
    },
    {
      "cell_type": "markdown",
      "metadata": {
        "id": "4LfdBk6nSZ9N"
      },
      "source": [
        "\n",
        "To monitor metrics during training, we need to define a `compute_metrics()` function for the `Trainer`.  This function receives an `EvalPrediction` object (which is a named tuple with `predictions` and `label_ids` attributes) and needs to return a dictionary that maps each metric's name to its value. For our application, we'll compute the $F_1$-score and the accuracy of the model as follows:"
      ]
    },
    {
      "cell_type": "code",
      "execution_count": null,
      "metadata": {
        "id": "1dHCdEGISZ9N"
      },
      "outputs": [],
      "source": [
        "from sklearn.metrics import accuracy_score, f1_score\n",
        "\n",
        "def compute_metrics(pred):\n",
        "    labels = pred.label_ids\n",
        "    preds = pred.predictions.argmax(-1)\n",
        "    f1 = f1_score(labels, preds, average=\"weighted\")\n",
        "    acc = accuracy_score(labels, preds)\n",
        "    return {\"accuracy\": acc, \"f1\": f1}"
      ]
    },
    {
      "cell_type": "markdown",
      "metadata": {
        "id": "-B3Pv-dJSZ9N"
      },
      "source": [
        "With the dataset and metrics ready, we just have two final things to take care of before we define the `Trainer` class:\n",
        "\n",
        "1. Log in to our account on the Hugging Face Hub. This will allow us to push our fine-tuned model to our account on the Hub and share it with the community.\n",
        "2. Define all the hyperparameters for the training run.\n",
        "\n",
        "We'll tackle these steps in the next section."
      ]
    },
    {
      "cell_type": "markdown",
      "metadata": {
        "id": "jCKjDowjSZ9N"
      },
      "source": [
        "#### Training the model"
      ]
    },
    {
      "cell_type": "markdown",
      "metadata": {
        "id": "sgsEqhIxSZ9N"
      },
      "source": [
        "If you're running this code in a Jupyter notebook, you can log in to the Hub with the following helper function:"
      ]
    },
    {
      "cell_type": "code",
      "execution_count": null,
      "metadata": {
        "id": "d0oZVgjVSZ9N"
      },
      "outputs": [],
      "source": [
        "from huggingface_hub import notebook_login\n",
        "\n",
        "notebook_login()"
      ]
    },
    {
      "cell_type": "markdown",
      "metadata": {
        "id": "Qj4yIsM9SZ9N"
      },
      "source": [
        "This will display a widget in which you can enter your username and password, or an access token with write privileges. You can find details on how to create access tokens in the [Hub documentation](https://huggingface.co/docs/hub/security#user-access-tokens). If you're working in the terminal, you can log in by running the following command:\n",
        "\n",
        "```bash\n",
        "$ huggingface-cli login\n",
        "```"
      ]
    },
    {
      "cell_type": "markdown",
      "metadata": {
        "id": "skVk61jaSZ9N"
      },
      "source": [
        "To define the training parameters, we use the `TrainingArguments` class. This class stores a lot of information and gives you fine-grained control over the training and evaluation. The most important argument to specify is `output_dir`, which is where all the artifacts from training are stored. Here is an example of `TrainingArguments` in all its glory:"
      ]
    },
    {
      "cell_type": "code",
      "execution_count": null,
      "metadata": {
        "id": "BpY-N0ZmSZ9N"
      },
      "outputs": [],
      "source": [
        "from transformers import Trainer, TrainingArguments\n",
        "\n",
        "batch_size = 64\n",
        "logging_steps = len(emotions_encoded[\"train\"]) // batch_size\n",
        "model_name = f\"{model_ckpt}-finetuned-emotion\"\n",
        "training_args = TrainingArguments(output_dir=model_name,\n",
        "                                  num_train_epochs=2,\n",
        "                                  learning_rate=2e-5,\n",
        "                                  per_device_train_batch_size=batch_size,\n",
        "                                  per_device_eval_batch_size=batch_size,\n",
        "                                  weight_decay=0.01,\n",
        "                                  evaluation_strategy=\"epoch\",\n",
        "                                  disable_tqdm=False,\n",
        "                                  logging_steps=logging_steps,\n",
        "                                  push_to_hub=True,\n",
        "                                  log_level=\"error\")"
      ]
    },
    {
      "cell_type": "markdown",
      "metadata": {
        "id": "xGZdiR29SZ9N"
      },
      "source": [
        "Here we also set the batch size, learning rate, and number of epochs, and specify to load the best model at the end of the training run. With this final ingredient, we can instantiate and fine-tune our model with the `Trainer`:"
      ]
    },
    {
      "cell_type": "code",
      "execution_count": null,
      "metadata": {
        "id": "_A6Wu3IXSZ9O",
        "outputId": "c7b3e164-123d-4a1d-f40a-41a624847f9a"
      },
      "outputs": [
        {
          "data": {
            "text/html": [
              "\n",
              "    <div>\n",
              "      \n",
              "      <progress value='500' max='500' style='width:300px; height:20px; vertical-align: middle;'></progress>\n",
              "      [500/500 01:48, Epoch 2/2]\n",
              "    </div>\n",
              "    <table border=\"1\" class=\"dataframe\">\n",
              "  <thead>\n",
              "    <tr style=\"text-align: left;\">\n",
              "      <th>Epoch</th>\n",
              "      <th>Training Loss</th>\n",
              "      <th>Validation Loss</th>\n",
              "      <th>Accuracy</th>\n",
              "      <th>F1</th>\n",
              "    </tr>\n",
              "  </thead>\n",
              "  <tbody>\n",
              "    <tr>\n",
              "      <td>1</td>\n",
              "      <td>0.840900</td>\n",
              "      <td>0.327445</td>\n",
              "      <td>0.896500</td>\n",
              "      <td>0.892285</td>\n",
              "    </tr>\n",
              "    <tr>\n",
              "      <td>2</td>\n",
              "      <td>0.255000</td>\n",
              "      <td>0.220472</td>\n",
              "      <td>0.922500</td>\n",
              "      <td>0.922550</td>\n",
              "    </tr>\n",
              "  </tbody>\n",
              "</table><p>"
            ],
            "text/plain": [
              "<IPython.core.display.HTML object>"
            ]
          },
          "metadata": {},
          "output_type": "display_data"
        }
      ],
      "source": [
        "from transformers import Trainer\n",
        "\n",
        "trainer = Trainer(model=model, args=training_args,\n",
        "                  compute_metrics=compute_metrics,\n",
        "                  train_dataset=emotions_encoded[\"train\"],\n",
        "                  eval_dataset=emotions_encoded[\"validation\"],\n",
        "                  tokenizer=tokenizer)\n",
        "trainer.train();"
      ]
    },
    {
      "cell_type": "markdown",
      "metadata": {
        "id": "6WFF8uMpSZ9O"
      },
      "source": [
        "Looking at the logs, we can see that our model has an $F_1$-score on the validation set of around 92% - this is a significant improvement over the feature-based approach!\n",
        "\n",
        "We can take a more detailed look at the training metrics by calculating the confusion matrix. To visualize the confusion matrix, we first need to get the predictions on the validation set. The `predict()` method of the `Trainer` class returns several useful objects we can use for evaluation:"
      ]
    },
    {
      "cell_type": "code",
      "execution_count": null,
      "metadata": {
        "id": "-9QvNhQgSZ9O",
        "outputId": "f89271db-504b-4c07-ae38-8f96fc230aac"
      },
      "outputs": [
        {
          "data": {
            "text/html": [
              "\n",
              "    <div>\n",
              "      \n",
              "      <progress value='32' max='32' style='width:300px; height:20px; vertical-align: middle;'></progress>\n",
              "      [32/32 00:01]\n",
              "    </div>\n",
              "    "
            ],
            "text/plain": [
              "<IPython.core.display.HTML object>"
            ]
          },
          "metadata": {},
          "output_type": "display_data"
        }
      ],
      "source": [
        "# hide_output\n",
        "preds_output = trainer.predict(emotions_encoded[\"validation\"])"
      ]
    },
    {
      "cell_type": "markdown",
      "metadata": {
        "id": "SaiccEQ2SZ9O"
      },
      "source": [
        "The output of the `predict()` method is a `PredictionOutput` object that contains arrays of `predictions` and `label_ids`, along with the metrics we passed to the trainer. For example, the metrics on the validation set can be accessed as follows:"
      ]
    },
    {
      "cell_type": "code",
      "execution_count": null,
      "metadata": {
        "id": "CCv2Ei45SZ9O",
        "outputId": "a6821a8c-6b53-4688-8f43-364ef2baa62a"
      },
      "outputs": [
        {
          "data": {
            "text/plain": [
              "{'test_loss': 0.22047173976898193,\n",
              " 'test_accuracy': 0.9225,\n",
              " 'test_f1': 0.9225500751072866,\n",
              " 'test_runtime': 1.6357,\n",
              " 'test_samples_per_second': 1222.725,\n",
              " 'test_steps_per_second': 19.564}"
            ]
          },
          "execution_count": null,
          "metadata": {},
          "output_type": "execute_result"
        }
      ],
      "source": [
        "preds_output.metrics"
      ]
    },
    {
      "cell_type": "markdown",
      "metadata": {
        "id": "8QkAxNeySZ9O"
      },
      "source": [
        "It also contains the raw predictions for each class. We can decode the predictions greedily using `np.argmax()`. This yields the predicted labels and has the same format as the labels returned by the Scikit-Learn models in the feature-based approach:"
      ]
    },
    {
      "cell_type": "code",
      "execution_count": null,
      "metadata": {
        "id": "rTscScHSSZ9O"
      },
      "outputs": [],
      "source": [
        "y_preds = np.argmax(preds_output.predictions, axis=1)"
      ]
    },
    {
      "cell_type": "markdown",
      "metadata": {
        "id": "n67Hy2kPSZ9O"
      },
      "source": [
        "With the predictions, we can plot the confusion matrix again:"
      ]
    },
    {
      "cell_type": "code",
      "execution_count": null,
      "metadata": {
        "id": "ovgdnwt-SZ9O",
        "outputId": "3ffa8aeb-f4e3-4bba-fd00-630b3ad48c0f"
      },
      "outputs": [
        {
          "data": {
            "application/pdf": "[encoded data removed]",
            "image/svg+xml": "<?xml version=\"1.0\" encoding=\"utf-8\" standalone=\"no\"?>\n<!DOCTYPE svg PUBLIC \"-//W3C//DTD SVG 1.1//EN\"\n  \"http://www.w3.org/Graphics/SVG/1.1/DTD/svg11.dtd\">\n<svg height=\"390.3305pt\" version=\"1.1\" viewBox=\"0 0 396.3425 390.3305\" width=\"396.3425pt\" xmlns=\"http://www.w3.org/2000/svg\" xmlns:xlink=\"http://www.w3.org/1999/xlink\">\n <metadata>\n  <rdf:RDF xmlns:cc=\"http://creativecommons.org/ns#\" xmlns:dc=\"http://purl.org/dc/elements/1.1/\" xmlns:rdf=\"http://www.w3.org/1999/02/22-rdf-syntax-ns#\">\n   <cc:Work>\n    <dc:type rdf:resource=\"http://purl.org/dc/dcmitype/StillImage\"/>\n    <dc:date>2021-12-07T11:59:17.791697</dc:date>\n    <dc:format>image/svg+xml</dc:format>\n    <dc:creator>\n     <cc:Agent>\n      <dc:title>Matplotlib v3.4.3, https://matplotlib.org/</dc:title>\n     </cc:Agent>\n    </dc:creator>\n   </cc:Work>\n  </rdf:RDF>\n </metadata>\n <defs>\n  <style type=\"text/css\">*{stroke-linecap:butt;stroke-linejoin:round;}</style>\n </defs>\n <g id=\"figure_1\">\n  <g id=\"patch_1\">\n   <path d=\"M 0 390.3305 \nL 396.3425 390.3305 \nL 396.3425 0 \nL 0 0 \nz\n\" style=\"fill:none;\"/>\n  </g>\n  <g id=\"axes_1\">\n   <g id=\"patch_2\">\n    <path d=\"M 62.9825 349.9305 \nL 389.1425 349.9305 \nL 389.1425 23.7705 \nL 62.9825 23.7705 \nz\n\" style=\"fill:#ffffff;\"/>\n   </g>\n   <g clip-path=\"url(#pc9634a6614)\">\n    <image height=\"327\" id=\"image6c6be2331e\" transform=\"scale(1 -1)translate(0 -327)\" width=\"327\" x=\"62.9825\" xlink:href=\"data:image/png;base64,\niVBORw0KGgoAAAANSUhEUgAAAUcAAAFHCAYAAAAySY5rAAAFE0lEQVR4nO3WPWpVURiG0ZybBIKVYJnOEQi2Fo7AzlGkDU5BELQRHIWFQ7ARwYEoFvEHY0hIvMcJPI3IZutlrRG8BzbP+Zbzq+26t4O+XVzPnjDM7VuHsycMsb9ZZk8Y5vP3y9kThrh/+mb2hGE2swcA/IvEESCII0AQR4AgjgBBHAGCOAIEcQQI4ggQxBEgiCNAEEeAII4AQRwBgjgCBHEECOIIEMQRIIgjQBBHgCCOAEEcAYI4AgRxBAjiCBDEESCII0AQR4AgjgBBHAGCOAIEcQQI4ggQxBEgiCNAEEeAII4AQRwBgjgCBHEECOIIEMQRIIgjQBBHgCCOAEEcAYI4AgRxBAjiCBDEESCII0AQR4AgjgBBHAHCcnZ+vc4eMcLR4f7sCcNsNsvsCUNcXN3MnjDM8eNXsycM8en1yewJw7gcAYI4AgRxBAjiCBDEESCII0AQR4AgjgBBHAGCOAIEcQQI4ggQxBEgiCNAEEeAII4AQRwBgjgCBHEECOIIEMQRIIgjQBBHgCCOAEEcAYI4AgRxBAjiCBDEESCII0AQR4AgjgBBHAGCOAIEcQQI4ggQxBEgiCNAEEeAII4AQRwBgjgCBHEECOIIEMQRIIgjQBBHgCCOAEEcAYI4AgRxBAjiCBDEESAcHOzvZh+36zp7wjCbvWX2hCGOHz6ZPWGYs3fPZ08YYrPZzbe4t+dyBEjiCBDEESCII0AQR4AgjgBBHAGCOAIEcQQI4ggQxBEgiCNAEEeAII4AQRwBgjgCBHEECOIIEMQRIIgjQBBHgCCOAEEcAYI4AgRxBAjiCBDEESCII0AQR4AgjgBBHAGCOAIEcQQI4ggQxBEgiCNAEEeAII4AQRwBgjgCBHEECOIIEMQRIIgjQBBHgCCOAEEcAYI4AgRxBAjiCBDEESCII0AQR4AgjgDhYLPMnjDGj8ub2ROGufvo6ewJQ3x9/2L2BP7Quq6zJwzjcgQI4ggQxBEgiCNAEEeAII4AQRwBgjgCBHEECOIIEMQRIIgjQBBHgCCOAEEcAYI4AgRxBAjiCBDEESCII0AQR4AgjgBBHAGCOAIEcQQI4ggQxBEgiCNAEEeAII4AQRwBgjgCBHEECOIIEMQRIIgjQBBHgCCOAEEcAYI4AgRxBAjiCBDEESCII0AQR4AgjgBBHAGCOAIEcQQI4ggQxBEgiCNAEEeAsPy82q6zR4xw58Hp7AnDfHz7bPaEIY4O/av/N8uyzJ4wjNcIEMQRIIgjQBBHgCCOAEEcAYI4AgRxBAjiCBDEESCII0AQR4AgjgBBHAGCOAIEcQQI4ggQxBEgiCNAEEeAII4AQRwBgjgCBHEECOIIEMQRIIgjQBBHgCCOAEEcAYI4AgRxBAjiCBDEESCII0AQR4AgjgBBHAGCOAIEcQQI4ggQxBEgiCNAEEeAII4AQRwBgjgCBHEECOIIEMQRIIgjQBBHgCCOAEEcAcJydO9knT1ihC8fXs6eMMyyLLMnDHHzazt7An/oYH9376vd/TKAvyCOAEEcAYI4AgRxBAjiCBDEESCII0AQR4AgjgBBHAGCOAIEcQQI4ggQxBEgiCNAEEeAII4AQRwBgjgCBHEECOIIEMQRIIgjQBBHgCCOAEEcAYI4AgRxBAjiCBDEESCII0AQR4AgjgBBHAGCOAIEcQQI4ggQxBEgiCNAEEeAII4AQRwBgjgCBHEECOIIEMQRIIgjQBBHgCCOAEEcAYI4AgRxBAi/AWIRNKaI+vAvAAAAAElFTkSuQmCC\" y=\"-22.9305\"/>\n   </g>\n   <g id=\"matplotlib.axis_1\">\n    <g id=\"xtick_1\">\n     <g id=\"line2d_1\">\n      <defs>\n       <path d=\"M 0 0 \nL 0 3.5 \n\" id=\"me546b011c1\" style=\"stroke:#000000;stroke-width:0.8;\"/>\n      </defs>\n      <g>\n       <use style=\"stroke:#000000;stroke-width:0.8;\" x=\"90.1625\" xlink:href=\"#me546b011c1\" y=\"349.9305\"/>\n      </g>\n     </g>\n     <g id=\"text_1\">\n      <!-- sadness -->\n      <g transform=\"translate(73.374687 365.73925)scale(0.12 -0.12)\">\n       <defs>\n        <path d=\"M 992 -51 \nC 1658 -51 2054 307 2054 947 \nC 2054 1485 1818 1709 1306 1888 \nL 1050 1978 \nC 768 2074 659 2195 659 2451 \nC 659 2771 864 2893 1222 2893 \nC 1517 2893 1760 2810 1914 2739 \nL 1914 3168 \nC 1773 3251 1568 3334 1197 3334 \nC 531 3334 160 2982 160 2406 \nC 160 1901 422 1658 826 1517 \nL 1082 1427 \nC 1408 1312 1536 1184 1536 896 \nC 1536 582 1370 390 934 390 \nC 582 390 358 480 154 563 \nL 154 141 \nC 358 19 640 -51 992 -51 \nz\n\" id=\"GuardianSansCond-Regular-73\" transform=\"scale(0.015625)\"/>\n        <path d=\"M 1082 -51 \nC 1395 -51 1638 77 1779 230 \nL 1811 230 \nL 1862 0 \nL 2291 0 \nL 2291 2413 \nC 2291 3027 1958 3334 1293 3334 \nC 915 3334 634 3258 410 3155 \nL 410 2771 \nC 576 2829 806 2886 1094 2886 \nC 1600 2886 1766 2739 1766 2278 \nL 1766 1958 \nL 1088 1856 \nC 480 1766 160 1466 160 883 \nC 160 250 525 -51 1082 -51 \nz\nM 1222 358 \nC 877 358 704 544 704 915 \nC 704 1274 877 1440 1242 1485 \nL 1766 1549 \nL 1766 525 \nC 1658 435 1459 358 1222 358 \nz\n\" id=\"GuardianSansCond-Regular-61\" transform=\"scale(0.015625)\"/>\n        <path d=\"M 1357 -51 \nC 1690 -51 1965 77 2125 243 \nL 2150 243 \nL 2195 0 \nL 2637 0 \nL 2637 4698 \nL 2118 4698 \nL 2118 3174 \nC 1978 3264 1734 3334 1466 3334 \nC 634 3334 198 2739 198 1670 \nL 198 1523 \nC 198 339 723 -51 1357 -51 \nz\nM 1504 378 \nC 992 378 742 749 742 1542 \nL 742 1728 \nC 742 2541 979 2893 1536 2893 \nC 1779 2893 2003 2835 2118 2758 \nL 2118 595 \nC 1984 493 1773 378 1504 378 \nz\n\" id=\"GuardianSansCond-Regular-64\" transform=\"scale(0.015625)\"/>\n        <path d=\"M 346 0 \nL 870 0 \nL 870 2688 \nC 1037 2778 1306 2886 1587 2886 \nC 1965 2886 2093 2765 2093 2458 \nL 2093 0 \nL 2611 0 \nL 2611 2528 \nC 2611 3085 2342 3334 1811 3334 \nC 1440 3334 1107 3194 870 3021 \nL 845 3021 \nL 845 3283 \nL 346 3283 \nL 346 0 \nz\n\" id=\"GuardianSansCond-Regular-6e\" transform=\"scale(0.015625)\"/>\n        <path d=\"M 1555 -51 \nC 1984 -51 2317 102 2470 243 \nL 2470 627 \nC 2240 499 1965 397 1613 397 \nC 1037 397 742 698 723 1466 \nL 2554 1466 \nL 2554 1798 \nC 2554 2893 2176 3334 1402 3334 \nC 659 3334 186 2810 186 1722 \nL 186 1549 \nC 186 499 634 -51 1555 -51 \nz\nM 1382 2906 \nC 1830 2906 2010 2611 2010 1894 \nL 723 1894 \nC 736 2630 992 2906 1382 2906 \nz\n\" id=\"GuardianSansCond-Regular-65\" transform=\"scale(0.015625)\"/>\n       </defs>\n       <use xlink:href=\"#GuardianSansCond-Regular-73\"/>\n       <use x=\"34.499985\" xlink:href=\"#GuardianSansCond-Regular-61\"/>\n       <use x=\"75.399979\" xlink:href=\"#GuardianSansCond-Regular-64\"/>\n       <use x=\"121.999969\" xlink:href=\"#GuardianSansCond-Regular-6e\"/>\n       <use x=\"168.09996\" xlink:href=\"#GuardianSansCond-Regular-65\"/>\n       <use x=\"210.799957\" xlink:href=\"#GuardianSansCond-Regular-73\"/>\n       <use x=\"245.299942\" xlink:href=\"#GuardianSansCond-Regular-73\"/>\n      </g>\n     </g>\n    </g>\n    <g id=\"xtick_2\">\n     <g id=\"line2d_2\">\n      <g>\n       <use style=\"stroke:#000000;stroke-width:0.8;\" x=\"144.5225\" xlink:href=\"#me546b011c1\" y=\"349.9305\"/>\n      </g>\n     </g>\n     <g id=\"text_2\">\n      <!-- joy -->\n      <g transform=\"translate(138.150312 365.666125)scale(0.12 -0.12)\">\n       <defs>\n        <path d=\"M 83 -1261 \nC 666 -1261 870 -870 870 -352 \nL 870 3283 \nL 352 3283 \nL 352 -326 \nC 352 -678 218 -826 -58 -826 \nC -160 -826 -262 -806 -339 -794 \nL -339 -1158 \nC -237 -1222 -109 -1261 83 -1261 \nz\nM 346 3910 \nL 877 3910 \nL 877 4474 \nL 346 4474 \nL 346 3910 \nz\n\" id=\"GuardianSansCond-Regular-6a\" transform=\"scale(0.015625)\"/>\n        <path d=\"M 1459 -51 \nC 2272 -51 2733 570 2733 1542 \nL 2733 1747 \nC 2733 2771 2291 3334 1459 3334 \nC 659 3334 186 2714 186 1741 \nL 186 1530 \nC 186 531 614 -51 1459 -51 \nz\nM 1466 378 \nC 992 378 723 762 723 1472 \nL 723 1818 \nC 723 2451 947 2906 1453 2906 \nC 1920 2906 2195 2560 2195 1805 \nL 2195 1466 \nC 2195 826 1958 378 1466 378 \nz\n\" id=\"GuardianSansCond-Regular-6f\" transform=\"scale(0.015625)\"/>\n        <path d=\"M 570 -1261 \nC 1082 -1261 1306 -960 1485 -365 \nL 2592 3283 \nL 2067 3283 \nL 1485 1197 \nC 1421 992 1376 787 1376 787 \nL 1363 787 \nC 1363 787 1331 928 1248 1203 \nL 621 3283 \nL 51 3283 \nL 1120 13 \nL 1018 -294 \nC 896 -698 749 -826 480 -826 \nC 384 -826 262 -813 186 -800 \nL 186 -1171 \nC 282 -1222 435 -1261 570 -1261 \nz\n\" id=\"GuardianSansCond-Regular-79\" transform=\"scale(0.015625)\"/>\n       </defs>\n       <use xlink:href=\"#GuardianSansCond-Regular-6a\"/>\n       <use x=\"19.199997\" xlink:href=\"#GuardianSansCond-Regular-6f\"/>\n       <use x=\"64.799988\" xlink:href=\"#GuardianSansCond-Regular-79\"/>\n      </g>\n     </g>\n    </g>\n    <g id=\"xtick_3\">\n     <g id=\"line2d_3\">\n      <g>\n       <use style=\"stroke:#000000;stroke-width:0.8;\" x=\"198.8825\" xlink:href=\"#me546b011c1\" y=\"349.9305\"/>\n      </g>\n     </g>\n     <g id=\"text_3\">\n      <!-- love -->\n      <g transform=\"translate(189.9125 365.73925)scale(0.12 -0.12)\">\n       <defs>\n        <path d=\"M 358 0 \nL 877 0 \nL 877 4698 \nL 358 4698 \nL 358 0 \nz\n\" id=\"GuardianSansCond-Regular-6c\" transform=\"scale(0.015625)\"/>\n        <path d=\"M 1075 0 \nL 1613 0 \nL 2605 3283 \nL 2093 3283 \nL 1504 1190 \nC 1421 870 1370 653 1370 653 \nL 1344 653 \nC 1344 653 1299 877 1216 1190 \nL 627 3283 \nL 70 3283 \nL 1075 0 \nz\n\" id=\"GuardianSansCond-Regular-76\" transform=\"scale(0.015625)\"/>\n       </defs>\n       <use xlink:href=\"#GuardianSansCond-Regular-6c\"/>\n       <use x=\"19.299988\" xlink:href=\"#GuardianSansCond-Regular-6f\"/>\n       <use x=\"64.899979\" xlink:href=\"#GuardianSansCond-Regular-76\"/>\n       <use x=\"106.799973\" xlink:href=\"#GuardianSansCond-Regular-65\"/>\n      </g>\n     </g>\n    </g>\n    <g id=\"xtick_4\">\n     <g id=\"line2d_4\">\n      <g>\n       <use style=\"stroke:#000000;stroke-width:0.8;\" x=\"253.2425\" xlink:href=\"#me546b011c1\" y=\"349.9305\"/>\n      </g>\n     </g>\n     <g id=\"text_4\">\n      <!-- anger -->\n      <g transform=\"translate(241.170312 365.714875)scale(0.12 -0.12)\">\n       <defs>\n        <path d=\"M 1325 -1235 \nC 2240 -1235 2675 -787 2675 -179 \nC 2675 416 2336 704 1696 704 \nL 1069 704 \nC 858 704 774 806 774 966 \nC 774 1069 826 1178 890 1242 \nC 1018 1197 1171 1178 1331 1178 \nC 1939 1178 2413 1530 2413 2208 \nL 2413 2304 \nC 2413 2560 2336 2739 2234 2874 \nL 2682 2874 \nL 2682 3283 \nL 1747 3283 \nC 1626 3315 1485 3334 1325 3334 \nC 704 3334 250 2944 250 2278 \nL 250 2182 \nC 250 1786 429 1510 634 1376 \nC 422 1210 294 1024 294 787 \nC 294 544 442 403 627 333 \nL 627 307 \nC 320 192 64 -38 64 -422 \nC 64 -915 506 -1235 1325 -1235 \nz\nM 1312 -819 \nC 832 -819 595 -640 595 -326 \nC 595 -51 762 141 966 218 \nL 1632 218 \nC 2022 218 2150 45 2150 -237 \nC 2150 -602 1926 -819 1312 -819 \nz\nM 1331 1581 \nC 998 1581 762 1773 762 2189 \nL 762 2323 \nC 762 2726 973 2931 1331 2931 \nC 1670 2931 1901 2746 1901 2310 \nL 1901 2176 \nC 1901 1779 1683 1581 1331 1581 \nz\n\" id=\"GuardianSansCond-Regular-67\" transform=\"scale(0.015625)\"/>\n        <path d=\"M 346 0 \nL 870 0 \nL 870 2605 \nC 1062 2752 1306 2842 1587 2842 \nC 1638 2842 1728 2835 1786 2829 \nL 1786 3302 \nC 1747 3315 1677 3328 1606 3328 \nC 1306 3328 1030 3142 870 2938 \nL 845 2938 \nL 845 3283 \nL 346 3283 \nL 346 0 \nz\n\" id=\"GuardianSansCond-Regular-72\" transform=\"scale(0.015625)\"/>\n       </defs>\n       <use xlink:href=\"#GuardianSansCond-Regular-61\"/>\n       <use x=\"40.899994\" xlink:href=\"#GuardianSansCond-Regular-6e\"/>\n       <use x=\"86.999985\" xlink:href=\"#GuardianSansCond-Regular-67\"/>\n       <use x=\"129.699982\" xlink:href=\"#GuardianSansCond-Regular-65\"/>\n       <use x=\"172.399979\" xlink:href=\"#GuardianSansCond-Regular-72\"/>\n      </g>\n     </g>\n    </g>\n    <g id=\"xtick_5\">\n     <g id=\"line2d_5\">\n      <g>\n       <use style=\"stroke:#000000;stroke-width:0.8;\" x=\"307.6025\" xlink:href=\"#me546b011c1\" y=\"349.9305\"/>\n      </g>\n     </g>\n     <g id=\"text_5\">\n      <!-- fear -->\n      <g transform=\"translate(299.255937 365.73925)scale(0.12 -0.12)\">\n       <defs>\n        <path d=\"M 493 0 \nL 1018 0 \nL 1018 2848 \nL 1626 2848 \nL 1626 3283 \nL 1018 3283 \nL 1018 3712 \nC 1018 4115 1146 4307 1478 4307 \nC 1632 4307 1754 4282 1837 4262 \nL 1837 4640 \nC 1747 4685 1587 4742 1363 4742 \nC 826 4742 493 4429 493 3757 \nL 493 3283 \nL 96 3283 \nL 96 2848 \nL 493 2848 \nL 493 0 \nz\n\" id=\"GuardianSansCond-Regular-66\" transform=\"scale(0.015625)\"/>\n       </defs>\n       <use xlink:href=\"#GuardianSansCond-Regular-66\"/>\n       <use x=\"26.699997\" xlink:href=\"#GuardianSansCond-Regular-65\"/>\n       <use x=\"69.399994\" xlink:href=\"#GuardianSansCond-Regular-61\"/>\n       <use x=\"110.299988\" xlink:href=\"#GuardianSansCond-Regular-72\"/>\n      </g>\n     </g>\n    </g>\n    <g id=\"xtick_6\">\n     <g id=\"line2d_6\">\n      <g>\n       <use style=\"stroke:#000000;stroke-width:0.8;\" x=\"361.9625\" xlink:href=\"#me546b011c1\" y=\"349.9305\"/>\n      </g>\n     </g>\n     <g id=\"text_6\">\n      <!-- surprise -->\n      <g transform=\"translate(345.12125 365.73925)scale(0.12 -0.12)\">\n       <defs>\n        <path d=\"M 1158 -51 \nC 1523 -51 1824 109 2042 262 \nL 2067 262 \nL 2118 0 \nL 2566 0 \nL 2566 3283 \nL 2042 3283 \nL 2042 602 \nC 1888 512 1626 397 1350 397 \nC 947 397 858 557 858 838 \nL 858 3283 \nL 333 3283 \nL 333 826 \nC 333 301 576 -51 1158 -51 \nz\n\" id=\"GuardianSansCond-Regular-75\" transform=\"scale(0.015625)\"/>\n        <path d=\"M 346 -1222 \nL 870 -1222 \nL 870 128 \nC 1005 38 1242 -51 1542 -51 \nC 2374 -51 2784 525 2784 1600 \nL 2784 1818 \nC 2784 2912 2342 3334 1670 3334 \nC 1318 3334 1030 3187 870 3034 \nL 845 3034 \nL 845 3283 \nL 346 3283 \nL 346 -1222 \nz\nM 1466 378 \nC 1210 378 973 461 870 538 \nL 870 2688 \nC 992 2784 1229 2893 1523 2893 \nC 2035 2893 2246 2573 2246 1798 \nL 2246 1549 \nC 2246 742 2003 378 1466 378 \nz\n\" id=\"GuardianSansCond-Regular-70\" transform=\"scale(0.015625)\"/>\n        <path d=\"M 358 0 \nL 883 0 \nL 883 3283 \nL 358 3283 \nL 358 0 \nz\nM 352 3910 \nL 883 3910 \nL 883 4474 \nL 352 4474 \nL 352 3910 \nz\n\" id=\"GuardianSansCond-Regular-69\" transform=\"scale(0.015625)\"/>\n       </defs>\n       <use xlink:href=\"#GuardianSansCond-Regular-73\"/>\n       <use x=\"34.499985\" xlink:href=\"#GuardianSansCond-Regular-75\"/>\n       <use x=\"79.999969\" xlink:href=\"#GuardianSansCond-Regular-72\"/>\n       <use x=\"108.799957\" xlink:href=\"#GuardianSansCond-Regular-70\"/>\n       <use x=\"155.399948\" xlink:href=\"#GuardianSansCond-Regular-72\"/>\n       <use x=\"184.199936\" xlink:href=\"#GuardianSansCond-Regular-69\"/>\n       <use x=\"203.499924\" xlink:href=\"#GuardianSansCond-Regular-73\"/>\n       <use x=\"237.999908\" xlink:href=\"#GuardianSansCond-Regular-65\"/>\n      </g>\n     </g>\n    </g>\n    <g id=\"text_7\">\n     <!-- Predicted label -->\n     <g transform=\"translate(194.557813 380.83925)scale(0.12 -0.12)\">\n      <defs>\n       <path d=\"M 416 0 \nL 954 0 \nL 954 1766 \nL 1555 1766 \nC 2362 1766 2854 2246 2854 3117 \nC 2854 4026 2413 4435 1536 4435 \nL 416 4435 \nL 416 0 \nz\nM 954 2221 \nL 954 3974 \nL 1478 3974 \nC 2061 3974 2285 3750 2285 3098 \nC 2285 2496 2054 2221 1472 2221 \nL 954 2221 \nz\n\" id=\"GuardianSansCond-Regular-50\" transform=\"scale(0.015625)\"/>\n       <path d=\"M 1498 -51 \nC 1869 -51 2125 51 2298 173 \nL 2298 595 \nC 2163 518 1907 390 1555 390 \nC 1005 390 723 704 723 1542 \nL 723 1798 \nC 723 2464 941 2893 1510 2893 \nC 1856 2893 2054 2803 2259 2714 \nL 2259 3149 \nC 2093 3258 1875 3334 1542 3334 \nC 768 3334 186 2886 186 1741 \nL 186 1536 \nC 186 416 685 -51 1498 -51 \nz\n\" id=\"GuardianSansCond-Regular-63\" transform=\"scale(0.015625)\"/>\n       <path d=\"M 1222 -38 \nC 1466 -38 1619 26 1722 90 \nL 1722 442 \nC 1632 416 1517 390 1382 390 \nC 1107 390 1005 480 1005 781 \nL 1005 2848 \nL 1683 2848 \nL 1683 3283 \nL 1005 3283 \nL 1005 4051 \nL 486 4051 \nL 486 3283 \nL 96 3283 \nL 96 2848 \nL 486 2848 \nL 486 710 \nC 486 160 774 -38 1222 -38 \nz\n\" id=\"GuardianSansCond-Regular-74\" transform=\"scale(0.015625)\"/>\n       <path id=\"GuardianSansCond-Regular-20\" transform=\"scale(0.015625)\"/>\n       <path d=\"M 1382 -64 \nC 2317 -64 2784 531 2784 1619 \nL 2784 1843 \nC 2784 2995 2285 3334 1702 3334 \nC 1338 3334 1075 3219 896 3104 \nL 870 3104 \nL 870 4698 \nL 346 4698 \nL 346 102 \nC 557 19 1005 -64 1382 -64 \nz\nM 1408 378 \nC 1165 378 979 416 870 454 \nL 870 2733 \nC 992 2790 1216 2893 1491 2893 \nC 2003 2893 2246 2650 2246 1818 \nL 2246 1549 \nC 2246 627 1875 378 1408 378 \nz\n\" id=\"GuardianSansCond-Regular-62\" transform=\"scale(0.015625)\"/>\n      </defs>\n      <use xlink:href=\"#GuardianSansCond-Regular-50\"/>\n      <use x=\"46.999985\" xlink:href=\"#GuardianSansCond-Regular-72\"/>\n      <use x=\"75.799973\" xlink:href=\"#GuardianSansCond-Regular-65\"/>\n      <use x=\"118.499969\" xlink:href=\"#GuardianSansCond-Regular-64\"/>\n      <use x=\"165.09996\" xlink:href=\"#GuardianSansCond-Regular-69\"/>\n      <use x=\"184.399948\" xlink:href=\"#GuardianSansCond-Regular-63\"/>\n      <use x=\"222.199936\" xlink:href=\"#GuardianSansCond-Regular-74\"/>\n      <use x=\"251.199921\" xlink:href=\"#GuardianSansCond-Regular-65\"/>\n      <use x=\"293.899918\" xlink:href=\"#GuardianSansCond-Regular-64\"/>\n      <use x=\"340.499908\" xlink:href=\"#GuardianSansCond-Regular-20\"/>\n      <use x=\"356.299896\" xlink:href=\"#GuardianSansCond-Regular-6c\"/>\n      <use x=\"375.599884\" xlink:href=\"#GuardianSansCond-Regular-61\"/>\n      <use x=\"416.499878\" xlink:href=\"#GuardianSansCond-Regular-62\"/>\n      <use x=\"463.099869\" xlink:href=\"#GuardianSansCond-Regular-65\"/>\n      <use x=\"505.799866\" xlink:href=\"#GuardianSansCond-Regular-6c\"/>\n     </g>\n    </g>\n   </g>\n   <g id=\"matplotlib.axis_2\">\n    <g id=\"ytick_1\">\n     <g id=\"line2d_7\">\n      <defs>\n       <path d=\"M 0 0 \nL -3.5 0 \n\" id=\"m2d67810c5f\" style=\"stroke:#000000;stroke-width:0.8;\"/>\n      </defs>\n      <g>\n       <use style=\"stroke:#000000;stroke-width:0.8;\" x=\"62.9825\" xlink:href=\"#m2d67810c5f\" y=\"50.9505\"/>\n      </g>\n     </g>\n     <g id=\"text_8\">\n      <!-- sadness -->\n      <g transform=\"translate(22.406875 55.354875)scale(0.12 -0.12)\">\n       <use xlink:href=\"#GuardianSansCond-Regular-73\"/>\n       <use x=\"34.499985\" xlink:href=\"#GuardianSansCond-Regular-61\"/>\n       <use x=\"75.399979\" xlink:href=\"#GuardianSansCond-Regular-64\"/>\n       <use x=\"121.999969\" xlink:href=\"#GuardianSansCond-Regular-6e\"/>\n       <use x=\"168.09996\" xlink:href=\"#GuardianSansCond-Regular-65\"/>\n       <use x=\"210.799957\" xlink:href=\"#GuardianSansCond-Regular-73\"/>\n       <use x=\"245.299942\" xlink:href=\"#GuardianSansCond-Regular-73\"/>\n      </g>\n     </g>\n    </g>\n    <g id=\"ytick_2\">\n     <g id=\"line2d_8\">\n      <g>\n       <use style=\"stroke:#000000;stroke-width:0.8;\" x=\"62.9825\" xlink:href=\"#m2d67810c5f\" y=\"105.3105\"/>\n      </g>\n     </g>\n     <g id=\"text_9\">\n      <!-- joy -->\n      <g transform=\"translate(43.238125 109.678312)scale(0.12 -0.12)\">\n       <use xlink:href=\"#GuardianSansCond-Regular-6a\"/>\n       <use x=\"19.199997\" xlink:href=\"#GuardianSansCond-Regular-6f\"/>\n       <use x=\"64.799988\" xlink:href=\"#GuardianSansCond-Regular-79\"/>\n      </g>\n     </g>\n    </g>\n    <g id=\"ytick_3\">\n     <g id=\"line2d_9\">\n      <g>\n       <use style=\"stroke:#000000;stroke-width:0.8;\" x=\"62.9825\" xlink:href=\"#m2d67810c5f\" y=\"159.6705\"/>\n      </g>\n     </g>\n     <g id=\"text_10\">\n      <!-- love -->\n      <g transform=\"translate(38.0425 164.074875)scale(0.12 -0.12)\">\n       <use xlink:href=\"#GuardianSansCond-Regular-6c\"/>\n       <use x=\"19.299988\" xlink:href=\"#GuardianSansCond-Regular-6f\"/>\n       <use x=\"64.899979\" xlink:href=\"#GuardianSansCond-Regular-76\"/>\n       <use x=\"106.799973\" xlink:href=\"#GuardianSansCond-Regular-65\"/>\n      </g>\n     </g>\n    </g>\n    <g id=\"ytick_4\">\n     <g id=\"line2d_10\">\n      <g>\n       <use style=\"stroke:#000000;stroke-width:0.8;\" x=\"62.9825\" xlink:href=\"#m2d67810c5f\" y=\"214.0305\"/>\n      </g>\n     </g>\n     <g id=\"text_11\">\n      <!-- anger -->\n      <g transform=\"translate(31.838125 218.422687)scale(0.12 -0.12)\">\n       <use xlink:href=\"#GuardianSansCond-Regular-61\"/>\n       <use x=\"40.899994\" xlink:href=\"#GuardianSansCond-Regular-6e\"/>\n       <use x=\"86.999985\" xlink:href=\"#GuardianSansCond-Regular-67\"/>\n       <use x=\"129.699982\" xlink:href=\"#GuardianSansCond-Regular-65\"/>\n       <use x=\"172.399979\" xlink:href=\"#GuardianSansCond-Regular-72\"/>\n      </g>\n     </g>\n    </g>\n    <g id=\"ytick_5\">\n     <g id=\"line2d_11\">\n      <g>\n       <use style=\"stroke:#000000;stroke-width:0.8;\" x=\"62.9825\" xlink:href=\"#m2d67810c5f\" y=\"268.3905\"/>\n      </g>\n     </g>\n     <g id=\"text_12\">\n      <!-- fear -->\n      <g transform=\"translate(39.289375 272.794875)scale(0.12 -0.12)\">\n       <use xlink:href=\"#GuardianSansCond-Regular-66\"/>\n       <use x=\"26.699997\" xlink:href=\"#GuardianSansCond-Regular-65\"/>\n       <use x=\"69.399994\" xlink:href=\"#GuardianSansCond-Regular-61\"/>\n       <use x=\"110.299988\" xlink:href=\"#GuardianSansCond-Regular-72\"/>\n      </g>\n     </g>\n    </g>\n    <g id=\"ytick_6\">\n     <g id=\"line2d_12\">\n      <g>\n       <use style=\"stroke:#000000;stroke-width:0.8;\" x=\"62.9825\" xlink:href=\"#m2d67810c5f\" y=\"322.7505\"/>\n      </g>\n     </g>\n     <g id=\"text_13\">\n      <!-- surprise -->\n      <g transform=\"translate(22.3 327.154875)scale(0.12 -0.12)\">\n       <use xlink:href=\"#GuardianSansCond-Regular-73\"/>\n       <use x=\"34.499985\" xlink:href=\"#GuardianSansCond-Regular-75\"/>\n       <use x=\"79.999969\" xlink:href=\"#GuardianSansCond-Regular-72\"/>\n       <use x=\"108.799957\" xlink:href=\"#GuardianSansCond-Regular-70\"/>\n       <use x=\"155.399948\" xlink:href=\"#GuardianSansCond-Regular-72\"/>\n       <use x=\"184.199936\" xlink:href=\"#GuardianSansCond-Regular-69\"/>\n       <use x=\"203.499924\" xlink:href=\"#GuardianSansCond-Regular-73\"/>\n       <use x=\"237.999908\" xlink:href=\"#GuardianSansCond-Regular-65\"/>\n      </g>\n     </g>\n    </g>\n    <g id=\"text_14\">\n     <!-- True label -->\n     <g transform=\"translate(16.00875 207.616125)rotate(-90)scale(0.12 -0.12)\">\n      <defs>\n       <path d=\"M 1152 0 \nL 1690 0 \nL 1690 3974 \nL 2746 3974 \nL 2746 4435 \nL 90 4435 \nL 90 3974 \nL 1152 3974 \nL 1152 0 \nz\n\" id=\"GuardianSansCond-Regular-54\" transform=\"scale(0.015625)\"/>\n      </defs>\n      <use xlink:href=\"#GuardianSansCond-Regular-54\"/>\n      <use x=\"44.499985\" xlink:href=\"#GuardianSansCond-Regular-72\"/>\n      <use x=\"73.299973\" xlink:href=\"#GuardianSansCond-Regular-75\"/>\n      <use x=\"118.799957\" xlink:href=\"#GuardianSansCond-Regular-65\"/>\n      <use x=\"161.499954\" xlink:href=\"#GuardianSansCond-Regular-20\"/>\n      <use x=\"177.299942\" xlink:href=\"#GuardianSansCond-Regular-6c\"/>\n      <use x=\"196.59993\" xlink:href=\"#GuardianSansCond-Regular-61\"/>\n      <use x=\"237.499924\" xlink:href=\"#GuardianSansCond-Regular-62\"/>\n      <use x=\"284.099915\" xlink:href=\"#GuardianSansCond-Regular-65\"/>\n      <use x=\"326.799911\" xlink:href=\"#GuardianSansCond-Regular-6c\"/>\n     </g>\n    </g>\n   </g>\n   <g id=\"patch_3\">\n    <path d=\"M 62.9825 349.9305 \nL 62.9825 23.7705 \n\" style=\"fill:none;stroke:#000000;stroke-linecap:square;stroke-linejoin:miter;stroke-width:0.8;\"/>\n   </g>\n   <g id=\"patch_4\">\n    <path d=\"M 389.1425 349.9305 \nL 389.1425 23.7705 \n\" style=\"fill:none;stroke:#000000;stroke-linecap:square;stroke-linejoin:miter;stroke-width:0.8;\"/>\n   </g>\n   <g id=\"patch_5\">\n    <path d=\"M 62.9825 349.9305 \nL 389.1425 349.9305 \n\" style=\"fill:none;stroke:#000000;stroke-linecap:square;stroke-linejoin:miter;stroke-width:0.8;\"/>\n   </g>\n   <g id=\"patch_6\">\n    <path d=\"M 62.9825 23.7705 \nL 389.1425 23.7705 \n\" style=\"fill:none;stroke:#000000;stroke-linecap:square;stroke-linejoin:miter;stroke-width:0.8;\"/>\n   </g>\n   <g id=\"text_15\">\n    <!-- 0.95 -->\n    <g style=\"fill:#f7fbff;\" transform=\"translate(80.196875 54.20925)scale(0.12 -0.12)\">\n     <defs>\n      <path d=\"M 1722 -70 \nC 2656 -70 3155 646 3155 2061 \nL 3155 2406 \nC 3155 3891 2598 4499 1715 4499 \nC 819 4499 269 3834 269 2368 \nL 269 2042 \nC 269 499 845 -70 1722 -70 \nz\nM 1728 384 \nC 1069 384 845 979 845 2016 \nL 845 2490 \nC 845 3494 1088 4051 1709 4051 \nC 2336 4051 2592 3514 2592 2458 \nL 2592 1978 \nC 2592 934 2374 384 1728 384 \nz\n\" id=\"GuardianSansCond-Regular-30\" transform=\"scale(0.015625)\"/>\n      <path d=\"M 397 0 \nL 986 0 \nL 986 621 \nL 397 621 \nL 397 0 \nz\n\" id=\"GuardianSansCond-Regular-2e\" transform=\"scale(0.015625)\"/>\n      <path d=\"M 1171 -70 \nC 2176 -70 2854 448 2854 2221 \nL 2854 2586 \nC 2854 3795 2432 4499 1523 4499 \nC 691 4499 243 3917 243 3021 \nC 243 2202 653 1683 1389 1683 \nC 1766 1683 2074 1818 2285 1984 \nC 2266 608 1798 397 1107 397 \nC 851 397 563 467 429 518 \nL 429 96 \nC 563 0 858 -70 1171 -70 \nz\nM 1542 2150 \nC 1056 2150 806 2445 806 3072 \nC 806 3712 1043 4045 1523 4045 \nC 2048 4045 2285 3558 2285 2592 \nL 2285 2374 \nC 2138 2272 1882 2150 1542 2150 \nz\n\" id=\"GuardianSansCond-Regular-39\" transform=\"scale(0.015625)\"/>\n      <path d=\"M 1094 -64 \nC 1971 -64 2445 512 2445 1363 \nC 2445 2298 1997 2707 1165 2707 \nC 1011 2707 890 2694 794 2675 \nL 877 3974 \nL 2342 3974 \nL 2342 4435 \nL 429 4435 \nL 294 2170 \nC 467 2208 710 2246 966 2246 \nC 1587 2246 1875 1990 1875 1363 \nC 1875 717 1587 397 954 397 \nC 627 397 365 474 154 582 \nL 154 147 \nC 352 26 672 -64 1094 -64 \nz\n\" id=\"GuardianSansCond-Regular-35\" transform=\"scale(0.015625)\"/>\n     </defs>\n     <use xlink:href=\"#GuardianSansCond-Regular-30\"/>\n     <use x=\"53.499985\" xlink:href=\"#GuardianSansCond-Regular-2e\"/>\n     <use x=\"75.099976\" xlink:href=\"#GuardianSansCond-Regular-39\"/>\n     <use x=\"123.999969\" xlink:href=\"#GuardianSansCond-Regular-35\"/>\n    </g>\n   </g>\n   <g id=\"text_16\">\n    <!-- 0.01 -->\n    <g style=\"fill:#08306b;\" transform=\"translate(135.079062 54.20925)scale(0.12 -0.12)\">\n     <defs>\n      <path d=\"M 832 0 \nL 1363 0 \nL 1363 4474 \nL 1171 4474 \nL 141 4083 \nL 141 3776 \nL 832 3846 \nL 832 0 \nz\n\" id=\"GuardianSansCond-Regular-31\" transform=\"scale(0.015625)\"/>\n     </defs>\n     <use xlink:href=\"#GuardianSansCond-Regular-30\"/>\n     <use x=\"53.499985\" xlink:href=\"#GuardianSansCond-Regular-2e\"/>\n     <use x=\"75.099976\" xlink:href=\"#GuardianSansCond-Regular-30\"/>\n     <use x=\"128.59996\" xlink:href=\"#GuardianSansCond-Regular-31\"/>\n    </g>\n   </g>\n   <g id=\"text_17\">\n    <!-- 0.00 -->\n    <g style=\"fill:#08306b;\" transform=\"translate(187.956875 54.20925)scale(0.12 -0.12)\">\n     <use xlink:href=\"#GuardianSansCond-Regular-30\"/>\n     <use x=\"53.499985\" xlink:href=\"#GuardianSansCond-Regular-2e\"/>\n     <use x=\"75.099976\" xlink:href=\"#GuardianSansCond-Regular-30\"/>\n     <use x=\"128.59996\" xlink:href=\"#GuardianSansCond-Regular-30\"/>\n    </g>\n   </g>\n   <g id=\"text_18\">\n    <!-- 0.02 -->\n    <g style=\"fill:#08306b;\" transform=\"translate(242.976875 54.20925)scale(0.12 -0.12)\">\n     <defs>\n      <path d=\"M 173 0 \nL 2470 0 \nL 2470 461 \nL 800 461 \nL 800 480 \nL 1574 1421 \nC 2067 2035 2419 2528 2419 3264 \nC 2419 4026 2029 4499 1222 4499 \nC 806 4499 499 4410 269 4282 \nL 269 3853 \nC 467 3949 730 4032 1056 4032 \nC 1619 4032 1850 3750 1850 3213 \nC 1850 2630 1542 2189 1152 1670 \nL 173 397 \nL 173 0 \nz\n\" id=\"GuardianSansCond-Regular-32\" transform=\"scale(0.015625)\"/>\n     </defs>\n     <use xlink:href=\"#GuardianSansCond-Regular-30\"/>\n     <use x=\"53.499985\" xlink:href=\"#GuardianSansCond-Regular-2e\"/>\n     <use x=\"75.099976\" xlink:href=\"#GuardianSansCond-Regular-30\"/>\n     <use x=\"128.59996\" xlink:href=\"#GuardianSansCond-Regular-32\"/>\n    </g>\n   </g>\n   <g id=\"text_19\">\n    <!-- 0.02 -->\n    <g style=\"fill:#08306b;\" transform=\"translate(297.336875 54.20925)scale(0.12 -0.12)\">\n     <use xlink:href=\"#GuardianSansCond-Regular-30\"/>\n     <use x=\"53.499985\" xlink:href=\"#GuardianSansCond-Regular-2e\"/>\n     <use x=\"75.099976\" xlink:href=\"#GuardianSansCond-Regular-30\"/>\n     <use x=\"128.59996\" xlink:href=\"#GuardianSansCond-Regular-32\"/>\n    </g>\n   </g>\n   <g id=\"text_20\">\n    <!-- 0.00 -->\n    <g style=\"fill:#08306b;\" transform=\"translate(351.036875 54.20925)scale(0.12 -0.12)\">\n     <use xlink:href=\"#GuardianSansCond-Regular-30\"/>\n     <use x=\"53.499985\" xlink:href=\"#GuardianSansCond-Regular-2e\"/>\n     <use x=\"75.099976\" xlink:href=\"#GuardianSansCond-Regular-30\"/>\n     <use x=\"128.59996\" xlink:href=\"#GuardianSansCond-Regular-30\"/>\n    </g>\n   </g>\n   <g id=\"text_21\">\n    <!-- 0.01 -->\n    <g style=\"fill:#08306b;\" transform=\"translate(80.719062 108.56925)scale(0.12 -0.12)\">\n     <use xlink:href=\"#GuardianSansCond-Regular-30\"/>\n     <use x=\"53.499985\" xlink:href=\"#GuardianSansCond-Regular-2e\"/>\n     <use x=\"75.099976\" xlink:href=\"#GuardianSansCond-Regular-30\"/>\n     <use x=\"128.59996\" xlink:href=\"#GuardianSansCond-Regular-31\"/>\n    </g>\n   </g>\n   <g id=\"text_22\">\n    <!-- 0.93 -->\n    <g style=\"fill:#f7fbff;\" transform=\"translate(134.550312 108.56925)scale(0.12 -0.12)\">\n     <defs>\n      <path d=\"M 1094 -64 \nC 1920 -64 2432 416 2432 1248 \nC 2432 1939 2112 2253 1606 2362 \nL 1606 2381 \nC 2042 2515 2310 2803 2310 3405 \nC 2310 4096 1882 4499 1158 4499 \nC 787 4499 486 4429 275 4320 \nL 275 3891 \nC 461 3968 678 4038 998 4038 \nC 1478 4038 1754 3866 1754 3302 \nC 1754 2797 1478 2547 1018 2547 \nL 717 2547 \nL 717 2086 \nL 1056 2086 \nC 1600 2086 1869 1837 1869 1267 \nC 1869 646 1517 403 947 403 \nC 646 403 358 493 147 608 \nL 147 166 \nC 358 32 640 -64 1094 -64 \nz\n\" id=\"GuardianSansCond-Regular-33\" transform=\"scale(0.015625)\"/>\n     </defs>\n     <use xlink:href=\"#GuardianSansCond-Regular-30\"/>\n     <use x=\"53.499985\" xlink:href=\"#GuardianSansCond-Regular-2e\"/>\n     <use x=\"75.099976\" xlink:href=\"#GuardianSansCond-Regular-39\"/>\n     <use x=\"123.999969\" xlink:href=\"#GuardianSansCond-Regular-33\"/>\n    </g>\n   </g>\n   <g id=\"text_23\">\n    <!-- 0.04 -->\n    <g style=\"fill:#08306b;\" transform=\"translate(188.3225 108.56925)scale(0.12 -0.12)\">\n     <defs>\n      <path d=\"M 1805 0 \nL 2330 0 \nL 2330 1107 \nL 2957 1107 \nL 2957 1562 \nL 2330 1562 \nL 2330 4435 \nL 1869 4435 \nL 70 1504 \nL 70 1107 \nL 1805 1107 \nL 1805 0 \nz\nM 608 1562 \nL 608 1581 \nL 1779 3475 \nL 1805 3475 \nL 1805 1562 \nL 608 1562 \nz\n\" id=\"GuardianSansCond-Regular-34\" transform=\"scale(0.015625)\"/>\n     </defs>\n     <use xlink:href=\"#GuardianSansCond-Regular-30\"/>\n     <use x=\"53.499985\" xlink:href=\"#GuardianSansCond-Regular-2e\"/>\n     <use x=\"75.099976\" xlink:href=\"#GuardianSansCond-Regular-30\"/>\n     <use x=\"128.59996\" xlink:href=\"#GuardianSansCond-Regular-34\"/>\n    </g>\n   </g>\n   <g id=\"text_24\">\n    <!-- 0.01 -->\n    <g style=\"fill:#08306b;\" transform=\"translate(243.799062 108.56925)scale(0.12 -0.12)\">\n     <use xlink:href=\"#GuardianSansCond-Regular-30\"/>\n     <use x=\"53.499985\" xlink:href=\"#GuardianSansCond-Regular-2e\"/>\n     <use x=\"75.099976\" xlink:href=\"#GuardianSansCond-Regular-30\"/>\n     <use x=\"128.59996\" xlink:href=\"#GuardianSansCond-Regular-31\"/>\n    </g>\n   </g>\n   <g id=\"text_25\">\n    <!-- 0.01 -->\n    <g style=\"fill:#08306b;\" transform=\"translate(298.159062 108.56925)scale(0.12 -0.12)\">\n     <use xlink:href=\"#GuardianSansCond-Regular-30\"/>\n     <use x=\"53.499985\" xlink:href=\"#GuardianSansCond-Regular-2e\"/>\n     <use x=\"75.099976\" xlink:href=\"#GuardianSansCond-Regular-30\"/>\n     <use x=\"128.59996\" xlink:href=\"#GuardianSansCond-Regular-31\"/>\n    </g>\n   </g>\n   <g id=\"text_26\">\n    <!-- 0.00 -->\n    <g style=\"fill:#08306b;\" transform=\"translate(351.036875 108.56925)scale(0.12 -0.12)\">\n     <use xlink:href=\"#GuardianSansCond-Regular-30\"/>\n     <use x=\"53.499985\" xlink:href=\"#GuardianSansCond-Regular-2e\"/>\n     <use x=\"75.099976\" xlink:href=\"#GuardianSansCond-Regular-30\"/>\n     <use x=\"128.59996\" xlink:href=\"#GuardianSansCond-Regular-30\"/>\n    </g>\n   </g>\n   <g id=\"text_27\">\n    <!-- 0.02 -->\n    <g style=\"fill:#08306b;\" transform=\"translate(79.896875 162.92925)scale(0.12 -0.12)\">\n     <use xlink:href=\"#GuardianSansCond-Regular-30\"/>\n     <use x=\"53.499985\" xlink:href=\"#GuardianSansCond-Regular-2e\"/>\n     <use x=\"75.099976\" xlink:href=\"#GuardianSansCond-Regular-30\"/>\n     <use x=\"128.59996\" xlink:href=\"#GuardianSansCond-Regular-32\"/>\n    </g>\n   </g>\n   <g id=\"text_28\">\n    <!-- 0.08 -->\n    <g style=\"fill:#08306b;\" transform=\"translate(133.8425 162.92925)scale(0.12 -0.12)\">\n     <defs>\n      <path d=\"M 1581 -64 \nC 2445 -64 2931 467 2931 1139 \nC 2931 1760 2592 2074 2106 2330 \nC 2490 2541 2822 2899 2822 3424 \nC 2822 4077 2394 4499 1606 4499 \nC 819 4499 384 4013 384 3398 \nC 384 2848 678 2509 1069 2285 \nC 602 2054 230 1683 230 1082 \nC 230 384 710 -64 1581 -64 \nz\nM 1587 390 \nC 1082 390 768 678 768 1126 \nC 768 1581 1037 1894 1414 2080 \nC 2029 1792 2387 1574 2387 1082 \nC 2387 614 2054 390 1587 390 \nz\nM 1754 2522 \nC 1210 2778 928 3021 928 3430 \nC 928 3821 1171 4051 1606 4051 \nC 2067 4051 2285 3782 2285 3398 \nC 2285 3008 2099 2765 1754 2522 \nz\n\" id=\"GuardianSansCond-Regular-38\" transform=\"scale(0.015625)\"/>\n     </defs>\n     <use xlink:href=\"#GuardianSansCond-Regular-30\"/>\n     <use x=\"53.499985\" xlink:href=\"#GuardianSansCond-Regular-2e\"/>\n     <use x=\"75.099976\" xlink:href=\"#GuardianSansCond-Regular-30\"/>\n     <use x=\"128.59996\" xlink:href=\"#GuardianSansCond-Regular-38\"/>\n    </g>\n   </g>\n   <g id=\"text_29\">\n    <!-- 0.90 -->\n    <g style=\"fill:#f7fbff;\" transform=\"translate(188.2325 162.92925)scale(0.12 -0.12)\">\n     <use xlink:href=\"#GuardianSansCond-Regular-30\"/>\n     <use x=\"53.499985\" xlink:href=\"#GuardianSansCond-Regular-2e\"/>\n     <use x=\"75.099976\" xlink:href=\"#GuardianSansCond-Regular-39\"/>\n     <use x=\"123.999969\" xlink:href=\"#GuardianSansCond-Regular-30\"/>\n    </g>\n   </g>\n   <g id=\"text_30\">\n    <!-- 0.00 -->\n    <g style=\"fill:#08306b;\" transform=\"translate(242.316875 162.92925)scale(0.12 -0.12)\">\n     <use xlink:href=\"#GuardianSansCond-Regular-30\"/>\n     <use x=\"53.499985\" xlink:href=\"#GuardianSansCond-Regular-2e\"/>\n     <use x=\"75.099976\" xlink:href=\"#GuardianSansCond-Regular-30\"/>\n     <use x=\"128.59996\" xlink:href=\"#GuardianSansCond-Regular-30\"/>\n    </g>\n   </g>\n   <g id=\"text_31\">\n    <!-- 0.00 -->\n    <g style=\"fill:#08306b;\" transform=\"translate(296.676875 162.92925)scale(0.12 -0.12)\">\n     <use xlink:href=\"#GuardianSansCond-Regular-30\"/>\n     <use x=\"53.499985\" xlink:href=\"#GuardianSansCond-Regular-2e\"/>\n     <use x=\"75.099976\" xlink:href=\"#GuardianSansCond-Regular-30\"/>\n     <use x=\"128.59996\" xlink:href=\"#GuardianSansCond-Regular-30\"/>\n    </g>\n   </g>\n   <g id=\"text_32\">\n    <!-- 0.01 -->\n    <g style=\"fill:#08306b;\" transform=\"translate(352.519062 162.92925)scale(0.12 -0.12)\">\n     <use xlink:href=\"#GuardianSansCond-Regular-30\"/>\n     <use x=\"53.499985\" xlink:href=\"#GuardianSansCond-Regular-2e\"/>\n     <use x=\"75.099976\" xlink:href=\"#GuardianSansCond-Regular-30\"/>\n     <use x=\"128.59996\" xlink:href=\"#GuardianSansCond-Regular-31\"/>\n    </g>\n   </g>\n   <g id=\"text_33\">\n    <!-- 0.03 -->\n    <g style=\"fill:#08306b;\" transform=\"translate(79.914687 217.28925)scale(0.12 -0.12)\">\n     <use xlink:href=\"#GuardianSansCond-Regular-30\"/>\n     <use x=\"53.499985\" xlink:href=\"#GuardianSansCond-Regular-2e\"/>\n     <use x=\"75.099976\" xlink:href=\"#GuardianSansCond-Regular-30\"/>\n     <use x=\"128.59996\" xlink:href=\"#GuardianSansCond-Regular-33\"/>\n    </g>\n   </g>\n   <g id=\"text_34\">\n    <!-- 0.02 -->\n    <g style=\"fill:#08306b;\" transform=\"translate(134.256875 217.28925)scale(0.12 -0.12)\">\n     <use xlink:href=\"#GuardianSansCond-Regular-30\"/>\n     <use x=\"53.499985\" xlink:href=\"#GuardianSansCond-Regular-2e\"/>\n     <use x=\"75.099976\" xlink:href=\"#GuardianSansCond-Regular-30\"/>\n     <use x=\"128.59996\" xlink:href=\"#GuardianSansCond-Regular-32\"/>\n    </g>\n   </g>\n   <g id=\"text_35\">\n    <!-- 0.00 -->\n    <g style=\"fill:#08306b;\" transform=\"translate(187.956875 217.28925)scale(0.12 -0.12)\">\n     <use xlink:href=\"#GuardianSansCond-Regular-30\"/>\n     <use x=\"53.499985\" xlink:href=\"#GuardianSansCond-Regular-2e\"/>\n     <use x=\"75.099976\" xlink:href=\"#GuardianSansCond-Regular-30\"/>\n     <use x=\"128.59996\" xlink:href=\"#GuardianSansCond-Regular-30\"/>\n    </g>\n   </g>\n   <g id=\"text_36\">\n    <!-- 0.94 -->\n    <g style=\"fill:#f7fbff;\" transform=\"translate(242.958125 217.28925)scale(0.12 -0.12)\">\n     <use xlink:href=\"#GuardianSansCond-Regular-30\"/>\n     <use x=\"53.499985\" xlink:href=\"#GuardianSansCond-Regular-2e\"/>\n     <use x=\"75.099976\" xlink:href=\"#GuardianSansCond-Regular-39\"/>\n     <use x=\"123.999969\" xlink:href=\"#GuardianSansCond-Regular-34\"/>\n    </g>\n   </g>\n   <g id=\"text_37\">\n    <!-- 0.01 -->\n    <g style=\"fill:#08306b;\" transform=\"translate(298.159062 217.28925)scale(0.12 -0.12)\">\n     <use xlink:href=\"#GuardianSansCond-Regular-30\"/>\n     <use x=\"53.499985\" xlink:href=\"#GuardianSansCond-Regular-2e\"/>\n     <use x=\"75.099976\" xlink:href=\"#GuardianSansCond-Regular-30\"/>\n     <use x=\"128.59996\" xlink:href=\"#GuardianSansCond-Regular-31\"/>\n    </g>\n   </g>\n   <g id=\"text_38\">\n    <!-- 0.00 -->\n    <g style=\"fill:#08306b;\" transform=\"translate(351.036875 217.28925)scale(0.12 -0.12)\">\n     <use xlink:href=\"#GuardianSansCond-Regular-30\"/>\n     <use x=\"53.499985\" xlink:href=\"#GuardianSansCond-Regular-2e\"/>\n     <use x=\"75.099976\" xlink:href=\"#GuardianSansCond-Regular-30\"/>\n     <use x=\"128.59996\" xlink:href=\"#GuardianSansCond-Regular-30\"/>\n    </g>\n   </g>\n   <g id=\"text_39\">\n    <!-- 0.05 -->\n    <g style=\"fill:#08306b;\" transform=\"translate(79.92125 271.64925)scale(0.12 -0.12)\">\n     <use xlink:href=\"#GuardianSansCond-Regular-30\"/>\n     <use x=\"53.499985\" xlink:href=\"#GuardianSansCond-Regular-2e\"/>\n     <use x=\"75.099976\" xlink:href=\"#GuardianSansCond-Regular-30\"/>\n     <use x=\"128.59996\" xlink:href=\"#GuardianSansCond-Regular-35\"/>\n    </g>\n   </g>\n   <g id=\"text_40\">\n    <!-- 0.01 -->\n    <g style=\"fill:#08306b;\" transform=\"translate(135.079062 271.64925)scale(0.12 -0.12)\">\n     <use xlink:href=\"#GuardianSansCond-Regular-30\"/>\n     <use x=\"53.499985\" xlink:href=\"#GuardianSansCond-Regular-2e\"/>\n     <use x=\"75.099976\" xlink:href=\"#GuardianSansCond-Regular-30\"/>\n     <use x=\"128.59996\" xlink:href=\"#GuardianSansCond-Regular-31\"/>\n    </g>\n   </g>\n   <g id=\"text_41\">\n    <!-- 0.00 -->\n    <g style=\"fill:#08306b;\" transform=\"translate(187.956875 271.64925)scale(0.12 -0.12)\">\n     <use xlink:href=\"#GuardianSansCond-Regular-30\"/>\n     <use x=\"53.499985\" xlink:href=\"#GuardianSansCond-Regular-2e\"/>\n     <use x=\"75.099976\" xlink:href=\"#GuardianSansCond-Regular-30\"/>\n     <use x=\"128.59996\" xlink:href=\"#GuardianSansCond-Regular-30\"/>\n    </g>\n   </g>\n   <g id=\"text_42\">\n    <!-- 0.05 -->\n    <g style=\"fill:#08306b;\" transform=\"translate(243.00125 271.64925)scale(0.12 -0.12)\">\n     <use xlink:href=\"#GuardianSansCond-Regular-30\"/>\n     <use x=\"53.499985\" xlink:href=\"#GuardianSansCond-Regular-2e\"/>\n     <use x=\"75.099976\" xlink:href=\"#GuardianSansCond-Regular-30\"/>\n     <use x=\"128.59996\" xlink:href=\"#GuardianSansCond-Regular-35\"/>\n    </g>\n   </g>\n   <g id=\"text_43\">\n    <!-- 0.86 -->\n    <g style=\"fill:#f7fbff;\" transform=\"translate(297.198125 271.64925)scale(0.12 -0.12)\">\n     <defs>\n      <path d=\"M 1632 384 \nC 1082 384 845 915 845 1837 \nL 845 2054 \nC 992 2150 1254 2278 1594 2278 \nC 2086 2278 2323 1984 2323 1357 \nC 2323 742 2086 384 1632 384 \nz\nM 1632 -70 \nC 2438 -70 2886 544 2886 1408 \nC 2886 2234 2490 2746 1754 2746 \nC 1363 2746 1056 2611 845 2445 \nC 877 3853 1440 4038 2029 4038 \nC 2291 4038 2554 3974 2688 3930 \nL 2688 4352 \nC 2547 4442 2272 4499 1958 4499 \nC 1043 4499 275 3981 275 2208 \nL 275 1843 \nC 275 691 717 -70 1632 -70 \nz\n\" id=\"GuardianSansCond-Regular-36\" transform=\"scale(0.015625)\"/>\n     </defs>\n     <use xlink:href=\"#GuardianSansCond-Regular-30\"/>\n     <use x=\"53.499985\" xlink:href=\"#GuardianSansCond-Regular-2e\"/>\n     <use x=\"75.099976\" xlink:href=\"#GuardianSansCond-Regular-38\"/>\n     <use x=\"124.499969\" xlink:href=\"#GuardianSansCond-Regular-36\"/>\n    </g>\n   </g>\n   <g id=\"text_44\">\n    <!-- 0.04 -->\n    <g style=\"fill:#08306b;\" transform=\"translate(351.4025 271.64925)scale(0.12 -0.12)\">\n     <use xlink:href=\"#GuardianSansCond-Regular-30\"/>\n     <use x=\"53.499985\" xlink:href=\"#GuardianSansCond-Regular-2e\"/>\n     <use x=\"75.099976\" xlink:href=\"#GuardianSansCond-Regular-30\"/>\n     <use x=\"128.59996\" xlink:href=\"#GuardianSansCond-Regular-34\"/>\n    </g>\n   </g>\n   <g id=\"text_45\">\n    <!-- 0.01 -->\n    <g style=\"fill:#08306b;\" transform=\"translate(80.719062 326.00925)scale(0.12 -0.12)\">\n     <use xlink:href=\"#GuardianSansCond-Regular-30\"/>\n     <use x=\"53.499985\" xlink:href=\"#GuardianSansCond-Regular-2e\"/>\n     <use x=\"75.099976\" xlink:href=\"#GuardianSansCond-Regular-30\"/>\n     <use x=\"128.59996\" xlink:href=\"#GuardianSansCond-Regular-31\"/>\n    </g>\n   </g>\n   <g id=\"text_46\">\n    <!-- 0.09 -->\n    <g style=\"fill:#08306b;\" transform=\"translate(133.8725 326.00925)scale(0.12 -0.12)\">\n     <use xlink:href=\"#GuardianSansCond-Regular-30\"/>\n     <use x=\"53.499985\" xlink:href=\"#GuardianSansCond-Regular-2e\"/>\n     <use x=\"75.099976\" xlink:href=\"#GuardianSansCond-Regular-30\"/>\n     <use x=\"128.59996\" xlink:href=\"#GuardianSansCond-Regular-39\"/>\n    </g>\n   </g>\n   <g id=\"text_47\">\n    <!-- 0.01 -->\n    <g style=\"fill:#08306b;\" transform=\"translate(189.439063 326.00925)scale(0.12 -0.12)\">\n     <use xlink:href=\"#GuardianSansCond-Regular-30\"/>\n     <use x=\"53.499985\" xlink:href=\"#GuardianSansCond-Regular-2e\"/>\n     <use x=\"75.099976\" xlink:href=\"#GuardianSansCond-Regular-30\"/>\n     <use x=\"128.59996\" xlink:href=\"#GuardianSansCond-Regular-31\"/>\n    </g>\n   </g>\n   <g id=\"text_48\">\n    <!-- 0.00 -->\n    <g style=\"fill:#08306b;\" transform=\"translate(242.316875 326.00925)scale(0.12 -0.12)\">\n     <use xlink:href=\"#GuardianSansCond-Regular-30\"/>\n     <use x=\"53.499985\" xlink:href=\"#GuardianSansCond-Regular-2e\"/>\n     <use x=\"75.099976\" xlink:href=\"#GuardianSansCond-Regular-30\"/>\n     <use x=\"128.59996\" xlink:href=\"#GuardianSansCond-Regular-30\"/>\n    </g>\n   </g>\n   <g id=\"text_49\">\n    <!-- 0.11 -->\n    <g style=\"fill:#08306b;\" transform=\"translate(299.64125 326.00925)scale(0.12 -0.12)\">\n     <use xlink:href=\"#GuardianSansCond-Regular-30\"/>\n     <use x=\"53.499985\" xlink:href=\"#GuardianSansCond-Regular-2e\"/>\n     <use x=\"75.099976\" xlink:href=\"#GuardianSansCond-Regular-31\"/>\n     <use x=\"103.899963\" xlink:href=\"#GuardianSansCond-Regular-31\"/>\n    </g>\n   </g>\n   <g id=\"text_50\">\n    <!-- 0.78 -->\n    <g style=\"fill:#f7fbff;\" transform=\"translate(352.158125 326.00925)scale(0.12 -0.12)\">\n     <defs>\n      <path d=\"M 461 0 \nL 1018 0 \nL 2387 3994 \nL 2387 4435 \nL 109 4435 \nL 109 3974 \nL 1850 3974 \nL 1850 3949 \nL 461 0 \nz\n\" id=\"GuardianSansCond-Regular-37\" transform=\"scale(0.015625)\"/>\n     </defs>\n     <use xlink:href=\"#GuardianSansCond-Regular-30\"/>\n     <use x=\"53.499985\" xlink:href=\"#GuardianSansCond-Regular-2e\"/>\n     <use x=\"75.099976\" xlink:href=\"#GuardianSansCond-Regular-37\"/>\n     <use x=\"113.999969\" xlink:href=\"#GuardianSansCond-Regular-38\"/>\n    </g>\n   </g>\n   <g id=\"text_51\">\n    <!-- Normalized confusion matrix -->\n    <g transform=\"translate(153.087125 17.7705)scale(0.144 -0.144)\">\n     <defs>\n      <path d=\"M 416 0 \nL 909 0 \nL 909 2912 \nC 909 3424 877 3757 877 3757 \nL 896 3757 \nC 896 3757 1050 3322 1274 2822 \nL 2547 0 \nL 3155 0 \nL 3155 4435 \nL 2662 4435 \nL 2662 1568 \nC 2662 1114 2694 762 2694 762 \nL 2682 762 \nC 2682 762 2502 1254 2330 1626 \nL 1094 4435 \nL 416 4435 \nL 416 0 \nz\n\" id=\"GuardianSansCond-Regular-4e\" transform=\"scale(0.015625)\"/>\n      <path d=\"M 346 0 \nL 870 0 \nL 870 2688 \nC 1050 2790 1267 2886 1523 2886 \nC 1856 2886 1971 2758 1971 2464 \nL 1971 0 \nL 2490 0 \nL 2490 2688 \nC 2682 2797 2912 2886 3136 2886 \nC 3488 2886 3590 2746 3590 2464 \nL 3590 0 \nL 4115 0 \nL 4115 2528 \nC 4115 3104 3821 3334 3347 3334 \nC 2995 3334 2688 3187 2419 2995 \nL 2394 2995 \nC 2266 3226 2061 3334 1722 3334 \nC 1395 3334 1088 3181 870 3021 \nL 845 3021 \nL 845 3283 \nL 346 3283 \nL 346 0 \nz\n\" id=\"GuardianSansCond-Regular-6d\" transform=\"scale(0.015625)\"/>\n      <path d=\"M 179 0 \nL 2246 0 \nL 2246 435 \nL 794 435 \nL 794 454 \nL 2259 2918 \nL 2259 3283 \nL 256 3283 \nL 256 2854 \nL 1626 2854 \nL 1626 2835 \nL 179 384 \nL 179 0 \nz\n\" id=\"GuardianSansCond-Regular-7a\" transform=\"scale(0.015625)\"/>\n      <path d=\"M 83 0 \nL 634 0 \nL 1056 813 \nC 1203 1069 1293 1248 1293 1248 \nL 1299 1248 \nC 1299 1248 1376 1114 1523 819 \nL 1939 0 \nL 2515 0 \nL 1613 1670 \nL 2451 3283 \nL 1920 3283 \nL 1549 2515 \nL 1350 2086 \nL 1338 2086 \nC 1338 2086 1274 2208 1120 2509 \nL 717 3283 \nL 128 3283 \nL 1011 1658 \nL 83 0 \nz\n\" id=\"GuardianSansCond-Regular-78\" transform=\"scale(0.015625)\"/>\n     </defs>\n     <use xlink:href=\"#GuardianSansCond-Regular-4e\"/>\n     <use x=\"55.799988\" xlink:href=\"#GuardianSansCond-Regular-6f\"/>\n     <use x=\"101.399979\" xlink:href=\"#GuardianSansCond-Regular-72\"/>\n     <use x=\"130.199966\" xlink:href=\"#GuardianSansCond-Regular-6d\"/>\n     <use x=\"199.699951\" xlink:href=\"#GuardianSansCond-Regular-61\"/>\n     <use x=\"240.599945\" xlink:href=\"#GuardianSansCond-Regular-6c\"/>\n     <use x=\"259.899933\" xlink:href=\"#GuardianSansCond-Regular-69\"/>\n     <use x=\"279.199921\" xlink:href=\"#GuardianSansCond-Regular-7a\"/>\n     <use x=\"317.399918\" xlink:href=\"#GuardianSansCond-Regular-65\"/>\n     <use x=\"360.099915\" xlink:href=\"#GuardianSansCond-Regular-64\"/>\n     <use x=\"406.699905\" xlink:href=\"#GuardianSansCond-Regular-20\"/>\n     <use x=\"422.499893\" xlink:href=\"#GuardianSansCond-Regular-63\"/>\n     <use x=\"460.299881\" xlink:href=\"#GuardianSansCond-Regular-6f\"/>\n     <use x=\"505.899872\" xlink:href=\"#GuardianSansCond-Regular-6e\"/>\n     <use x=\"551.999863\" xlink:href=\"#GuardianSansCond-Regular-66\"/>\n     <use x=\"578.69986\" xlink:href=\"#GuardianSansCond-Regular-75\"/>\n     <use x=\"624.199844\" xlink:href=\"#GuardianSansCond-Regular-73\"/>\n     <use x=\"658.699829\" xlink:href=\"#GuardianSansCond-Regular-69\"/>\n     <use x=\"677.999817\" xlink:href=\"#GuardianSansCond-Regular-6f\"/>\n     <use x=\"723.599808\" xlink:href=\"#GuardianSansCond-Regular-6e\"/>\n     <use x=\"769.699799\" xlink:href=\"#GuardianSansCond-Regular-20\"/>\n     <use x=\"785.499786\" xlink:href=\"#GuardianSansCond-Regular-6d\"/>\n     <use x=\"854.999771\" xlink:href=\"#GuardianSansCond-Regular-61\"/>\n     <use x=\"895.899765\" xlink:href=\"#GuardianSansCond-Regular-74\"/>\n     <use x=\"924.89975\" xlink:href=\"#GuardianSansCond-Regular-72\"/>\n     <use x=\"953.699738\" xlink:href=\"#GuardianSansCond-Regular-69\"/>\n     <use x=\"972.999725\" xlink:href=\"#GuardianSansCond-Regular-78\"/>\n    </g>\n   </g>\n  </g>\n </g>\n <defs>\n  <clipPath id=\"pc9634a6614\">\n   <rect height=\"326.16\" width=\"326.16\" x=\"62.9825\" y=\"23.7705\"/>\n  </clipPath>\n </defs>\n</svg>\n",
            "text/plain": [
              "<Figure size 432x432 with 1 Axes>"
            ]
          },
          "metadata": {
            "needs_background": "light"
          },
          "output_type": "display_data"
        }
      ],
      "source": [
        "plot_confusion_matrix(y_preds, y_valid, labels)"
      ]
    },
    {
      "cell_type": "markdown",
      "metadata": {
        "id": "l8rFfNT5SZ9O"
      },
      "source": [
        "This is much closer to the ideal diagonal confusion matrix.  The `love` category is still often confused with `joy`, which seems natural. `surprise` is also frequently mistaken for `joy`, or confused with `fear`. Overall the performance of the model seems quite good, but before we call it a day, let's dive a little deeper into the types of errors our model is likely to make."
      ]
    },
    {
      "cell_type": "markdown",
      "metadata": {
        "id": "atyhqaFBSZ9O"
      },
      "source": [
        "### Sidebar: Fine-Tuning with Keras"
      ]
    },
    {
      "cell_type": "markdown",
      "metadata": {
        "id": "zfoZy-n2SZ9O"
      },
      "source": [
        "If you are using TensorFlow, it's also possible to fine-tune your models using the Keras API. The main difference from the PyTorch API is that there is no `Trainer` class, since Keras models already provide a built-in `fit()` method. To see how this works, let's first load  DistilBERT as a TensorFlow model:"
      ]
    },
    {
      "cell_type": "code",
      "execution_count": null,
      "metadata": {
        "id": "nbMGJxGlSZ9O",
        "outputId": "791f3fd0-bfc0-4533-c5c9-e4f8140bb481"
      },
      "outputs": [
        {
          "name": "stderr",
          "output_type": "stream",
          "text": [
            "2021-10-29 15:33:36.938811: W tensorflow/stream_executor/platform/default/dso_loader.cc:64] Could not load dynamic library 'libcudnn.so.8'; dlerror: libcudnn.so.8: cannot open shared object file: No such file or directory\n",
            "2021-10-29 15:33:36.938844: W tensorflow/core/common_runtime/gpu/gpu_device.cc:1835] Cannot dlopen some GPU libraries. Please make sure the missing libraries mentioned above are installed properly if you would like to use GPU. Follow the guide at https://www.tensorflow.org/install/gpu for how to download and setup the required libraries for your platform.\n",
            "Skipping registering GPU devices...\n",
            "2021-10-29 15:33:36.939933: I tensorflow/core/platform/cpu_feature_guard.cc:142] This TensorFlow binary is optimized with oneAPI Deep Neural Network Library (oneDNN) to use the following CPU instructions in performance-critical operations:  AVX2 AVX512F FMA\n",
            "To enable them in other operations, rebuild TensorFlow with the appropriate compiler flags.\n",
            "2021-10-29 15:33:36.962642: W tensorflow/python/util/util.cc:348] Sets are not currently considered sequences, but this may change in the future, so consider avoiding using them.\n"
          ]
        }
      ],
      "source": [
        "#hide_output\n",
        "from transformers import TFAutoModelForSequenceClassification\n",
        "\n",
        "tf_model = (TFAutoModelForSequenceClassification\n",
        "            .from_pretrained(model_ckpt, num_labels=num_labels))"
      ]
    },
    {
      "cell_type": "markdown",
      "metadata": {
        "id": "XJEK66g7SZ9O"
      },
      "source": [
        "Next, we'll convert our datasets into the `tf.data.Dataset` format. Since we have already padded our tokenized inputs, we can do this easily by applying the `to_tf_dataset()` method to `emotions_encoded`:"
      ]
    },
    {
      "cell_type": "code",
      "execution_count": null,
      "metadata": {
        "id": "eFHDbKJfSZ9O"
      },
      "outputs": [],
      "source": [
        "# The column names to convert to TensorFlow tensors\n",
        "tokenizer_columns = tokenizer.model_input_names\n",
        "\n",
        "tf_train_dataset = emotions_encoded[\"train\"].to_tf_dataset(\n",
        "    columns=tokenizer_columns, label_cols=[\"label\"], shuffle=True,\n",
        "    batch_size=batch_size)\n",
        "tf_eval_dataset = emotions_encoded[\"validation\"].to_tf_dataset(\n",
        "    columns=tokenizer_columns, label_cols=[\"label\"], shuffle=False,\n",
        "    batch_size=batch_size)"
      ]
    },
    {
      "cell_type": "markdown",
      "metadata": {
        "id": "rRU5TfcaSZ9O"
      },
      "source": [
        "Here we've also shuffled the training set, and defined the batch size for it and the validation set. The last thing to do is compile and train the model:"
      ]
    },
    {
      "cell_type": "code",
      "execution_count": null,
      "metadata": {
        "id": "XQIUUOh7SZ9O",
        "outputId": "0fe99b75-ef9c-4d78-d2b8-d81749e215aa"
      },
      "outputs": [
        {
          "name": "stderr",
          "output_type": "stream",
          "text": [
            "2021-10-29 15:36:00.548707: I tensorflow/compiler/mlir/mlir_graph_optimization_pass.cc:185] None of the MLIR Optimization Passes are enabled (registered 2)\n"
          ]
        },
        {
          "name": "stdout",
          "output_type": "stream",
          "text": [
            "Epoch 1/2\n",
            "250/250 [==============================] - 478s 2s/step - loss: 0.5379 - sparse_categorical_accuracy: 0.8138 - val_loss: 0.1452 - val_sparse_categorical_accuracy: 0.9430\n",
            "Epoch 2/2\n",
            "250/250 [==============================] - 471s 2s/step - loss: 0.1424 - sparse_categorical_accuracy: 0.9415 - val_loss: 0.1512 - val_sparse_categorical_accuracy: 0.9335\n"
          ]
        },
        {
          "data": {
            "text/plain": [
              "<keras.callbacks.History>"
            ]
          },
          "execution_count": null,
          "metadata": {},
          "output_type": "execute_result"
        }
      ],
      "source": [
        "#hide_output\n",
        "import tensorflow as tf\n",
        "\n",
        "tf_model.compile(\n",
        "    optimizer=tf.keras.optimizers.Adam(learning_rate=5e-5),\n",
        "    loss=tf.keras.losses.SparseCategoricalCrossentropy(from_logits=True),\n",
        "    metrics=tf.metrics.SparseCategoricalAccuracy())\n",
        "\n",
        "tf_model.fit(tf_train_dataset, validation_data=tf_eval_dataset, epochs=2)"
      ]
    },
    {
      "cell_type": "markdown",
      "metadata": {
        "id": "RxPNAEQESZ9P"
      },
      "source": [
        "### End sidebar"
      ]
    },
    {
      "cell_type": "markdown",
      "metadata": {
        "id": "W6UFEkLDSZ9P"
      },
      "source": [
        "#### Error analysis"
      ]
    },
    {
      "cell_type": "markdown",
      "metadata": {
        "id": "dhkUd4CRSZ9P"
      },
      "source": [
        "Before moving on, we should investigate our model's predictions a little bit further. A simple yet powerful technique is to sort the validation samples by the model loss. When we pass the label during the forward pass, the loss is automatically calculated and returned. Here's a function that returns the loss along with the predicted label:"
      ]
    },
    {
      "cell_type": "code",
      "execution_count": null,
      "metadata": {
        "id": "UppXnWrNSZ9P"
      },
      "outputs": [],
      "source": [
        "from torch.nn.functional import cross_entropy\n",
        "\n",
        "def forward_pass_with_label(batch):\n",
        "    # Place all input tensors on the same device as the model\n",
        "    inputs = {k:v.to(device) for k,v in batch.items()\n",
        "              if k in tokenizer.model_input_names}\n",
        "\n",
        "    with torch.no_grad():\n",
        "        output = model(**inputs)\n",
        "        pred_label = torch.argmax(output.logits, axis=-1)\n",
        "        loss = cross_entropy(output.logits, batch[\"label\"].to(device),\n",
        "                             reduction=\"none\")\n",
        "\n",
        "    # Place outputs on CPU for compatibility with other dataset columns\n",
        "    return {\"loss\": loss.cpu().numpy(),\n",
        "            \"predicted_label\": pred_label.cpu().numpy()}"
      ]
    },
    {
      "cell_type": "markdown",
      "metadata": {
        "id": "jzGN6IlwSZ9P"
      },
      "source": [
        "Using the `map()` method once more, we can apply this function to get the losses for all the samples:"
      ]
    },
    {
      "cell_type": "code",
      "execution_count": null,
      "metadata": {
        "colab": {
          "referenced_widgets": [
            "6004443ac1344ee18d40c8a90c1178f4"
          ]
        },
        "id": "C6lT1YOaSZ9P",
        "outputId": "9790b2c7-7db5-4dcf-e3e8-28a1cb32b19c"
      },
      "outputs": [
        {
          "data": {
            "application/vnd.jupyter.widget-view+json": {
              "model_id": "6004443ac1344ee18d40c8a90c1178f4",
              "version_major": 2,
              "version_minor": 0
            },
            "text/plain": [
              "  0%|          | 0/125 [00:00<?, ?ba/s]"
            ]
          },
          "metadata": {},
          "output_type": "display_data"
        }
      ],
      "source": [
        "#hide_output\n",
        "# Convert our dataset back to PyTorch tensors\n",
        "emotions_encoded.set_format(\"torch\",\n",
        "                            columns=[\"input_ids\", \"attention_mask\", \"label\"])\n",
        "# Compute loss values\n",
        "emotions_encoded[\"validation\"] = emotions_encoded[\"validation\"].map(\n",
        "    forward_pass_with_label, batched=True, batch_size=16)"
      ]
    },
    {
      "cell_type": "markdown",
      "metadata": {
        "id": "Twe-mzLOSZ9P"
      },
      "source": [
        "Finally, we create a `DataFrame` with the texts, losses, and predicted/true labels:"
      ]
    },
    {
      "cell_type": "code",
      "execution_count": null,
      "metadata": {
        "id": "mYes-UDuSZ9P"
      },
      "outputs": [],
      "source": [
        "emotions_encoded.set_format(\"pandas\")\n",
        "cols = [\"text\", \"label\", \"predicted_label\", \"loss\"]\n",
        "df_test = emotions_encoded[\"validation\"][:][cols]\n",
        "df_test[\"label\"] = df_test[\"label\"].apply(label_int2str)\n",
        "df_test[\"predicted_label\"] = (df_test[\"predicted_label\"]\n",
        "                              .apply(label_int2str))"
      ]
    },
    {
      "cell_type": "markdown",
      "metadata": {
        "id": "wifo_MiBSZ9P"
      },
      "source": [
        "We can now easily sort `emotions_encoded` by the losses in either ascending or descending order. The goal of this exercise is to detect one of the following:\n",
        "\n",
        "- _Wrong labels_:: Every process that adds labels to data can be flawed. Annotators can make mistakes or disagree, while labels that are inferred from other features can be wrong. If it was easy to automatically annotate data, then we would not need a model to do it. Thus, it is normal that there are some wrongly labeled examples. With this approach, we can quickly find and correct them.\n",
        "\n",
        "- _Quirks of the dataset_:: Datasets in the real world are always a bit messy. When working with text, special characters or strings in the inputs can have a big impact on the model's predictions. Inspecting the model's weakest predictions can help identify such features, and cleaning the data or injecting similar examples can make the model more robust.\n",
        "\n",
        "Let's first have a look at the data samples with the highest losses:"
      ]
    },
    {
      "cell_type": "code",
      "execution_count": null,
      "metadata": {
        "id": "FpDd1M_RSZ9P",
        "outputId": "4799fa1b-5d51-4d96-bdf4-b33223c9abf4"
      },
      "outputs": [
        {
          "data": {
            "text/html": [
              "<div>\n",
              "<style scoped>\n",
              "    .dataframe tbody tr th:only-of-type {\n",
              "        vertical-align: middle;\n",
              "    }\n",
              "\n",
              "    .dataframe tbody tr th {\n",
              "        vertical-align: top;\n",
              "    }\n",
              "\n",
              "    .dataframe thead th {\n",
              "        text-align: right;\n",
              "    }\n",
              "</style>\n",
              "<table border=\"1\" class=\"dataframe\">\n",
              "  <thead>\n",
              "    <tr style=\"text-align: right;\">\n",
              "      <th></th>\n",
              "      <th>text</th>\n",
              "      <th>label</th>\n",
              "      <th>predicted_label</th>\n",
              "      <th>loss</th>\n",
              "    </tr>\n",
              "  </thead>\n",
              "  <tbody>\n",
              "    <tr>\n",
              "      <th>1801</th>\n",
              "      <td>i feel that he was being overshadowed by the s...</td>\n",
              "      <td>love</td>\n",
              "      <td>sadness</td>\n",
              "      <td>5.704531</td>\n",
              "    </tr>\n",
              "    <tr>\n",
              "      <th>1963</th>\n",
              "      <td>i called myself pro life and voted for perry w...</td>\n",
              "      <td>joy</td>\n",
              "      <td>sadness</td>\n",
              "      <td>5.484461</td>\n",
              "    </tr>\n",
              "    <tr>\n",
              "      <th>1870</th>\n",
              "      <td>i guess i feel betrayed because i admired him ...</td>\n",
              "      <td>joy</td>\n",
              "      <td>sadness</td>\n",
              "      <td>5.434768</td>\n",
              "    </tr>\n",
              "    <tr>\n",
              "      <th>882</th>\n",
              "      <td>i feel badly about reneging on my commitment t...</td>\n",
              "      <td>love</td>\n",
              "      <td>sadness</td>\n",
              "      <td>5.257482</td>\n",
              "    </tr>\n",
              "    <tr>\n",
              "      <th>1950</th>\n",
              "      <td>i as representative of everything thats wrong ...</td>\n",
              "      <td>surprise</td>\n",
              "      <td>sadness</td>\n",
              "      <td>4.827708</td>\n",
              "    </tr>\n",
              "    <tr>\n",
              "      <th>1509</th>\n",
              "      <td>i guess this is a memoir so it feels like that...</td>\n",
              "      <td>joy</td>\n",
              "      <td>fear</td>\n",
              "      <td>4.713047</td>\n",
              "    </tr>\n",
              "    <tr>\n",
              "      <th>1274</th>\n",
              "      <td>i am going to several holiday parties and i ca...</td>\n",
              "      <td>joy</td>\n",
              "      <td>sadness</td>\n",
              "      <td>4.704955</td>\n",
              "    </tr>\n",
              "    <tr>\n",
              "      <th>318</th>\n",
              "      <td>i felt ashamed of these feelings and was scare...</td>\n",
              "      <td>fear</td>\n",
              "      <td>sadness</td>\n",
              "      <td>4.656096</td>\n",
              "    </tr>\n",
              "    <tr>\n",
              "      <th>1500</th>\n",
              "      <td>i guess we would naturally feel a sense of lon...</td>\n",
              "      <td>anger</td>\n",
              "      <td>sadness</td>\n",
              "      <td>4.593202</td>\n",
              "    </tr>\n",
              "    <tr>\n",
              "      <th>1111</th>\n",
              "      <td>im lazy my characters fall into categories of ...</td>\n",
              "      <td>joy</td>\n",
              "      <td>fear</td>\n",
              "      <td>4.311287</td>\n",
              "    </tr>\n",
              "  </tbody>\n",
              "</table>\n",
              "</div>"
            ],
            "text/plain": [
              "                                                   text     label  \\\n",
              "1801  i feel that he was being overshadowed by the s...      love   \n",
              "1963  i called myself pro life and voted for perry w...       joy   \n",
              "1870  i guess i feel betrayed because i admired him ...       joy   \n",
              "882   i feel badly about reneging on my commitment t...      love   \n",
              "1950  i as representative of everything thats wrong ...  surprise   \n",
              "1509  i guess this is a memoir so it feels like that...       joy   \n",
              "1274  i am going to several holiday parties and i ca...       joy   \n",
              "318   i felt ashamed of these feelings and was scare...      fear   \n",
              "1500  i guess we would naturally feel a sense of lon...     anger   \n",
              "1111  im lazy my characters fall into categories of ...       joy   \n",
              "\n",
              "     predicted_label      loss  \n",
              "1801         sadness  5.704531  \n",
              "1963         sadness  5.484461  \n",
              "1870         sadness  5.434768  \n",
              "882          sadness  5.257482  \n",
              "1950         sadness  4.827708  \n",
              "1509            fear  4.713047  \n",
              "1274         sadness  4.704955  \n",
              "318          sadness  4.656096  \n",
              "1500         sadness  4.593202  \n",
              "1111            fear  4.311287  "
            ]
          },
          "execution_count": null,
          "metadata": {},
          "output_type": "execute_result"
        }
      ],
      "source": [
        "#hide_output\n",
        "df_test.sort_values(\"loss\", ascending=False).head(10)"
      ]
    },
    {
      "cell_type": "markdown",
      "metadata": {
        "id": "fT2ZVSIhSZ9P"
      },
      "source": [
        "We can clearly see that the model predicted some of the labels incorrectly. On the other hand, it seems that there are quite a few examples with no clear class, which might be either mislabeled or require a new class altogether. In particular, `joy` seems to be mislabeled several times. With this information we can refine the dataset, which often can lead to as big a performance gain (or more) as having more data or larger models!"
      ]
    },
    {
      "cell_type": "markdown",
      "metadata": {
        "id": "deyqXEipSZ9P"
      },
      "source": [
        "When looking at the samples with the lowest losses, we observe that the model seems to be most confident when predicting the `sadness` class. Deep learning models are exceptionally good at finding and exploiting shortcuts to get to a prediction. For this reason, it is also worth investing time into looking at the examples that the model is most confident about, so that we can be confident that the model does not improperly exploit certain features of the text. So, let's also look at the predictions with the smallest loss:"
      ]
    },
    {
      "cell_type": "code",
      "execution_count": null,
      "metadata": {
        "id": "ExcY9vBHSZ9P",
        "outputId": "a410df4c-3c6c-464f-907d-4b2305d65dab"
      },
      "outputs": [
        {
          "data": {
            "text/html": [
              "<div>\n",
              "<style scoped>\n",
              "    .dataframe tbody tr th:only-of-type {\n",
              "        vertical-align: middle;\n",
              "    }\n",
              "\n",
              "    .dataframe tbody tr th {\n",
              "        vertical-align: top;\n",
              "    }\n",
              "\n",
              "    .dataframe thead th {\n",
              "        text-align: right;\n",
              "    }\n",
              "</style>\n",
              "<table border=\"1\" class=\"dataframe\">\n",
              "  <thead>\n",
              "    <tr style=\"text-align: right;\">\n",
              "      <th></th>\n",
              "      <th>text</th>\n",
              "      <th>label</th>\n",
              "      <th>predicted_label</th>\n",
              "      <th>loss</th>\n",
              "    </tr>\n",
              "  </thead>\n",
              "  <tbody>\n",
              "    <tr>\n",
              "      <th>21</th>\n",
              "      <td>i feel try to tell me im ungrateful tell me im...</td>\n",
              "      <td>sadness</td>\n",
              "      <td>sadness</td>\n",
              "      <td>0.017331</td>\n",
              "    </tr>\n",
              "    <tr>\n",
              "      <th>244</th>\n",
              "      <td>im kinda relieve but at the same time i feel d...</td>\n",
              "      <td>sadness</td>\n",
              "      <td>sadness</td>\n",
              "      <td>0.017392</td>\n",
              "    </tr>\n",
              "    <tr>\n",
              "      <th>133</th>\n",
              "      <td>i and feel quite ungrateful for it but i m loo...</td>\n",
              "      <td>sadness</td>\n",
              "      <td>sadness</td>\n",
              "      <td>0.017400</td>\n",
              "    </tr>\n",
              "    <tr>\n",
              "      <th>392</th>\n",
              "      <td>i remember feeling disheartened one day when w...</td>\n",
              "      <td>sadness</td>\n",
              "      <td>sadness</td>\n",
              "      <td>0.017461</td>\n",
              "    </tr>\n",
              "    <tr>\n",
              "      <th>1310</th>\n",
              "      <td>i feel like an ungrateful asshole</td>\n",
              "      <td>sadness</td>\n",
              "      <td>sadness</td>\n",
              "      <td>0.017485</td>\n",
              "    </tr>\n",
              "    <tr>\n",
              "      <th>189</th>\n",
              "      <td>i leave the meeting feeling more than a little...</td>\n",
              "      <td>sadness</td>\n",
              "      <td>sadness</td>\n",
              "      <td>0.017670</td>\n",
              "    </tr>\n",
              "    <tr>\n",
              "      <th>1120</th>\n",
              "      <td>i am feeling a little disheartened</td>\n",
              "      <td>sadness</td>\n",
              "      <td>sadness</td>\n",
              "      <td>0.017685</td>\n",
              "    </tr>\n",
              "    <tr>\n",
              "      <th>783</th>\n",
              "      <td>i feel like i deserve to be broke with how fri...</td>\n",
              "      <td>sadness</td>\n",
              "      <td>sadness</td>\n",
              "      <td>0.017888</td>\n",
              "    </tr>\n",
              "    <tr>\n",
              "      <th>1368</th>\n",
              "      <td>i started this blog with pure intentions i mus...</td>\n",
              "      <td>sadness</td>\n",
              "      <td>sadness</td>\n",
              "      <td>0.017899</td>\n",
              "    </tr>\n",
              "    <tr>\n",
              "      <th>1466</th>\n",
              "      <td>i feel so ungrateful to be wishing this pregna...</td>\n",
              "      <td>sadness</td>\n",
              "      <td>sadness</td>\n",
              "      <td>0.017913</td>\n",
              "    </tr>\n",
              "  </tbody>\n",
              "</table>\n",
              "</div>"
            ],
            "text/plain": [
              "                                                   text    label  \\\n",
              "21    i feel try to tell me im ungrateful tell me im...  sadness   \n",
              "244   im kinda relieve but at the same time i feel d...  sadness   \n",
              "133   i and feel quite ungrateful for it but i m loo...  sadness   \n",
              "392   i remember feeling disheartened one day when w...  sadness   \n",
              "1310                  i feel like an ungrateful asshole  sadness   \n",
              "189   i leave the meeting feeling more than a little...  sadness   \n",
              "1120                 i am feeling a little disheartened  sadness   \n",
              "783   i feel like i deserve to be broke with how fri...  sadness   \n",
              "1368  i started this blog with pure intentions i mus...  sadness   \n",
              "1466  i feel so ungrateful to be wishing this pregna...  sadness   \n",
              "\n",
              "     predicted_label      loss  \n",
              "21           sadness  0.017331  \n",
              "244          sadness  0.017392  \n",
              "133          sadness  0.017400  \n",
              "392          sadness  0.017461  \n",
              "1310         sadness  0.017485  \n",
              "189          sadness  0.017670  \n",
              "1120         sadness  0.017685  \n",
              "783          sadness  0.017888  \n",
              "1368         sadness  0.017899  \n",
              "1466         sadness  0.017913  "
            ]
          },
          "execution_count": null,
          "metadata": {},
          "output_type": "execute_result"
        }
      ],
      "source": [
        "#hide_output\n",
        "df_test.sort_values(\"loss\", ascending=True).head(10)"
      ]
    },
    {
      "cell_type": "markdown",
      "metadata": {
        "id": "QANn32GySZ9P"
      },
      "source": [
        "We now know that the `joy` is sometimes mislabeled and that the model is most confident about predicting the label `sadness`. With this information we can make targeted improvements to our dataset, and also keep an eye on the class the model seems to be very confident about.\n",
        "\n",
        "The last step before serving the trained model is to save it for later usage. image:images/logo.png[hf,13,13] Transformers allows us to do this in a few steps, which we'll show you in the next section."
      ]
    },
    {
      "cell_type": "markdown",
      "metadata": {
        "id": "ic2obdQqSZ9P"
      },
      "source": [
        "#### Saving and sharing the model"
      ]
    },
    {
      "cell_type": "markdown",
      "metadata": {
        "id": "RmV8ajRoSZ9P"
      },
      "source": [
        "\n",
        "The NLP community benefits greatly from sharing pretrained and fine-tuned models, and everybody can share their models with others via the Hugging Face Hub. Any community-generated model can be downloaded from the Hub just like we downloaded the DistilBERT model. With the `Trainer` API, saving and sharing a model is simple:"
      ]
    },
    {
      "cell_type": "code",
      "execution_count": null,
      "metadata": {
        "id": "7oTdwowPSZ9P",
        "outputId": "d2c4178e-ab7e-4a40-8784-a959a5cc714e"
      },
      "outputs": [
        {
          "data": {
            "text/plain": [
              "'https://huggingface.co/lewtun/distilbert-base-uncased-finetuned-emotion/commit/352c4147e4754f73a0b41f7b175f4a907270c9c9'"
            ]
          },
          "execution_count": null,
          "metadata": {},
          "output_type": "execute_result"
        }
      ],
      "source": [
        "#hide_output\n",
        "trainer.push_to_hub(commit_message=\"Training completed!\")"
      ]
    },
    {
      "cell_type": "markdown",
      "metadata": {
        "id": "7qQ5p_4CSZ9P"
      },
      "source": [
        "We can also use the fine-tuned model to make predictions on new tweets. Since we've pushed our model to the Hub, we can now use it with the `pipeline()` function, just like we did in <<chapter_introduction>>. First, let's load the pipeline:"
      ]
    },
    {
      "cell_type": "code",
      "execution_count": null,
      "metadata": {
        "id": "bgTUr1Z_SZ9P"
      },
      "outputs": [],
      "source": [
        "#hide_output\n",
        "from transformers import pipeline\n",
        "\n",
        "# Change `transformersbook` to your Hub username\n",
        "model_id = \"transformersbook/distilbert-base-uncased-finetuned-emotion\"\n",
        "classifier = pipeline(\"text-classification\", model=model_id)"
      ]
    },
    {
      "cell_type": "markdown",
      "metadata": {
        "id": "uSahVnb9SZ9Q"
      },
      "source": [
        "Then let's test the pipeline with a sample tweet:"
      ]
    },
    {
      "cell_type": "code",
      "execution_count": null,
      "metadata": {
        "id": "IcxtvCkQSZ9Q"
      },
      "outputs": [],
      "source": [
        "custom_tweet = \"I saw a movie today and it was really good.\"\n",
        "preds = classifier(custom_tweet, return_all_scores=True)"
      ]
    },
    {
      "cell_type": "markdown",
      "metadata": {
        "id": "IKm1UorkSZ9Q"
      },
      "source": [
        "Finally, we can plot the probability for each class in a bar plot. Clearly, the model estimates that the most likely class is `joy`, which appears to be reasonable given the tweet:"
      ]
    },
    {
      "cell_type": "code",
      "execution_count": null,
      "metadata": {
        "id": "09ibOHhgSZ9Q",
        "outputId": "fee42880-307d-44b2-f877-091ce493909a"
      },
      "outputs": [
        {
          "data": {
            "application/pdf": "[encoded data removed]",
            "image/svg+xml": "<?xml version=\"1.0\" encoding=\"utf-8\" standalone=\"no\"?>\n<!DOCTYPE svg PUBLIC \"-//W3C//DTD SVG 1.1//EN\"\n  \"http://www.w3.org/Graphics/SVG/1.1/DTD/svg11.dtd\">\n<svg height=\"266.5105pt\" version=\"1.1\" viewBox=\"0 0 387.66875 266.5105\" width=\"387.66875pt\" xmlns=\"http://www.w3.org/2000/svg\" xmlns:xlink=\"http://www.w3.org/1999/xlink\">\n <metadata>\n  <rdf:RDF xmlns:cc=\"http://creativecommons.org/ns#\" xmlns:dc=\"http://purl.org/dc/elements/1.1/\" xmlns:rdf=\"http://www.w3.org/1999/02/22-rdf-syntax-ns#\">\n   <cc:Work>\n    <dc:type rdf:resource=\"http://purl.org/dc/dcmitype/StillImage\"/>\n    <dc:date>2021-10-23T17:10:05.056089</dc:date>\n    <dc:format>image/svg+xml</dc:format>\n    <dc:creator>\n     <cc:Agent>\n      <dc:title>Matplotlib v3.4.3, https://matplotlib.org/</dc:title>\n     </cc:Agent>\n    </dc:creator>\n   </cc:Work>\n  </rdf:RDF>\n </metadata>\n <defs>\n  <style type=\"text/css\">*{stroke-linecap:butt;stroke-linejoin:round;}</style>\n </defs>\n <g id=\"figure_1\">\n  <g id=\"patch_1\">\n   <path d=\"M 0 266.5105 \nL 387.66875 266.5105 \nL 387.66875 0 \nL 0 0 \nz\n\" style=\"fill:none;\"/>\n  </g>\n  <g id=\"axes_1\">\n   <g id=\"patch_2\">\n    <path d=\"M 45.66875 241.2105 \nL 380.46875 241.2105 \nL 380.46875 23.7705 \nL 45.66875 23.7705 \nz\n\" style=\"fill:#ffffff;\"/>\n   </g>\n   <g id=\"patch_3\">\n    <path clip-path=\"url(#p0277c6ab7c)\" d=\"M 60.886932 241.2105 \nL 102.868123 241.2105 \nL 102.868123 238.565264 \nL 60.886932 238.565264 \nz\n\" style=\"fill:#0071bc;\"/>\n   </g>\n   <g id=\"patch_4\">\n    <path clip-path=\"url(#p0277c6ab7c)\" d=\"M 113.363421 241.2105 \nL 155.344612 241.2105 \nL 155.344612 34.124786 \nL 113.363421 34.124786 \nz\n\" style=\"fill:#0071bc;\"/>\n   </g>\n   <g id=\"patch_5\">\n    <path clip-path=\"url(#p0277c6ab7c)\" d=\"M 165.83991 241.2105 \nL 207.821101 241.2105 \nL 207.821101 238.348227 \nL 165.83991 238.348227 \nz\n\" style=\"fill:#0071bc;\"/>\n   </g>\n   <g id=\"patch_6\">\n    <path clip-path=\"url(#p0277c6ab7c)\" d=\"M 218.316399 241.2105 \nL 260.29759 241.2105 \nL 260.29759 240.022391 \nL 218.316399 240.022391 \nz\n\" style=\"fill:#0071bc;\"/>\n   </g>\n   <g id=\"patch_7\">\n    <path clip-path=\"url(#p0277c6ab7c)\" d=\"M 270.792888 241.2105 \nL 312.774079 241.2105 \nL 312.774079 239.92348 \nL 270.792888 239.92348 \nz\n\" style=\"fill:#0071bc;\"/>\n   </g>\n   <g id=\"patch_8\">\n    <path clip-path=\"url(#p0277c6ab7c)\" d=\"M 323.269377 241.2105 \nL 365.250568 241.2105 \nL 365.250568 239.080111 \nL 323.269377 239.080111 \nz\n\" style=\"fill:#0071bc;\"/>\n   </g>\n   <g id=\"matplotlib.axis_1\">\n    <g id=\"xtick_1\">\n     <g id=\"line2d_1\">\n      <defs>\n       <path d=\"M 0 0 \nL 0 3.5 \n\" id=\"m1a205a24a8\" style=\"stroke:#000000;stroke-width:0.8;\"/>\n      </defs>\n      <g>\n       <use style=\"stroke:#000000;stroke-width:0.8;\" x=\"81.877527\" xlink:href=\"#m1a205a24a8\" y=\"241.2105\"/>\n      </g>\n     </g>\n     <g id=\"text_1\">\n      <!-- sadness -->\n      <g transform=\"translate(65.089715 257.01925)scale(0.12 -0.12)\">\n       <defs>\n        <path d=\"M 992 -51 \nC 1658 -51 2054 307 2054 947 \nC 2054 1485 1818 1709 1306 1888 \nL 1050 1978 \nC 768 2074 659 2195 659 2451 \nC 659 2771 864 2893 1222 2893 \nC 1517 2893 1760 2810 1914 2739 \nL 1914 3168 \nC 1773 3251 1568 3334 1197 3334 \nC 531 3334 160 2982 160 2406 \nC 160 1901 422 1658 826 1517 \nL 1082 1427 \nC 1408 1312 1536 1184 1536 896 \nC 1536 582 1370 390 934 390 \nC 582 390 358 480 154 563 \nL 154 141 \nC 358 19 640 -51 992 -51 \nz\n\" id=\"GuardianSansCond-Regular-73\" transform=\"scale(0.015625)\"/>\n        <path d=\"M 1082 -51 \nC 1395 -51 1638 77 1779 230 \nL 1811 230 \nL 1862 0 \nL 2291 0 \nL 2291 2413 \nC 2291 3027 1958 3334 1293 3334 \nC 915 3334 634 3258 410 3155 \nL 410 2771 \nC 576 2829 806 2886 1094 2886 \nC 1600 2886 1766 2739 1766 2278 \nL 1766 1958 \nL 1088 1856 \nC 480 1766 160 1466 160 883 \nC 160 250 525 -51 1082 -51 \nz\nM 1222 358 \nC 877 358 704 544 704 915 \nC 704 1274 877 1440 1242 1485 \nL 1766 1549 \nL 1766 525 \nC 1658 435 1459 358 1222 358 \nz\n\" id=\"GuardianSansCond-Regular-61\" transform=\"scale(0.015625)\"/>\n        <path d=\"M 1357 -51 \nC 1690 -51 1965 77 2125 243 \nL 2150 243 \nL 2195 0 \nL 2637 0 \nL 2637 4698 \nL 2118 4698 \nL 2118 3174 \nC 1978 3264 1734 3334 1466 3334 \nC 634 3334 198 2739 198 1670 \nL 198 1523 \nC 198 339 723 -51 1357 -51 \nz\nM 1504 378 \nC 992 378 742 749 742 1542 \nL 742 1728 \nC 742 2541 979 2893 1536 2893 \nC 1779 2893 2003 2835 2118 2758 \nL 2118 595 \nC 1984 493 1773 378 1504 378 \nz\n\" id=\"GuardianSansCond-Regular-64\" transform=\"scale(0.015625)\"/>\n        <path d=\"M 346 0 \nL 870 0 \nL 870 2688 \nC 1037 2778 1306 2886 1587 2886 \nC 1965 2886 2093 2765 2093 2458 \nL 2093 0 \nL 2611 0 \nL 2611 2528 \nC 2611 3085 2342 3334 1811 3334 \nC 1440 3334 1107 3194 870 3021 \nL 845 3021 \nL 845 3283 \nL 346 3283 \nL 346 0 \nz\n\" id=\"GuardianSansCond-Regular-6e\" transform=\"scale(0.015625)\"/>\n        <path d=\"M 1555 -51 \nC 1984 -51 2317 102 2470 243 \nL 2470 627 \nC 2240 499 1965 397 1613 397 \nC 1037 397 742 698 723 1466 \nL 2554 1466 \nL 2554 1798 \nC 2554 2893 2176 3334 1402 3334 \nC 659 3334 186 2810 186 1722 \nL 186 1549 \nC 186 499 634 -51 1555 -51 \nz\nM 1382 2906 \nC 1830 2906 2010 2611 2010 1894 \nL 723 1894 \nC 736 2630 992 2906 1382 2906 \nz\n\" id=\"GuardianSansCond-Regular-65\" transform=\"scale(0.015625)\"/>\n       </defs>\n       <use xlink:href=\"#GuardianSansCond-Regular-73\"/>\n       <use x=\"34.499985\" xlink:href=\"#GuardianSansCond-Regular-61\"/>\n       <use x=\"75.399979\" xlink:href=\"#GuardianSansCond-Regular-64\"/>\n       <use x=\"121.999969\" xlink:href=\"#GuardianSansCond-Regular-6e\"/>\n       <use x=\"168.09996\" xlink:href=\"#GuardianSansCond-Regular-65\"/>\n       <use x=\"210.799957\" xlink:href=\"#GuardianSansCond-Regular-73\"/>\n       <use x=\"245.299942\" xlink:href=\"#GuardianSansCond-Regular-73\"/>\n      </g>\n     </g>\n    </g>\n    <g id=\"xtick_2\">\n     <g id=\"line2d_2\">\n      <g>\n       <use style=\"stroke:#000000;stroke-width:0.8;\" x=\"134.354016\" xlink:href=\"#m1a205a24a8\" y=\"241.2105\"/>\n      </g>\n     </g>\n     <g id=\"text_2\">\n      <!-- joy -->\n      <g transform=\"translate(127.981829 256.946125)scale(0.12 -0.12)\">\n       <defs>\n        <path d=\"M 83 -1261 \nC 666 -1261 870 -870 870 -352 \nL 870 3283 \nL 352 3283 \nL 352 -326 \nC 352 -678 218 -826 -58 -826 \nC -160 -826 -262 -806 -339 -794 \nL -339 -1158 \nC -237 -1222 -109 -1261 83 -1261 \nz\nM 346 3910 \nL 877 3910 \nL 877 4474 \nL 346 4474 \nL 346 3910 \nz\n\" id=\"GuardianSansCond-Regular-6a\" transform=\"scale(0.015625)\"/>\n        <path d=\"M 1459 -51 \nC 2272 -51 2733 570 2733 1542 \nL 2733 1747 \nC 2733 2771 2291 3334 1459 3334 \nC 659 3334 186 2714 186 1741 \nL 186 1530 \nC 186 531 614 -51 1459 -51 \nz\nM 1466 378 \nC 992 378 723 762 723 1472 \nL 723 1818 \nC 723 2451 947 2906 1453 2906 \nC 1920 2906 2195 2560 2195 1805 \nL 2195 1466 \nC 2195 826 1958 378 1466 378 \nz\n\" id=\"GuardianSansCond-Regular-6f\" transform=\"scale(0.015625)\"/>\n        <path d=\"M 570 -1261 \nC 1082 -1261 1306 -960 1485 -365 \nL 2592 3283 \nL 2067 3283 \nL 1485 1197 \nC 1421 992 1376 787 1376 787 \nL 1363 787 \nC 1363 787 1331 928 1248 1203 \nL 621 3283 \nL 51 3283 \nL 1120 13 \nL 1018 -294 \nC 896 -698 749 -826 480 -826 \nC 384 -826 262 -813 186 -800 \nL 186 -1171 \nC 282 -1222 435 -1261 570 -1261 \nz\n\" id=\"GuardianSansCond-Regular-79\" transform=\"scale(0.015625)\"/>\n       </defs>\n       <use xlink:href=\"#GuardianSansCond-Regular-6a\"/>\n       <use x=\"19.199997\" xlink:href=\"#GuardianSansCond-Regular-6f\"/>\n       <use x=\"64.799988\" xlink:href=\"#GuardianSansCond-Regular-79\"/>\n      </g>\n     </g>\n    </g>\n    <g id=\"xtick_3\">\n     <g id=\"line2d_3\">\n      <g>\n       <use style=\"stroke:#000000;stroke-width:0.8;\" x=\"186.830505\" xlink:href=\"#m1a205a24a8\" y=\"241.2105\"/>\n      </g>\n     </g>\n     <g id=\"text_3\">\n      <!-- love -->\n      <g transform=\"translate(177.860505 257.01925)scale(0.12 -0.12)\">\n       <defs>\n        <path d=\"M 358 0 \nL 877 0 \nL 877 4698 \nL 358 4698 \nL 358 0 \nz\n\" id=\"GuardianSansCond-Regular-6c\" transform=\"scale(0.015625)\"/>\n        <path d=\"M 1075 0 \nL 1613 0 \nL 2605 3283 \nL 2093 3283 \nL 1504 1190 \nC 1421 870 1370 653 1370 653 \nL 1344 653 \nC 1344 653 1299 877 1216 1190 \nL 627 3283 \nL 70 3283 \nL 1075 0 \nz\n\" id=\"GuardianSansCond-Regular-76\" transform=\"scale(0.015625)\"/>\n       </defs>\n       <use xlink:href=\"#GuardianSansCond-Regular-6c\"/>\n       <use x=\"19.299988\" xlink:href=\"#GuardianSansCond-Regular-6f\"/>\n       <use x=\"64.899979\" xlink:href=\"#GuardianSansCond-Regular-76\"/>\n       <use x=\"106.799973\" xlink:href=\"#GuardianSansCond-Regular-65\"/>\n      </g>\n     </g>\n    </g>\n    <g id=\"xtick_4\">\n     <g id=\"line2d_4\">\n      <g>\n       <use style=\"stroke:#000000;stroke-width:0.8;\" x=\"239.306995\" xlink:href=\"#m1a205a24a8\" y=\"241.2105\"/>\n      </g>\n     </g>\n     <g id=\"text_4\">\n      <!-- anger -->\n      <g transform=\"translate(227.234807 256.994875)scale(0.12 -0.12)\">\n       <defs>\n        <path d=\"M 1325 -1235 \nC 2240 -1235 2675 -787 2675 -179 \nC 2675 416 2336 704 1696 704 \nL 1069 704 \nC 858 704 774 806 774 966 \nC 774 1069 826 1178 890 1242 \nC 1018 1197 1171 1178 1331 1178 \nC 1939 1178 2413 1530 2413 2208 \nL 2413 2304 \nC 2413 2560 2336 2739 2234 2874 \nL 2682 2874 \nL 2682 3283 \nL 1747 3283 \nC 1626 3315 1485 3334 1325 3334 \nC 704 3334 250 2944 250 2278 \nL 250 2182 \nC 250 1786 429 1510 634 1376 \nC 422 1210 294 1024 294 787 \nC 294 544 442 403 627 333 \nL 627 307 \nC 320 192 64 -38 64 -422 \nC 64 -915 506 -1235 1325 -1235 \nz\nM 1312 -819 \nC 832 -819 595 -640 595 -326 \nC 595 -51 762 141 966 218 \nL 1632 218 \nC 2022 218 2150 45 2150 -237 \nC 2150 -602 1926 -819 1312 -819 \nz\nM 1331 1581 \nC 998 1581 762 1773 762 2189 \nL 762 2323 \nC 762 2726 973 2931 1331 2931 \nC 1670 2931 1901 2746 1901 2310 \nL 1901 2176 \nC 1901 1779 1683 1581 1331 1581 \nz\n\" id=\"GuardianSansCond-Regular-67\" transform=\"scale(0.015625)\"/>\n        <path d=\"M 346 0 \nL 870 0 \nL 870 2605 \nC 1062 2752 1306 2842 1587 2842 \nC 1638 2842 1728 2835 1786 2829 \nL 1786 3302 \nC 1747 3315 1677 3328 1606 3328 \nC 1306 3328 1030 3142 870 2938 \nL 845 2938 \nL 845 3283 \nL 346 3283 \nL 346 0 \nz\n\" id=\"GuardianSansCond-Regular-72\" transform=\"scale(0.015625)\"/>\n       </defs>\n       <use xlink:href=\"#GuardianSansCond-Regular-61\"/>\n       <use x=\"40.899994\" xlink:href=\"#GuardianSansCond-Regular-6e\"/>\n       <use x=\"86.999985\" xlink:href=\"#GuardianSansCond-Regular-67\"/>\n       <use x=\"129.699982\" xlink:href=\"#GuardianSansCond-Regular-65\"/>\n       <use x=\"172.399979\" xlink:href=\"#GuardianSansCond-Regular-72\"/>\n      </g>\n     </g>\n    </g>\n    <g id=\"xtick_5\">\n     <g id=\"line2d_5\">\n      <g>\n       <use style=\"stroke:#000000;stroke-width:0.8;\" x=\"291.783484\" xlink:href=\"#m1a205a24a8\" y=\"241.2105\"/>\n      </g>\n     </g>\n     <g id=\"text_5\">\n      <!-- fear -->\n      <g transform=\"translate(283.436921 257.01925)scale(0.12 -0.12)\">\n       <defs>\n        <path d=\"M 493 0 \nL 1018 0 \nL 1018 2848 \nL 1626 2848 \nL 1626 3283 \nL 1018 3283 \nL 1018 3712 \nC 1018 4115 1146 4307 1478 4307 \nC 1632 4307 1754 4282 1837 4262 \nL 1837 4640 \nC 1747 4685 1587 4742 1363 4742 \nC 826 4742 493 4429 493 3757 \nL 493 3283 \nL 96 3283 \nL 96 2848 \nL 493 2848 \nL 493 0 \nz\n\" id=\"GuardianSansCond-Regular-66\" transform=\"scale(0.015625)\"/>\n       </defs>\n       <use xlink:href=\"#GuardianSansCond-Regular-66\"/>\n       <use x=\"26.699997\" xlink:href=\"#GuardianSansCond-Regular-65\"/>\n       <use x=\"69.399994\" xlink:href=\"#GuardianSansCond-Regular-61\"/>\n       <use x=\"110.299988\" xlink:href=\"#GuardianSansCond-Regular-72\"/>\n      </g>\n     </g>\n    </g>\n    <g id=\"xtick_6\">\n     <g id=\"line2d_6\">\n      <g>\n       <use style=\"stroke:#000000;stroke-width:0.8;\" x=\"344.259973\" xlink:href=\"#m1a205a24a8\" y=\"241.2105\"/>\n      </g>\n     </g>\n     <g id=\"text_6\">\n      <!-- surprise -->\n      <g transform=\"translate(327.418723 257.01925)scale(0.12 -0.12)\">\n       <defs>\n        <path d=\"M 1158 -51 \nC 1523 -51 1824 109 2042 262 \nL 2067 262 \nL 2118 0 \nL 2566 0 \nL 2566 3283 \nL 2042 3283 \nL 2042 602 \nC 1888 512 1626 397 1350 397 \nC 947 397 858 557 858 838 \nL 858 3283 \nL 333 3283 \nL 333 826 \nC 333 301 576 -51 1158 -51 \nz\n\" id=\"GuardianSansCond-Regular-75\" transform=\"scale(0.015625)\"/>\n        <path d=\"M 346 -1222 \nL 870 -1222 \nL 870 128 \nC 1005 38 1242 -51 1542 -51 \nC 2374 -51 2784 525 2784 1600 \nL 2784 1818 \nC 2784 2912 2342 3334 1670 3334 \nC 1318 3334 1030 3187 870 3034 \nL 845 3034 \nL 845 3283 \nL 346 3283 \nL 346 -1222 \nz\nM 1466 378 \nC 1210 378 973 461 870 538 \nL 870 2688 \nC 992 2784 1229 2893 1523 2893 \nC 2035 2893 2246 2573 2246 1798 \nL 2246 1549 \nC 2246 742 2003 378 1466 378 \nz\n\" id=\"GuardianSansCond-Regular-70\" transform=\"scale(0.015625)\"/>\n        <path d=\"M 358 0 \nL 883 0 \nL 883 3283 \nL 358 3283 \nL 358 0 \nz\nM 352 3910 \nL 883 3910 \nL 883 4474 \nL 352 4474 \nL 352 3910 \nz\n\" id=\"GuardianSansCond-Regular-69\" transform=\"scale(0.015625)\"/>\n       </defs>\n       <use xlink:href=\"#GuardianSansCond-Regular-73\"/>\n       <use x=\"34.499985\" xlink:href=\"#GuardianSansCond-Regular-75\"/>\n       <use x=\"79.999969\" xlink:href=\"#GuardianSansCond-Regular-72\"/>\n       <use x=\"108.799957\" xlink:href=\"#GuardianSansCond-Regular-70\"/>\n       <use x=\"155.399948\" xlink:href=\"#GuardianSansCond-Regular-72\"/>\n       <use x=\"184.199936\" xlink:href=\"#GuardianSansCond-Regular-69\"/>\n       <use x=\"203.499924\" xlink:href=\"#GuardianSansCond-Regular-73\"/>\n       <use x=\"237.999908\" xlink:href=\"#GuardianSansCond-Regular-65\"/>\n      </g>\n     </g>\n    </g>\n   </g>\n   <g id=\"matplotlib.axis_2\">\n    <g id=\"ytick_1\">\n     <g id=\"line2d_7\">\n      <defs>\n       <path d=\"M 0 0 \nL -3.5 0 \n\" id=\"mf31c67d87c\" style=\"stroke:#000000;stroke-width:0.8;\"/>\n      </defs>\n      <g>\n       <use style=\"stroke:#000000;stroke-width:0.8;\" x=\"45.66875\" xlink:href=\"#mf31c67d87c\" y=\"241.2105\"/>\n      </g>\n     </g>\n     <g id=\"text_7\">\n      <!-- 0 -->\n      <g transform=\"translate(32.24875 245.614875)scale(0.12 -0.12)\">\n       <defs>\n        <path d=\"M 1722 -70 \nC 2656 -70 3155 646 3155 2061 \nL 3155 2406 \nC 3155 3891 2598 4499 1715 4499 \nC 819 4499 269 3834 269 2368 \nL 269 2042 \nC 269 499 845 -70 1722 -70 \nz\nM 1728 384 \nC 1069 384 845 979 845 2016 \nL 845 2490 \nC 845 3494 1088 4051 1709 4051 \nC 2336 4051 2592 3514 2592 2458 \nL 2592 1978 \nC 2592 934 2374 384 1728 384 \nz\n\" id=\"GuardianSansCond-Regular-30\" transform=\"scale(0.015625)\"/>\n       </defs>\n       <use xlink:href=\"#GuardianSansCond-Regular-30\"/>\n      </g>\n     </g>\n    </g>\n    <g id=\"ytick_2\">\n     <g id=\"line2d_8\">\n      <g>\n       <use style=\"stroke:#000000;stroke-width:0.8;\" x=\"45.66875\" xlink:href=\"#mf31c67d87c\" y=\"197.770746\"/>\n      </g>\n     </g>\n     <g id=\"text_8\">\n      <!-- 20 -->\n      <g transform=\"translate(27.14875 202.175121)scale(0.12 -0.12)\">\n       <defs>\n        <path d=\"M 173 0 \nL 2470 0 \nL 2470 461 \nL 800 461 \nL 800 480 \nL 1574 1421 \nC 2067 2035 2419 2528 2419 3264 \nC 2419 4026 2029 4499 1222 4499 \nC 806 4499 499 4410 269 4282 \nL 269 3853 \nC 467 3949 730 4032 1056 4032 \nC 1619 4032 1850 3750 1850 3213 \nC 1850 2630 1542 2189 1152 1670 \nL 173 397 \nL 173 0 \nz\n\" id=\"GuardianSansCond-Regular-32\" transform=\"scale(0.015625)\"/>\n       </defs>\n       <use xlink:href=\"#GuardianSansCond-Regular-32\"/>\n       <use x=\"42.499985\" xlink:href=\"#GuardianSansCond-Regular-30\"/>\n      </g>\n     </g>\n    </g>\n    <g id=\"ytick_3\">\n     <g id=\"line2d_9\">\n      <g>\n       <use style=\"stroke:#000000;stroke-width:0.8;\" x=\"45.66875\" xlink:href=\"#mf31c67d87c\" y=\"154.330991\"/>\n      </g>\n     </g>\n     <g id=\"text_9\">\n      <!-- 40 -->\n      <g transform=\"translate(26.56 158.735366)scale(0.12 -0.12)\">\n       <defs>\n        <path d=\"M 1805 0 \nL 2330 0 \nL 2330 1107 \nL 2957 1107 \nL 2957 1562 \nL 2330 1562 \nL 2330 4435 \nL 1869 4435 \nL 70 1504 \nL 70 1107 \nL 1805 1107 \nL 1805 0 \nz\nM 608 1562 \nL 608 1581 \nL 1779 3475 \nL 1805 3475 \nL 1805 1562 \nL 608 1562 \nz\n\" id=\"GuardianSansCond-Regular-34\" transform=\"scale(0.015625)\"/>\n       </defs>\n       <use xlink:href=\"#GuardianSansCond-Regular-34\"/>\n       <use x=\"47.399994\" xlink:href=\"#GuardianSansCond-Regular-30\"/>\n      </g>\n     </g>\n    </g>\n    <g id=\"ytick_4\">\n     <g id=\"line2d_10\">\n      <g>\n       <use style=\"stroke:#000000;stroke-width:0.8;\" x=\"45.66875\" xlink:href=\"#mf31c67d87c\" y=\"110.891237\"/>\n      </g>\n     </g>\n     <g id=\"text_10\">\n      <!-- 60 -->\n      <g transform=\"translate(26.38 115.295612)scale(0.12 -0.12)\">\n       <defs>\n        <path d=\"M 1632 384 \nC 1082 384 845 915 845 1837 \nL 845 2054 \nC 992 2150 1254 2278 1594 2278 \nC 2086 2278 2323 1984 2323 1357 \nC 2323 742 2086 384 1632 384 \nz\nM 1632 -70 \nC 2438 -70 2886 544 2886 1408 \nC 2886 2234 2490 2746 1754 2746 \nC 1363 2746 1056 2611 845 2445 \nC 877 3853 1440 4038 2029 4038 \nC 2291 4038 2554 3974 2688 3930 \nL 2688 4352 \nC 2547 4442 2272 4499 1958 4499 \nC 1043 4499 275 3981 275 2208 \nL 275 1843 \nC 275 691 717 -70 1632 -70 \nz\n\" id=\"GuardianSansCond-Regular-36\" transform=\"scale(0.015625)\"/>\n       </defs>\n       <use xlink:href=\"#GuardianSansCond-Regular-36\"/>\n       <use x=\"48.899994\" xlink:href=\"#GuardianSansCond-Regular-30\"/>\n      </g>\n     </g>\n    </g>\n    <g id=\"ytick_5\">\n     <g id=\"line2d_11\">\n      <g>\n       <use style=\"stroke:#000000;stroke-width:0.8;\" x=\"45.66875\" xlink:href=\"#mf31c67d87c\" y=\"67.451483\"/>\n      </g>\n     </g>\n     <g id=\"text_11\">\n      <!-- 80 -->\n      <g transform=\"translate(26.32 71.855858)scale(0.12 -0.12)\">\n       <defs>\n        <path d=\"M 1581 -64 \nC 2445 -64 2931 467 2931 1139 \nC 2931 1760 2592 2074 2106 2330 \nC 2490 2541 2822 2899 2822 3424 \nC 2822 4077 2394 4499 1606 4499 \nC 819 4499 384 4013 384 3398 \nC 384 2848 678 2509 1069 2285 \nC 602 2054 230 1683 230 1082 \nC 230 384 710 -64 1581 -64 \nz\nM 1587 390 \nC 1082 390 768 678 768 1126 \nC 768 1581 1037 1894 1414 2080 \nC 2029 1792 2387 1574 2387 1082 \nC 2387 614 2054 390 1587 390 \nz\nM 1754 2522 \nC 1210 2778 928 3021 928 3430 \nC 928 3821 1171 4051 1606 4051 \nC 2067 4051 2285 3782 2285 3398 \nC 2285 3008 2099 2765 1754 2522 \nz\n\" id=\"GuardianSansCond-Regular-38\" transform=\"scale(0.015625)\"/>\n       </defs>\n       <use xlink:href=\"#GuardianSansCond-Regular-38\"/>\n       <use x=\"49.399994\" xlink:href=\"#GuardianSansCond-Regular-30\"/>\n      </g>\n     </g>\n    </g>\n    <g id=\"ytick_6\">\n     <g id=\"line2d_12\">\n      <g>\n       <use style=\"stroke:#000000;stroke-width:0.8;\" x=\"45.66875\" xlink:href=\"#mf31c67d87c\" y=\"24.011728\"/>\n      </g>\n     </g>\n     <g id=\"text_12\">\n      <!-- 100 -->\n      <g transform=\"translate(22.373125 28.416103)scale(0.12 -0.12)\">\n       <defs>\n        <path d=\"M 832 0 \nL 1363 0 \nL 1363 4474 \nL 1171 4474 \nL 141 4083 \nL 141 3776 \nL 832 3846 \nL 832 0 \nz\n\" id=\"GuardianSansCond-Regular-31\" transform=\"scale(0.015625)\"/>\n       </defs>\n       <use xlink:href=\"#GuardianSansCond-Regular-31\"/>\n       <use x=\"28.799988\" xlink:href=\"#GuardianSansCond-Regular-30\"/>\n       <use x=\"82.299973\" xlink:href=\"#GuardianSansCond-Regular-30\"/>\n      </g>\n     </g>\n    </g>\n    <g id=\"text_13\">\n     <!-- Class probability (%) -->\n     <g transform=\"translate(16.00875 175.635187)rotate(-90)scale(0.12 -0.12)\">\n      <defs>\n       <path d=\"M 1882 -64 \nC 2304 -64 2637 38 2874 186 \nL 2874 640 \nC 2643 518 2342 397 1946 397 \nC 1114 397 806 986 806 2042 \nL 806 2445 \nC 806 3648 1267 4038 1920 4038 \nC 2278 4038 2541 3955 2822 3840 \nL 2822 4288 \nC 2618 4410 2336 4499 1952 4499 \nC 1005 4499 237 3994 237 2387 \nL 237 2042 \nC 237 563 851 -64 1882 -64 \nz\n\" id=\"GuardianSansCond-Regular-43\" transform=\"scale(0.015625)\"/>\n       <path id=\"GuardianSansCond-Regular-20\" transform=\"scale(0.015625)\"/>\n       <path d=\"M 1382 -64 \nC 2317 -64 2784 531 2784 1619 \nL 2784 1843 \nC 2784 2995 2285 3334 1702 3334 \nC 1338 3334 1075 3219 896 3104 \nL 870 3104 \nL 870 4698 \nL 346 4698 \nL 346 102 \nC 557 19 1005 -64 1382 -64 \nz\nM 1408 378 \nC 1165 378 979 416 870 454 \nL 870 2733 \nC 992 2790 1216 2893 1491 2893 \nC 2003 2893 2246 2650 2246 1818 \nL 2246 1549 \nC 2246 627 1875 378 1408 378 \nz\n\" id=\"GuardianSansCond-Regular-62\" transform=\"scale(0.015625)\"/>\n       <path d=\"M 1222 -38 \nC 1466 -38 1619 26 1722 90 \nL 1722 442 \nC 1632 416 1517 390 1382 390 \nC 1107 390 1005 480 1005 781 \nL 1005 2848 \nL 1683 2848 \nL 1683 3283 \nL 1005 3283 \nL 1005 4051 \nL 486 4051 \nL 486 3283 \nL 96 3283 \nL 96 2848 \nL 486 2848 \nL 486 710 \nC 486 160 774 -38 1222 -38 \nz\n\" id=\"GuardianSansCond-Regular-74\" transform=\"scale(0.015625)\"/>\n       <path d=\"M 1318 -768 \nL 1760 -768 \nC 1267 -166 826 877 826 1869 \nL 826 2086 \nC 826 3117 1267 4102 1760 4698 \nL 1318 4698 \nC 800 4160 275 3187 275 2029 \nL 275 1882 \nC 275 723 800 -237 1318 -768 \nz\n\" id=\"GuardianSansCond-Regular-28\" transform=\"scale(0.015625)\"/>\n       <path d=\"M 755 -256 \nL 1210 -256 \nL 3770 4563 \nL 3309 4563 \nL 755 -256 \nz\nM 1082 2176 \nC 1677 2176 1984 2637 1984 3315 \nL 1984 3411 \nC 1984 4109 1664 4499 1075 4499 \nC 493 4499 173 4064 173 3392 \nL 173 3290 \nC 173 2560 493 2176 1082 2176 \nz\nM 1088 2547 \nC 794 2547 640 2739 640 3264 \nL 640 3437 \nC 640 3942 800 4134 1082 4134 \nC 1357 4134 1517 3936 1517 3430 \nL 1517 3258 \nC 1517 2739 1376 2547 1088 2547 \nz\nM 3501 -58 \nC 4090 -58 4403 403 4403 1082 \nL 4403 1178 \nC 4403 1875 4083 2266 3494 2266 \nC 2912 2266 2592 1830 2592 1158 \nL 2592 1056 \nC 2592 326 2912 -58 3501 -58 \nz\nM 3507 307 \nC 3213 307 3059 506 3059 1030 \nL 3059 1203 \nC 3059 1709 3219 1901 3501 1901 \nC 3776 1901 3936 1702 3936 1197 \nL 3936 1024 \nC 3936 506 3795 307 3507 307 \nz\n\" id=\"GuardianSansCond-Regular-25\" transform=\"scale(0.015625)\"/>\n       <path d=\"M 32 -768 \nL 480 -768 \nC 992 -237 1517 717 1517 1882 \nL 1517 2029 \nC 1517 3181 992 4160 480 4698 \nL 32 4698 \nC 531 4096 973 3053 973 2035 \nL 973 1818 \nC 973 813 531 -166 32 -768 \nz\n\" id=\"GuardianSansCond-Regular-29\" transform=\"scale(0.015625)\"/>\n      </defs>\n      <use xlink:href=\"#GuardianSansCond-Regular-43\"/>\n      <use x=\"47.399994\" xlink:href=\"#GuardianSansCond-Regular-6c\"/>\n      <use x=\"66.699982\" xlink:href=\"#GuardianSansCond-Regular-61\"/>\n      <use x=\"107.599976\" xlink:href=\"#GuardianSansCond-Regular-73\"/>\n      <use x=\"142.09996\" xlink:href=\"#GuardianSansCond-Regular-73\"/>\n      <use x=\"176.599945\" xlink:href=\"#GuardianSansCond-Regular-20\"/>\n      <use x=\"192.399933\" xlink:href=\"#GuardianSansCond-Regular-70\"/>\n      <use x=\"238.999924\" xlink:href=\"#GuardianSansCond-Regular-72\"/>\n      <use x=\"267.799911\" xlink:href=\"#GuardianSansCond-Regular-6f\"/>\n      <use x=\"313.399902\" xlink:href=\"#GuardianSansCond-Regular-62\"/>\n      <use x=\"359.999893\" xlink:href=\"#GuardianSansCond-Regular-61\"/>\n      <use x=\"400.899887\" xlink:href=\"#GuardianSansCond-Regular-62\"/>\n      <use x=\"447.499878\" xlink:href=\"#GuardianSansCond-Regular-69\"/>\n      <use x=\"466.799866\" xlink:href=\"#GuardianSansCond-Regular-6c\"/>\n      <use x=\"486.099854\" xlink:href=\"#GuardianSansCond-Regular-69\"/>\n      <use x=\"505.399841\" xlink:href=\"#GuardianSansCond-Regular-74\"/>\n      <use x=\"534.399826\" xlink:href=\"#GuardianSansCond-Regular-79\"/>\n      <use x=\"575.79982\" xlink:href=\"#GuardianSansCond-Regular-20\"/>\n      <use x=\"591.599808\" xlink:href=\"#GuardianSansCond-Regular-28\"/>\n      <use x=\"619.599792\" xlink:href=\"#GuardianSansCond-Regular-25\"/>\n      <use x=\"691.099777\" xlink:href=\"#GuardianSansCond-Regular-29\"/>\n     </g>\n    </g>\n   </g>\n   <g id=\"patch_9\">\n    <path d=\"M 45.66875 241.2105 \nL 45.66875 23.7705 \n\" style=\"fill:none;stroke:#000000;stroke-linecap:square;stroke-linejoin:miter;stroke-width:0.8;\"/>\n   </g>\n   <g id=\"patch_10\">\n    <path d=\"M 380.46875 241.2105 \nL 380.46875 23.7705 \n\" style=\"fill:none;stroke:#000000;stroke-linecap:square;stroke-linejoin:miter;stroke-width:0.8;\"/>\n   </g>\n   <g id=\"patch_11\">\n    <path d=\"M 45.66875 241.2105 \nL 380.46875 241.2105 \n\" style=\"fill:none;stroke:#000000;stroke-linecap:square;stroke-linejoin:miter;stroke-width:0.8;\"/>\n   </g>\n   <g id=\"patch_12\">\n    <path d=\"M 45.66875 23.7705 \nL 380.46875 23.7705 \n\" style=\"fill:none;stroke:#000000;stroke-linecap:square;stroke-linejoin:miter;stroke-width:0.8;\"/>\n   </g>\n   <g id=\"text_14\">\n    <!-- \"I saw a movie today and it was really good.\" -->\n    <g transform=\"translate(102.0965 17.7705)scale(0.144 -0.144)\">\n     <defs>\n      <path d=\"M 339 3264 \nL 768 3264 \nL 832 4435 \nL 275 4435 \nL 339 3264 \nz\nM 1222 3264 \nL 1651 3264 \nL 1715 4435 \nL 1158 4435 \nL 1222 3264 \nz\n\" id=\"GuardianSansCond-Regular-22\" transform=\"scale(0.015625)\"/>\n      <path d=\"M 429 0 \nL 966 0 \nL 966 4435 \nL 429 4435 \nL 429 0 \nz\n\" id=\"GuardianSansCond-Regular-49\" transform=\"scale(0.015625)\"/>\n      <path d=\"M 858 0 \nL 1402 0 \nL 1818 1696 \nC 1920 2099 1984 2426 1984 2426 \nL 2003 2426 \nC 2003 2426 2074 2093 2170 1696 \nL 2586 0 \nL 3136 0 \nL 3898 3283 \nL 3398 3283 \nL 3002 1344 \nC 2931 966 2874 704 2874 704 \nL 2854 704 \nC 2854 704 2803 954 2707 1350 \nL 2253 3283 \nL 1773 3283 \nL 1325 1350 \nC 1242 979 1178 704 1178 704 \nL 1158 704 \nC 1158 704 1107 973 1030 1350 \nL 627 3283 \nL 83 3283 \nL 858 0 \nz\n\" id=\"GuardianSansCond-Regular-77\" transform=\"scale(0.015625)\"/>\n      <path d=\"M 346 0 \nL 870 0 \nL 870 2688 \nC 1050 2790 1267 2886 1523 2886 \nC 1856 2886 1971 2758 1971 2464 \nL 1971 0 \nL 2490 0 \nL 2490 2688 \nC 2682 2797 2912 2886 3136 2886 \nC 3488 2886 3590 2746 3590 2464 \nL 3590 0 \nL 4115 0 \nL 4115 2528 \nC 4115 3104 3821 3334 3347 3334 \nC 2995 3334 2688 3187 2419 2995 \nL 2394 2995 \nC 2266 3226 2061 3334 1722 3334 \nC 1395 3334 1088 3181 870 3021 \nL 845 3021 \nL 845 3283 \nL 346 3283 \nL 346 0 \nz\n\" id=\"GuardianSansCond-Regular-6d\" transform=\"scale(0.015625)\"/>\n      <path d=\"M 397 0 \nL 986 0 \nL 986 621 \nL 397 621 \nL 397 0 \nz\n\" id=\"GuardianSansCond-Regular-2e\" transform=\"scale(0.015625)\"/>\n     </defs>\n     <use xlink:href=\"#GuardianSansCond-Regular-22\"/>\n     <use x=\"31.199997\" xlink:href=\"#GuardianSansCond-Regular-49\"/>\n     <use x=\"52.899994\" xlink:href=\"#GuardianSansCond-Regular-20\"/>\n     <use x=\"68.699982\" xlink:href=\"#GuardianSansCond-Regular-73\"/>\n     <use x=\"103.199966\" xlink:href=\"#GuardianSansCond-Regular-61\"/>\n     <use x=\"144.09996\" xlink:href=\"#GuardianSansCond-Regular-77\"/>\n     <use x=\"206.299957\" xlink:href=\"#GuardianSansCond-Regular-20\"/>\n     <use x=\"222.099945\" xlink:href=\"#GuardianSansCond-Regular-61\"/>\n     <use x=\"262.999939\" xlink:href=\"#GuardianSansCond-Regular-20\"/>\n     <use x=\"278.799927\" xlink:href=\"#GuardianSansCond-Regular-6d\"/>\n     <use x=\"348.299911\" xlink:href=\"#GuardianSansCond-Regular-6f\"/>\n     <use x=\"393.899902\" xlink:href=\"#GuardianSansCond-Regular-76\"/>\n     <use x=\"435.799896\" xlink:href=\"#GuardianSansCond-Regular-69\"/>\n     <use x=\"455.099884\" xlink:href=\"#GuardianSansCond-Regular-65\"/>\n     <use x=\"497.799881\" xlink:href=\"#GuardianSansCond-Regular-20\"/>\n     <use x=\"513.599869\" xlink:href=\"#GuardianSansCond-Regular-74\"/>\n     <use x=\"542.599854\" xlink:href=\"#GuardianSansCond-Regular-6f\"/>\n     <use x=\"588.199844\" xlink:href=\"#GuardianSansCond-Regular-64\"/>\n     <use x=\"634.799835\" xlink:href=\"#GuardianSansCond-Regular-61\"/>\n     <use x=\"675.699829\" xlink:href=\"#GuardianSansCond-Regular-79\"/>\n     <use x=\"717.099823\" xlink:href=\"#GuardianSansCond-Regular-20\"/>\n     <use x=\"732.899811\" xlink:href=\"#GuardianSansCond-Regular-61\"/>\n     <use x=\"773.799805\" xlink:href=\"#GuardianSansCond-Regular-6e\"/>\n     <use x=\"819.899796\" xlink:href=\"#GuardianSansCond-Regular-64\"/>\n     <use x=\"866.499786\" xlink:href=\"#GuardianSansCond-Regular-20\"/>\n     <use x=\"882.299774\" xlink:href=\"#GuardianSansCond-Regular-69\"/>\n     <use x=\"901.599762\" xlink:href=\"#GuardianSansCond-Regular-74\"/>\n     <use x=\"930.599747\" xlink:href=\"#GuardianSansCond-Regular-20\"/>\n     <use x=\"946.399734\" xlink:href=\"#GuardianSansCond-Regular-77\"/>\n     <use x=\"1008.599731\" xlink:href=\"#GuardianSansCond-Regular-61\"/>\n     <use x=\"1049.499725\" xlink:href=\"#GuardianSansCond-Regular-73\"/>\n     <use x=\"1083.99971\" xlink:href=\"#GuardianSansCond-Regular-20\"/>\n     <use x=\"1099.799698\" xlink:href=\"#GuardianSansCond-Regular-72\"/>\n     <use x=\"1128.599686\" xlink:href=\"#GuardianSansCond-Regular-65\"/>\n     <use x=\"1171.299683\" xlink:href=\"#GuardianSansCond-Regular-61\"/>\n     <use x=\"1212.199677\" xlink:href=\"#GuardianSansCond-Regular-6c\"/>\n     <use x=\"1231.499664\" xlink:href=\"#GuardianSansCond-Regular-6c\"/>\n     <use x=\"1250.799652\" xlink:href=\"#GuardianSansCond-Regular-79\"/>\n     <use x=\"1292.199646\" xlink:href=\"#GuardianSansCond-Regular-20\"/>\n     <use x=\"1307.999634\" xlink:href=\"#GuardianSansCond-Regular-67\"/>\n     <use x=\"1350.699631\" xlink:href=\"#GuardianSansCond-Regular-6f\"/>\n     <use x=\"1396.299622\" xlink:href=\"#GuardianSansCond-Regular-6f\"/>\n     <use x=\"1441.899612\" xlink:href=\"#GuardianSansCond-Regular-64\"/>\n     <use x=\"1488.499603\" xlink:href=\"#GuardianSansCond-Regular-2e\"/>\n     <use x=\"1510.099594\" xlink:href=\"#GuardianSansCond-Regular-22\"/>\n    </g>\n   </g>\n  </g>\n </g>\n <defs>\n  <clipPath id=\"p0277c6ab7c\">\n   <rect height=\"217.44\" width=\"334.8\" x=\"45.66875\" y=\"23.7705\"/>\n  </clipPath>\n </defs>\n</svg>\n",
            "text/plain": [
              "<Figure size 432x288 with 1 Axes>"
            ]
          },
          "metadata": {
            "needs_background": "light"
          },
          "output_type": "display_data"
        }
      ],
      "source": [
        "preds_df = pd.DataFrame(preds[0])\n",
        "plt.bar(labels, 100 * preds_df[\"score\"], color='C0')\n",
        "plt.title(f'\"{custom_tweet}\"')\n",
        "plt.ylabel(\"Class probability (%)\")\n",
        "plt.show()"
      ]
    },
    {
      "cell_type": "markdown",
      "metadata": {
        "id": "JHAV88vQSZ9Q"
      },
      "source": [
        "## Conclusion"
      ]
    },
    {
      "cell_type": "markdown",
      "metadata": {
        "id": "TgVXbQTuSZ9Q"
      },
      "source": [
        "Congratulations, you now know how to train a transformer model to classify the emotions in tweets! We have seen two complementary approaches based on features and fine-tuning, and investigated their strengths and weaknesses.\n",
        "\n",
        "However, this is just the first step in building a real-world application with transformer models, and we have a lot more ground to cover. Here's a list of challenges you're likely to experience in your NLP journey:\n",
        "\n",
        "My boss wants my model in production yesterday!::\n",
        "In most applications, your model doesn't just sit somewhere gathering dust - you want to make sure it's serving predictions! When a model is pushed to the Hub, an inference endpoint is automatically created that can be called with HTTP requests. We recommend checking out the [documentation](https://api-inference.huggingface.co/docs/python/html/index.html) of the Inference API if you want to learn more.\n",
        "\n",
        "My users want faster predictions!::\n",
        "We've already seen one approach to this problem: using DistilBERT. In <<chapter_compression>> we'll dive into knowledge distillation (the process by which DistilBERT was created), along with other tricks to speed up your transformer models.\n",
        "\n",
        "\n",
        "Can your model also do X?::\n",
        "As we've alluded to in this chapter, transformers are extremely versatile. In the rest of the book we will be exploring a range of tasks, like question answering and named entity recognition, all using the same basic architecture.\n",
        "\n",
        "None of my texts are in English!::\n",
        "It turns out that transformers also come in a multilingual variety, and we'll use them in <<chapter_ner>> to tackle several languages at once.\n",
        "\n",
        "I don't have any labels!::\n",
        "If there is very little labeled data available, fine-tuning may not be an option. In <<chapter_fewlabels>>, we'll explore some techniques to deal with this situation.\n",
        "\n",
        "Now that we've seen what's involved in training and sharing a transformer, in the next chapter we'll explore implementing our very own transformer model from scratch."
      ]
    },
    {
      "cell_type": "code",
      "execution_count": null,
      "metadata": {
        "id": "4mMb565XSZ9Q"
      },
      "outputs": [],
      "source": []
    }
  ],
  "metadata": {
    "kernelspec": {
      "display_name": "Python 3",
      "name": "python3"
    },
    "colab": {
      "provenance": [],
      "gpuType": "T4"
    },
    "accelerator": "GPU",
    "widgets": {
      "application/vnd.jupyter.widget-state+json": {
        "405f41c7687c4fdfb32655142eca3221": {
          "model_module": "@jupyter-widgets/controls",
          "model_name": "HBoxModel",
          "model_module_version": "1.5.0",
          "state": {
            "_dom_classes": [],
            "_model_module": "@jupyter-widgets/controls",
            "_model_module_version": "1.5.0",
            "_model_name": "HBoxModel",
            "_view_count": null,
            "_view_module": "@jupyter-widgets/controls",
            "_view_module_version": "1.5.0",
            "_view_name": "HBoxView",
            "box_style": "",
            "children": [
              "IPY_MODEL_df4da14c528e4deb99aa5261d1bbbc4b",
              "IPY_MODEL_9eda71220e004cb0bcc37a7fba37e292",
              "IPY_MODEL_d3cb6c886a7342e89eb912792e7bf86e"
            ],
            "layout": "IPY_MODEL_7d15eb5b50c44b6aacfb3e2beace0e50"
          }
        },
        "df4da14c528e4deb99aa5261d1bbbc4b": {
          "model_module": "@jupyter-widgets/controls",
          "model_name": "HTMLModel",
          "model_module_version": "1.5.0",
          "state": {
            "_dom_classes": [],
            "_model_module": "@jupyter-widgets/controls",
            "_model_module_version": "1.5.0",
            "_model_name": "HTMLModel",
            "_view_count": null,
            "_view_module": "@jupyter-widgets/controls",
            "_view_module_version": "1.5.0",
            "_view_name": "HTMLView",
            "description": "",
            "description_tooltip": null,
            "layout": "IPY_MODEL_6f70e63246c94c4ab9a2f73278fa9ae9",
            "placeholder": "​",
            "style": "IPY_MODEL_3da765675fa843f4a9016c301376b127",
            "value": "Downloading builder script: 100%"
          }
        },
        "9eda71220e004cb0bcc37a7fba37e292": {
          "model_module": "@jupyter-widgets/controls",
          "model_name": "FloatProgressModel",
          "model_module_version": "1.5.0",
          "state": {
            "_dom_classes": [],
            "_model_module": "@jupyter-widgets/controls",
            "_model_module_version": "1.5.0",
            "_model_name": "FloatProgressModel",
            "_view_count": null,
            "_view_module": "@jupyter-widgets/controls",
            "_view_module_version": "1.5.0",
            "_view_name": "ProgressView",
            "bar_style": "success",
            "description": "",
            "description_tooltip": null,
            "layout": "IPY_MODEL_0577d6c7eb084e17929fe8aded2ba603",
            "max": 3968,
            "min": 0,
            "orientation": "horizontal",
            "style": "IPY_MODEL_a5bd9fced67f4cb08bbdbecff2d69722",
            "value": 3968
          }
        },
        "d3cb6c886a7342e89eb912792e7bf86e": {
          "model_module": "@jupyter-widgets/controls",
          "model_name": "HTMLModel",
          "model_module_version": "1.5.0",
          "state": {
            "_dom_classes": [],
            "_model_module": "@jupyter-widgets/controls",
            "_model_module_version": "1.5.0",
            "_model_name": "HTMLModel",
            "_view_count": null,
            "_view_module": "@jupyter-widgets/controls",
            "_view_module_version": "1.5.0",
            "_view_name": "HTMLView",
            "description": "",
            "description_tooltip": null,
            "layout": "IPY_MODEL_9da1ee41e70148ab94695506ec93790c",
            "placeholder": "​",
            "style": "IPY_MODEL_1ec25c61aff141888e1304fbecfb8b4d",
            "value": " 3.97k/3.97k [00:00&lt;00:00, 167kB/s]"
          }
        },
        "7d15eb5b50c44b6aacfb3e2beace0e50": {
          "model_module": "@jupyter-widgets/base",
          "model_name": "LayoutModel",
          "model_module_version": "1.2.0",
          "state": {
            "_model_module": "@jupyter-widgets/base",
            "_model_module_version": "1.2.0",
            "_model_name": "LayoutModel",
            "_view_count": null,
            "_view_module": "@jupyter-widgets/base",
            "_view_module_version": "1.2.0",
            "_view_name": "LayoutView",
            "align_content": null,
            "align_items": null,
            "align_self": null,
            "border": null,
            "bottom": null,
            "display": null,
            "flex": null,
            "flex_flow": null,
            "grid_area": null,
            "grid_auto_columns": null,
            "grid_auto_flow": null,
            "grid_auto_rows": null,
            "grid_column": null,
            "grid_gap": null,
            "grid_row": null,
            "grid_template_areas": null,
            "grid_template_columns": null,
            "grid_template_rows": null,
            "height": null,
            "justify_content": null,
            "justify_items": null,
            "left": null,
            "margin": null,
            "max_height": null,
            "max_width": null,
            "min_height": null,
            "min_width": null,
            "object_fit": null,
            "object_position": null,
            "order": null,
            "overflow": null,
            "overflow_x": null,
            "overflow_y": null,
            "padding": null,
            "right": null,
            "top": null,
            "visibility": null,
            "width": null
          }
        },
        "6f70e63246c94c4ab9a2f73278fa9ae9": {
          "model_module": "@jupyter-widgets/base",
          "model_name": "LayoutModel",
          "model_module_version": "1.2.0",
          "state": {
            "_model_module": "@jupyter-widgets/base",
            "_model_module_version": "1.2.0",
            "_model_name": "LayoutModel",
            "_view_count": null,
            "_view_module": "@jupyter-widgets/base",
            "_view_module_version": "1.2.0",
            "_view_name": "LayoutView",
            "align_content": null,
            "align_items": null,
            "align_self": null,
            "border": null,
            "bottom": null,
            "display": null,
            "flex": null,
            "flex_flow": null,
            "grid_area": null,
            "grid_auto_columns": null,
            "grid_auto_flow": null,
            "grid_auto_rows": null,
            "grid_column": null,
            "grid_gap": null,
            "grid_row": null,
            "grid_template_areas": null,
            "grid_template_columns": null,
            "grid_template_rows": null,
            "height": null,
            "justify_content": null,
            "justify_items": null,
            "left": null,
            "margin": null,
            "max_height": null,
            "max_width": null,
            "min_height": null,
            "min_width": null,
            "object_fit": null,
            "object_position": null,
            "order": null,
            "overflow": null,
            "overflow_x": null,
            "overflow_y": null,
            "padding": null,
            "right": null,
            "top": null,
            "visibility": null,
            "width": null
          }
        },
        "3da765675fa843f4a9016c301376b127": {
          "model_module": "@jupyter-widgets/controls",
          "model_name": "DescriptionStyleModel",
          "model_module_version": "1.5.0",
          "state": {
            "_model_module": "@jupyter-widgets/controls",
            "_model_module_version": "1.5.0",
            "_model_name": "DescriptionStyleModel",
            "_view_count": null,
            "_view_module": "@jupyter-widgets/base",
            "_view_module_version": "1.2.0",
            "_view_name": "StyleView",
            "description_width": ""
          }
        },
        "0577d6c7eb084e17929fe8aded2ba603": {
          "model_module": "@jupyter-widgets/base",
          "model_name": "LayoutModel",
          "model_module_version": "1.2.0",
          "state": {
            "_model_module": "@jupyter-widgets/base",
            "_model_module_version": "1.2.0",
            "_model_name": "LayoutModel",
            "_view_count": null,
            "_view_module": "@jupyter-widgets/base",
            "_view_module_version": "1.2.0",
            "_view_name": "LayoutView",
            "align_content": null,
            "align_items": null,
            "align_self": null,
            "border": null,
            "bottom": null,
            "display": null,
            "flex": null,
            "flex_flow": null,
            "grid_area": null,
            "grid_auto_columns": null,
            "grid_auto_flow": null,
            "grid_auto_rows": null,
            "grid_column": null,
            "grid_gap": null,
            "grid_row": null,
            "grid_template_areas": null,
            "grid_template_columns": null,
            "grid_template_rows": null,
            "height": null,
            "justify_content": null,
            "justify_items": null,
            "left": null,
            "margin": null,
            "max_height": null,
            "max_width": null,
            "min_height": null,
            "min_width": null,
            "object_fit": null,
            "object_position": null,
            "order": null,
            "overflow": null,
            "overflow_x": null,
            "overflow_y": null,
            "padding": null,
            "right": null,
            "top": null,
            "visibility": null,
            "width": null
          }
        },
        "a5bd9fced67f4cb08bbdbecff2d69722": {
          "model_module": "@jupyter-widgets/controls",
          "model_name": "ProgressStyleModel",
          "model_module_version": "1.5.0",
          "state": {
            "_model_module": "@jupyter-widgets/controls",
            "_model_module_version": "1.5.0",
            "_model_name": "ProgressStyleModel",
            "_view_count": null,
            "_view_module": "@jupyter-widgets/base",
            "_view_module_version": "1.2.0",
            "_view_name": "StyleView",
            "bar_color": null,
            "description_width": ""
          }
        },
        "9da1ee41e70148ab94695506ec93790c": {
          "model_module": "@jupyter-widgets/base",
          "model_name": "LayoutModel",
          "model_module_version": "1.2.0",
          "state": {
            "_model_module": "@jupyter-widgets/base",
            "_model_module_version": "1.2.0",
            "_model_name": "LayoutModel",
            "_view_count": null,
            "_view_module": "@jupyter-widgets/base",
            "_view_module_version": "1.2.0",
            "_view_name": "LayoutView",
            "align_content": null,
            "align_items": null,
            "align_self": null,
            "border": null,
            "bottom": null,
            "display": null,
            "flex": null,
            "flex_flow": null,
            "grid_area": null,
            "grid_auto_columns": null,
            "grid_auto_flow": null,
            "grid_auto_rows": null,
            "grid_column": null,
            "grid_gap": null,
            "grid_row": null,
            "grid_template_areas": null,
            "grid_template_columns": null,
            "grid_template_rows": null,
            "height": null,
            "justify_content": null,
            "justify_items": null,
            "left": null,
            "margin": null,
            "max_height": null,
            "max_width": null,
            "min_height": null,
            "min_width": null,
            "object_fit": null,
            "object_position": null,
            "order": null,
            "overflow": null,
            "overflow_x": null,
            "overflow_y": null,
            "padding": null,
            "right": null,
            "top": null,
            "visibility": null,
            "width": null
          }
        },
        "1ec25c61aff141888e1304fbecfb8b4d": {
          "model_module": "@jupyter-widgets/controls",
          "model_name": "DescriptionStyleModel",
          "model_module_version": "1.5.0",
          "state": {
            "_model_module": "@jupyter-widgets/controls",
            "_model_module_version": "1.5.0",
            "_model_name": "DescriptionStyleModel",
            "_view_count": null,
            "_view_module": "@jupyter-widgets/base",
            "_view_module_version": "1.2.0",
            "_view_name": "StyleView",
            "description_width": ""
          }
        },
        "8b951ab70456498898d87abc95de1479": {
          "model_module": "@jupyter-widgets/controls",
          "model_name": "HBoxModel",
          "model_module_version": "1.5.0",
          "state": {
            "_dom_classes": [],
            "_model_module": "@jupyter-widgets/controls",
            "_model_module_version": "1.5.0",
            "_model_name": "HBoxModel",
            "_view_count": null,
            "_view_module": "@jupyter-widgets/controls",
            "_view_module_version": "1.5.0",
            "_view_name": "HBoxView",
            "box_style": "",
            "children": [
              "IPY_MODEL_9a7e7aa2fdd54274932778f5b3194988",
              "IPY_MODEL_edbb8f56d54348cf90ee19a19cbd8dde",
              "IPY_MODEL_1e1c09fb9e864c01aa18270d520e4ab7"
            ],
            "layout": "IPY_MODEL_d4cb1d0fa8334d96a9351012cb81b8f4"
          }
        },
        "9a7e7aa2fdd54274932778f5b3194988": {
          "model_module": "@jupyter-widgets/controls",
          "model_name": "HTMLModel",
          "model_module_version": "1.5.0",
          "state": {
            "_dom_classes": [],
            "_model_module": "@jupyter-widgets/controls",
            "_model_module_version": "1.5.0",
            "_model_name": "HTMLModel",
            "_view_count": null,
            "_view_module": "@jupyter-widgets/controls",
            "_view_module_version": "1.5.0",
            "_view_name": "HTMLView",
            "description": "",
            "description_tooltip": null,
            "layout": "IPY_MODEL_eb72e464c9b54b06b24e3fb804260d3b",
            "placeholder": "​",
            "style": "IPY_MODEL_cd8c1dc4829d43edb889226611233046",
            "value": "Downloading metadata: 100%"
          }
        },
        "edbb8f56d54348cf90ee19a19cbd8dde": {
          "model_module": "@jupyter-widgets/controls",
          "model_name": "FloatProgressModel",
          "model_module_version": "1.5.0",
          "state": {
            "_dom_classes": [],
            "_model_module": "@jupyter-widgets/controls",
            "_model_module_version": "1.5.0",
            "_model_name": "FloatProgressModel",
            "_view_count": null,
            "_view_module": "@jupyter-widgets/controls",
            "_view_module_version": "1.5.0",
            "_view_name": "ProgressView",
            "bar_style": "success",
            "description": "",
            "description_tooltip": null,
            "layout": "IPY_MODEL_a9ac1af8a3764df1b25e4dfaea78b16d",
            "max": 3280,
            "min": 0,
            "orientation": "horizontal",
            "style": "IPY_MODEL_527fbff5a305463baebb2849f2768c93",
            "value": 3280
          }
        },
        "1e1c09fb9e864c01aa18270d520e4ab7": {
          "model_module": "@jupyter-widgets/controls",
          "model_name": "HTMLModel",
          "model_module_version": "1.5.0",
          "state": {
            "_dom_classes": [],
            "_model_module": "@jupyter-widgets/controls",
            "_model_module_version": "1.5.0",
            "_model_name": "HTMLModel",
            "_view_count": null,
            "_view_module": "@jupyter-widgets/controls",
            "_view_module_version": "1.5.0",
            "_view_name": "HTMLView",
            "description": "",
            "description_tooltip": null,
            "layout": "IPY_MODEL_82c8fa359cb148a5b0826d368d1f33df",
            "placeholder": "​",
            "style": "IPY_MODEL_c2550dd0e97549f09a1dd2941e92b340",
            "value": " 3.28k/3.28k [00:00&lt;00:00, 128kB/s]"
          }
        },
        "d4cb1d0fa8334d96a9351012cb81b8f4": {
          "model_module": "@jupyter-widgets/base",
          "model_name": "LayoutModel",
          "model_module_version": "1.2.0",
          "state": {
            "_model_module": "@jupyter-widgets/base",
            "_model_module_version": "1.2.0",
            "_model_name": "LayoutModel",
            "_view_count": null,
            "_view_module": "@jupyter-widgets/base",
            "_view_module_version": "1.2.0",
            "_view_name": "LayoutView",
            "align_content": null,
            "align_items": null,
            "align_self": null,
            "border": null,
            "bottom": null,
            "display": null,
            "flex": null,
            "flex_flow": null,
            "grid_area": null,
            "grid_auto_columns": null,
            "grid_auto_flow": null,
            "grid_auto_rows": null,
            "grid_column": null,
            "grid_gap": null,
            "grid_row": null,
            "grid_template_areas": null,
            "grid_template_columns": null,
            "grid_template_rows": null,
            "height": null,
            "justify_content": null,
            "justify_items": null,
            "left": null,
            "margin": null,
            "max_height": null,
            "max_width": null,
            "min_height": null,
            "min_width": null,
            "object_fit": null,
            "object_position": null,
            "order": null,
            "overflow": null,
            "overflow_x": null,
            "overflow_y": null,
            "padding": null,
            "right": null,
            "top": null,
            "visibility": null,
            "width": null
          }
        },
        "eb72e464c9b54b06b24e3fb804260d3b": {
          "model_module": "@jupyter-widgets/base",
          "model_name": "LayoutModel",
          "model_module_version": "1.2.0",
          "state": {
            "_model_module": "@jupyter-widgets/base",
            "_model_module_version": "1.2.0",
            "_model_name": "LayoutModel",
            "_view_count": null,
            "_view_module": "@jupyter-widgets/base",
            "_view_module_version": "1.2.0",
            "_view_name": "LayoutView",
            "align_content": null,
            "align_items": null,
            "align_self": null,
            "border": null,
            "bottom": null,
            "display": null,
            "flex": null,
            "flex_flow": null,
            "grid_area": null,
            "grid_auto_columns": null,
            "grid_auto_flow": null,
            "grid_auto_rows": null,
            "grid_column": null,
            "grid_gap": null,
            "grid_row": null,
            "grid_template_areas": null,
            "grid_template_columns": null,
            "grid_template_rows": null,
            "height": null,
            "justify_content": null,
            "justify_items": null,
            "left": null,
            "margin": null,
            "max_height": null,
            "max_width": null,
            "min_height": null,
            "min_width": null,
            "object_fit": null,
            "object_position": null,
            "order": null,
            "overflow": null,
            "overflow_x": null,
            "overflow_y": null,
            "padding": null,
            "right": null,
            "top": null,
            "visibility": null,
            "width": null
          }
        },
        "cd8c1dc4829d43edb889226611233046": {
          "model_module": "@jupyter-widgets/controls",
          "model_name": "DescriptionStyleModel",
          "model_module_version": "1.5.0",
          "state": {
            "_model_module": "@jupyter-widgets/controls",
            "_model_module_version": "1.5.0",
            "_model_name": "DescriptionStyleModel",
            "_view_count": null,
            "_view_module": "@jupyter-widgets/base",
            "_view_module_version": "1.2.0",
            "_view_name": "StyleView",
            "description_width": ""
          }
        },
        "a9ac1af8a3764df1b25e4dfaea78b16d": {
          "model_module": "@jupyter-widgets/base",
          "model_name": "LayoutModel",
          "model_module_version": "1.2.0",
          "state": {
            "_model_module": "@jupyter-widgets/base",
            "_model_module_version": "1.2.0",
            "_model_name": "LayoutModel",
            "_view_count": null,
            "_view_module": "@jupyter-widgets/base",
            "_view_module_version": "1.2.0",
            "_view_name": "LayoutView",
            "align_content": null,
            "align_items": null,
            "align_self": null,
            "border": null,
            "bottom": null,
            "display": null,
            "flex": null,
            "flex_flow": null,
            "grid_area": null,
            "grid_auto_columns": null,
            "grid_auto_flow": null,
            "grid_auto_rows": null,
            "grid_column": null,
            "grid_gap": null,
            "grid_row": null,
            "grid_template_areas": null,
            "grid_template_columns": null,
            "grid_template_rows": null,
            "height": null,
            "justify_content": null,
            "justify_items": null,
            "left": null,
            "margin": null,
            "max_height": null,
            "max_width": null,
            "min_height": null,
            "min_width": null,
            "object_fit": null,
            "object_position": null,
            "order": null,
            "overflow": null,
            "overflow_x": null,
            "overflow_y": null,
            "padding": null,
            "right": null,
            "top": null,
            "visibility": null,
            "width": null
          }
        },
        "527fbff5a305463baebb2849f2768c93": {
          "model_module": "@jupyter-widgets/controls",
          "model_name": "ProgressStyleModel",
          "model_module_version": "1.5.0",
          "state": {
            "_model_module": "@jupyter-widgets/controls",
            "_model_module_version": "1.5.0",
            "_model_name": "ProgressStyleModel",
            "_view_count": null,
            "_view_module": "@jupyter-widgets/base",
            "_view_module_version": "1.2.0",
            "_view_name": "StyleView",
            "bar_color": null,
            "description_width": ""
          }
        },
        "82c8fa359cb148a5b0826d368d1f33df": {
          "model_module": "@jupyter-widgets/base",
          "model_name": "LayoutModel",
          "model_module_version": "1.2.0",
          "state": {
            "_model_module": "@jupyter-widgets/base",
            "_model_module_version": "1.2.0",
            "_model_name": "LayoutModel",
            "_view_count": null,
            "_view_module": "@jupyter-widgets/base",
            "_view_module_version": "1.2.0",
            "_view_name": "LayoutView",
            "align_content": null,
            "align_items": null,
            "align_self": null,
            "border": null,
            "bottom": null,
            "display": null,
            "flex": null,
            "flex_flow": null,
            "grid_area": null,
            "grid_auto_columns": null,
            "grid_auto_flow": null,
            "grid_auto_rows": null,
            "grid_column": null,
            "grid_gap": null,
            "grid_row": null,
            "grid_template_areas": null,
            "grid_template_columns": null,
            "grid_template_rows": null,
            "height": null,
            "justify_content": null,
            "justify_items": null,
            "left": null,
            "margin": null,
            "max_height": null,
            "max_width": null,
            "min_height": null,
            "min_width": null,
            "object_fit": null,
            "object_position": null,
            "order": null,
            "overflow": null,
            "overflow_x": null,
            "overflow_y": null,
            "padding": null,
            "right": null,
            "top": null,
            "visibility": null,
            "width": null
          }
        },
        "c2550dd0e97549f09a1dd2941e92b340": {
          "model_module": "@jupyter-widgets/controls",
          "model_name": "DescriptionStyleModel",
          "model_module_version": "1.5.0",
          "state": {
            "_model_module": "@jupyter-widgets/controls",
            "_model_module_version": "1.5.0",
            "_model_name": "DescriptionStyleModel",
            "_view_count": null,
            "_view_module": "@jupyter-widgets/base",
            "_view_module_version": "1.2.0",
            "_view_name": "StyleView",
            "description_width": ""
          }
        },
        "00188a638adf46308f350b658529ce49": {
          "model_module": "@jupyter-widgets/controls",
          "model_name": "HBoxModel",
          "model_module_version": "1.5.0",
          "state": {
            "_dom_classes": [],
            "_model_module": "@jupyter-widgets/controls",
            "_model_module_version": "1.5.0",
            "_model_name": "HBoxModel",
            "_view_count": null,
            "_view_module": "@jupyter-widgets/controls",
            "_view_module_version": "1.5.0",
            "_view_name": "HBoxView",
            "box_style": "",
            "children": [
              "IPY_MODEL_09a012baa0524237a2c4577da59fb955",
              "IPY_MODEL_90edadfa463e4bf88d069289a604f032",
              "IPY_MODEL_b99187334d114febaa466f13997586fe"
            ],
            "layout": "IPY_MODEL_ffd536ecfdff46c6b4bf43b3dac42240"
          }
        },
        "09a012baa0524237a2c4577da59fb955": {
          "model_module": "@jupyter-widgets/controls",
          "model_name": "HTMLModel",
          "model_module_version": "1.5.0",
          "state": {
            "_dom_classes": [],
            "_model_module": "@jupyter-widgets/controls",
            "_model_module_version": "1.5.0",
            "_model_name": "HTMLModel",
            "_view_count": null,
            "_view_module": "@jupyter-widgets/controls",
            "_view_module_version": "1.5.0",
            "_view_name": "HTMLView",
            "description": "",
            "description_tooltip": null,
            "layout": "IPY_MODEL_2df80c213d1e49a681c7a2314e111a12",
            "placeholder": "​",
            "style": "IPY_MODEL_c3f34d1810e24c0e831d23d71a661399",
            "value": "Downloading readme: 100%"
          }
        },
        "90edadfa463e4bf88d069289a604f032": {
          "model_module": "@jupyter-widgets/controls",
          "model_name": "FloatProgressModel",
          "model_module_version": "1.5.0",
          "state": {
            "_dom_classes": [],
            "_model_module": "@jupyter-widgets/controls",
            "_model_module_version": "1.5.0",
            "_model_name": "FloatProgressModel",
            "_view_count": null,
            "_view_module": "@jupyter-widgets/controls",
            "_view_module_version": "1.5.0",
            "_view_name": "ProgressView",
            "bar_style": "success",
            "description": "",
            "description_tooltip": null,
            "layout": "IPY_MODEL_3e609e320c744232818f21dca061368b",
            "max": 8780,
            "min": 0,
            "orientation": "horizontal",
            "style": "IPY_MODEL_7bd250f7804e41c4bc4137ebe82858fa",
            "value": 8780
          }
        },
        "b99187334d114febaa466f13997586fe": {
          "model_module": "@jupyter-widgets/controls",
          "model_name": "HTMLModel",
          "model_module_version": "1.5.0",
          "state": {
            "_dom_classes": [],
            "_model_module": "@jupyter-widgets/controls",
            "_model_module_version": "1.5.0",
            "_model_name": "HTMLModel",
            "_view_count": null,
            "_view_module": "@jupyter-widgets/controls",
            "_view_module_version": "1.5.0",
            "_view_name": "HTMLView",
            "description": "",
            "description_tooltip": null,
            "layout": "IPY_MODEL_b84a1d45c2de4a42a851c7f232e50828",
            "placeholder": "​",
            "style": "IPY_MODEL_ea01e6c382cf4047be27fabfa52a4ece",
            "value": " 8.78k/8.78k [00:00&lt;00:00, 271kB/s]"
          }
        },
        "ffd536ecfdff46c6b4bf43b3dac42240": {
          "model_module": "@jupyter-widgets/base",
          "model_name": "LayoutModel",
          "model_module_version": "1.2.0",
          "state": {
            "_model_module": "@jupyter-widgets/base",
            "_model_module_version": "1.2.0",
            "_model_name": "LayoutModel",
            "_view_count": null,
            "_view_module": "@jupyter-widgets/base",
            "_view_module_version": "1.2.0",
            "_view_name": "LayoutView",
            "align_content": null,
            "align_items": null,
            "align_self": null,
            "border": null,
            "bottom": null,
            "display": null,
            "flex": null,
            "flex_flow": null,
            "grid_area": null,
            "grid_auto_columns": null,
            "grid_auto_flow": null,
            "grid_auto_rows": null,
            "grid_column": null,
            "grid_gap": null,
            "grid_row": null,
            "grid_template_areas": null,
            "grid_template_columns": null,
            "grid_template_rows": null,
            "height": null,
            "justify_content": null,
            "justify_items": null,
            "left": null,
            "margin": null,
            "max_height": null,
            "max_width": null,
            "min_height": null,
            "min_width": null,
            "object_fit": null,
            "object_position": null,
            "order": null,
            "overflow": null,
            "overflow_x": null,
            "overflow_y": null,
            "padding": null,
            "right": null,
            "top": null,
            "visibility": null,
            "width": null
          }
        },
        "2df80c213d1e49a681c7a2314e111a12": {
          "model_module": "@jupyter-widgets/base",
          "model_name": "LayoutModel",
          "model_module_version": "1.2.0",
          "state": {
            "_model_module": "@jupyter-widgets/base",
            "_model_module_version": "1.2.0",
            "_model_name": "LayoutModel",
            "_view_count": null,
            "_view_module": "@jupyter-widgets/base",
            "_view_module_version": "1.2.0",
            "_view_name": "LayoutView",
            "align_content": null,
            "align_items": null,
            "align_self": null,
            "border": null,
            "bottom": null,
            "display": null,
            "flex": null,
            "flex_flow": null,
            "grid_area": null,
            "grid_auto_columns": null,
            "grid_auto_flow": null,
            "grid_auto_rows": null,
            "grid_column": null,
            "grid_gap": null,
            "grid_row": null,
            "grid_template_areas": null,
            "grid_template_columns": null,
            "grid_template_rows": null,
            "height": null,
            "justify_content": null,
            "justify_items": null,
            "left": null,
            "margin": null,
            "max_height": null,
            "max_width": null,
            "min_height": null,
            "min_width": null,
            "object_fit": null,
            "object_position": null,
            "order": null,
            "overflow": null,
            "overflow_x": null,
            "overflow_y": null,
            "padding": null,
            "right": null,
            "top": null,
            "visibility": null,
            "width": null
          }
        },
        "c3f34d1810e24c0e831d23d71a661399": {
          "model_module": "@jupyter-widgets/controls",
          "model_name": "DescriptionStyleModel",
          "model_module_version": "1.5.0",
          "state": {
            "_model_module": "@jupyter-widgets/controls",
            "_model_module_version": "1.5.0",
            "_model_name": "DescriptionStyleModel",
            "_view_count": null,
            "_view_module": "@jupyter-widgets/base",
            "_view_module_version": "1.2.0",
            "_view_name": "StyleView",
            "description_width": ""
          }
        },
        "3e609e320c744232818f21dca061368b": {
          "model_module": "@jupyter-widgets/base",
          "model_name": "LayoutModel",
          "model_module_version": "1.2.0",
          "state": {
            "_model_module": "@jupyter-widgets/base",
            "_model_module_version": "1.2.0",
            "_model_name": "LayoutModel",
            "_view_count": null,
            "_view_module": "@jupyter-widgets/base",
            "_view_module_version": "1.2.0",
            "_view_name": "LayoutView",
            "align_content": null,
            "align_items": null,
            "align_self": null,
            "border": null,
            "bottom": null,
            "display": null,
            "flex": null,
            "flex_flow": null,
            "grid_area": null,
            "grid_auto_columns": null,
            "grid_auto_flow": null,
            "grid_auto_rows": null,
            "grid_column": null,
            "grid_gap": null,
            "grid_row": null,
            "grid_template_areas": null,
            "grid_template_columns": null,
            "grid_template_rows": null,
            "height": null,
            "justify_content": null,
            "justify_items": null,
            "left": null,
            "margin": null,
            "max_height": null,
            "max_width": null,
            "min_height": null,
            "min_width": null,
            "object_fit": null,
            "object_position": null,
            "order": null,
            "overflow": null,
            "overflow_x": null,
            "overflow_y": null,
            "padding": null,
            "right": null,
            "top": null,
            "visibility": null,
            "width": null
          }
        },
        "7bd250f7804e41c4bc4137ebe82858fa": {
          "model_module": "@jupyter-widgets/controls",
          "model_name": "ProgressStyleModel",
          "model_module_version": "1.5.0",
          "state": {
            "_model_module": "@jupyter-widgets/controls",
            "_model_module_version": "1.5.0",
            "_model_name": "ProgressStyleModel",
            "_view_count": null,
            "_view_module": "@jupyter-widgets/base",
            "_view_module_version": "1.2.0",
            "_view_name": "StyleView",
            "bar_color": null,
            "description_width": ""
          }
        },
        "b84a1d45c2de4a42a851c7f232e50828": {
          "model_module": "@jupyter-widgets/base",
          "model_name": "LayoutModel",
          "model_module_version": "1.2.0",
          "state": {
            "_model_module": "@jupyter-widgets/base",
            "_model_module_version": "1.2.0",
            "_model_name": "LayoutModel",
            "_view_count": null,
            "_view_module": "@jupyter-widgets/base",
            "_view_module_version": "1.2.0",
            "_view_name": "LayoutView",
            "align_content": null,
            "align_items": null,
            "align_self": null,
            "border": null,
            "bottom": null,
            "display": null,
            "flex": null,
            "flex_flow": null,
            "grid_area": null,
            "grid_auto_columns": null,
            "grid_auto_flow": null,
            "grid_auto_rows": null,
            "grid_column": null,
            "grid_gap": null,
            "grid_row": null,
            "grid_template_areas": null,
            "grid_template_columns": null,
            "grid_template_rows": null,
            "height": null,
            "justify_content": null,
            "justify_items": null,
            "left": null,
            "margin": null,
            "max_height": null,
            "max_width": null,
            "min_height": null,
            "min_width": null,
            "object_fit": null,
            "object_position": null,
            "order": null,
            "overflow": null,
            "overflow_x": null,
            "overflow_y": null,
            "padding": null,
            "right": null,
            "top": null,
            "visibility": null,
            "width": null
          }
        },
        "ea01e6c382cf4047be27fabfa52a4ece": {
          "model_module": "@jupyter-widgets/controls",
          "model_name": "DescriptionStyleModel",
          "model_module_version": "1.5.0",
          "state": {
            "_model_module": "@jupyter-widgets/controls",
            "_model_module_version": "1.5.0",
            "_model_name": "DescriptionStyleModel",
            "_view_count": null,
            "_view_module": "@jupyter-widgets/base",
            "_view_module_version": "1.2.0",
            "_view_name": "StyleView",
            "description_width": ""
          }
        },
        "1d87a389489f45cda4b631146b33a9de": {
          "model_module": "@jupyter-widgets/controls",
          "model_name": "HBoxModel",
          "model_module_version": "1.5.0",
          "state": {
            "_dom_classes": [],
            "_model_module": "@jupyter-widgets/controls",
            "_model_module_version": "1.5.0",
            "_model_name": "HBoxModel",
            "_view_count": null,
            "_view_module": "@jupyter-widgets/controls",
            "_view_module_version": "1.5.0",
            "_view_name": "HBoxView",
            "box_style": "",
            "children": [
              "IPY_MODEL_dfdbe41d3eac459eb9ae172b9caacd05",
              "IPY_MODEL_fac24e0dda2c435e898e566ee7b13cfa",
              "IPY_MODEL_e05c8fadad4d4c1584f43fa5cb755287"
            ],
            "layout": "IPY_MODEL_7c9447d533b74598be0f48f5d798c28e"
          }
        },
        "dfdbe41d3eac459eb9ae172b9caacd05": {
          "model_module": "@jupyter-widgets/controls",
          "model_name": "HTMLModel",
          "model_module_version": "1.5.0",
          "state": {
            "_dom_classes": [],
            "_model_module": "@jupyter-widgets/controls",
            "_model_module_version": "1.5.0",
            "_model_name": "HTMLModel",
            "_view_count": null,
            "_view_module": "@jupyter-widgets/controls",
            "_view_module_version": "1.5.0",
            "_view_name": "HTMLView",
            "description": "",
            "description_tooltip": null,
            "layout": "IPY_MODEL_d9e9d3ca31bb407bb862168807eb9697",
            "placeholder": "​",
            "style": "IPY_MODEL_3f84db189bbe45009afd5358037959ec",
            "value": "Downloading data files: 100%"
          }
        },
        "fac24e0dda2c435e898e566ee7b13cfa": {
          "model_module": "@jupyter-widgets/controls",
          "model_name": "FloatProgressModel",
          "model_module_version": "1.5.0",
          "state": {
            "_dom_classes": [],
            "_model_module": "@jupyter-widgets/controls",
            "_model_module_version": "1.5.0",
            "_model_name": "FloatProgressModel",
            "_view_count": null,
            "_view_module": "@jupyter-widgets/controls",
            "_view_module_version": "1.5.0",
            "_view_name": "ProgressView",
            "bar_style": "success",
            "description": "",
            "description_tooltip": null,
            "layout": "IPY_MODEL_f9aea1e6b4d5495a91767b561d63672d",
            "max": 3,
            "min": 0,
            "orientation": "horizontal",
            "style": "IPY_MODEL_8d816c074b9c48aa90a10b1108541447",
            "value": 3
          }
        },
        "e05c8fadad4d4c1584f43fa5cb755287": {
          "model_module": "@jupyter-widgets/controls",
          "model_name": "HTMLModel",
          "model_module_version": "1.5.0",
          "state": {
            "_dom_classes": [],
            "_model_module": "@jupyter-widgets/controls",
            "_model_module_version": "1.5.0",
            "_model_name": "HTMLModel",
            "_view_count": null,
            "_view_module": "@jupyter-widgets/controls",
            "_view_module_version": "1.5.0",
            "_view_name": "HTMLView",
            "description": "",
            "description_tooltip": null,
            "layout": "IPY_MODEL_59b8952c86194b08bbe37af53e61c5bb",
            "placeholder": "​",
            "style": "IPY_MODEL_82a18727adcc4c89a22a44c18e5be94f",
            "value": " 3/3 [00:05&lt;00:00,  1.73s/it]"
          }
        },
        "7c9447d533b74598be0f48f5d798c28e": {
          "model_module": "@jupyter-widgets/base",
          "model_name": "LayoutModel",
          "model_module_version": "1.2.0",
          "state": {
            "_model_module": "@jupyter-widgets/base",
            "_model_module_version": "1.2.0",
            "_model_name": "LayoutModel",
            "_view_count": null,
            "_view_module": "@jupyter-widgets/base",
            "_view_module_version": "1.2.0",
            "_view_name": "LayoutView",
            "align_content": null,
            "align_items": null,
            "align_self": null,
            "border": null,
            "bottom": null,
            "display": null,
            "flex": null,
            "flex_flow": null,
            "grid_area": null,
            "grid_auto_columns": null,
            "grid_auto_flow": null,
            "grid_auto_rows": null,
            "grid_column": null,
            "grid_gap": null,
            "grid_row": null,
            "grid_template_areas": null,
            "grid_template_columns": null,
            "grid_template_rows": null,
            "height": null,
            "justify_content": null,
            "justify_items": null,
            "left": null,
            "margin": null,
            "max_height": null,
            "max_width": null,
            "min_height": null,
            "min_width": null,
            "object_fit": null,
            "object_position": null,
            "order": null,
            "overflow": null,
            "overflow_x": null,
            "overflow_y": null,
            "padding": null,
            "right": null,
            "top": null,
            "visibility": null,
            "width": null
          }
        },
        "d9e9d3ca31bb407bb862168807eb9697": {
          "model_module": "@jupyter-widgets/base",
          "model_name": "LayoutModel",
          "model_module_version": "1.2.0",
          "state": {
            "_model_module": "@jupyter-widgets/base",
            "_model_module_version": "1.2.0",
            "_model_name": "LayoutModel",
            "_view_count": null,
            "_view_module": "@jupyter-widgets/base",
            "_view_module_version": "1.2.0",
            "_view_name": "LayoutView",
            "align_content": null,
            "align_items": null,
            "align_self": null,
            "border": null,
            "bottom": null,
            "display": null,
            "flex": null,
            "flex_flow": null,
            "grid_area": null,
            "grid_auto_columns": null,
            "grid_auto_flow": null,
            "grid_auto_rows": null,
            "grid_column": null,
            "grid_gap": null,
            "grid_row": null,
            "grid_template_areas": null,
            "grid_template_columns": null,
            "grid_template_rows": null,
            "height": null,
            "justify_content": null,
            "justify_items": null,
            "left": null,
            "margin": null,
            "max_height": null,
            "max_width": null,
            "min_height": null,
            "min_width": null,
            "object_fit": null,
            "object_position": null,
            "order": null,
            "overflow": null,
            "overflow_x": null,
            "overflow_y": null,
            "padding": null,
            "right": null,
            "top": null,
            "visibility": null,
            "width": null
          }
        },
        "3f84db189bbe45009afd5358037959ec": {
          "model_module": "@jupyter-widgets/controls",
          "model_name": "DescriptionStyleModel",
          "model_module_version": "1.5.0",
          "state": {
            "_model_module": "@jupyter-widgets/controls",
            "_model_module_version": "1.5.0",
            "_model_name": "DescriptionStyleModel",
            "_view_count": null,
            "_view_module": "@jupyter-widgets/base",
            "_view_module_version": "1.2.0",
            "_view_name": "StyleView",
            "description_width": ""
          }
        },
        "f9aea1e6b4d5495a91767b561d63672d": {
          "model_module": "@jupyter-widgets/base",
          "model_name": "LayoutModel",
          "model_module_version": "1.2.0",
          "state": {
            "_model_module": "@jupyter-widgets/base",
            "_model_module_version": "1.2.0",
            "_model_name": "LayoutModel",
            "_view_count": null,
            "_view_module": "@jupyter-widgets/base",
            "_view_module_version": "1.2.0",
            "_view_name": "LayoutView",
            "align_content": null,
            "align_items": null,
            "align_self": null,
            "border": null,
            "bottom": null,
            "display": null,
            "flex": null,
            "flex_flow": null,
            "grid_area": null,
            "grid_auto_columns": null,
            "grid_auto_flow": null,
            "grid_auto_rows": null,
            "grid_column": null,
            "grid_gap": null,
            "grid_row": null,
            "grid_template_areas": null,
            "grid_template_columns": null,
            "grid_template_rows": null,
            "height": null,
            "justify_content": null,
            "justify_items": null,
            "left": null,
            "margin": null,
            "max_height": null,
            "max_width": null,
            "min_height": null,
            "min_width": null,
            "object_fit": null,
            "object_position": null,
            "order": null,
            "overflow": null,
            "overflow_x": null,
            "overflow_y": null,
            "padding": null,
            "right": null,
            "top": null,
            "visibility": null,
            "width": null
          }
        },
        "8d816c074b9c48aa90a10b1108541447": {
          "model_module": "@jupyter-widgets/controls",
          "model_name": "ProgressStyleModel",
          "model_module_version": "1.5.0",
          "state": {
            "_model_module": "@jupyter-widgets/controls",
            "_model_module_version": "1.5.0",
            "_model_name": "ProgressStyleModel",
            "_view_count": null,
            "_view_module": "@jupyter-widgets/base",
            "_view_module_version": "1.2.0",
            "_view_name": "StyleView",
            "bar_color": null,
            "description_width": ""
          }
        },
        "59b8952c86194b08bbe37af53e61c5bb": {
          "model_module": "@jupyter-widgets/base",
          "model_name": "LayoutModel",
          "model_module_version": "1.2.0",
          "state": {
            "_model_module": "@jupyter-widgets/base",
            "_model_module_version": "1.2.0",
            "_model_name": "LayoutModel",
            "_view_count": null,
            "_view_module": "@jupyter-widgets/base",
            "_view_module_version": "1.2.0",
            "_view_name": "LayoutView",
            "align_content": null,
            "align_items": null,
            "align_self": null,
            "border": null,
            "bottom": null,
            "display": null,
            "flex": null,
            "flex_flow": null,
            "grid_area": null,
            "grid_auto_columns": null,
            "grid_auto_flow": null,
            "grid_auto_rows": null,
            "grid_column": null,
            "grid_gap": null,
            "grid_row": null,
            "grid_template_areas": null,
            "grid_template_columns": null,
            "grid_template_rows": null,
            "height": null,
            "justify_content": null,
            "justify_items": null,
            "left": null,
            "margin": null,
            "max_height": null,
            "max_width": null,
            "min_height": null,
            "min_width": null,
            "object_fit": null,
            "object_position": null,
            "order": null,
            "overflow": null,
            "overflow_x": null,
            "overflow_y": null,
            "padding": null,
            "right": null,
            "top": null,
            "visibility": null,
            "width": null
          }
        },
        "82a18727adcc4c89a22a44c18e5be94f": {
          "model_module": "@jupyter-widgets/controls",
          "model_name": "DescriptionStyleModel",
          "model_module_version": "1.5.0",
          "state": {
            "_model_module": "@jupyter-widgets/controls",
            "_model_module_version": "1.5.0",
            "_model_name": "DescriptionStyleModel",
            "_view_count": null,
            "_view_module": "@jupyter-widgets/base",
            "_view_module_version": "1.2.0",
            "_view_name": "StyleView",
            "description_width": ""
          }
        },
        "8a2b73df805443cd9fa0ed7382cde358": {
          "model_module": "@jupyter-widgets/controls",
          "model_name": "HBoxModel",
          "model_module_version": "1.5.0",
          "state": {
            "_dom_classes": [],
            "_model_module": "@jupyter-widgets/controls",
            "_model_module_version": "1.5.0",
            "_model_name": "HBoxModel",
            "_view_count": null,
            "_view_module": "@jupyter-widgets/controls",
            "_view_module_version": "1.5.0",
            "_view_name": "HBoxView",
            "box_style": "",
            "children": [
              "IPY_MODEL_a716ac4b9df74cbbbc558802091d12b7",
              "IPY_MODEL_4d15b6ec569148e08d6a2db01a0fcc0f",
              "IPY_MODEL_9bd9510dd0b84c6aa88629f3fdd77ec8"
            ],
            "layout": "IPY_MODEL_1340e7d6baa0402792a7f0e58660e52d"
          }
        },
        "a716ac4b9df74cbbbc558802091d12b7": {
          "model_module": "@jupyter-widgets/controls",
          "model_name": "HTMLModel",
          "model_module_version": "1.5.0",
          "state": {
            "_dom_classes": [],
            "_model_module": "@jupyter-widgets/controls",
            "_model_module_version": "1.5.0",
            "_model_name": "HTMLModel",
            "_view_count": null,
            "_view_module": "@jupyter-widgets/controls",
            "_view_module_version": "1.5.0",
            "_view_name": "HTMLView",
            "description": "",
            "description_tooltip": null,
            "layout": "IPY_MODEL_52eb643f580a49e3b3a9188a12fe38fd",
            "placeholder": "​",
            "style": "IPY_MODEL_8fbde4fadab24c31bf05397864154d1c",
            "value": "Downloading data: 100%"
          }
        },
        "4d15b6ec569148e08d6a2db01a0fcc0f": {
          "model_module": "@jupyter-widgets/controls",
          "model_name": "FloatProgressModel",
          "model_module_version": "1.5.0",
          "state": {
            "_dom_classes": [],
            "_model_module": "@jupyter-widgets/controls",
            "_model_module_version": "1.5.0",
            "_model_name": "FloatProgressModel",
            "_view_count": null,
            "_view_module": "@jupyter-widgets/controls",
            "_view_module_version": "1.5.0",
            "_view_name": "ProgressView",
            "bar_style": "success",
            "description": "",
            "description_tooltip": null,
            "layout": "IPY_MODEL_11362be490b745249e2d7a4ef04e43dd",
            "max": 591930,
            "min": 0,
            "orientation": "horizontal",
            "style": "IPY_MODEL_241d0dbd18e049129e5ede3fbe51d690",
            "value": 591930
          }
        },
        "9bd9510dd0b84c6aa88629f3fdd77ec8": {
          "model_module": "@jupyter-widgets/controls",
          "model_name": "HTMLModel",
          "model_module_version": "1.5.0",
          "state": {
            "_dom_classes": [],
            "_model_module": "@jupyter-widgets/controls",
            "_model_module_version": "1.5.0",
            "_model_name": "HTMLModel",
            "_view_count": null,
            "_view_module": "@jupyter-widgets/controls",
            "_view_module_version": "1.5.0",
            "_view_name": "HTMLView",
            "description": "",
            "description_tooltip": null,
            "layout": "IPY_MODEL_5eb3dd5a0dbd4824aaa21f9d79a7e9d2",
            "placeholder": "​",
            "style": "IPY_MODEL_f9b385d16ed3400aaecc33590c68765a",
            "value": " 592k/592k [00:00&lt;00:00, 2.82MB/s]"
          }
        },
        "1340e7d6baa0402792a7f0e58660e52d": {
          "model_module": "@jupyter-widgets/base",
          "model_name": "LayoutModel",
          "model_module_version": "1.2.0",
          "state": {
            "_model_module": "@jupyter-widgets/base",
            "_model_module_version": "1.2.0",
            "_model_name": "LayoutModel",
            "_view_count": null,
            "_view_module": "@jupyter-widgets/base",
            "_view_module_version": "1.2.0",
            "_view_name": "LayoutView",
            "align_content": null,
            "align_items": null,
            "align_self": null,
            "border": null,
            "bottom": null,
            "display": null,
            "flex": null,
            "flex_flow": null,
            "grid_area": null,
            "grid_auto_columns": null,
            "grid_auto_flow": null,
            "grid_auto_rows": null,
            "grid_column": null,
            "grid_gap": null,
            "grid_row": null,
            "grid_template_areas": null,
            "grid_template_columns": null,
            "grid_template_rows": null,
            "height": null,
            "justify_content": null,
            "justify_items": null,
            "left": null,
            "margin": null,
            "max_height": null,
            "max_width": null,
            "min_height": null,
            "min_width": null,
            "object_fit": null,
            "object_position": null,
            "order": null,
            "overflow": null,
            "overflow_x": null,
            "overflow_y": null,
            "padding": null,
            "right": null,
            "top": null,
            "visibility": null,
            "width": null
          }
        },
        "52eb643f580a49e3b3a9188a12fe38fd": {
          "model_module": "@jupyter-widgets/base",
          "model_name": "LayoutModel",
          "model_module_version": "1.2.0",
          "state": {
            "_model_module": "@jupyter-widgets/base",
            "_model_module_version": "1.2.0",
            "_model_name": "LayoutModel",
            "_view_count": null,
            "_view_module": "@jupyter-widgets/base",
            "_view_module_version": "1.2.0",
            "_view_name": "LayoutView",
            "align_content": null,
            "align_items": null,
            "align_self": null,
            "border": null,
            "bottom": null,
            "display": null,
            "flex": null,
            "flex_flow": null,
            "grid_area": null,
            "grid_auto_columns": null,
            "grid_auto_flow": null,
            "grid_auto_rows": null,
            "grid_column": null,
            "grid_gap": null,
            "grid_row": null,
            "grid_template_areas": null,
            "grid_template_columns": null,
            "grid_template_rows": null,
            "height": null,
            "justify_content": null,
            "justify_items": null,
            "left": null,
            "margin": null,
            "max_height": null,
            "max_width": null,
            "min_height": null,
            "min_width": null,
            "object_fit": null,
            "object_position": null,
            "order": null,
            "overflow": null,
            "overflow_x": null,
            "overflow_y": null,
            "padding": null,
            "right": null,
            "top": null,
            "visibility": null,
            "width": null
          }
        },
        "8fbde4fadab24c31bf05397864154d1c": {
          "model_module": "@jupyter-widgets/controls",
          "model_name": "DescriptionStyleModel",
          "model_module_version": "1.5.0",
          "state": {
            "_model_module": "@jupyter-widgets/controls",
            "_model_module_version": "1.5.0",
            "_model_name": "DescriptionStyleModel",
            "_view_count": null,
            "_view_module": "@jupyter-widgets/base",
            "_view_module_version": "1.2.0",
            "_view_name": "StyleView",
            "description_width": ""
          }
        },
        "11362be490b745249e2d7a4ef04e43dd": {
          "model_module": "@jupyter-widgets/base",
          "model_name": "LayoutModel",
          "model_module_version": "1.2.0",
          "state": {
            "_model_module": "@jupyter-widgets/base",
            "_model_module_version": "1.2.0",
            "_model_name": "LayoutModel",
            "_view_count": null,
            "_view_module": "@jupyter-widgets/base",
            "_view_module_version": "1.2.0",
            "_view_name": "LayoutView",
            "align_content": null,
            "align_items": null,
            "align_self": null,
            "border": null,
            "bottom": null,
            "display": null,
            "flex": null,
            "flex_flow": null,
            "grid_area": null,
            "grid_auto_columns": null,
            "grid_auto_flow": null,
            "grid_auto_rows": null,
            "grid_column": null,
            "grid_gap": null,
            "grid_row": null,
            "grid_template_areas": null,
            "grid_template_columns": null,
            "grid_template_rows": null,
            "height": null,
            "justify_content": null,
            "justify_items": null,
            "left": null,
            "margin": null,
            "max_height": null,
            "max_width": null,
            "min_height": null,
            "min_width": null,
            "object_fit": null,
            "object_position": null,
            "order": null,
            "overflow": null,
            "overflow_x": null,
            "overflow_y": null,
            "padding": null,
            "right": null,
            "top": null,
            "visibility": null,
            "width": null
          }
        },
        "241d0dbd18e049129e5ede3fbe51d690": {
          "model_module": "@jupyter-widgets/controls",
          "model_name": "ProgressStyleModel",
          "model_module_version": "1.5.0",
          "state": {
            "_model_module": "@jupyter-widgets/controls",
            "_model_module_version": "1.5.0",
            "_model_name": "ProgressStyleModel",
            "_view_count": null,
            "_view_module": "@jupyter-widgets/base",
            "_view_module_version": "1.2.0",
            "_view_name": "StyleView",
            "bar_color": null,
            "description_width": ""
          }
        },
        "5eb3dd5a0dbd4824aaa21f9d79a7e9d2": {
          "model_module": "@jupyter-widgets/base",
          "model_name": "LayoutModel",
          "model_module_version": "1.2.0",
          "state": {
            "_model_module": "@jupyter-widgets/base",
            "_model_module_version": "1.2.0",
            "_model_name": "LayoutModel",
            "_view_count": null,
            "_view_module": "@jupyter-widgets/base",
            "_view_module_version": "1.2.0",
            "_view_name": "LayoutView",
            "align_content": null,
            "align_items": null,
            "align_self": null,
            "border": null,
            "bottom": null,
            "display": null,
            "flex": null,
            "flex_flow": null,
            "grid_area": null,
            "grid_auto_columns": null,
            "grid_auto_flow": null,
            "grid_auto_rows": null,
            "grid_column": null,
            "grid_gap": null,
            "grid_row": null,
            "grid_template_areas": null,
            "grid_template_columns": null,
            "grid_template_rows": null,
            "height": null,
            "justify_content": null,
            "justify_items": null,
            "left": null,
            "margin": null,
            "max_height": null,
            "max_width": null,
            "min_height": null,
            "min_width": null,
            "object_fit": null,
            "object_position": null,
            "order": null,
            "overflow": null,
            "overflow_x": null,
            "overflow_y": null,
            "padding": null,
            "right": null,
            "top": null,
            "visibility": null,
            "width": null
          }
        },
        "f9b385d16ed3400aaecc33590c68765a": {
          "model_module": "@jupyter-widgets/controls",
          "model_name": "DescriptionStyleModel",
          "model_module_version": "1.5.0",
          "state": {
            "_model_module": "@jupyter-widgets/controls",
            "_model_module_version": "1.5.0",
            "_model_name": "DescriptionStyleModel",
            "_view_count": null,
            "_view_module": "@jupyter-widgets/base",
            "_view_module_version": "1.2.0",
            "_view_name": "StyleView",
            "description_width": ""
          }
        },
        "e1c9ad1fa19a4d77b2fdfd91ad29b867": {
          "model_module": "@jupyter-widgets/controls",
          "model_name": "HBoxModel",
          "model_module_version": "1.5.0",
          "state": {
            "_dom_classes": [],
            "_model_module": "@jupyter-widgets/controls",
            "_model_module_version": "1.5.0",
            "_model_name": "HBoxModel",
            "_view_count": null,
            "_view_module": "@jupyter-widgets/controls",
            "_view_module_version": "1.5.0",
            "_view_name": "HBoxView",
            "box_style": "",
            "children": [
              "IPY_MODEL_56ddbce26194467a844615f3392008dd",
              "IPY_MODEL_ff23e1404c5543f2ba4115f6f453510f",
              "IPY_MODEL_bcf1ef990e424112ace7dd7d58d55ac8"
            ],
            "layout": "IPY_MODEL_c19256b6875741f4ae0020fb7e67a0a0"
          }
        },
        "56ddbce26194467a844615f3392008dd": {
          "model_module": "@jupyter-widgets/controls",
          "model_name": "HTMLModel",
          "model_module_version": "1.5.0",
          "state": {
            "_dom_classes": [],
            "_model_module": "@jupyter-widgets/controls",
            "_model_module_version": "1.5.0",
            "_model_name": "HTMLModel",
            "_view_count": null,
            "_view_module": "@jupyter-widgets/controls",
            "_view_module_version": "1.5.0",
            "_view_name": "HTMLView",
            "description": "",
            "description_tooltip": null,
            "layout": "IPY_MODEL_5e8801d2f3174b0c82fa512e7457c07e",
            "placeholder": "​",
            "style": "IPY_MODEL_d0ebfc3665d84e8d8d95ec22a5b32056",
            "value": "Downloading data: 100%"
          }
        },
        "ff23e1404c5543f2ba4115f6f453510f": {
          "model_module": "@jupyter-widgets/controls",
          "model_name": "FloatProgressModel",
          "model_module_version": "1.5.0",
          "state": {
            "_dom_classes": [],
            "_model_module": "@jupyter-widgets/controls",
            "_model_module_version": "1.5.0",
            "_model_name": "FloatProgressModel",
            "_view_count": null,
            "_view_module": "@jupyter-widgets/controls",
            "_view_module_version": "1.5.0",
            "_view_name": "ProgressView",
            "bar_style": "success",
            "description": "",
            "description_tooltip": null,
            "layout": "IPY_MODEL_8b829c6bdcb94be8b7bf69ea1c7f9aeb",
            "max": 74018,
            "min": 0,
            "orientation": "horizontal",
            "style": "IPY_MODEL_e3f7d490d9bb4f65859dae1f0d2147e6",
            "value": 74018
          }
        },
        "bcf1ef990e424112ace7dd7d58d55ac8": {
          "model_module": "@jupyter-widgets/controls",
          "model_name": "HTMLModel",
          "model_module_version": "1.5.0",
          "state": {
            "_dom_classes": [],
            "_model_module": "@jupyter-widgets/controls",
            "_model_module_version": "1.5.0",
            "_model_name": "HTMLModel",
            "_view_count": null,
            "_view_module": "@jupyter-widgets/controls",
            "_view_module_version": "1.5.0",
            "_view_name": "HTMLView",
            "description": "",
            "description_tooltip": null,
            "layout": "IPY_MODEL_515aed84675d4609a95130011173baa4",
            "placeholder": "​",
            "style": "IPY_MODEL_66302974f9fa4912a7a2274052f5e713",
            "value": " 74.0k/74.0k [00:00&lt;00:00, 1.87MB/s]"
          }
        },
        "c19256b6875741f4ae0020fb7e67a0a0": {
          "model_module": "@jupyter-widgets/base",
          "model_name": "LayoutModel",
          "model_module_version": "1.2.0",
          "state": {
            "_model_module": "@jupyter-widgets/base",
            "_model_module_version": "1.2.0",
            "_model_name": "LayoutModel",
            "_view_count": null,
            "_view_module": "@jupyter-widgets/base",
            "_view_module_version": "1.2.0",
            "_view_name": "LayoutView",
            "align_content": null,
            "align_items": null,
            "align_self": null,
            "border": null,
            "bottom": null,
            "display": null,
            "flex": null,
            "flex_flow": null,
            "grid_area": null,
            "grid_auto_columns": null,
            "grid_auto_flow": null,
            "grid_auto_rows": null,
            "grid_column": null,
            "grid_gap": null,
            "grid_row": null,
            "grid_template_areas": null,
            "grid_template_columns": null,
            "grid_template_rows": null,
            "height": null,
            "justify_content": null,
            "justify_items": null,
            "left": null,
            "margin": null,
            "max_height": null,
            "max_width": null,
            "min_height": null,
            "min_width": null,
            "object_fit": null,
            "object_position": null,
            "order": null,
            "overflow": null,
            "overflow_x": null,
            "overflow_y": null,
            "padding": null,
            "right": null,
            "top": null,
            "visibility": null,
            "width": null
          }
        },
        "5e8801d2f3174b0c82fa512e7457c07e": {
          "model_module": "@jupyter-widgets/base",
          "model_name": "LayoutModel",
          "model_module_version": "1.2.0",
          "state": {
            "_model_module": "@jupyter-widgets/base",
            "_model_module_version": "1.2.0",
            "_model_name": "LayoutModel",
            "_view_count": null,
            "_view_module": "@jupyter-widgets/base",
            "_view_module_version": "1.2.0",
            "_view_name": "LayoutView",
            "align_content": null,
            "align_items": null,
            "align_self": null,
            "border": null,
            "bottom": null,
            "display": null,
            "flex": null,
            "flex_flow": null,
            "grid_area": null,
            "grid_auto_columns": null,
            "grid_auto_flow": null,
            "grid_auto_rows": null,
            "grid_column": null,
            "grid_gap": null,
            "grid_row": null,
            "grid_template_areas": null,
            "grid_template_columns": null,
            "grid_template_rows": null,
            "height": null,
            "justify_content": null,
            "justify_items": null,
            "left": null,
            "margin": null,
            "max_height": null,
            "max_width": null,
            "min_height": null,
            "min_width": null,
            "object_fit": null,
            "object_position": null,
            "order": null,
            "overflow": null,
            "overflow_x": null,
            "overflow_y": null,
            "padding": null,
            "right": null,
            "top": null,
            "visibility": null,
            "width": null
          }
        },
        "d0ebfc3665d84e8d8d95ec22a5b32056": {
          "model_module": "@jupyter-widgets/controls",
          "model_name": "DescriptionStyleModel",
          "model_module_version": "1.5.0",
          "state": {
            "_model_module": "@jupyter-widgets/controls",
            "_model_module_version": "1.5.0",
            "_model_name": "DescriptionStyleModel",
            "_view_count": null,
            "_view_module": "@jupyter-widgets/base",
            "_view_module_version": "1.2.0",
            "_view_name": "StyleView",
            "description_width": ""
          }
        },
        "8b829c6bdcb94be8b7bf69ea1c7f9aeb": {
          "model_module": "@jupyter-widgets/base",
          "model_name": "LayoutModel",
          "model_module_version": "1.2.0",
          "state": {
            "_model_module": "@jupyter-widgets/base",
            "_model_module_version": "1.2.0",
            "_model_name": "LayoutModel",
            "_view_count": null,
            "_view_module": "@jupyter-widgets/base",
            "_view_module_version": "1.2.0",
            "_view_name": "LayoutView",
            "align_content": null,
            "align_items": null,
            "align_self": null,
            "border": null,
            "bottom": null,
            "display": null,
            "flex": null,
            "flex_flow": null,
            "grid_area": null,
            "grid_auto_columns": null,
            "grid_auto_flow": null,
            "grid_auto_rows": null,
            "grid_column": null,
            "grid_gap": null,
            "grid_row": null,
            "grid_template_areas": null,
            "grid_template_columns": null,
            "grid_template_rows": null,
            "height": null,
            "justify_content": null,
            "justify_items": null,
            "left": null,
            "margin": null,
            "max_height": null,
            "max_width": null,
            "min_height": null,
            "min_width": null,
            "object_fit": null,
            "object_position": null,
            "order": null,
            "overflow": null,
            "overflow_x": null,
            "overflow_y": null,
            "padding": null,
            "right": null,
            "top": null,
            "visibility": null,
            "width": null
          }
        },
        "e3f7d490d9bb4f65859dae1f0d2147e6": {
          "model_module": "@jupyter-widgets/controls",
          "model_name": "ProgressStyleModel",
          "model_module_version": "1.5.0",
          "state": {
            "_model_module": "@jupyter-widgets/controls",
            "_model_module_version": "1.5.0",
            "_model_name": "ProgressStyleModel",
            "_view_count": null,
            "_view_module": "@jupyter-widgets/base",
            "_view_module_version": "1.2.0",
            "_view_name": "StyleView",
            "bar_color": null,
            "description_width": ""
          }
        },
        "515aed84675d4609a95130011173baa4": {
          "model_module": "@jupyter-widgets/base",
          "model_name": "LayoutModel",
          "model_module_version": "1.2.0",
          "state": {
            "_model_module": "@jupyter-widgets/base",
            "_model_module_version": "1.2.0",
            "_model_name": "LayoutModel",
            "_view_count": null,
            "_view_module": "@jupyter-widgets/base",
            "_view_module_version": "1.2.0",
            "_view_name": "LayoutView",
            "align_content": null,
            "align_items": null,
            "align_self": null,
            "border": null,
            "bottom": null,
            "display": null,
            "flex": null,
            "flex_flow": null,
            "grid_area": null,
            "grid_auto_columns": null,
            "grid_auto_flow": null,
            "grid_auto_rows": null,
            "grid_column": null,
            "grid_gap": null,
            "grid_row": null,
            "grid_template_areas": null,
            "grid_template_columns": null,
            "grid_template_rows": null,
            "height": null,
            "justify_content": null,
            "justify_items": null,
            "left": null,
            "margin": null,
            "max_height": null,
            "max_width": null,
            "min_height": null,
            "min_width": null,
            "object_fit": null,
            "object_position": null,
            "order": null,
            "overflow": null,
            "overflow_x": null,
            "overflow_y": null,
            "padding": null,
            "right": null,
            "top": null,
            "visibility": null,
            "width": null
          }
        },
        "66302974f9fa4912a7a2274052f5e713": {
          "model_module": "@jupyter-widgets/controls",
          "model_name": "DescriptionStyleModel",
          "model_module_version": "1.5.0",
          "state": {
            "_model_module": "@jupyter-widgets/controls",
            "_model_module_version": "1.5.0",
            "_model_name": "DescriptionStyleModel",
            "_view_count": null,
            "_view_module": "@jupyter-widgets/base",
            "_view_module_version": "1.2.0",
            "_view_name": "StyleView",
            "description_width": ""
          }
        },
        "5ba2468e1f024df6883a0e725ce91234": {
          "model_module": "@jupyter-widgets/controls",
          "model_name": "HBoxModel",
          "model_module_version": "1.5.0",
          "state": {
            "_dom_classes": [],
            "_model_module": "@jupyter-widgets/controls",
            "_model_module_version": "1.5.0",
            "_model_name": "HBoxModel",
            "_view_count": null,
            "_view_module": "@jupyter-widgets/controls",
            "_view_module_version": "1.5.0",
            "_view_name": "HBoxView",
            "box_style": "",
            "children": [
              "IPY_MODEL_de8697fe69ee4ef29761ec36e3c1e0a7",
              "IPY_MODEL_5dccdb26f2d04c7496f21642931e2ddb",
              "IPY_MODEL_8f3c0273013b42d4b9ba58f3cf8230d4"
            ],
            "layout": "IPY_MODEL_f4f40ef404f34050ad7cb91e4a77cd4d"
          }
        },
        "de8697fe69ee4ef29761ec36e3c1e0a7": {
          "model_module": "@jupyter-widgets/controls",
          "model_name": "HTMLModel",
          "model_module_version": "1.5.0",
          "state": {
            "_dom_classes": [],
            "_model_module": "@jupyter-widgets/controls",
            "_model_module_version": "1.5.0",
            "_model_name": "HTMLModel",
            "_view_count": null,
            "_view_module": "@jupyter-widgets/controls",
            "_view_module_version": "1.5.0",
            "_view_name": "HTMLView",
            "description": "",
            "description_tooltip": null,
            "layout": "IPY_MODEL_f891a42694c6487ea98a7943fc41f36e",
            "placeholder": "​",
            "style": "IPY_MODEL_5c49db6629ee43839ee29b85c87577a4",
            "value": "Downloading data: 100%"
          }
        },
        "5dccdb26f2d04c7496f21642931e2ddb": {
          "model_module": "@jupyter-widgets/controls",
          "model_name": "FloatProgressModel",
          "model_module_version": "1.5.0",
          "state": {
            "_dom_classes": [],
            "_model_module": "@jupyter-widgets/controls",
            "_model_module_version": "1.5.0",
            "_model_name": "FloatProgressModel",
            "_view_count": null,
            "_view_module": "@jupyter-widgets/controls",
            "_view_module_version": "1.5.0",
            "_view_name": "ProgressView",
            "bar_style": "success",
            "description": "",
            "description_tooltip": null,
            "layout": "IPY_MODEL_80114af4d7134749a984d095af2a8e6e",
            "max": 74935,
            "min": 0,
            "orientation": "horizontal",
            "style": "IPY_MODEL_f05a67f590f542eeb30d9fc6ecd92a65",
            "value": 74935
          }
        },
        "8f3c0273013b42d4b9ba58f3cf8230d4": {
          "model_module": "@jupyter-widgets/controls",
          "model_name": "HTMLModel",
          "model_module_version": "1.5.0",
          "state": {
            "_dom_classes": [],
            "_model_module": "@jupyter-widgets/controls",
            "_model_module_version": "1.5.0",
            "_model_name": "HTMLModel",
            "_view_count": null,
            "_view_module": "@jupyter-widgets/controls",
            "_view_module_version": "1.5.0",
            "_view_name": "HTMLView",
            "description": "",
            "description_tooltip": null,
            "layout": "IPY_MODEL_ebd92dd2a0e046109e9ab4886b8fea04",
            "placeholder": "​",
            "style": "IPY_MODEL_6551667a03294b6babea9f790e74d0fa",
            "value": " 74.9k/74.9k [00:00&lt;00:00, 1.26MB/s]"
          }
        },
        "f4f40ef404f34050ad7cb91e4a77cd4d": {
          "model_module": "@jupyter-widgets/base",
          "model_name": "LayoutModel",
          "model_module_version": "1.2.0",
          "state": {
            "_model_module": "@jupyter-widgets/base",
            "_model_module_version": "1.2.0",
            "_model_name": "LayoutModel",
            "_view_count": null,
            "_view_module": "@jupyter-widgets/base",
            "_view_module_version": "1.2.0",
            "_view_name": "LayoutView",
            "align_content": null,
            "align_items": null,
            "align_self": null,
            "border": null,
            "bottom": null,
            "display": null,
            "flex": null,
            "flex_flow": null,
            "grid_area": null,
            "grid_auto_columns": null,
            "grid_auto_flow": null,
            "grid_auto_rows": null,
            "grid_column": null,
            "grid_gap": null,
            "grid_row": null,
            "grid_template_areas": null,
            "grid_template_columns": null,
            "grid_template_rows": null,
            "height": null,
            "justify_content": null,
            "justify_items": null,
            "left": null,
            "margin": null,
            "max_height": null,
            "max_width": null,
            "min_height": null,
            "min_width": null,
            "object_fit": null,
            "object_position": null,
            "order": null,
            "overflow": null,
            "overflow_x": null,
            "overflow_y": null,
            "padding": null,
            "right": null,
            "top": null,
            "visibility": null,
            "width": null
          }
        },
        "f891a42694c6487ea98a7943fc41f36e": {
          "model_module": "@jupyter-widgets/base",
          "model_name": "LayoutModel",
          "model_module_version": "1.2.0",
          "state": {
            "_model_module": "@jupyter-widgets/base",
            "_model_module_version": "1.2.0",
            "_model_name": "LayoutModel",
            "_view_count": null,
            "_view_module": "@jupyter-widgets/base",
            "_view_module_version": "1.2.0",
            "_view_name": "LayoutView",
            "align_content": null,
            "align_items": null,
            "align_self": null,
            "border": null,
            "bottom": null,
            "display": null,
            "flex": null,
            "flex_flow": null,
            "grid_area": null,
            "grid_auto_columns": null,
            "grid_auto_flow": null,
            "grid_auto_rows": null,
            "grid_column": null,
            "grid_gap": null,
            "grid_row": null,
            "grid_template_areas": null,
            "grid_template_columns": null,
            "grid_template_rows": null,
            "height": null,
            "justify_content": null,
            "justify_items": null,
            "left": null,
            "margin": null,
            "max_height": null,
            "max_width": null,
            "min_height": null,
            "min_width": null,
            "object_fit": null,
            "object_position": null,
            "order": null,
            "overflow": null,
            "overflow_x": null,
            "overflow_y": null,
            "padding": null,
            "right": null,
            "top": null,
            "visibility": null,
            "width": null
          }
        },
        "5c49db6629ee43839ee29b85c87577a4": {
          "model_module": "@jupyter-widgets/controls",
          "model_name": "DescriptionStyleModel",
          "model_module_version": "1.5.0",
          "state": {
            "_model_module": "@jupyter-widgets/controls",
            "_model_module_version": "1.5.0",
            "_model_name": "DescriptionStyleModel",
            "_view_count": null,
            "_view_module": "@jupyter-widgets/base",
            "_view_module_version": "1.2.0",
            "_view_name": "StyleView",
            "description_width": ""
          }
        },
        "80114af4d7134749a984d095af2a8e6e": {
          "model_module": "@jupyter-widgets/base",
          "model_name": "LayoutModel",
          "model_module_version": "1.2.0",
          "state": {
            "_model_module": "@jupyter-widgets/base",
            "_model_module_version": "1.2.0",
            "_model_name": "LayoutModel",
            "_view_count": null,
            "_view_module": "@jupyter-widgets/base",
            "_view_module_version": "1.2.0",
            "_view_name": "LayoutView",
            "align_content": null,
            "align_items": null,
            "align_self": null,
            "border": null,
            "bottom": null,
            "display": null,
            "flex": null,
            "flex_flow": null,
            "grid_area": null,
            "grid_auto_columns": null,
            "grid_auto_flow": null,
            "grid_auto_rows": null,
            "grid_column": null,
            "grid_gap": null,
            "grid_row": null,
            "grid_template_areas": null,
            "grid_template_columns": null,
            "grid_template_rows": null,
            "height": null,
            "justify_content": null,
            "justify_items": null,
            "left": null,
            "margin": null,
            "max_height": null,
            "max_width": null,
            "min_height": null,
            "min_width": null,
            "object_fit": null,
            "object_position": null,
            "order": null,
            "overflow": null,
            "overflow_x": null,
            "overflow_y": null,
            "padding": null,
            "right": null,
            "top": null,
            "visibility": null,
            "width": null
          }
        },
        "f05a67f590f542eeb30d9fc6ecd92a65": {
          "model_module": "@jupyter-widgets/controls",
          "model_name": "ProgressStyleModel",
          "model_module_version": "1.5.0",
          "state": {
            "_model_module": "@jupyter-widgets/controls",
            "_model_module_version": "1.5.0",
            "_model_name": "ProgressStyleModel",
            "_view_count": null,
            "_view_module": "@jupyter-widgets/base",
            "_view_module_version": "1.2.0",
            "_view_name": "StyleView",
            "bar_color": null,
            "description_width": ""
          }
        },
        "ebd92dd2a0e046109e9ab4886b8fea04": {
          "model_module": "@jupyter-widgets/base",
          "model_name": "LayoutModel",
          "model_module_version": "1.2.0",
          "state": {
            "_model_module": "@jupyter-widgets/base",
            "_model_module_version": "1.2.0",
            "_model_name": "LayoutModel",
            "_view_count": null,
            "_view_module": "@jupyter-widgets/base",
            "_view_module_version": "1.2.0",
            "_view_name": "LayoutView",
            "align_content": null,
            "align_items": null,
            "align_self": null,
            "border": null,
            "bottom": null,
            "display": null,
            "flex": null,
            "flex_flow": null,
            "grid_area": null,
            "grid_auto_columns": null,
            "grid_auto_flow": null,
            "grid_auto_rows": null,
            "grid_column": null,
            "grid_gap": null,
            "grid_row": null,
            "grid_template_areas": null,
            "grid_template_columns": null,
            "grid_template_rows": null,
            "height": null,
            "justify_content": null,
            "justify_items": null,
            "left": null,
            "margin": null,
            "max_height": null,
            "max_width": null,
            "min_height": null,
            "min_width": null,
            "object_fit": null,
            "object_position": null,
            "order": null,
            "overflow": null,
            "overflow_x": null,
            "overflow_y": null,
            "padding": null,
            "right": null,
            "top": null,
            "visibility": null,
            "width": null
          }
        },
        "6551667a03294b6babea9f790e74d0fa": {
          "model_module": "@jupyter-widgets/controls",
          "model_name": "DescriptionStyleModel",
          "model_module_version": "1.5.0",
          "state": {
            "_model_module": "@jupyter-widgets/controls",
            "_model_module_version": "1.5.0",
            "_model_name": "DescriptionStyleModel",
            "_view_count": null,
            "_view_module": "@jupyter-widgets/base",
            "_view_module_version": "1.2.0",
            "_view_name": "StyleView",
            "description_width": ""
          }
        },
        "54e225049b544e69a78bdeab46ce5977": {
          "model_module": "@jupyter-widgets/controls",
          "model_name": "HBoxModel",
          "model_module_version": "1.5.0",
          "state": {
            "_dom_classes": [],
            "_model_module": "@jupyter-widgets/controls",
            "_model_module_version": "1.5.0",
            "_model_name": "HBoxModel",
            "_view_count": null,
            "_view_module": "@jupyter-widgets/controls",
            "_view_module_version": "1.5.0",
            "_view_name": "HBoxView",
            "box_style": "",
            "children": [
              "IPY_MODEL_5f5cc93d0b5048bcac6fd8bddf619a35",
              "IPY_MODEL_b1012d9504f7481984656006bf20ba44",
              "IPY_MODEL_90b6ba6f7bfb419e95385477e1b5c644"
            ],
            "layout": "IPY_MODEL_13715e65316049ba9410addacfb3b3be"
          }
        },
        "5f5cc93d0b5048bcac6fd8bddf619a35": {
          "model_module": "@jupyter-widgets/controls",
          "model_name": "HTMLModel",
          "model_module_version": "1.5.0",
          "state": {
            "_dom_classes": [],
            "_model_module": "@jupyter-widgets/controls",
            "_model_module_version": "1.5.0",
            "_model_name": "HTMLModel",
            "_view_count": null,
            "_view_module": "@jupyter-widgets/controls",
            "_view_module_version": "1.5.0",
            "_view_name": "HTMLView",
            "description": "",
            "description_tooltip": null,
            "layout": "IPY_MODEL_87022c4d1f5d48c4a1191bb2729da29d",
            "placeholder": "​",
            "style": "IPY_MODEL_c7624a6518fd4800b5bcb2536e4b5947",
            "value": "Extracting data files: 100%"
          }
        },
        "b1012d9504f7481984656006bf20ba44": {
          "model_module": "@jupyter-widgets/controls",
          "model_name": "FloatProgressModel",
          "model_module_version": "1.5.0",
          "state": {
            "_dom_classes": [],
            "_model_module": "@jupyter-widgets/controls",
            "_model_module_version": "1.5.0",
            "_model_name": "FloatProgressModel",
            "_view_count": null,
            "_view_module": "@jupyter-widgets/controls",
            "_view_module_version": "1.5.0",
            "_view_name": "ProgressView",
            "bar_style": "success",
            "description": "",
            "description_tooltip": null,
            "layout": "IPY_MODEL_b7269b0b20624965bb30bb50964c8f27",
            "max": 3,
            "min": 0,
            "orientation": "horizontal",
            "style": "IPY_MODEL_3ca0c53a272943cd950e3637f1ff8605",
            "value": 3
          }
        },
        "90b6ba6f7bfb419e95385477e1b5c644": {
          "model_module": "@jupyter-widgets/controls",
          "model_name": "HTMLModel",
          "model_module_version": "1.5.0",
          "state": {
            "_dom_classes": [],
            "_model_module": "@jupyter-widgets/controls",
            "_model_module_version": "1.5.0",
            "_model_name": "HTMLModel",
            "_view_count": null,
            "_view_module": "@jupyter-widgets/controls",
            "_view_module_version": "1.5.0",
            "_view_name": "HTMLView",
            "description": "",
            "description_tooltip": null,
            "layout": "IPY_MODEL_405ae3189e294ab9a293fe50bdd9496a",
            "placeholder": "​",
            "style": "IPY_MODEL_097936e0b09447d2bad613dc84cad489",
            "value": " 3/3 [00:00&lt;00:00, 44.57it/s]"
          }
        },
        "13715e65316049ba9410addacfb3b3be": {
          "model_module": "@jupyter-widgets/base",
          "model_name": "LayoutModel",
          "model_module_version": "1.2.0",
          "state": {
            "_model_module": "@jupyter-widgets/base",
            "_model_module_version": "1.2.0",
            "_model_name": "LayoutModel",
            "_view_count": null,
            "_view_module": "@jupyter-widgets/base",
            "_view_module_version": "1.2.0",
            "_view_name": "LayoutView",
            "align_content": null,
            "align_items": null,
            "align_self": null,
            "border": null,
            "bottom": null,
            "display": null,
            "flex": null,
            "flex_flow": null,
            "grid_area": null,
            "grid_auto_columns": null,
            "grid_auto_flow": null,
            "grid_auto_rows": null,
            "grid_column": null,
            "grid_gap": null,
            "grid_row": null,
            "grid_template_areas": null,
            "grid_template_columns": null,
            "grid_template_rows": null,
            "height": null,
            "justify_content": null,
            "justify_items": null,
            "left": null,
            "margin": null,
            "max_height": null,
            "max_width": null,
            "min_height": null,
            "min_width": null,
            "object_fit": null,
            "object_position": null,
            "order": null,
            "overflow": null,
            "overflow_x": null,
            "overflow_y": null,
            "padding": null,
            "right": null,
            "top": null,
            "visibility": null,
            "width": null
          }
        },
        "87022c4d1f5d48c4a1191bb2729da29d": {
          "model_module": "@jupyter-widgets/base",
          "model_name": "LayoutModel",
          "model_module_version": "1.2.0",
          "state": {
            "_model_module": "@jupyter-widgets/base",
            "_model_module_version": "1.2.0",
            "_model_name": "LayoutModel",
            "_view_count": null,
            "_view_module": "@jupyter-widgets/base",
            "_view_module_version": "1.2.0",
            "_view_name": "LayoutView",
            "align_content": null,
            "align_items": null,
            "align_self": null,
            "border": null,
            "bottom": null,
            "display": null,
            "flex": null,
            "flex_flow": null,
            "grid_area": null,
            "grid_auto_columns": null,
            "grid_auto_flow": null,
            "grid_auto_rows": null,
            "grid_column": null,
            "grid_gap": null,
            "grid_row": null,
            "grid_template_areas": null,
            "grid_template_columns": null,
            "grid_template_rows": null,
            "height": null,
            "justify_content": null,
            "justify_items": null,
            "left": null,
            "margin": null,
            "max_height": null,
            "max_width": null,
            "min_height": null,
            "min_width": null,
            "object_fit": null,
            "object_position": null,
            "order": null,
            "overflow": null,
            "overflow_x": null,
            "overflow_y": null,
            "padding": null,
            "right": null,
            "top": null,
            "visibility": null,
            "width": null
          }
        },
        "c7624a6518fd4800b5bcb2536e4b5947": {
          "model_module": "@jupyter-widgets/controls",
          "model_name": "DescriptionStyleModel",
          "model_module_version": "1.5.0",
          "state": {
            "_model_module": "@jupyter-widgets/controls",
            "_model_module_version": "1.5.0",
            "_model_name": "DescriptionStyleModel",
            "_view_count": null,
            "_view_module": "@jupyter-widgets/base",
            "_view_module_version": "1.2.0",
            "_view_name": "StyleView",
            "description_width": ""
          }
        },
        "b7269b0b20624965bb30bb50964c8f27": {
          "model_module": "@jupyter-widgets/base",
          "model_name": "LayoutModel",
          "model_module_version": "1.2.0",
          "state": {
            "_model_module": "@jupyter-widgets/base",
            "_model_module_version": "1.2.0",
            "_model_name": "LayoutModel",
            "_view_count": null,
            "_view_module": "@jupyter-widgets/base",
            "_view_module_version": "1.2.0",
            "_view_name": "LayoutView",
            "align_content": null,
            "align_items": null,
            "align_self": null,
            "border": null,
            "bottom": null,
            "display": null,
            "flex": null,
            "flex_flow": null,
            "grid_area": null,
            "grid_auto_columns": null,
            "grid_auto_flow": null,
            "grid_auto_rows": null,
            "grid_column": null,
            "grid_gap": null,
            "grid_row": null,
            "grid_template_areas": null,
            "grid_template_columns": null,
            "grid_template_rows": null,
            "height": null,
            "justify_content": null,
            "justify_items": null,
            "left": null,
            "margin": null,
            "max_height": null,
            "max_width": null,
            "min_height": null,
            "min_width": null,
            "object_fit": null,
            "object_position": null,
            "order": null,
            "overflow": null,
            "overflow_x": null,
            "overflow_y": null,
            "padding": null,
            "right": null,
            "top": null,
            "visibility": null,
            "width": null
          }
        },
        "3ca0c53a272943cd950e3637f1ff8605": {
          "model_module": "@jupyter-widgets/controls",
          "model_name": "ProgressStyleModel",
          "model_module_version": "1.5.0",
          "state": {
            "_model_module": "@jupyter-widgets/controls",
            "_model_module_version": "1.5.0",
            "_model_name": "ProgressStyleModel",
            "_view_count": null,
            "_view_module": "@jupyter-widgets/base",
            "_view_module_version": "1.2.0",
            "_view_name": "StyleView",
            "bar_color": null,
            "description_width": ""
          }
        },
        "405ae3189e294ab9a293fe50bdd9496a": {
          "model_module": "@jupyter-widgets/base",
          "model_name": "LayoutModel",
          "model_module_version": "1.2.0",
          "state": {
            "_model_module": "@jupyter-widgets/base",
            "_model_module_version": "1.2.0",
            "_model_name": "LayoutModel",
            "_view_count": null,
            "_view_module": "@jupyter-widgets/base",
            "_view_module_version": "1.2.0",
            "_view_name": "LayoutView",
            "align_content": null,
            "align_items": null,
            "align_self": null,
            "border": null,
            "bottom": null,
            "display": null,
            "flex": null,
            "flex_flow": null,
            "grid_area": null,
            "grid_auto_columns": null,
            "grid_auto_flow": null,
            "grid_auto_rows": null,
            "grid_column": null,
            "grid_gap": null,
            "grid_row": null,
            "grid_template_areas": null,
            "grid_template_columns": null,
            "grid_template_rows": null,
            "height": null,
            "justify_content": null,
            "justify_items": null,
            "left": null,
            "margin": null,
            "max_height": null,
            "max_width": null,
            "min_height": null,
            "min_width": null,
            "object_fit": null,
            "object_position": null,
            "order": null,
            "overflow": null,
            "overflow_x": null,
            "overflow_y": null,
            "padding": null,
            "right": null,
            "top": null,
            "visibility": null,
            "width": null
          }
        },
        "097936e0b09447d2bad613dc84cad489": {
          "model_module": "@jupyter-widgets/controls",
          "model_name": "DescriptionStyleModel",
          "model_module_version": "1.5.0",
          "state": {
            "_model_module": "@jupyter-widgets/controls",
            "_model_module_version": "1.5.0",
            "_model_name": "DescriptionStyleModel",
            "_view_count": null,
            "_view_module": "@jupyter-widgets/base",
            "_view_module_version": "1.2.0",
            "_view_name": "StyleView",
            "description_width": ""
          }
        },
        "0e48a266387b4e39a60fcf3cdae5ccf2": {
          "model_module": "@jupyter-widgets/controls",
          "model_name": "HBoxModel",
          "model_module_version": "1.5.0",
          "state": {
            "_dom_classes": [],
            "_model_module": "@jupyter-widgets/controls",
            "_model_module_version": "1.5.0",
            "_model_name": "HBoxModel",
            "_view_count": null,
            "_view_module": "@jupyter-widgets/controls",
            "_view_module_version": "1.5.0",
            "_view_name": "HBoxView",
            "box_style": "",
            "children": [
              "IPY_MODEL_d161d2af8d79418fb5ccf50303c77f21",
              "IPY_MODEL_28625cb1dc9d4336817b883c22db3ed4",
              "IPY_MODEL_46fc93046683486aa1589ee63ac2fa83"
            ],
            "layout": "IPY_MODEL_e07307dc6ad3452bb0ae5b2e6677af4a"
          }
        },
        "d161d2af8d79418fb5ccf50303c77f21": {
          "model_module": "@jupyter-widgets/controls",
          "model_name": "HTMLModel",
          "model_module_version": "1.5.0",
          "state": {
            "_dom_classes": [],
            "_model_module": "@jupyter-widgets/controls",
            "_model_module_version": "1.5.0",
            "_model_name": "HTMLModel",
            "_view_count": null,
            "_view_module": "@jupyter-widgets/controls",
            "_view_module_version": "1.5.0",
            "_view_name": "HTMLView",
            "description": "",
            "description_tooltip": null,
            "layout": "IPY_MODEL_9c3388ed2a8b463986f18d0e7d086d8c",
            "placeholder": "​",
            "style": "IPY_MODEL_ef7c15326f1b4cc180d94085eab4f66c",
            "value": "Generating train split: 100%"
          }
        },
        "28625cb1dc9d4336817b883c22db3ed4": {
          "model_module": "@jupyter-widgets/controls",
          "model_name": "FloatProgressModel",
          "model_module_version": "1.5.0",
          "state": {
            "_dom_classes": [],
            "_model_module": "@jupyter-widgets/controls",
            "_model_module_version": "1.5.0",
            "_model_name": "FloatProgressModel",
            "_view_count": null,
            "_view_module": "@jupyter-widgets/controls",
            "_view_module_version": "1.5.0",
            "_view_name": "ProgressView",
            "bar_style": "success",
            "description": "",
            "description_tooltip": null,
            "layout": "IPY_MODEL_d00b50cee18945049e07ef966fdd39d0",
            "max": 16000,
            "min": 0,
            "orientation": "horizontal",
            "style": "IPY_MODEL_005542743f5e4e02a3cfa4ac4cea6fdd",
            "value": 16000
          }
        },
        "46fc93046683486aa1589ee63ac2fa83": {
          "model_module": "@jupyter-widgets/controls",
          "model_name": "HTMLModel",
          "model_module_version": "1.5.0",
          "state": {
            "_dom_classes": [],
            "_model_module": "@jupyter-widgets/controls",
            "_model_module_version": "1.5.0",
            "_model_name": "HTMLModel",
            "_view_count": null,
            "_view_module": "@jupyter-widgets/controls",
            "_view_module_version": "1.5.0",
            "_view_name": "HTMLView",
            "description": "",
            "description_tooltip": null,
            "layout": "IPY_MODEL_1ca6cd9d406d4bb48fe950e08b5aac5e",
            "placeholder": "​",
            "style": "IPY_MODEL_e1e47ed40b414d96a94210c4fe182276",
            "value": " 16000/16000 [00:01&lt;00:00, 12366.85 examples/s]"
          }
        },
        "e07307dc6ad3452bb0ae5b2e6677af4a": {
          "model_module": "@jupyter-widgets/base",
          "model_name": "LayoutModel",
          "model_module_version": "1.2.0",
          "state": {
            "_model_module": "@jupyter-widgets/base",
            "_model_module_version": "1.2.0",
            "_model_name": "LayoutModel",
            "_view_count": null,
            "_view_module": "@jupyter-widgets/base",
            "_view_module_version": "1.2.0",
            "_view_name": "LayoutView",
            "align_content": null,
            "align_items": null,
            "align_self": null,
            "border": null,
            "bottom": null,
            "display": null,
            "flex": null,
            "flex_flow": null,
            "grid_area": null,
            "grid_auto_columns": null,
            "grid_auto_flow": null,
            "grid_auto_rows": null,
            "grid_column": null,
            "grid_gap": null,
            "grid_row": null,
            "grid_template_areas": null,
            "grid_template_columns": null,
            "grid_template_rows": null,
            "height": null,
            "justify_content": null,
            "justify_items": null,
            "left": null,
            "margin": null,
            "max_height": null,
            "max_width": null,
            "min_height": null,
            "min_width": null,
            "object_fit": null,
            "object_position": null,
            "order": null,
            "overflow": null,
            "overflow_x": null,
            "overflow_y": null,
            "padding": null,
            "right": null,
            "top": null,
            "visibility": null,
            "width": null
          }
        },
        "9c3388ed2a8b463986f18d0e7d086d8c": {
          "model_module": "@jupyter-widgets/base",
          "model_name": "LayoutModel",
          "model_module_version": "1.2.0",
          "state": {
            "_model_module": "@jupyter-widgets/base",
            "_model_module_version": "1.2.0",
            "_model_name": "LayoutModel",
            "_view_count": null,
            "_view_module": "@jupyter-widgets/base",
            "_view_module_version": "1.2.0",
            "_view_name": "LayoutView",
            "align_content": null,
            "align_items": null,
            "align_self": null,
            "border": null,
            "bottom": null,
            "display": null,
            "flex": null,
            "flex_flow": null,
            "grid_area": null,
            "grid_auto_columns": null,
            "grid_auto_flow": null,
            "grid_auto_rows": null,
            "grid_column": null,
            "grid_gap": null,
            "grid_row": null,
            "grid_template_areas": null,
            "grid_template_columns": null,
            "grid_template_rows": null,
            "height": null,
            "justify_content": null,
            "justify_items": null,
            "left": null,
            "margin": null,
            "max_height": null,
            "max_width": null,
            "min_height": null,
            "min_width": null,
            "object_fit": null,
            "object_position": null,
            "order": null,
            "overflow": null,
            "overflow_x": null,
            "overflow_y": null,
            "padding": null,
            "right": null,
            "top": null,
            "visibility": null,
            "width": null
          }
        },
        "ef7c15326f1b4cc180d94085eab4f66c": {
          "model_module": "@jupyter-widgets/controls",
          "model_name": "DescriptionStyleModel",
          "model_module_version": "1.5.0",
          "state": {
            "_model_module": "@jupyter-widgets/controls",
            "_model_module_version": "1.5.0",
            "_model_name": "DescriptionStyleModel",
            "_view_count": null,
            "_view_module": "@jupyter-widgets/base",
            "_view_module_version": "1.2.0",
            "_view_name": "StyleView",
            "description_width": ""
          }
        },
        "d00b50cee18945049e07ef966fdd39d0": {
          "model_module": "@jupyter-widgets/base",
          "model_name": "LayoutModel",
          "model_module_version": "1.2.0",
          "state": {
            "_model_module": "@jupyter-widgets/base",
            "_model_module_version": "1.2.0",
            "_model_name": "LayoutModel",
            "_view_count": null,
            "_view_module": "@jupyter-widgets/base",
            "_view_module_version": "1.2.0",
            "_view_name": "LayoutView",
            "align_content": null,
            "align_items": null,
            "align_self": null,
            "border": null,
            "bottom": null,
            "display": null,
            "flex": null,
            "flex_flow": null,
            "grid_area": null,
            "grid_auto_columns": null,
            "grid_auto_flow": null,
            "grid_auto_rows": null,
            "grid_column": null,
            "grid_gap": null,
            "grid_row": null,
            "grid_template_areas": null,
            "grid_template_columns": null,
            "grid_template_rows": null,
            "height": null,
            "justify_content": null,
            "justify_items": null,
            "left": null,
            "margin": null,
            "max_height": null,
            "max_width": null,
            "min_height": null,
            "min_width": null,
            "object_fit": null,
            "object_position": null,
            "order": null,
            "overflow": null,
            "overflow_x": null,
            "overflow_y": null,
            "padding": null,
            "right": null,
            "top": null,
            "visibility": null,
            "width": null
          }
        },
        "005542743f5e4e02a3cfa4ac4cea6fdd": {
          "model_module": "@jupyter-widgets/controls",
          "model_name": "ProgressStyleModel",
          "model_module_version": "1.5.0",
          "state": {
            "_model_module": "@jupyter-widgets/controls",
            "_model_module_version": "1.5.0",
            "_model_name": "ProgressStyleModel",
            "_view_count": null,
            "_view_module": "@jupyter-widgets/base",
            "_view_module_version": "1.2.0",
            "_view_name": "StyleView",
            "bar_color": null,
            "description_width": ""
          }
        },
        "1ca6cd9d406d4bb48fe950e08b5aac5e": {
          "model_module": "@jupyter-widgets/base",
          "model_name": "LayoutModel",
          "model_module_version": "1.2.0",
          "state": {
            "_model_module": "@jupyter-widgets/base",
            "_model_module_version": "1.2.0",
            "_model_name": "LayoutModel",
            "_view_count": null,
            "_view_module": "@jupyter-widgets/base",
            "_view_module_version": "1.2.0",
            "_view_name": "LayoutView",
            "align_content": null,
            "align_items": null,
            "align_self": null,
            "border": null,
            "bottom": null,
            "display": null,
            "flex": null,
            "flex_flow": null,
            "grid_area": null,
            "grid_auto_columns": null,
            "grid_auto_flow": null,
            "grid_auto_rows": null,
            "grid_column": null,
            "grid_gap": null,
            "grid_row": null,
            "grid_template_areas": null,
            "grid_template_columns": null,
            "grid_template_rows": null,
            "height": null,
            "justify_content": null,
            "justify_items": null,
            "left": null,
            "margin": null,
            "max_height": null,
            "max_width": null,
            "min_height": null,
            "min_width": null,
            "object_fit": null,
            "object_position": null,
            "order": null,
            "overflow": null,
            "overflow_x": null,
            "overflow_y": null,
            "padding": null,
            "right": null,
            "top": null,
            "visibility": null,
            "width": null
          }
        },
        "e1e47ed40b414d96a94210c4fe182276": {
          "model_module": "@jupyter-widgets/controls",
          "model_name": "DescriptionStyleModel",
          "model_module_version": "1.5.0",
          "state": {
            "_model_module": "@jupyter-widgets/controls",
            "_model_module_version": "1.5.0",
            "_model_name": "DescriptionStyleModel",
            "_view_count": null,
            "_view_module": "@jupyter-widgets/base",
            "_view_module_version": "1.2.0",
            "_view_name": "StyleView",
            "description_width": ""
          }
        },
        "4d5f1a6657f94c3c96a7c13e11a8bfa4": {
          "model_module": "@jupyter-widgets/controls",
          "model_name": "HBoxModel",
          "model_module_version": "1.5.0",
          "state": {
            "_dom_classes": [],
            "_model_module": "@jupyter-widgets/controls",
            "_model_module_version": "1.5.0",
            "_model_name": "HBoxModel",
            "_view_count": null,
            "_view_module": "@jupyter-widgets/controls",
            "_view_module_version": "1.5.0",
            "_view_name": "HBoxView",
            "box_style": "",
            "children": [
              "IPY_MODEL_7d33c8c241c5448fbc0a2a21bb5d728d",
              "IPY_MODEL_6d2380f314f74cd8abedc8b0d0b1ff48",
              "IPY_MODEL_45c9202a439c4fb883d49d1e6cd7b667"
            ],
            "layout": "IPY_MODEL_b5e02665f4424a2fb3947eb1be2890f5"
          }
        },
        "7d33c8c241c5448fbc0a2a21bb5d728d": {
          "model_module": "@jupyter-widgets/controls",
          "model_name": "HTMLModel",
          "model_module_version": "1.5.0",
          "state": {
            "_dom_classes": [],
            "_model_module": "@jupyter-widgets/controls",
            "_model_module_version": "1.5.0",
            "_model_name": "HTMLModel",
            "_view_count": null,
            "_view_module": "@jupyter-widgets/controls",
            "_view_module_version": "1.5.0",
            "_view_name": "HTMLView",
            "description": "",
            "description_tooltip": null,
            "layout": "IPY_MODEL_df3b6926a6044304a9f8975c4f1be408",
            "placeholder": "​",
            "style": "IPY_MODEL_bdfa921d689a4485b1f39e400d164ece",
            "value": "Generating validation split: 100%"
          }
        },
        "6d2380f314f74cd8abedc8b0d0b1ff48": {
          "model_module": "@jupyter-widgets/controls",
          "model_name": "FloatProgressModel",
          "model_module_version": "1.5.0",
          "state": {
            "_dom_classes": [],
            "_model_module": "@jupyter-widgets/controls",
            "_model_module_version": "1.5.0",
            "_model_name": "FloatProgressModel",
            "_view_count": null,
            "_view_module": "@jupyter-widgets/controls",
            "_view_module_version": "1.5.0",
            "_view_name": "ProgressView",
            "bar_style": "success",
            "description": "",
            "description_tooltip": null,
            "layout": "IPY_MODEL_fe3b58f72b0b4fe3a0748f3e1f83df57",
            "max": 2000,
            "min": 0,
            "orientation": "horizontal",
            "style": "IPY_MODEL_61b5e5fc48204725bb357dc7a0117e71",
            "value": 2000
          }
        },
        "45c9202a439c4fb883d49d1e6cd7b667": {
          "model_module": "@jupyter-widgets/controls",
          "model_name": "HTMLModel",
          "model_module_version": "1.5.0",
          "state": {
            "_dom_classes": [],
            "_model_module": "@jupyter-widgets/controls",
            "_model_module_version": "1.5.0",
            "_model_name": "HTMLModel",
            "_view_count": null,
            "_view_module": "@jupyter-widgets/controls",
            "_view_module_version": "1.5.0",
            "_view_name": "HTMLView",
            "description": "",
            "description_tooltip": null,
            "layout": "IPY_MODEL_2f6083e66c0e4696a0d3ae6f6dda5182",
            "placeholder": "​",
            "style": "IPY_MODEL_a8be0f452e044bccb9e14f08d2fec0d4",
            "value": " 2000/2000 [00:00&lt;00:00, 9871.95 examples/s]"
          }
        },
        "b5e02665f4424a2fb3947eb1be2890f5": {
          "model_module": "@jupyter-widgets/base",
          "model_name": "LayoutModel",
          "model_module_version": "1.2.0",
          "state": {
            "_model_module": "@jupyter-widgets/base",
            "_model_module_version": "1.2.0",
            "_model_name": "LayoutModel",
            "_view_count": null,
            "_view_module": "@jupyter-widgets/base",
            "_view_module_version": "1.2.0",
            "_view_name": "LayoutView",
            "align_content": null,
            "align_items": null,
            "align_self": null,
            "border": null,
            "bottom": null,
            "display": null,
            "flex": null,
            "flex_flow": null,
            "grid_area": null,
            "grid_auto_columns": null,
            "grid_auto_flow": null,
            "grid_auto_rows": null,
            "grid_column": null,
            "grid_gap": null,
            "grid_row": null,
            "grid_template_areas": null,
            "grid_template_columns": null,
            "grid_template_rows": null,
            "height": null,
            "justify_content": null,
            "justify_items": null,
            "left": null,
            "margin": null,
            "max_height": null,
            "max_width": null,
            "min_height": null,
            "min_width": null,
            "object_fit": null,
            "object_position": null,
            "order": null,
            "overflow": null,
            "overflow_x": null,
            "overflow_y": null,
            "padding": null,
            "right": null,
            "top": null,
            "visibility": null,
            "width": null
          }
        },
        "df3b6926a6044304a9f8975c4f1be408": {
          "model_module": "@jupyter-widgets/base",
          "model_name": "LayoutModel",
          "model_module_version": "1.2.0",
          "state": {
            "_model_module": "@jupyter-widgets/base",
            "_model_module_version": "1.2.0",
            "_model_name": "LayoutModel",
            "_view_count": null,
            "_view_module": "@jupyter-widgets/base",
            "_view_module_version": "1.2.0",
            "_view_name": "LayoutView",
            "align_content": null,
            "align_items": null,
            "align_self": null,
            "border": null,
            "bottom": null,
            "display": null,
            "flex": null,
            "flex_flow": null,
            "grid_area": null,
            "grid_auto_columns": null,
            "grid_auto_flow": null,
            "grid_auto_rows": null,
            "grid_column": null,
            "grid_gap": null,
            "grid_row": null,
            "grid_template_areas": null,
            "grid_template_columns": null,
            "grid_template_rows": null,
            "height": null,
            "justify_content": null,
            "justify_items": null,
            "left": null,
            "margin": null,
            "max_height": null,
            "max_width": null,
            "min_height": null,
            "min_width": null,
            "object_fit": null,
            "object_position": null,
            "order": null,
            "overflow": null,
            "overflow_x": null,
            "overflow_y": null,
            "padding": null,
            "right": null,
            "top": null,
            "visibility": null,
            "width": null
          }
        },
        "bdfa921d689a4485b1f39e400d164ece": {
          "model_module": "@jupyter-widgets/controls",
          "model_name": "DescriptionStyleModel",
          "model_module_version": "1.5.0",
          "state": {
            "_model_module": "@jupyter-widgets/controls",
            "_model_module_version": "1.5.0",
            "_model_name": "DescriptionStyleModel",
            "_view_count": null,
            "_view_module": "@jupyter-widgets/base",
            "_view_module_version": "1.2.0",
            "_view_name": "StyleView",
            "description_width": ""
          }
        },
        "fe3b58f72b0b4fe3a0748f3e1f83df57": {
          "model_module": "@jupyter-widgets/base",
          "model_name": "LayoutModel",
          "model_module_version": "1.2.0",
          "state": {
            "_model_module": "@jupyter-widgets/base",
            "_model_module_version": "1.2.0",
            "_model_name": "LayoutModel",
            "_view_count": null,
            "_view_module": "@jupyter-widgets/base",
            "_view_module_version": "1.2.0",
            "_view_name": "LayoutView",
            "align_content": null,
            "align_items": null,
            "align_self": null,
            "border": null,
            "bottom": null,
            "display": null,
            "flex": null,
            "flex_flow": null,
            "grid_area": null,
            "grid_auto_columns": null,
            "grid_auto_flow": null,
            "grid_auto_rows": null,
            "grid_column": null,
            "grid_gap": null,
            "grid_row": null,
            "grid_template_areas": null,
            "grid_template_columns": null,
            "grid_template_rows": null,
            "height": null,
            "justify_content": null,
            "justify_items": null,
            "left": null,
            "margin": null,
            "max_height": null,
            "max_width": null,
            "min_height": null,
            "min_width": null,
            "object_fit": null,
            "object_position": null,
            "order": null,
            "overflow": null,
            "overflow_x": null,
            "overflow_y": null,
            "padding": null,
            "right": null,
            "top": null,
            "visibility": null,
            "width": null
          }
        },
        "61b5e5fc48204725bb357dc7a0117e71": {
          "model_module": "@jupyter-widgets/controls",
          "model_name": "ProgressStyleModel",
          "model_module_version": "1.5.0",
          "state": {
            "_model_module": "@jupyter-widgets/controls",
            "_model_module_version": "1.5.0",
            "_model_name": "ProgressStyleModel",
            "_view_count": null,
            "_view_module": "@jupyter-widgets/base",
            "_view_module_version": "1.2.0",
            "_view_name": "StyleView",
            "bar_color": null,
            "description_width": ""
          }
        },
        "2f6083e66c0e4696a0d3ae6f6dda5182": {
          "model_module": "@jupyter-widgets/base",
          "model_name": "LayoutModel",
          "model_module_version": "1.2.0",
          "state": {
            "_model_module": "@jupyter-widgets/base",
            "_model_module_version": "1.2.0",
            "_model_name": "LayoutModel",
            "_view_count": null,
            "_view_module": "@jupyter-widgets/base",
            "_view_module_version": "1.2.0",
            "_view_name": "LayoutView",
            "align_content": null,
            "align_items": null,
            "align_self": null,
            "border": null,
            "bottom": null,
            "display": null,
            "flex": null,
            "flex_flow": null,
            "grid_area": null,
            "grid_auto_columns": null,
            "grid_auto_flow": null,
            "grid_auto_rows": null,
            "grid_column": null,
            "grid_gap": null,
            "grid_row": null,
            "grid_template_areas": null,
            "grid_template_columns": null,
            "grid_template_rows": null,
            "height": null,
            "justify_content": null,
            "justify_items": null,
            "left": null,
            "margin": null,
            "max_height": null,
            "max_width": null,
            "min_height": null,
            "min_width": null,
            "object_fit": null,
            "object_position": null,
            "order": null,
            "overflow": null,
            "overflow_x": null,
            "overflow_y": null,
            "padding": null,
            "right": null,
            "top": null,
            "visibility": null,
            "width": null
          }
        },
        "a8be0f452e044bccb9e14f08d2fec0d4": {
          "model_module": "@jupyter-widgets/controls",
          "model_name": "DescriptionStyleModel",
          "model_module_version": "1.5.0",
          "state": {
            "_model_module": "@jupyter-widgets/controls",
            "_model_module_version": "1.5.0",
            "_model_name": "DescriptionStyleModel",
            "_view_count": null,
            "_view_module": "@jupyter-widgets/base",
            "_view_module_version": "1.2.0",
            "_view_name": "StyleView",
            "description_width": ""
          }
        },
        "2d581d85cc164faebc5953e5281a00d3": {
          "model_module": "@jupyter-widgets/controls",
          "model_name": "HBoxModel",
          "model_module_version": "1.5.0",
          "state": {
            "_dom_classes": [],
            "_model_module": "@jupyter-widgets/controls",
            "_model_module_version": "1.5.0",
            "_model_name": "HBoxModel",
            "_view_count": null,
            "_view_module": "@jupyter-widgets/controls",
            "_view_module_version": "1.5.0",
            "_view_name": "HBoxView",
            "box_style": "",
            "children": [
              "IPY_MODEL_4c86235e8b06497d82f16598f714a1c8",
              "IPY_MODEL_3d274c1d3e814ca4a428a4f1660f41b1",
              "IPY_MODEL_8095bbeb5c544103859856d5b6a0c26c"
            ],
            "layout": "IPY_MODEL_8d4cc89b73934d6ab39bf0d9823b3701"
          }
        },
        "4c86235e8b06497d82f16598f714a1c8": {
          "model_module": "@jupyter-widgets/controls",
          "model_name": "HTMLModel",
          "model_module_version": "1.5.0",
          "state": {
            "_dom_classes": [],
            "_model_module": "@jupyter-widgets/controls",
            "_model_module_version": "1.5.0",
            "_model_name": "HTMLModel",
            "_view_count": null,
            "_view_module": "@jupyter-widgets/controls",
            "_view_module_version": "1.5.0",
            "_view_name": "HTMLView",
            "description": "",
            "description_tooltip": null,
            "layout": "IPY_MODEL_22283989a00f4e649d7902ba8be9f7f0",
            "placeholder": "​",
            "style": "IPY_MODEL_5f7f5bbcf4b8431a9ccedc4be78e5f1f",
            "value": "Generating test split: 100%"
          }
        },
        "3d274c1d3e814ca4a428a4f1660f41b1": {
          "model_module": "@jupyter-widgets/controls",
          "model_name": "FloatProgressModel",
          "model_module_version": "1.5.0",
          "state": {
            "_dom_classes": [],
            "_model_module": "@jupyter-widgets/controls",
            "_model_module_version": "1.5.0",
            "_model_name": "FloatProgressModel",
            "_view_count": null,
            "_view_module": "@jupyter-widgets/controls",
            "_view_module_version": "1.5.0",
            "_view_name": "ProgressView",
            "bar_style": "success",
            "description": "",
            "description_tooltip": null,
            "layout": "IPY_MODEL_a419cb6f85504d51b8e8e4c2d4ce3acf",
            "max": 2000,
            "min": 0,
            "orientation": "horizontal",
            "style": "IPY_MODEL_9c6607ea2ebd466c9910b0a5bc0f6bdf",
            "value": 2000
          }
        },
        "8095bbeb5c544103859856d5b6a0c26c": {
          "model_module": "@jupyter-widgets/controls",
          "model_name": "HTMLModel",
          "model_module_version": "1.5.0",
          "state": {
            "_dom_classes": [],
            "_model_module": "@jupyter-widgets/controls",
            "_model_module_version": "1.5.0",
            "_model_name": "HTMLModel",
            "_view_count": null,
            "_view_module": "@jupyter-widgets/controls",
            "_view_module_version": "1.5.0",
            "_view_name": "HTMLView",
            "description": "",
            "description_tooltip": null,
            "layout": "IPY_MODEL_9664fc7243864ef8a2c859b3b0abeb23",
            "placeholder": "​",
            "style": "IPY_MODEL_21d71e7de6e44eaabbf472ef9f5434ac",
            "value": " 2000/2000 [00:00&lt;00:00, 15211.99 examples/s]"
          }
        },
        "8d4cc89b73934d6ab39bf0d9823b3701": {
          "model_module": "@jupyter-widgets/base",
          "model_name": "LayoutModel",
          "model_module_version": "1.2.0",
          "state": {
            "_model_module": "@jupyter-widgets/base",
            "_model_module_version": "1.2.0",
            "_model_name": "LayoutModel",
            "_view_count": null,
            "_view_module": "@jupyter-widgets/base",
            "_view_module_version": "1.2.0",
            "_view_name": "LayoutView",
            "align_content": null,
            "align_items": null,
            "align_self": null,
            "border": null,
            "bottom": null,
            "display": null,
            "flex": null,
            "flex_flow": null,
            "grid_area": null,
            "grid_auto_columns": null,
            "grid_auto_flow": null,
            "grid_auto_rows": null,
            "grid_column": null,
            "grid_gap": null,
            "grid_row": null,
            "grid_template_areas": null,
            "grid_template_columns": null,
            "grid_template_rows": null,
            "height": null,
            "justify_content": null,
            "justify_items": null,
            "left": null,
            "margin": null,
            "max_height": null,
            "max_width": null,
            "min_height": null,
            "min_width": null,
            "object_fit": null,
            "object_position": null,
            "order": null,
            "overflow": null,
            "overflow_x": null,
            "overflow_y": null,
            "padding": null,
            "right": null,
            "top": null,
            "visibility": null,
            "width": null
          }
        },
        "22283989a00f4e649d7902ba8be9f7f0": {
          "model_module": "@jupyter-widgets/base",
          "model_name": "LayoutModel",
          "model_module_version": "1.2.0",
          "state": {
            "_model_module": "@jupyter-widgets/base",
            "_model_module_version": "1.2.0",
            "_model_name": "LayoutModel",
            "_view_count": null,
            "_view_module": "@jupyter-widgets/base",
            "_view_module_version": "1.2.0",
            "_view_name": "LayoutView",
            "align_content": null,
            "align_items": null,
            "align_self": null,
            "border": null,
            "bottom": null,
            "display": null,
            "flex": null,
            "flex_flow": null,
            "grid_area": null,
            "grid_auto_columns": null,
            "grid_auto_flow": null,
            "grid_auto_rows": null,
            "grid_column": null,
            "grid_gap": null,
            "grid_row": null,
            "grid_template_areas": null,
            "grid_template_columns": null,
            "grid_template_rows": null,
            "height": null,
            "justify_content": null,
            "justify_items": null,
            "left": null,
            "margin": null,
            "max_height": null,
            "max_width": null,
            "min_height": null,
            "min_width": null,
            "object_fit": null,
            "object_position": null,
            "order": null,
            "overflow": null,
            "overflow_x": null,
            "overflow_y": null,
            "padding": null,
            "right": null,
            "top": null,
            "visibility": null,
            "width": null
          }
        },
        "5f7f5bbcf4b8431a9ccedc4be78e5f1f": {
          "model_module": "@jupyter-widgets/controls",
          "model_name": "DescriptionStyleModel",
          "model_module_version": "1.5.0",
          "state": {
            "_model_module": "@jupyter-widgets/controls",
            "_model_module_version": "1.5.0",
            "_model_name": "DescriptionStyleModel",
            "_view_count": null,
            "_view_module": "@jupyter-widgets/base",
            "_view_module_version": "1.2.0",
            "_view_name": "StyleView",
            "description_width": ""
          }
        },
        "a419cb6f85504d51b8e8e4c2d4ce3acf": {
          "model_module": "@jupyter-widgets/base",
          "model_name": "LayoutModel",
          "model_module_version": "1.2.0",
          "state": {
            "_model_module": "@jupyter-widgets/base",
            "_model_module_version": "1.2.0",
            "_model_name": "LayoutModel",
            "_view_count": null,
            "_view_module": "@jupyter-widgets/base",
            "_view_module_version": "1.2.0",
            "_view_name": "LayoutView",
            "align_content": null,
            "align_items": null,
            "align_self": null,
            "border": null,
            "bottom": null,
            "display": null,
            "flex": null,
            "flex_flow": null,
            "grid_area": null,
            "grid_auto_columns": null,
            "grid_auto_flow": null,
            "grid_auto_rows": null,
            "grid_column": null,
            "grid_gap": null,
            "grid_row": null,
            "grid_template_areas": null,
            "grid_template_columns": null,
            "grid_template_rows": null,
            "height": null,
            "justify_content": null,
            "justify_items": null,
            "left": null,
            "margin": null,
            "max_height": null,
            "max_width": null,
            "min_height": null,
            "min_width": null,
            "object_fit": null,
            "object_position": null,
            "order": null,
            "overflow": null,
            "overflow_x": null,
            "overflow_y": null,
            "padding": null,
            "right": null,
            "top": null,
            "visibility": null,
            "width": null
          }
        },
        "9c6607ea2ebd466c9910b0a5bc0f6bdf": {
          "model_module": "@jupyter-widgets/controls",
          "model_name": "ProgressStyleModel",
          "model_module_version": "1.5.0",
          "state": {
            "_model_module": "@jupyter-widgets/controls",
            "_model_module_version": "1.5.0",
            "_model_name": "ProgressStyleModel",
            "_view_count": null,
            "_view_module": "@jupyter-widgets/base",
            "_view_module_version": "1.2.0",
            "_view_name": "StyleView",
            "bar_color": null,
            "description_width": ""
          }
        },
        "9664fc7243864ef8a2c859b3b0abeb23": {
          "model_module": "@jupyter-widgets/base",
          "model_name": "LayoutModel",
          "model_module_version": "1.2.0",
          "state": {
            "_model_module": "@jupyter-widgets/base",
            "_model_module_version": "1.2.0",
            "_model_name": "LayoutModel",
            "_view_count": null,
            "_view_module": "@jupyter-widgets/base",
            "_view_module_version": "1.2.0",
            "_view_name": "LayoutView",
            "align_content": null,
            "align_items": null,
            "align_self": null,
            "border": null,
            "bottom": null,
            "display": null,
            "flex": null,
            "flex_flow": null,
            "grid_area": null,
            "grid_auto_columns": null,
            "grid_auto_flow": null,
            "grid_auto_rows": null,
            "grid_column": null,
            "grid_gap": null,
            "grid_row": null,
            "grid_template_areas": null,
            "grid_template_columns": null,
            "grid_template_rows": null,
            "height": null,
            "justify_content": null,
            "justify_items": null,
            "left": null,
            "margin": null,
            "max_height": null,
            "max_width": null,
            "min_height": null,
            "min_width": null,
            "object_fit": null,
            "object_position": null,
            "order": null,
            "overflow": null,
            "overflow_x": null,
            "overflow_y": null,
            "padding": null,
            "right": null,
            "top": null,
            "visibility": null,
            "width": null
          }
        },
        "21d71e7de6e44eaabbf472ef9f5434ac": {
          "model_module": "@jupyter-widgets/controls",
          "model_name": "DescriptionStyleModel",
          "model_module_version": "1.5.0",
          "state": {
            "_model_module": "@jupyter-widgets/controls",
            "_model_module_version": "1.5.0",
            "_model_name": "DescriptionStyleModel",
            "_view_count": null,
            "_view_module": "@jupyter-widgets/base",
            "_view_module_version": "1.2.0",
            "_view_name": "StyleView",
            "description_width": ""
          }
        }
      }
    }
  },
  "nbformat": 4,
  "nbformat_minor": 0
}